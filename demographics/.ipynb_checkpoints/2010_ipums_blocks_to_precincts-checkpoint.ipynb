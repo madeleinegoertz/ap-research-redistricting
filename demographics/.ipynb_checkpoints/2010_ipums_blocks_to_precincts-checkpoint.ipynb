{
 "cells": [
  {
   "cell_type": "markdown",
   "metadata": {},
   "source": [
    "In the other jupyter notebook I created for myself a demographic data shapefile at the block level, which is stored in `C:/Users/madie/OneDrive/data/ipums/VA_block_2010_pop.zip`. What I need to now do is aggregate that block-level data into the precinct shapefiles that I got from the VEST team's dataverse. "
   ]
  },
  {
   "cell_type": "code",
   "execution_count": 48,
   "metadata": {},
   "outputs": [],
   "source": [
    "import geopandas\n",
    "import pandas as pd\n",
    "import maup\n",
    "import warnings\n",
    "\n",
    "# turn off annoying geoseries isna warnings\n",
    "warnings.filterwarnings('ignore', 'GeoSeries.isna', UserWarning)\n",
    "\n",
    "def aggregate(blocks_f_name, precincts_f_name, year):\n",
    "    data_dir = \"C:/Users/madie/OneDrive/data/\"\n",
    "    zip_data_dir = \"zip://\" + data_dir\n",
    "    blocks = geopandas.read_file(zip_data_dir + blocks_f_name)\n",
    "    precincts = geopandas.read_file(zip_data_dir + precincts_f_name)\n",
    "    \n",
    "    year_pref = \"G\" + str(year) + \"HOD\"\n",
    "    # rename the useful cols\n",
    "    precincts = precincts.rename(columns = {year_pref + \"DEM\" : \"demvote\", year_pref + \"REP\": \"repvote\"})\n",
    "    # drop the useless cols\n",
    "    precincts = precincts.drop([year_pref + \"IND\", year_pref + \"LIB\", \n",
    "                                      year_pref + \"GRE\", year_pref + \"WRI\"], axis = 1)\n",
    "    \n",
    "    # change crs of shp files to be projected (using VA north)\n",
    "    blocks = blocks.to_crs(epsg=2283)\n",
    "    precincts = precincts.to_crs(epsg=2283)\n",
    "\n",
    "    # remove any bowties (little imperfections in the polygons)\n",
    "    blocks.geometry = blocks.buffer(0)\n",
    "    precincts.geometry = precincts.buffer(0)\n",
    "\n",
    "    # cols to aggregate from blocks to precincts\n",
    "    variables = ['pop', 'vap', 'TotPop', 'BlackPop', 'HispPop', 'VAP_1', 'BlackVAP', 'HispVAP']\n",
    "    with maup.progress():\n",
    "        assignment = maup.assign(blocks, precincts)\n",
    "    precincts[variables] = blocks[variables].groupby(assignment).sum()\n",
    "    \n",
    "    precincts.to_file(data_dir + \"pre-redist/VA_HOD_\" + str(year) + \"/VA_HOD_20\" + str(year) + \".shp\")"
   ]
  },
  {
   "cell_type": "code",
   "execution_count": null,
   "metadata": {},
   "outputs": [
    {
     "name": "stderr",
     "output_type": "stream",
     "text": [
      "100%|█████████████████████████████████████████████████████████████████████████████▉| 2576/2577 [01:43<00:00, 18.76it/s]"
     ]
    }
   ],
   "source": [
    "blocks_f_name = \"ipums/VA_block_2010_pop.zip\"\n",
    "years = [15, 17, 19]\n",
    "for y in years:\n",
    "    precincts_f_name = \"vest/va_20\" + str(y) + \"_statehouse.zip\"\n",
    "    aggregate(blocks_f_name, precincts_f_name, y)"
   ]
  }
 ],
 "metadata": {
  "kernelspec": {
   "display_name": "Python 3",
   "language": "python",
   "name": "python3"
  },
  "language_info": {
   "codemirror_mode": {
    "name": "ipython",
    "version": 3
   },
   "file_extension": ".py",
   "mimetype": "text/x-python",
   "name": "python",
   "nbconvert_exporter": "python",
   "pygments_lexer": "ipython3",
   "version": "3.8.3"
  }
 },
 "nbformat": 4,
 "nbformat_minor": 4
}
