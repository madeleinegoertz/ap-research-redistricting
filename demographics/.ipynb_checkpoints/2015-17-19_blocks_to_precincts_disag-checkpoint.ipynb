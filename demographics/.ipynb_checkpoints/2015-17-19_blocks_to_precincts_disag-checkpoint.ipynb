{
 "cells": [
  {
   "cell_type": "markdown",
   "metadata": {},
   "source": [
    "I have a hunch that there's going to be some difficulties with nesting the blocks into the precincts, so I'm going to use the maup disaggregation and proration features to hopefully combat that. "
   ]
  },
  {
   "cell_type": "code",
   "execution_count": 1,
   "metadata": {},
   "outputs": [],
   "source": [
    "import geopandas\n",
    "import maup\n",
    "import warnings\n",
    "\n",
    "# turn off annoying geoseries isna warnings\n",
    "warnings.filterwarnings('ignore', 'GeoSeries.isna', UserWarning)\n",
    "#enable progres bar\n",
    "maup.progress.enabled = True\n",
    "\n",
    "def blocks_to_precincts_disag(blocks_f_name, precincts_f_name, out_f_name):\n",
    "    # read in files\n",
    "    blocks = geopandas.read_file(blocks_f_name)\n",
    "    precincts = geopandas.read_file(precincts_f_name)\n",
    "\n",
    "    # change crs of shp files to be projected (using VA north)\n",
    "    blocks = blocks.to_crs(epsg=2283)\n",
    "    precincts = precincts.to_crs(epsg=2283)\n",
    "    # remove any bowties (little imperfections in the polygons)\n",
    "    blocks.geometry = blocks.buffer(0)\n",
    "    precincts.geometry = precincts.buffer(0)\n",
    "    # reindex\n",
    "    blocks = blocks.reset_index(drop = True)\n",
    "    precincts = precincts.reset_index(drop = True)\n",
    "\n",
    "    columns = [\"pop\", \"TotPop\", \"BlackPop\", \"HispPop\", \"VAP\", \"BlackVAP\", \"HISPVAP\"]\n",
    "    # Include area_cutoff=0 to ignore any intersections with no area,\n",
    "    # like boundary intersections, which we do not want to include in\n",
    "    # our proration.\n",
    "    pieces = maup.intersections(blocks, precincts, area_cutoff=0)\n",
    "\n",
    "    # Weight by prorated population from blocks THIS TAKES 3 HOURS\n",
    "    assign = maup.assign(blocks, pieces)\n",
    "    weights = blocks[\"pop\"].groupby(assign).sum()\n",
    "\n",
    "    # Normalize the weights so that votes are allocated according to their\n",
    "    # share of population in the old_precincts\n",
    "    weights = maup.normalize(weights, level=0)\n",
    "\n",
    "    # Use blocks to estimate population of each piece\n",
    "    precincts[columns] = maup.prorate(\n",
    "        pieces,\n",
    "        blocks[columns],\n",
    "        weights=weights\n",
    "    )\n",
    "    # write to file\n",
    "    precincts.to_file(out_f_name)"
   ]
  },
  {
   "cell_type": "code",
   "execution_count": null,
   "metadata": {},
   "outputs": [],
   "source": [
    "blocks_f_name = \"zip://C:/Users/madie/OneDrive/data/ipums/VA_block_2017_data.zip\"\n",
    "precincts_f_name = \"zip://C:/Users/madie/OneDrive/data/vest/va_2017_statehouse.zip\"\n",
    "out_f_name = \"C:/Users/madie/OneDrive/data/pre-redist/VA_precinct_2017/VA_precinct_2017.shp\"\n",
    "blocks_to_precincts_disag(blocks_f_name, precincts_f_name, out_f_name)"
   ]
  }
 ],
 "metadata": {
  "kernelspec": {
   "display_name": "Python 3",
   "language": "python",
   "name": "python3"
  },
  "language_info": {
   "codemirror_mode": {
    "name": "ipython",
    "version": 3
   },
   "file_extension": ".py",
   "mimetype": "text/x-python",
   "name": "python",
   "nbconvert_exporter": "python",
   "pygments_lexer": "ipython3",
   "version": "3.8.3"
  }
 },
 "nbformat": 4,
 "nbformat_minor": 4
}
