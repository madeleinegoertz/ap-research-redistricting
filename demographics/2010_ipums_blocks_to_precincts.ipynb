{
 "cells": [
  {
   "cell_type": "markdown",
   "metadata": {},
   "source": [
    "In the other jupyter notebook I created for myself a demographic data shapefile at the block level, which is stored in `C:/Users/madie/OneDrive/data/ipums/VA_block_2010_pop.zip`. What I need to now do is aggregate that block-level data into the precinct shapefiles that I got from the VEST team's dataverse. "
   ]
  },
  {
   "cell_type": "code",
   "execution_count": 1,
   "metadata": {},
   "outputs": [],
   "source": [
    "import geopandas\n",
    "import pandas as pd\n",
    "import maup\n",
    "\n",
    "# turn off annoying geoseries isna warnings\n",
    "import warnings\n",
    "warnings.filterwarnings('ignore', 'GeoSeries.isna', UserWarning)\n",
    "\n",
    "blocks = geopandas.read_file(\"zip://C:/Users/madie/OneDrive/data/ipums/VA_block_2010_pop.zip\")\n",
    "precincts_15 = geopandas.read_file(\"zip://C:/Users/madie/OneDrive/data/vest/va_2015_statehouse.zip\")\n",
    "#precincts_17 = geopandas.read_file(\"zip://C:/Users/madie/OneDrive/data/vest/va_2017_statehouse.zip\")\n",
    "#precincts_19 = geopandas.read_file(\"zip://C:/Users/madie/OneDrive/data/vest/va_2019_statehouse.zip\")"
   ]
  },
  {
   "cell_type": "code",
   "execution_count": 2,
   "metadata": {},
   "outputs": [
    {
     "data": {
      "text/plain": [
       "<Projected CRS: ESRI:102003>\n",
       "Name: USA_Contiguous_Albers_Equal_Area_Conic\n",
       "Axis Info [cartesian]:\n",
       "- [east]: Easting (metre)\n",
       "- [north]: Northing (metre)\n",
       "Area of Use:\n",
       "- undefined\n",
       "Coordinate Operation:\n",
       "- name: unnamed\n",
       "- method: Albers Equal Area\n",
       "Datum: North American Datum 1983\n",
       "- Ellipsoid: GRS 1980\n",
       "- Prime Meridian: Greenwich"
      ]
     },
     "execution_count": 2,
     "metadata": {},
     "output_type": "execute_result"
    }
   ],
   "source": [
    "blocks.crs"
   ]
  },
  {
   "cell_type": "code",
   "execution_count": 3,
   "metadata": {},
   "outputs": [
    {
     "data": {
      "text/plain": [
       "<Geographic 2D CRS: EPSG:4269>\n",
       "Name: NAD83\n",
       "Axis Info [ellipsoidal]:\n",
       "- Lat[north]: Geodetic latitude (degree)\n",
       "- Lon[east]: Geodetic longitude (degree)\n",
       "Area of Use:\n",
       "- name: North America - onshore and offshore: Canada - Alberta; British Columbia; Manitoba; New Brunswick; Newfoundland and Labrador; Northwest Territories; Nova Scotia; Nunavut; Ontario; Prince Edward Island; Quebec; Saskatchewan; Yukon. Puerto Rico. United States (USA) - Alabama; Alaska; Arizona; Arkansas; California; Colorado; Connecticut; Delaware; Florida; Georgia; Hawaii; Idaho; Illinois; Indiana; Iowa; Kansas; Kentucky; Louisiana; Maine; Maryland; Massachusetts; Michigan; Minnesota; Mississippi; Missouri; Montana; Nebraska; Nevada; New Hampshire; New Jersey; New Mexico; New York; North Carolina; North Dakota; Ohio; Oklahoma; Oregon; Pennsylvania; Rhode Island; South Carolina; South Dakota; Tennessee; Texas; Utah; Vermont; Virginia; Washington; West Virginia; Wisconsin; Wyoming. US Virgin Islands.  British Virgin Islands.\n",
       "- bounds: (167.65, 14.92, -47.74, 86.46)\n",
       "Datum: North American Datum 1983\n",
       "- Ellipsoid: GRS 1980\n",
       "- Prime Meridian: Greenwich"
      ]
     },
     "execution_count": 3,
     "metadata": {},
     "output_type": "execute_result"
    }
   ],
   "source": [
    "precincts_15.crs"
   ]
  },
  {
   "cell_type": "code",
   "execution_count": 4,
   "metadata": {},
   "outputs": [
    {
     "data": {
      "text/plain": [
       "<Projected CRS: EPSG:2283>\n",
       "Name: NAD83 / Virginia North (ftUS)\n",
       "Axis Info [cartesian]:\n",
       "- X[east]: Easting (US survey foot)\n",
       "- Y[north]: Northing (US survey foot)\n",
       "Area of Use:\n",
       "- name: United States (USA) - Virginia - counties of Arlington; Augusta; Bath; Caroline; Clarke; Culpeper; Fairfax; Fauquier; Frederick; Greene; Highland; King George; Loudoun; Madison; Orange; Page; Prince William; Rappahannock; Rockingham; Shenandoah; Spotsylvania; Stafford; Warren; Westmoreland.\n",
       "- bounds: (-80.06, 37.77, -76.51, 39.46)\n",
       "Coordinate Operation:\n",
       "- name: SPCS83 Virginia North zone (US Survey feet)\n",
       "- method: Lambert Conic Conformal (2SP)\n",
       "Datum: North American Datum 1983\n",
       "- Ellipsoid: GRS 1980\n",
       "- Prime Meridian: Greenwich"
      ]
     },
     "execution_count": 4,
     "metadata": {},
     "output_type": "execute_result"
    }
   ],
   "source": [
    "# change crs of blocks so that it's projected\n",
    "blocks = blocks.to_crs(epsg=2283)\n",
    "blocks.crs"
   ]
  },
  {
   "cell_type": "code",
   "execution_count": 5,
   "metadata": {},
   "outputs": [
    {
     "data": {
      "text/plain": [
       "<Projected CRS: EPSG:2283>\n",
       "Name: NAD83 / Virginia North (ftUS)\n",
       "Axis Info [cartesian]:\n",
       "- X[east]: Easting (US survey foot)\n",
       "- Y[north]: Northing (US survey foot)\n",
       "Area of Use:\n",
       "- name: United States (USA) - Virginia - counties of Arlington; Augusta; Bath; Caroline; Clarke; Culpeper; Fairfax; Fauquier; Frederick; Greene; Highland; King George; Loudoun; Madison; Orange; Page; Prince William; Rappahannock; Rockingham; Shenandoah; Spotsylvania; Stafford; Warren; Westmoreland.\n",
       "- bounds: (-80.06, 37.77, -76.51, 39.46)\n",
       "Coordinate Operation:\n",
       "- name: SPCS83 Virginia North zone (US Survey feet)\n",
       "- method: Lambert Conic Conformal (2SP)\n",
       "Datum: North American Datum 1983\n",
       "- Ellipsoid: GRS 1980\n",
       "- Prime Meridian: Greenwich"
      ]
     },
     "execution_count": 5,
     "metadata": {},
     "output_type": "execute_result"
    }
   ],
   "source": [
    "# change crs of blocks so that it's projected\n",
    "precincts_15 = precincts_15.to_crs(epsg=2283)\n",
    "precincts_15.crs"
   ]
  },
  {
   "cell_type": "code",
   "execution_count": 6,
   "metadata": {},
   "outputs": [],
   "source": [
    "# remove any bowties (little imperfections in the polygons)\n",
    "blocks.geometry = blocks.buffer(0)"
   ]
  },
  {
   "cell_type": "code",
   "execution_count": 7,
   "metadata": {},
   "outputs": [
    {
     "data": {
      "text/plain": [
       "Index(['GEOID10', 'GISJOIN', 'NAME10', 'pop', 'vap', 'TotPop', 'BlackPop',\n",
       "       'HispPop', 'VAP_1', 'BlackVAP', 'HispVAP', 'geometry'],\n",
       "      dtype='object')"
      ]
     },
     "execution_count": 7,
     "metadata": {},
     "output_type": "execute_result"
    }
   ],
   "source": [
    "blocks.columns"
   ]
  },
  {
   "cell_type": "code",
   "execution_count": 9,
   "metadata": {},
   "outputs": [],
   "source": [
    "precincts_15.geometry = precincts_15.buffer(0)"
   ]
  },
  {
   "cell_type": "code",
   "execution_count": 11,
   "metadata": {},
   "outputs": [
    {
     "data": {
      "text/plain": [
       "Index(['COUNTYFP', 'LOCALITY', 'VTDST', 'PRECINCT', 'HOD_DIST', 'G15HODDEM',\n",
       "       'G15HODREP', 'G15HODIND', 'G15HODLIB', 'G15HODGRE', 'G15HODWRI',\n",
       "       'geometry'],\n",
       "      dtype='object')"
      ]
     },
     "execution_count": 11,
     "metadata": {},
     "output_type": "execute_result"
    }
   ],
   "source": [
    "precincts_15.columns"
   ]
  },
  {
   "cell_type": "code",
   "execution_count": 12,
   "metadata": {},
   "outputs": [
    {
     "name": "stderr",
     "output_type": "stream",
     "text": [
      "100%|██████████████████████████████████████████████████████████████████████████████| 2577/2577 [00:38<00:00, 67.71it/s]\n",
      "100%|██████████████████████████████████████████████████████████████████████████████| 2577/2577 [03:54<00:00, 11.00it/s]\n"
     ]
    },
    {
     "data": {
      "text/plain": [
       "Index(['COUNTYFP', 'LOCALITY', 'VTDST', 'PRECINCT', 'HOD_DIST', 'G15HODDEM',\n",
       "       'G15HODREP', 'G15HODIND', 'G15HODLIB', 'G15HODGRE', 'G15HODWRI',\n",
       "       'geometry', 'pop', 'vap', 'TotPop', 'BlackPop', 'HispPop', 'VAP_1',\n",
       "       'BlackVAP', 'HispVAP'],\n",
       "      dtype='object')"
      ]
     },
     "execution_count": 12,
     "metadata": {},
     "output_type": "execute_result"
    }
   ],
   "source": [
    "variables = ['pop', 'vap', 'TotPop', 'BlackPop', 'HispPop', 'VAP_1', 'BlackVAP', 'HispVAP']\n",
    "\n",
    "with maup.progress():\n",
    "    assignment = maup.assign(blocks, precincts_15)\n",
    "precincts_15[variables] = blocks[variables].groupby(assignment).sum()\n",
    "precincts_15.columns"
   ]
  },
  {
   "cell_type": "code",
   "execution_count": 13,
   "metadata": {},
   "outputs": [
    {
     "data": {
      "text/html": [
       "<div>\n",
       "<style scoped>\n",
       "    .dataframe tbody tr th:only-of-type {\n",
       "        vertical-align: middle;\n",
       "    }\n",
       "\n",
       "    .dataframe tbody tr th {\n",
       "        vertical-align: top;\n",
       "    }\n",
       "\n",
       "    .dataframe thead th {\n",
       "        text-align: right;\n",
       "    }\n",
       "</style>\n",
       "<table border=\"1\" class=\"dataframe\">\n",
       "  <thead>\n",
       "    <tr style=\"text-align: right;\">\n",
       "      <th></th>\n",
       "      <th>COUNTYFP</th>\n",
       "      <th>LOCALITY</th>\n",
       "      <th>VTDST</th>\n",
       "      <th>PRECINCT</th>\n",
       "      <th>HOD_DIST</th>\n",
       "      <th>G15HODDEM</th>\n",
       "      <th>G15HODREP</th>\n",
       "      <th>G15HODIND</th>\n",
       "      <th>G15HODLIB</th>\n",
       "      <th>G15HODGRE</th>\n",
       "      <th>G15HODWRI</th>\n",
       "      <th>geometry</th>\n",
       "      <th>pop</th>\n",
       "      <th>vap</th>\n",
       "      <th>TotPop</th>\n",
       "      <th>BlackPop</th>\n",
       "      <th>HispPop</th>\n",
       "      <th>VAP_1</th>\n",
       "      <th>BlackVAP</th>\n",
       "      <th>HispVAP</th>\n",
       "    </tr>\n",
       "  </thead>\n",
       "  <tbody>\n",
       "    <tr>\n",
       "      <th>0</th>\n",
       "      <td>003</td>\n",
       "      <td>Albemarle County</td>\n",
       "      <td>000202</td>\n",
       "      <td>University Hall</td>\n",
       "      <td>057</td>\n",
       "      <td>221</td>\n",
       "      <td>0</td>\n",
       "      <td>0</td>\n",
       "      <td>0</td>\n",
       "      <td>0</td>\n",
       "      <td>5</td>\n",
       "      <td>POLYGON Z ((11474704.102 6692814.045 0.000, 11...</td>\n",
       "      <td>7704.0</td>\n",
       "      <td>7442.0</td>\n",
       "      <td>7704.0</td>\n",
       "      <td>572.0</td>\n",
       "      <td>425.0</td>\n",
       "      <td>7442.0</td>\n",
       "      <td>542.0</td>\n",
       "      <td>405.0</td>\n",
       "    </tr>\n",
       "    <tr>\n",
       "      <th>1</th>\n",
       "      <td>001</td>\n",
       "      <td>Accomack County</td>\n",
       "      <td>000101</td>\n",
       "      <td>Chincoteague</td>\n",
       "      <td>100</td>\n",
       "      <td>178</td>\n",
       "      <td>703</td>\n",
       "      <td>0</td>\n",
       "      <td>0</td>\n",
       "      <td>0</td>\n",
       "      <td>2</td>\n",
       "      <td>POLYGON Z ((12370063.644 6661341.644 0.000, 12...</td>\n",
       "      <td>2941.0</td>\n",
       "      <td>2487.0</td>\n",
       "      <td>2941.0</td>\n",
       "      <td>21.0</td>\n",
       "      <td>49.0</td>\n",
       "      <td>2487.0</td>\n",
       "      <td>17.0</td>\n",
       "      <td>31.0</td>\n",
       "    </tr>\n",
       "    <tr>\n",
       "      <th>2</th>\n",
       "      <td>001</td>\n",
       "      <td>Accomack County</td>\n",
       "      <td>000201</td>\n",
       "      <td>Atlantic</td>\n",
       "      <td>100</td>\n",
       "      <td>67</td>\n",
       "      <td>339</td>\n",
       "      <td>0</td>\n",
       "      <td>0</td>\n",
       "      <td>0</td>\n",
       "      <td>0</td>\n",
       "      <td>POLYGON Z ((12319939.723 6651354.425 0.000, 12...</td>\n",
       "      <td>1595.0</td>\n",
       "      <td>1278.0</td>\n",
       "      <td>1595.0</td>\n",
       "      <td>266.0</td>\n",
       "      <td>81.0</td>\n",
       "      <td>1278.0</td>\n",
       "      <td>210.0</td>\n",
       "      <td>53.0</td>\n",
       "    </tr>\n",
       "    <tr>\n",
       "      <th>3</th>\n",
       "      <td>001</td>\n",
       "      <td>Accomack County</td>\n",
       "      <td>000202</td>\n",
       "      <td>Greenbackville</td>\n",
       "      <td>100</td>\n",
       "      <td>97</td>\n",
       "      <td>306</td>\n",
       "      <td>0</td>\n",
       "      <td>0</td>\n",
       "      <td>0</td>\n",
       "      <td>0</td>\n",
       "      <td>POLYGON Z ((12348275.656 6673222.628 0.000, 12...</td>\n",
       "      <td>2040.0</td>\n",
       "      <td>1700.0</td>\n",
       "      <td>2040.0</td>\n",
       "      <td>133.0</td>\n",
       "      <td>48.0</td>\n",
       "      <td>1700.0</td>\n",
       "      <td>105.0</td>\n",
       "      <td>29.0</td>\n",
       "    </tr>\n",
       "    <tr>\n",
       "      <th>4</th>\n",
       "      <td>001</td>\n",
       "      <td>Accomack County</td>\n",
       "      <td>000301</td>\n",
       "      <td>Oak Hall</td>\n",
       "      <td>100</td>\n",
       "      <td>221</td>\n",
       "      <td>269</td>\n",
       "      <td>0</td>\n",
       "      <td>0</td>\n",
       "      <td>0</td>\n",
       "      <td>0</td>\n",
       "      <td>POLYGON Z ((12304918.630 6669238.329 0.000, 12...</td>\n",
       "      <td>3553.0</td>\n",
       "      <td>2765.0</td>\n",
       "      <td>3553.0</td>\n",
       "      <td>1812.0</td>\n",
       "      <td>99.0</td>\n",
       "      <td>2765.0</td>\n",
       "      <td>1379.0</td>\n",
       "      <td>61.0</td>\n",
       "    </tr>\n",
       "  </tbody>\n",
       "</table>\n",
       "</div>"
      ],
      "text/plain": [
       "  COUNTYFP          LOCALITY   VTDST         PRECINCT HOD_DIST  G15HODDEM  \\\n",
       "0      003  Albemarle County  000202  University Hall      057        221   \n",
       "1      001   Accomack County  000101     Chincoteague      100        178   \n",
       "2      001   Accomack County  000201         Atlantic      100         67   \n",
       "3      001   Accomack County  000202   Greenbackville      100         97   \n",
       "4      001   Accomack County  000301         Oak Hall      100        221   \n",
       "\n",
       "   G15HODREP  G15HODIND  G15HODLIB  G15HODGRE  G15HODWRI  \\\n",
       "0          0          0          0          0          5   \n",
       "1        703          0          0          0          2   \n",
       "2        339          0          0          0          0   \n",
       "3        306          0          0          0          0   \n",
       "4        269          0          0          0          0   \n",
       "\n",
       "                                            geometry     pop     vap  TotPop  \\\n",
       "0  POLYGON Z ((11474704.102 6692814.045 0.000, 11...  7704.0  7442.0  7704.0   \n",
       "1  POLYGON Z ((12370063.644 6661341.644 0.000, 12...  2941.0  2487.0  2941.0   \n",
       "2  POLYGON Z ((12319939.723 6651354.425 0.000, 12...  1595.0  1278.0  1595.0   \n",
       "3  POLYGON Z ((12348275.656 6673222.628 0.000, 12...  2040.0  1700.0  2040.0   \n",
       "4  POLYGON Z ((12304918.630 6669238.329 0.000, 12...  3553.0  2765.0  3553.0   \n",
       "\n",
       "   BlackPop  HispPop   VAP_1  BlackVAP  HispVAP  \n",
       "0     572.0    425.0  7442.0     542.0    405.0  \n",
       "1      21.0     49.0  2487.0      17.0     31.0  \n",
       "2     266.0     81.0  1278.0     210.0     53.0  \n",
       "3     133.0     48.0  1700.0     105.0     29.0  \n",
       "4    1812.0     99.0  2765.0    1379.0     61.0  "
      ]
     },
     "execution_count": 13,
     "metadata": {},
     "output_type": "execute_result"
    }
   ],
   "source": [
    "precincts_15.head()"
   ]
  },
  {
   "cell_type": "code",
   "execution_count": null,
   "metadata": {},
   "outputs": [],
   "source": []
  }
 ],
 "metadata": {
  "kernelspec": {
   "display_name": "Python 3",
   "language": "python",
   "name": "python3"
  },
  "language_info": {
   "codemirror_mode": {
    "name": "ipython",
    "version": 3
   },
   "file_extension": ".py",
   "mimetype": "text/x-python",
   "name": "python",
   "nbconvert_exporter": "python",
   "pygments_lexer": "ipython3",
   "version": "3.8.3"
  }
 },
 "nbformat": 4,
 "nbformat_minor": 4
}
