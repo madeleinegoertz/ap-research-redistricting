{
 "cells": [
  {
   "cell_type": "markdown",
   "metadata": {},
   "source": [
    "In the other jupyter notebook I created for myself a demographic data shapefile at the block level, which is stored in `C:/Users/madie/OneDrive/data/ipums/VA_block_2010_pop.zip`. What I need to now do is aggregate that block-level data into the precinct shapefiles that I got from the VEST team's dataverse. "
   ]
  },
  {
   "cell_type": "code",
   "execution_count": 3,
   "metadata": {},
   "outputs": [],
   "source": [
    "import geopandas\n",
    "import pandas as pd\n",
    "import maup\n",
    "import warnings\n",
    "\n",
    "# turn off annoying geoseries isna warnings\n",
    "warnings.filterwarnings('ignore', 'GeoSeries.isna', UserWarning)\n",
    "\n",
    "def aggregate(blocks_f_name, precincts_f_name, year):\n",
    "    data_dir = \"C:/Users/madie/OneDrive/data/\"\n",
    "    zip_data_dir = \"zip://\" + data_dir\n",
    "    blocks = geopandas.read_file(zip_data_dir + blocks_f_name)\n",
    "    precincts = geopandas.read_file(zip_data_dir + precincts_f_name)\n",
    "    \n",
    "    year_pref = \"G\" + str(year) + \"HOD\"\n",
    "    # rename the useful cols\n",
    "    precincts = precincts.rename(columns = {year_pref + \"DEM\" : \"demvote\", year_pref + \"REP\": \"repvote\"})\n",
    "    # drop the useless cols\n",
    "    precincts = precincts.drop([year_pref + \"IND\", year_pref + \"LIB\", \n",
    "                                      year_pref + \"GRE\", year_pref + \"WRI\"], axis = 1)\n",
    "    \n",
    "    # change crs of shp files to be projected (using VA north)\n",
    "    blocks = blocks.to_crs(epsg=2283)\n",
    "    precincts = precincts.to_crs(epsg=2283)\n",
    "\n",
    "    # remove any bowties (little imperfections in the polygons)\n",
    "    blocks.geometry = blocks.buffer(0)\n",
    "    precincts.geometry = precincts.buffer(0)\n",
    "\n",
    "    # cols to aggregate from blocks to precincts\n",
    "    variables = ['pop', 'vap', 'TotPop', 'BlackPop', 'HispPop', 'VAP_1', 'BlackVAP', 'HispVAP']\n",
    "    with maup.progress():\n",
    "        assignment = maup.assign(blocks, precincts)\n",
    "    precincts[variables] = blocks[variables].groupby(assignment).sum()\n",
    "    \n",
    "    precincts.to_file(data_dir + \"pre-redist/VA_HOD_20\" + str(year) + \"/VA_HOD_20\" + str(year) + \".shp\")"
   ]
  },
  {
   "cell_type": "code",
   "execution_count": 4,
   "metadata": {},
   "outputs": [
    {
     "name": "stderr",
     "output_type": "stream",
     "text": [
      "100%|██████████████████████████████████████████████████████████████████████████████| 2577/2577 [01:39<00:00, 25.78it/s]\n",
      "100%|██████████████████████████████████████████████████████████████████████████████| 2577/2577 [07:04<00:00,  6.07it/s]\n",
      "100%|██████████████████████████████████████████████████████████████████████████████| 2585/2585 [01:31<00:00, 28.20it/s]\n",
      "100%|██████████████████████████████████████████████████████████████████████████████| 2585/2585 [06:52<00:00,  6.27it/s]\n"
     ]
    },
    {
     "ename": "KeyError",
     "evalue": "\"['G19HODIND' 'G19HODLIB' 'G19HODGRE' 'G19HODWRI'] not found in axis\"",
     "output_type": "error",
     "traceback": [
      "\u001b[1;31m---------------------------------------------------------------------------\u001b[0m",
      "\u001b[1;31mKeyError\u001b[0m                                  Traceback (most recent call last)",
      "\u001b[1;32m<ipython-input-4-4715ecbfa6fa>\u001b[0m in \u001b[0;36m<module>\u001b[1;34m\u001b[0m\n\u001b[0;32m      3\u001b[0m \u001b[1;32mfor\u001b[0m \u001b[0my\u001b[0m \u001b[1;32min\u001b[0m \u001b[0myears\u001b[0m\u001b[1;33m:\u001b[0m\u001b[1;33m\u001b[0m\u001b[1;33m\u001b[0m\u001b[0m\n\u001b[0;32m      4\u001b[0m     \u001b[0mprecincts_f_name\u001b[0m \u001b[1;33m=\u001b[0m \u001b[1;34m\"vest/va_20\"\u001b[0m \u001b[1;33m+\u001b[0m \u001b[0mstr\u001b[0m\u001b[1;33m(\u001b[0m\u001b[0my\u001b[0m\u001b[1;33m)\u001b[0m \u001b[1;33m+\u001b[0m \u001b[1;34m\"_statehouse.zip\"\u001b[0m\u001b[1;33m\u001b[0m\u001b[1;33m\u001b[0m\u001b[0m\n\u001b[1;32m----> 5\u001b[1;33m     \u001b[0maggregate\u001b[0m\u001b[1;33m(\u001b[0m\u001b[0mblocks_f_name\u001b[0m\u001b[1;33m,\u001b[0m \u001b[0mprecincts_f_name\u001b[0m\u001b[1;33m,\u001b[0m \u001b[0my\u001b[0m\u001b[1;33m)\u001b[0m\u001b[1;33m\u001b[0m\u001b[1;33m\u001b[0m\u001b[0m\n\u001b[0m",
      "\u001b[1;32m<ipython-input-3-0104948003f7>\u001b[0m in \u001b[0;36maggregate\u001b[1;34m(blocks_f_name, precincts_f_name, year)\u001b[0m\n\u001b[0;32m     17\u001b[0m     \u001b[0mprecincts\u001b[0m \u001b[1;33m=\u001b[0m \u001b[0mprecincts\u001b[0m\u001b[1;33m.\u001b[0m\u001b[0mrename\u001b[0m\u001b[1;33m(\u001b[0m\u001b[0mcolumns\u001b[0m \u001b[1;33m=\u001b[0m \u001b[1;33m{\u001b[0m\u001b[0myear_pref\u001b[0m \u001b[1;33m+\u001b[0m \u001b[1;34m\"DEM\"\u001b[0m \u001b[1;33m:\u001b[0m \u001b[1;34m\"demvote\"\u001b[0m\u001b[1;33m,\u001b[0m \u001b[0myear_pref\u001b[0m \u001b[1;33m+\u001b[0m \u001b[1;34m\"REP\"\u001b[0m\u001b[1;33m:\u001b[0m \u001b[1;34m\"repvote\"\u001b[0m\u001b[1;33m}\u001b[0m\u001b[1;33m)\u001b[0m\u001b[1;33m\u001b[0m\u001b[1;33m\u001b[0m\u001b[0m\n\u001b[0;32m     18\u001b[0m     \u001b[1;31m# drop the useless cols\u001b[0m\u001b[1;33m\u001b[0m\u001b[1;33m\u001b[0m\u001b[1;33m\u001b[0m\u001b[0m\n\u001b[1;32m---> 19\u001b[1;33m     precincts = precincts.drop([year_pref + \"IND\", year_pref + \"LIB\", \n\u001b[0m\u001b[0;32m     20\u001b[0m                                       year_pref + \"GRE\", year_pref + \"WRI\"], axis = 1)\n\u001b[0;32m     21\u001b[0m \u001b[1;33m\u001b[0m\u001b[0m\n",
      "\u001b[1;32m~\\anaconda3\\lib\\site-packages\\pandas\\core\\frame.py\u001b[0m in \u001b[0;36mdrop\u001b[1;34m(self, labels, axis, index, columns, level, inplace, errors)\u001b[0m\n\u001b[0;32m   4161\u001b[0m                 \u001b[0mweight\u001b[0m  \u001b[1;36m1.0\u001b[0m     \u001b[1;36m0.8\u001b[0m\u001b[1;33m\u001b[0m\u001b[1;33m\u001b[0m\u001b[0m\n\u001b[0;32m   4162\u001b[0m         \"\"\"\n\u001b[1;32m-> 4163\u001b[1;33m         return super().drop(\n\u001b[0m\u001b[0;32m   4164\u001b[0m             \u001b[0mlabels\u001b[0m\u001b[1;33m=\u001b[0m\u001b[0mlabels\u001b[0m\u001b[1;33m,\u001b[0m\u001b[1;33m\u001b[0m\u001b[1;33m\u001b[0m\u001b[0m\n\u001b[0;32m   4165\u001b[0m             \u001b[0maxis\u001b[0m\u001b[1;33m=\u001b[0m\u001b[0maxis\u001b[0m\u001b[1;33m,\u001b[0m\u001b[1;33m\u001b[0m\u001b[1;33m\u001b[0m\u001b[0m\n",
      "\u001b[1;32m~\\anaconda3\\lib\\site-packages\\pandas\\core\\generic.py\u001b[0m in \u001b[0;36mdrop\u001b[1;34m(self, labels, axis, index, columns, level, inplace, errors)\u001b[0m\n\u001b[0;32m   3885\u001b[0m         \u001b[1;32mfor\u001b[0m \u001b[0maxis\u001b[0m\u001b[1;33m,\u001b[0m \u001b[0mlabels\u001b[0m \u001b[1;32min\u001b[0m \u001b[0maxes\u001b[0m\u001b[1;33m.\u001b[0m\u001b[0mitems\u001b[0m\u001b[1;33m(\u001b[0m\u001b[1;33m)\u001b[0m\u001b[1;33m:\u001b[0m\u001b[1;33m\u001b[0m\u001b[1;33m\u001b[0m\u001b[0m\n\u001b[0;32m   3886\u001b[0m             \u001b[1;32mif\u001b[0m \u001b[0mlabels\u001b[0m \u001b[1;32mis\u001b[0m \u001b[1;32mnot\u001b[0m \u001b[1;32mNone\u001b[0m\u001b[1;33m:\u001b[0m\u001b[1;33m\u001b[0m\u001b[1;33m\u001b[0m\u001b[0m\n\u001b[1;32m-> 3887\u001b[1;33m                 \u001b[0mobj\u001b[0m \u001b[1;33m=\u001b[0m \u001b[0mobj\u001b[0m\u001b[1;33m.\u001b[0m\u001b[0m_drop_axis\u001b[0m\u001b[1;33m(\u001b[0m\u001b[0mlabels\u001b[0m\u001b[1;33m,\u001b[0m \u001b[0maxis\u001b[0m\u001b[1;33m,\u001b[0m \u001b[0mlevel\u001b[0m\u001b[1;33m=\u001b[0m\u001b[0mlevel\u001b[0m\u001b[1;33m,\u001b[0m \u001b[0merrors\u001b[0m\u001b[1;33m=\u001b[0m\u001b[0merrors\u001b[0m\u001b[1;33m)\u001b[0m\u001b[1;33m\u001b[0m\u001b[1;33m\u001b[0m\u001b[0m\n\u001b[0m\u001b[0;32m   3888\u001b[0m \u001b[1;33m\u001b[0m\u001b[0m\n\u001b[0;32m   3889\u001b[0m         \u001b[1;32mif\u001b[0m \u001b[0minplace\u001b[0m\u001b[1;33m:\u001b[0m\u001b[1;33m\u001b[0m\u001b[1;33m\u001b[0m\u001b[0m\n",
      "\u001b[1;32m~\\anaconda3\\lib\\site-packages\\pandas\\core\\generic.py\u001b[0m in \u001b[0;36m_drop_axis\u001b[1;34m(self, labels, axis, level, errors)\u001b[0m\n\u001b[0;32m   3919\u001b[0m                 \u001b[0mnew_axis\u001b[0m \u001b[1;33m=\u001b[0m \u001b[0maxis\u001b[0m\u001b[1;33m.\u001b[0m\u001b[0mdrop\u001b[0m\u001b[1;33m(\u001b[0m\u001b[0mlabels\u001b[0m\u001b[1;33m,\u001b[0m \u001b[0mlevel\u001b[0m\u001b[1;33m=\u001b[0m\u001b[0mlevel\u001b[0m\u001b[1;33m,\u001b[0m \u001b[0merrors\u001b[0m\u001b[1;33m=\u001b[0m\u001b[0merrors\u001b[0m\u001b[1;33m)\u001b[0m\u001b[1;33m\u001b[0m\u001b[1;33m\u001b[0m\u001b[0m\n\u001b[0;32m   3920\u001b[0m             \u001b[1;32melse\u001b[0m\u001b[1;33m:\u001b[0m\u001b[1;33m\u001b[0m\u001b[1;33m\u001b[0m\u001b[0m\n\u001b[1;32m-> 3921\u001b[1;33m                 \u001b[0mnew_axis\u001b[0m \u001b[1;33m=\u001b[0m \u001b[0maxis\u001b[0m\u001b[1;33m.\u001b[0m\u001b[0mdrop\u001b[0m\u001b[1;33m(\u001b[0m\u001b[0mlabels\u001b[0m\u001b[1;33m,\u001b[0m \u001b[0merrors\u001b[0m\u001b[1;33m=\u001b[0m\u001b[0merrors\u001b[0m\u001b[1;33m)\u001b[0m\u001b[1;33m\u001b[0m\u001b[1;33m\u001b[0m\u001b[0m\n\u001b[0m\u001b[0;32m   3922\u001b[0m             \u001b[0mresult\u001b[0m \u001b[1;33m=\u001b[0m \u001b[0mself\u001b[0m\u001b[1;33m.\u001b[0m\u001b[0mreindex\u001b[0m\u001b[1;33m(\u001b[0m\u001b[1;33m**\u001b[0m\u001b[1;33m{\u001b[0m\u001b[0maxis_name\u001b[0m\u001b[1;33m:\u001b[0m \u001b[0mnew_axis\u001b[0m\u001b[1;33m}\u001b[0m\u001b[1;33m)\u001b[0m\u001b[1;33m\u001b[0m\u001b[1;33m\u001b[0m\u001b[0m\n\u001b[0;32m   3923\u001b[0m \u001b[1;33m\u001b[0m\u001b[0m\n",
      "\u001b[1;32m~\\anaconda3\\lib\\site-packages\\pandas\\core\\indexes\\base.py\u001b[0m in \u001b[0;36mdrop\u001b[1;34m(self, labels, errors)\u001b[0m\n\u001b[0;32m   5280\u001b[0m         \u001b[1;32mif\u001b[0m \u001b[0mmask\u001b[0m\u001b[1;33m.\u001b[0m\u001b[0many\u001b[0m\u001b[1;33m(\u001b[0m\u001b[1;33m)\u001b[0m\u001b[1;33m:\u001b[0m\u001b[1;33m\u001b[0m\u001b[1;33m\u001b[0m\u001b[0m\n\u001b[0;32m   5281\u001b[0m             \u001b[1;32mif\u001b[0m \u001b[0merrors\u001b[0m \u001b[1;33m!=\u001b[0m \u001b[1;34m\"ignore\"\u001b[0m\u001b[1;33m:\u001b[0m\u001b[1;33m\u001b[0m\u001b[1;33m\u001b[0m\u001b[0m\n\u001b[1;32m-> 5282\u001b[1;33m                 \u001b[1;32mraise\u001b[0m \u001b[0mKeyError\u001b[0m\u001b[1;33m(\u001b[0m\u001b[1;34mf\"{labels[mask]} not found in axis\"\u001b[0m\u001b[1;33m)\u001b[0m\u001b[1;33m\u001b[0m\u001b[1;33m\u001b[0m\u001b[0m\n\u001b[0m\u001b[0;32m   5283\u001b[0m             \u001b[0mindexer\u001b[0m \u001b[1;33m=\u001b[0m \u001b[0mindexer\u001b[0m\u001b[1;33m[\u001b[0m\u001b[1;33m~\u001b[0m\u001b[0mmask\u001b[0m\u001b[1;33m]\u001b[0m\u001b[1;33m\u001b[0m\u001b[1;33m\u001b[0m\u001b[0m\n\u001b[0;32m   5284\u001b[0m         \u001b[1;32mreturn\u001b[0m \u001b[0mself\u001b[0m\u001b[1;33m.\u001b[0m\u001b[0mdelete\u001b[0m\u001b[1;33m(\u001b[0m\u001b[0mindexer\u001b[0m\u001b[1;33m)\u001b[0m\u001b[1;33m\u001b[0m\u001b[1;33m\u001b[0m\u001b[0m\n",
      "\u001b[1;31mKeyError\u001b[0m: \"['G19HODIND' 'G19HODLIB' 'G19HODGRE' 'G19HODWRI'] not found in axis\""
     ]
    }
   ],
   "source": [
    "blocks_f_name = \"ipums/VA_block_2010_pop.zip\"\n",
    "years = [15, 17, 19]\n",
    "for y in years:\n",
    "    precincts_f_name = \"vest/va_20\" + str(y) + \"_statehouse.zip\"\n",
    "    aggregate(blocks_f_name, precincts_f_name, y)"
   ]
  },
  {
   "cell_type": "code",
   "execution_count": 5,
   "metadata": {},
   "outputs": [],
   "source": [
    "df_19 = geopandas.read_file(\"zip://C:/Users/madie/OneDrive/data/vest/va_2019_statehouse.zip\")"
   ]
  },
  {
   "cell_type": "code",
   "execution_count": 6,
   "metadata": {},
   "outputs": [
    {
     "data": {
      "text/html": [
       "<div>\n",
       "<style scoped>\n",
       "    .dataframe tbody tr th:only-of-type {\n",
       "        vertical-align: middle;\n",
       "    }\n",
       "\n",
       "    .dataframe tbody tr th {\n",
       "        vertical-align: top;\n",
       "    }\n",
       "\n",
       "    .dataframe thead th {\n",
       "        text-align: right;\n",
       "    }\n",
       "</style>\n",
       "<table border=\"1\" class=\"dataframe\">\n",
       "  <thead>\n",
       "    <tr style=\"text-align: right;\">\n",
       "      <th></th>\n",
       "      <th>COUNTYFP</th>\n",
       "      <th>LOCALITY</th>\n",
       "      <th>VTDST</th>\n",
       "      <th>PRECINCT</th>\n",
       "      <th>HOD_DIST</th>\n",
       "      <th>geometry</th>\n",
       "    </tr>\n",
       "  </thead>\n",
       "  <tbody>\n",
       "    <tr>\n",
       "      <th>0</th>\n",
       "      <td>001</td>\n",
       "      <td>Accomack County</td>\n",
       "      <td>000101</td>\n",
       "      <td>Chincoteague</td>\n",
       "      <td>100</td>\n",
       "      <td>POLYGON Z ((-75.40929 37.82092 0.00000, -75.40...</td>\n",
       "    </tr>\n",
       "    <tr>\n",
       "      <th>1</th>\n",
       "      <td>001</td>\n",
       "      <td>Accomack County</td>\n",
       "      <td>000201</td>\n",
       "      <td>Atlantic</td>\n",
       "      <td>100</td>\n",
       "      <td>POLYGON Z ((-75.41651 37.93483 0.00000, -75.41...</td>\n",
       "    </tr>\n",
       "    <tr>\n",
       "      <th>2</th>\n",
       "      <td>001</td>\n",
       "      <td>Accomack County</td>\n",
       "      <td>000202</td>\n",
       "      <td>Greenbackville</td>\n",
       "      <td>100</td>\n",
       "      <td>POLYGON Z ((-75.41651 37.93483 0.00000, -75.41...</td>\n",
       "    </tr>\n",
       "    <tr>\n",
       "      <th>3</th>\n",
       "      <td>001</td>\n",
       "      <td>Accomack County</td>\n",
       "      <td>000301</td>\n",
       "      <td>New Church</td>\n",
       "      <td>100</td>\n",
       "      <td>POLYGON Z ((-75.49376 37.93167 0.00000, -75.49...</td>\n",
       "    </tr>\n",
       "    <tr>\n",
       "      <th>4</th>\n",
       "      <td>001</td>\n",
       "      <td>Accomack County</td>\n",
       "      <td>000401</td>\n",
       "      <td>Bloxom</td>\n",
       "      <td>100</td>\n",
       "      <td>POLYGON Z ((-75.59939 37.87382 0.00000, -75.59...</td>\n",
       "    </tr>\n",
       "  </tbody>\n",
       "</table>\n",
       "</div>"
      ],
      "text/plain": [
       "  COUNTYFP         LOCALITY   VTDST        PRECINCT HOD_DIST  \\\n",
       "0      001  Accomack County  000101    Chincoteague      100   \n",
       "1      001  Accomack County  000201        Atlantic      100   \n",
       "2      001  Accomack County  000202  Greenbackville      100   \n",
       "3      001  Accomack County  000301      New Church      100   \n",
       "4      001  Accomack County  000401          Bloxom      100   \n",
       "\n",
       "                                            geometry  \n",
       "0  POLYGON Z ((-75.40929 37.82092 0.00000, -75.40...  \n",
       "1  POLYGON Z ((-75.41651 37.93483 0.00000, -75.41...  \n",
       "2  POLYGON Z ((-75.41651 37.93483 0.00000, -75.41...  \n",
       "3  POLYGON Z ((-75.49376 37.93167 0.00000, -75.49...  \n",
       "4  POLYGON Z ((-75.59939 37.87382 0.00000, -75.59...  "
      ]
     },
     "execution_count": 6,
     "metadata": {},
     "output_type": "execute_result"
    }
   ],
   "source": [
    "df_19.head()"
   ]
  },
  {
   "cell_type": "code",
   "execution_count": null,
   "metadata": {},
   "outputs": [],
   "source": []
  }
 ],
 "metadata": {
  "kernelspec": {
   "display_name": "Python 3",
   "language": "python",
   "name": "python3"
  },
  "language_info": {
   "codemirror_mode": {
    "name": "ipython",
    "version": 3
   },
   "file_extension": ".py",
   "mimetype": "text/x-python",
   "name": "python",
   "nbconvert_exporter": "python",
   "pygments_lexer": "ipython3",
   "version": "3.8.3"
  }
 },
 "nbformat": 4,
 "nbformat_minor": 4
}
