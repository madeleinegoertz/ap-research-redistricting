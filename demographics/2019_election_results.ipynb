{
 "cells": [
  {
   "cell_type": "markdown",
   "metadata": {},
   "source": [
    "For some strange reason, the VEST only has the precinct shapefiles for VA in 2019, not the election results. I'm going to have to merge them in myself. "
   ]
  },
  {
   "cell_type": "code",
   "execution_count": 13,
   "metadata": {},
   "outputs": [],
   "source": [
    "library(sf)\n",
    "library(ggplot2)\n",
    "library(dplyr)\n",
    "library(tibble)\n",
    "library(magrittr)\n",
    "library(tidyverse)\n",
    "\n",
    "tabulate_votes <- function(votes_f_name, precincts_f_name, out_f_name) {\n",
    "    # read csv into dataframe\n",
    "    data_dir = \"C:/Users/madie/OneDrive/data/\"\n",
    "    df <- read.csv(file = paste(data_dir, votes_f_name, sep=\"\"))\n",
    "\n",
    "    df <- df %>% \n",
    "        # remove all rows that aren't from an HOD election\n",
    "        filter(DistrictType == \"House of Delegates\") %>%\n",
    "        # remove all third parties\n",
    "        filter(Party %in% c(\"Democratic\", \"Republican\")) %>%\n",
    "        # remove all provisional ballots\n",
    "        filter(!(PrecinctName %in% c(\"# AB - Central Absentee Precinct\", \"## Provisional\")))\n",
    "\n",
    "    # generate summary table with precincts as rows and repub and dem votes as cols\n",
    "    df_votes <- df %>%\n",
    "        group_by(PrecinctName, LocalityName) %>%\n",
    "        summarise(demvote = sum(TOTAL_VOTES[Party == \"Democratic\"]),\n",
    "            repvote = sum(TOTAL_VOTES[Party == \"Republican\"])) %>%\n",
    "        distinct() \n",
    "\n",
    "    #split precinctname into precinct and precinct ID\n",
    "    df_votes <- df_votes[order(df_votes$PrecinctName),] %>%\n",
    "        separate(col = PrecinctName, sep = \" - \", into = c(\"precinctID\", \"precinct\")) %>%\n",
    "        # remove precinct ID\n",
    "        subset(select = -precinctID)\n",
    "\n",
    "    # read in precincts shapefile\n",
    "    df_shp <- st_read(paste(data_dir, precincts_f_name, sep=\"\")) %>%\n",
    "        # rename PRECINCT col\n",
    "        rename(precinct = PRECINCT) %>% \n",
    "        # remove the random z axis (idk why it's there)\n",
    "        st_zm(drop = TRUE, what = \"ZM\")\n",
    "\n",
    "    # make precinct names in shp file all uppercase\n",
    "    df_shp$precinct <- df_shp$precinct %>% toupper()\n",
    "\n",
    "    # join election results into precinct\n",
    "    df_shp <- df_shp %>%\n",
    "        left_join(df_votes, by = \"precinct\")\n",
    "\n",
    "    # write to file\n",
    "    st_write(obj=df_shp, dsn=paste(data_dir, out_f_name, sep=\"\"), append=FALSE)\n",
    "}"
   ]
  },
  {
   "cell_type": "code",
   "execution_count": 14,
   "metadata": {},
   "outputs": [
    {
     "name": "stderr",
     "output_type": "stream",
     "text": [
      "`summarise()` regrouping output by 'PrecinctName' (override with `.groups` argument)\n",
      "\n",
      "Warning message:\n",
      "\"Expected 2 pieces. Additional pieces discarded in 9 rows [439, 810, 943, 1175, 1548, 1621, 1634, 2318, 2389].\"\n",
      "Warning message:\n",
      "\"Expected 2 pieces. Missing pieces filled with `NA` in 13 rows [25, 66, 103, 238, 242, 583, 731, 843, 981, 1475, 1486, 2181, 2245].\"\n"
     ]
    },
    {
     "name": "stdout",
     "output_type": "stream",
     "text": [
      "Reading layer `va_2019_statehouse' from data source `C:\\Users\\madie\\OneDrive\\data\\vest\\va_2019_statehouse\\va_2019_statehouse.shp' using driver `ESRI Shapefile'\n",
      "Simple feature collection with 2586 features and 5 fields\n",
      "geometry type:  MULTIPOLYGON\n",
      "dimension:      XYZ\n",
      "bbox:           xmin: -83.67539 ymin: 36.54085 xmax: -75.16643 ymax: 39.46601\n",
      "z_range:        zmin: 0 zmax: 0\n",
      "geographic CRS: NAD83\n"
     ]
    },
    {
     "name": "stderr",
     "output_type": "stream",
     "text": [
      "Warning message in abbreviate_shapefile_names(obj):\n",
      "\"Field names abbreviated for ESRI Shapefile driver\"\n"
     ]
    },
    {
     "name": "stdout",
     "output_type": "stream",
     "text": [
      "Deleting layer `va_2019_statehouse_full' using driver `ESRI Shapefile'\n",
      "Writing layer `va_2019_statehouse_full' to data source `C:/Users/madie/OneDrive/data/vest/va_2019_statehouse_full/va_2019_statehouse_full.shp' using driver `ESRI Shapefile'\n",
      "Writing 3675 features with 8 fields and geometry type Multi Polygon.\n"
     ]
    }
   ],
   "source": [
    "votes_f_name = \"official-VA-2005-2019/G19.csv\"\n",
    "precincts_f_name = \"vest/va_2019_statehouse/va_2019_statehouse.shp\"\n",
    "out_f_name = \"vest/va_2019_statehouse_full/va_2019_statehouse_full.shp\"\n",
    "\n",
    "\n",
    "tabulate_votes(votes_f_name, precincts_f_name, out_f_name)"
   ]
  }
 ],
 "metadata": {
  "kernelspec": {
   "display_name": "R",
   "language": "R",
   "name": "ir"
  },
  "language_info": {
   "codemirror_mode": "r",
   "file_extension": ".r",
   "mimetype": "text/x-r-source",
   "name": "R",
   "pygments_lexer": "r",
   "version": "4.0.3"
  }
 },
 "nbformat": 4,
 "nbformat_minor": 4
}
