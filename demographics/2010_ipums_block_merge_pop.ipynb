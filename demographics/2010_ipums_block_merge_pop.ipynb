{
 "cells": [
  {
   "cell_type": "markdown",
   "metadata": {},
   "source": [
    "The goal is to merge in the demographic data to the block-level shapefiles. "
   ]
  },
  {
   "cell_type": "markdown",
   "metadata": {},
   "source": [
    "Ok, so I've downloaded demographic data for VA blocks from the 2010 census, and I need to clean it. Here's how I'm renaming the population data columns. \n",
    "\n",
    "* `H7Z001` = `pop`: Total population\n",
    "* `H75001` = `vap`: Total voting-age population\n",
    "* `H7Z001` = `TotPop`: Total population (again)\n",
    "* `H7Z004` = `BlackPop`: Total Black population\n",
    "* `H7Z010` = `HispPop`: Total Hispanic Population\n",
    "* `H75001` = `VAP`: Total voting-age population (again)\n",
    "* `H75006` = `BlackVAP`: Total Black voting-age population\n",
    "* `H75002` = `HispVAP`: Total Hispanic voting-age population"
   ]
  },
  {
   "cell_type": "code",
   "execution_count": 42,
   "metadata": {},
   "outputs": [
    {
     "name": "stdout",
     "output_type": "stream",
     "text": [
      "Index(['GEOID10', 'GISJOIN', 'NAME10', 'geometry'], dtype='object')\n"
     ]
    }
   ],
   "source": [
    "import geopandas\n",
    "import pandas as pd\n",
    "\n",
    "# read in blocks shapefile\n",
    "blocks = geopandas.read_file(\"zip://C:/Users/madie/OneDrive/data/ipums/VA_block_2010.zip\")\n",
    "# keep only the useful cols\n",
    "blocks = blocks[[\"GEOID10\", \"GISJOIN\", \"NAME10\", \"geometry\"]].copy()\n",
    "# read in population data csv\n",
    "data = pd.read_csv(\"C:/Users/madie/OneDrive/data/ipums/VA_block_2010_data.zip\")\n",
    "# keep only the relevant columns for total Black and Hispanic population (and vap)\n",
    "data = data[[\"GISJOIN\", \"H7Z001\", \"H75001\", \"H7Z001\", \"H7Z004\", \"H7Z010\", \"H75001\", \"H75006\", \"H75002\"]].copy()\n",
    "# rename these cols to something more intelligible\n",
    "data.columns = [\"GISJOIN\", \"pop\", \"vap\", \"TotPop\", \"BlackPop\", \"HispPop\", \"VAP\", \"BlackVAP\", \"HispVAP\"]\n",
    "# merge the population data into the blocks shapefile\n",
    "blocks = blocks.merge(data, on='GISJOIN')"
   ]
  },
  {
   "cell_type": "code",
   "execution_count": 48,
   "metadata": {},
   "outputs": [
    {
     "data": {
      "text/html": [
       "<div>\n",
       "<style scoped>\n",
       "    .dataframe tbody tr th:only-of-type {\n",
       "        vertical-align: middle;\n",
       "    }\n",
       "\n",
       "    .dataframe tbody tr th {\n",
       "        vertical-align: top;\n",
       "    }\n",
       "\n",
       "    .dataframe thead th {\n",
       "        text-align: right;\n",
       "    }\n",
       "</style>\n",
       "<table border=\"1\" class=\"dataframe\">\n",
       "  <thead>\n",
       "    <tr style=\"text-align: right;\">\n",
       "      <th></th>\n",
       "      <th>GEOID10</th>\n",
       "      <th>GISJOIN</th>\n",
       "      <th>NAME10</th>\n",
       "      <th>geometry</th>\n",
       "      <th>pop</th>\n",
       "      <th>vap</th>\n",
       "      <th>TotPop</th>\n",
       "      <th>BlackPop</th>\n",
       "      <th>HispPop</th>\n",
       "      <th>VAP</th>\n",
       "      <th>BlackVAP</th>\n",
       "      <th>HispVAP</th>\n",
       "    </tr>\n",
       "  </thead>\n",
       "  <tbody>\n",
       "    <tr>\n",
       "      <th>0</th>\n",
       "      <td>510050701003000</td>\n",
       "      <td>G51000500701003000</td>\n",
       "      <td>Block 3000</td>\n",
       "      <td>POLYGON ((1403784.895 156772.322, 1403783.803 ...</td>\n",
       "      <td>97</td>\n",
       "      <td>79</td>\n",
       "      <td>97</td>\n",
       "      <td>1</td>\n",
       "      <td>0</td>\n",
       "      <td>79</td>\n",
       "      <td>1</td>\n",
       "      <td>0</td>\n",
       "    </tr>\n",
       "    <tr>\n",
       "      <th>1</th>\n",
       "      <td>510050701003030</td>\n",
       "      <td>G51000500701003030</td>\n",
       "      <td>Block 3030</td>\n",
       "      <td>POLYGON ((1403585.578 156506.859, 1403581.351 ...</td>\n",
       "      <td>6</td>\n",
       "      <td>6</td>\n",
       "      <td>6</td>\n",
       "      <td>1</td>\n",
       "      <td>0</td>\n",
       "      <td>6</td>\n",
       "      <td>1</td>\n",
       "      <td>0</td>\n",
       "    </tr>\n",
       "    <tr>\n",
       "      <th>2</th>\n",
       "      <td>510050701004060</td>\n",
       "      <td>G51000500701004060</td>\n",
       "      <td>Block 4060</td>\n",
       "      <td>POLYGON ((1405405.380 155633.132, 1405381.941 ...</td>\n",
       "      <td>228</td>\n",
       "      <td>148</td>\n",
       "      <td>228</td>\n",
       "      <td>42</td>\n",
       "      <td>0</td>\n",
       "      <td>148</td>\n",
       "      <td>23</td>\n",
       "      <td>0</td>\n",
       "    </tr>\n",
       "    <tr>\n",
       "      <th>3</th>\n",
       "      <td>510050801003038</td>\n",
       "      <td>G51000500801003038</td>\n",
       "      <td>Block 3038</td>\n",
       "      <td>POLYGON ((1401990.851 153835.037, 1401924.520 ...</td>\n",
       "      <td>17</td>\n",
       "      <td>12</td>\n",
       "      <td>17</td>\n",
       "      <td>0</td>\n",
       "      <td>0</td>\n",
       "      <td>12</td>\n",
       "      <td>0</td>\n",
       "      <td>0</td>\n",
       "    </tr>\n",
       "    <tr>\n",
       "      <th>4</th>\n",
       "      <td>510050801003030</td>\n",
       "      <td>G51000500801003030</td>\n",
       "      <td>Block 3030</td>\n",
       "      <td>POLYGON ((1402153.374 154175.886, 1402158.091 ...</td>\n",
       "      <td>0</td>\n",
       "      <td>0</td>\n",
       "      <td>0</td>\n",
       "      <td>0</td>\n",
       "      <td>0</td>\n",
       "      <td>0</td>\n",
       "      <td>0</td>\n",
       "      <td>0</td>\n",
       "    </tr>\n",
       "  </tbody>\n",
       "</table>\n",
       "</div>"
      ],
      "text/plain": [
       "           GEOID10             GISJOIN      NAME10  \\\n",
       "0  510050701003000  G51000500701003000  Block 3000   \n",
       "1  510050701003030  G51000500701003030  Block 3030   \n",
       "2  510050701004060  G51000500701004060  Block 4060   \n",
       "3  510050801003038  G51000500801003038  Block 3038   \n",
       "4  510050801003030  G51000500801003030  Block 3030   \n",
       "\n",
       "                                            geometry  pop  vap  TotPop  \\\n",
       "0  POLYGON ((1403784.895 156772.322, 1403783.803 ...   97   79      97   \n",
       "1  POLYGON ((1403585.578 156506.859, 1403581.351 ...    6    6       6   \n",
       "2  POLYGON ((1405405.380 155633.132, 1405381.941 ...  228  148     228   \n",
       "3  POLYGON ((1401990.851 153835.037, 1401924.520 ...   17   12      17   \n",
       "4  POLYGON ((1402153.374 154175.886, 1402158.091 ...    0    0       0   \n",
       "\n",
       "   BlackPop  HispPop  VAP  BlackVAP  HispVAP  \n",
       "0         1        0   79         1        0  \n",
       "1         1        0    6         1        0  \n",
       "2        42        0  148        23        0  \n",
       "3         0        0   12         0        0  \n",
       "4         0        0    0         0        0  "
      ]
     },
     "execution_count": 48,
     "metadata": {},
     "output_type": "execute_result"
    }
   ],
   "source": [
    "blocks.head()"
   ]
  },
  {
   "cell_type": "code",
   "execution_count": 52,
   "metadata": {},
   "outputs": [],
   "source": [
    "# write blocks to file\n",
    "blocks.to_file(\"C:/Users/madie/OneDrive/data/ipums/VA_block_2010_pop.shp\")"
   ]
  }
 ],
 "metadata": {
  "kernelspec": {
   "display_name": "Python 3",
   "language": "python",
   "name": "python3"
  },
  "language_info": {
   "codemirror_mode": {
    "name": "ipython",
    "version": 3
   },
   "file_extension": ".py",
   "mimetype": "text/x-python",
   "name": "python",
   "nbconvert_exporter": "python",
   "pygments_lexer": "ipython3",
   "version": "3.8.3"
  }
 },
 "nbformat": 4,
 "nbformat_minor": 4
}
