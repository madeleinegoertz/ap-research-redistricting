{
 "cells": [
  {
   "cell_type": "markdown",
   "metadata": {},
   "source": [
    "I have a hunch that there's going to be some difficulties with nesting the blocks into the precincts, so I'm going to use the maup disaggregation and proration features to hopefully combat that. "
   ]
  },
  {
   "cell_type": "code",
   "execution_count": 1,
   "metadata": {},
   "outputs": [],
   "source": [
    "import geopandas\n",
    "import maup\n",
    "import warnings\n",
    "\n",
    "# turn off annoying geoseries isna warnings\n",
    "warnings.filterwarnings('ignore', 'GeoSeries.isna', UserWarning)\n",
    "#enable progres bar\n",
    "maup.progress.enabled = True\n",
    "\n",
    "\n",
    "# Given blocks and precincts, first split blocks so that they nest into precincts, \n",
    "# prorating by population, then aggregate into precincts. \n",
    "# blocks_f_name = str, file name of blocks shp file\n",
    "# precincts_f_name = str, file name of precincts shp file\n",
    "# out_f_name = str, file name to write final precincts shp file to (must end in .shp)\n",
    "def blocks_to_precincts_disag(blocks_f_name, precincts_f_name, out_f_name):\n",
    "    # read in files\n",
    "    blocks = geopandas.read_file(blocks_f_name)\n",
    "    precincts = geopandas.read_file(precincts_f_name)\n",
    "\n",
    "    # change crs of shp files to be projected (using VA north)\n",
    "    blocks = blocks.to_crs(epsg=2283)\n",
    "    precincts = precincts.to_crs(epsg=2283)\n",
    "    # remove any bowties (little imperfections in the polygons)\n",
    "    blocks.geometry = blocks.buffer(0)\n",
    "    precincts.geometry = precincts.buffer(0)\n",
    "    # reindex\n",
    "    blocks = blocks.reset_index(drop = True)\n",
    "    precincts = precincts.reset_index(drop = True)\n",
    "\n",
    "    columns = [\"pop\", \"TotPop\", \"BlackPop\", \"HispPop\", \"VAP\", \"BlackVAP\", \"HISPVAP\"]\n",
    "    # Include area_cutoff=0 to ignore any intersections with no area,\n",
    "    # like boundary intersections, which we do not want to include in\n",
    "    # our proration.\n",
    "    pieces = maup.intersections(blocks, precincts, area_cutoff=0)\n",
    "\n",
    "    # Weight by prorated population from blocks THIS TAKES 3 HOURS\n",
    "    assign = maup.assign(blocks, pieces)\n",
    "    weights = blocks[\"pop\"].groupby(assign).sum()\n",
    "\n",
    "    # Normalize the weights so that votes are allocated according to their\n",
    "    # share of population in the old_precincts\n",
    "    weights = maup.normalize(weights, level=0)\n",
    "\n",
    "    # Use blocks to estimate population of each piece\n",
    "    precincts[columns] = maup.prorate(\n",
    "        pieces,\n",
    "        blocks[columns],\n",
    "        weights=weights\n",
    "    )\n",
    "    # write to file\n",
    "    precincts.to_file(out_f_name)"
   ]
  },
  {
   "cell_type": "code",
   "execution_count": 3,
   "metadata": {},
   "outputs": [
    {
     "name": "stderr",
     "output_type": "stream",
     "text": [
      "100%|██████████████████████████████████████████████████████████████████████████████| 2585/2585 [16:50<00:00,  2.56it/s]\n",
      "100%|████████████████████████████████████████████████████████████████████████| 379448/379448 [1:09:43<00:00, 90.70it/s]\n",
      "100%|█████████████████████████████████████████████████████████████████████████| 379448/379448 [51:33<00:00, 122.67it/s]\n"
     ]
    }
   ],
   "source": [
    "blocks_f_name = \"zip://C:/Users/madie/OneDrive/data/ipums/VA_block_2017_data.zip\"\n",
    "precincts_f_name = \"zip://C:/Users/madie/OneDrive/data/vest/va_2017_statehouse.zip\"\n",
    "out_f_name = \"C:/Users/madie/OneDrive/data/pre-redist/VA_precinct_2017/VA_precinct_2017.shp\"\n",
    "blocks_to_precincts_disag(blocks_f_name, precincts_f_name, out_f_name)"
   ]
  },
  {
   "cell_type": "code",
   "execution_count": 4,
   "metadata": {},
   "outputs": [
    {
     "name": "stderr",
     "output_type": "stream",
     "text": [
      "100%|██████████████████████████████████████████████████████████████████████████████| 3675/3675 [09:22<00:00,  6.54it/s]\n",
      "100%|████████████████████████████████████████████████████████████████████████| 579281/579281 [8:45:53<00:00, 18.36it/s]\n",
      "100%|█████████████████████████████████████████████████████████████████████████| 579281/579281 [23:26<00:00, 411.85it/s]\n"
     ]
    }
   ],
   "source": [
    "blocks_f_name = \"zip://C:/Users/madie/OneDrive/data/ipums/VA_block_2019_data.zip\"\n",
    "precincts_f_name = \"zip://C:/Users/madie/OneDrive/data/vest/va_2019_statehouse.zip\"\n",
    "out_f_name = \"C:/Users/madie/OneDrive/data/pre-redist/VA_precinct_2019/VA_precinct_2019.shp\"\n",
    "blocks_to_precincts_disag(blocks_f_name, precincts_f_name, out_f_name)"
   ]
  }
 ],
 "metadata": {
  "kernelspec": {
   "display_name": "Python 3",
   "language": "python",
   "name": "python3"
  },
  "language_info": {
   "codemirror_mode": {
    "name": "ipython",
    "version": 3
   },
   "file_extension": ".py",
   "mimetype": "text/x-python",
   "name": "python",
   "nbconvert_exporter": "python",
   "pygments_lexer": "ipython3",
   "version": "3.8.3"
  }
 },
 "nbformat": 4,
 "nbformat_minor": 4
}
