{
 "cells": [
  {
   "cell_type": "code",
   "execution_count": 2,
   "metadata": {},
   "outputs": [
    {
     "name": "stderr",
     "output_type": "stream",
     "text": [
      "\n",
      "Attaching package: 'dplyr'\n",
      "\n",
      "\n",
      "The following objects are masked from 'package:stats':\n",
      "\n",
      "    filter, lag\n",
      "\n",
      "\n",
      "The following objects are masked from 'package:base':\n",
      "\n",
      "    intersect, setdiff, setequal, union\n",
      "\n",
      "\n",
      "Linking to GEOS 3.8.0, GDAL 3.0.4, PROJ 6.3.1\n",
      "\n"
     ]
    }
   ],
   "source": [
    "library(dplyr)\n",
    "library(ggplot2)\n",
    "library(redist)\n",
    "library(sf)"
   ]
  },
  {
   "cell_type": "code",
   "execution_count": 3,
   "metadata": {},
   "outputs": [
    {
     "name": "stdout",
     "output_type": "stream",
     "text": [
      "Reading layer `VA_precinct_2015' from data source `C:\\Users\\madie\\OneDrive\\data\\pre-redist\\VA_precinct_2015\\VA_precinct_2015.shp' using driver `ESRI Shapefile'\n",
      "Simple feature collection with 2577 features and 14 fields\n",
      "geometry type:  MULTIPOLYGON\n",
      "dimension:      XYZ\n",
      "bbox:           xmin: 9963623 ymin: 6151696 xmax: 12442960 ymax: 7217011\n",
      "z_range:        zmin: 0 zmax: 0\n",
      "projected CRS:  NAD83 / Virginia North (ftUS)\n"
     ]
    }
   ],
   "source": [
    "va_2015_file <- \"C:/Users/madie/OneDrive/data/pre-redist/VA_precinct_2015/VA_precinct_2015.shp\"\n",
    "df <- st_read(va_2015_file)"
   ]
  },
  {
   "cell_type": "code",
   "execution_count": 4,
   "metadata": {},
   "outputs": [
    {
     "ename": "ERROR",
     "evalue": "Error in redist_map(): could not find function \"redist_map\"\n",
     "output_type": "error",
     "traceback": [
      "Error in redist_map(): could not find function \"redist_map\"\nTraceback:\n"
     ]
    }
   ],
   "source": [
    "va_map <- redist_map()"
   ]
  },
  {
   "cell_type": "code",
   "execution_count": null,
   "metadata": {},
   "outputs": [],
   "source": []
  },
  {
   "cell_type": "code",
   "execution_count": null,
   "metadata": {},
   "outputs": [],
   "source": []
  },
  {
   "cell_type": "code",
   "execution_count": null,
   "metadata": {},
   "outputs": [],
   "source": []
  }
 ],
 "metadata": {
  "kernelspec": {
   "display_name": "R",
   "language": "R",
   "name": "ir"
  },
  "language_info": {
   "codemirror_mode": "r",
   "file_extension": ".r",
   "mimetype": "text/x-r-source",
   "name": "R",
   "pygments_lexer": "r",
   "version": "4.0.4"
  }
 },
 "nbformat": 4,
 "nbformat_minor": 4
}
