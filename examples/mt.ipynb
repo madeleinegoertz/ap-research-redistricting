{
 "cells": [
  {
   "cell_type": "markdown",
   "metadata": {},
   "source": [
    "This is a copy of Benjamin Sorensen's blog post about using redist, which you can find here: https://www.benjaminsorensen.me/post/mt-redistricting/"
   ]
  },
  {
   "cell_type": "code",
   "execution_count": 1,
   "metadata": {},
   "outputs": [
    {
     "name": "stderr",
     "output_type": "stream",
     "text": [
      "Linking to GEOS 3.8.0, GDAL 3.0.4, PROJ 6.3.1\n",
      "\n",
      "-- \u001b[1mAttaching packages\u001b[22m ------------------------------------------------------------------------------- tidyverse 1.3.0 --\n",
      "\n",
      "\u001b[32mv\u001b[39m \u001b[34mtibble \u001b[39m 3.1.0     \u001b[32mv\u001b[39m \u001b[34mdplyr  \u001b[39m 1.0.5\n",
      "\u001b[32mv\u001b[39m \u001b[34mtidyr  \u001b[39m 1.1.2     \u001b[32mv\u001b[39m \u001b[34mstringr\u001b[39m 1.4.0\n",
      "\u001b[32mv\u001b[39m \u001b[34mreadr  \u001b[39m 1.4.0     \u001b[32mv\u001b[39m \u001b[34mforcats\u001b[39m 0.5.1\n",
      "\u001b[32mv\u001b[39m \u001b[34mpurrr  \u001b[39m 0.3.4     \n",
      "\n",
      "-- \u001b[1mConflicts\u001b[22m ---------------------------------------------------------------------------------- tidyverse_conflicts() --\n",
      "\u001b[31mx\u001b[39m \u001b[34mdplyr\u001b[39m::\u001b[32mfilter()\u001b[39m masks \u001b[34mstats\u001b[39m::filter()\n",
      "\u001b[31mx\u001b[39m \u001b[34mdplyr\u001b[39m::\u001b[32mlag()\u001b[39m    masks \u001b[34mstats\u001b[39m::lag()\n",
      "\n",
      "\n",
      "Attaching package: 'magrittr'\n",
      "\n",
      "\n",
      "The following object is masked from 'package:purrr':\n",
      "\n",
      "    set_names\n",
      "\n",
      "\n",
      "The following object is masked from 'package:tidyr':\n",
      "\n",
      "    extract\n",
      "\n",
      "\n",
      "To access larger datasets in this package, install the spDataLarge\n",
      "package with: `install.packages('spDataLarge',\n",
      "repos='https://nowosad.github.io/drat/', type='source')`\n",
      "\n",
      "\n",
      "Attaching package: 'igraph'\n",
      "\n",
      "\n",
      "The following objects are masked from 'package:dplyr':\n",
      "\n",
      "    as_data_frame, groups, union\n",
      "\n",
      "\n",
      "The following objects are masked from 'package:purrr':\n",
      "\n",
      "    compose, simplify\n",
      "\n",
      "\n",
      "The following object is masked from 'package:tidyr':\n",
      "\n",
      "    crossing\n",
      "\n",
      "\n",
      "The following object is masked from 'package:tibble':\n",
      "\n",
      "    as_data_frame\n",
      "\n",
      "\n",
      "The following objects are masked from 'package:stats':\n",
      "\n",
      "    decompose, spectrum\n",
      "\n",
      "\n",
      "The following object is masked from 'package:base':\n",
      "\n",
      "    union\n",
      "\n",
      "\n"
     ]
    }
   ],
   "source": [
    "library(sf)\n",
    "library(ggplot2)\n",
    "library(tidyverse)\n",
    "library(tibble)\n",
    "library(magrittr)\n",
    "library(redist)\n",
    "library(sp)\n",
    "library(spData)\n",
    "library(spdep)\n",
    "library(igraph)"
   ]
  },
  {
   "cell_type": "code",
   "execution_count": 2,
   "metadata": {},
   "outputs": [
    {
     "name": "stdout",
     "output_type": "stream",
     "text": [
      "Reading layer `VA_precinct_2015' from data source `C:\\Users\\madie\\OneDrive\\data\\pre-redist\\VA_precinct_2015\\VA_precinct_2015.shp' using driver `ESRI Shapefile'\n",
      "Simple feature collection with 2577 features and 14 fields\n",
      "geometry type:  MULTIPOLYGON\n",
      "dimension:      XYZ\n",
      "bbox:           xmin: 9963623 ymin: 6151696 xmax: 12442960 ymax: 7217011\n",
      "z_range:        zmin: 0 zmax: 0\n",
      "projected CRS:  NAD83 / Virginia North (ftUS)\n"
     ]
    }
   ],
   "source": [
    "va_2015_file <- \"C:/Users/madie/OneDrive/data/pre-redist/VA_precinct_2015/VA_precinct_2015.shp\"\n",
    "df <- st_read(va_2015_file)"
   ]
  },
  {
   "cell_type": "code",
   "execution_count": 3,
   "metadata": {},
   "outputs": [],
   "source": [
    "adjlist <- spdep::poly2nb(df, queen = FALSE)"
   ]
  },
  {
   "cell_type": "code",
   "execution_count": 4,
   "metadata": {},
   "outputs": [],
   "source": [
    "# much faster for st_distance to use centroids rather than polygons\n",
    "distmat <- \n",
    "  df %>% \n",
    "  mutate(centroid = st_centroid(geometry)) %>% \n",
    "  st_set_geometry(value = \"centroid\") %>% \n",
    "  select(-geometry) %>% \n",
    "  st_distance()"
   ]
  },
  {
   "cell_type": "code",
   "execution_count": 6,
   "metadata": {},
   "outputs": [
    {
     "name": "stdout",
     "output_type": "stream",
     "text": [
      "\n",
      "==================== \n",
      "redist.mcmc(): Automated Redistricting Simulation Using\n",
      "         Markov Chain Monte Carlo\n",
      "\n",
      "Preprocessing data.\n",
      "\n",
      "\n",
      "==================== \n",
      "Using redist.rsg() to generate starting values.\n",
      "\n",
      "10 percent done.\n",
      "Metropolis acceptance ratio: 0.317317\n",
      "\n",
      "20 percent done.\n",
      "Metropolis acceptance ratio: 0.235118\n",
      "\n",
      "30 percent done.\n",
      "Metropolis acceptance ratio: 0.198066\n",
      "\n",
      "40 percent done.\n",
      "Metropolis acceptance ratio: 0.175794\n",
      "\n",
      "50 percent done.\n",
      "Metropolis acceptance ratio: 0.156631\n",
      "\n",
      "60 percent done.\n",
      "Metropolis acceptance ratio: 0.13969\n",
      "\n",
      "70 percent done.\n",
      "Metropolis acceptance ratio: 0.128304\n",
      "\n",
      "80 percent done.\n",
      "Metropolis acceptance ratio: 0.12089\n",
      "\n",
      "90 percent done.\n",
      "Metropolis acceptance ratio: 0.112124\n",
      "\n",
      "100 percent done.\n",
      "Metropolis acceptance ratio: 0.106511\n",
      "\n",
      "Time difference of 33.45871 mins\n"
     ]
    }
   ],
   "source": [
    "start.time <- Sys.time()\n",
    "alg_mcmc <- redist.mcmc(\n",
    "  adjobj = adjlist,\n",
    "  popvec = df$pop,\n",
    "#  initcds = initcds$cd_ns, I dont' have initial districts I'm starting with\n",
    "  maxiterrsg = 1e8,\n",
    "  ndists = 11,\n",
    "  nsims = 10000,\n",
    "  constraint = c(\"population\", \"compact\"),\n",
    "  constraintweights = c(1, 1),\n",
    "  popcons = .1,\n",
    "  ssdmat = distmat,\n",
    "  savename = \"redist.mcmc.2015\"\n",
    ") %>% \n",
    "  invisible()\n",
    "end.time <- Sys.time()\n",
    "print(end.time - start.time)"
   ]
  },
  {
   "cell_type": "code",
   "execution_count": null,
   "metadata": {},
   "outputs": [],
   "source": []
  }
 ],
 "metadata": {
  "kernelspec": {
   "display_name": "R",
   "language": "R",
   "name": "ir"
  },
  "language_info": {
   "codemirror_mode": "r",
   "file_extension": ".r",
   "mimetype": "text/x-r-source",
   "name": "R",
   "pygments_lexer": "r",
   "version": "4.0.4"
  }
 },
 "nbformat": 4,
 "nbformat_minor": 4
}
