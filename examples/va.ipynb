{
 "cells": [
  {
   "cell_type": "code",
   "execution_count": 1,
   "metadata": {},
   "outputs": [
    {
     "name": "stderr",
     "output_type": "stream",
     "text": [
      "-- \u001b[1mAttaching packages\u001b[22m ------------------------------------------------------------------------------- tidyverse 1.3.0 --\n",
      "\n",
      "\u001b[32mv\u001b[39m \u001b[34mggplot2\u001b[39m 3.3.3     \u001b[32mv\u001b[39m \u001b[34mpurrr  \u001b[39m 0.3.4\n",
      "\u001b[32mv\u001b[39m \u001b[34mtibble \u001b[39m 3.1.0     \u001b[32mv\u001b[39m \u001b[34mdplyr  \u001b[39m 1.0.5\n",
      "\u001b[32mv\u001b[39m \u001b[34mtidyr  \u001b[39m 1.1.2     \u001b[32mv\u001b[39m \u001b[34mstringr\u001b[39m 1.4.0\n",
      "\u001b[32mv\u001b[39m \u001b[34mreadr  \u001b[39m 1.4.0     \u001b[32mv\u001b[39m \u001b[34mforcats\u001b[39m 0.5.1\n",
      "\n",
      "-- \u001b[1mConflicts\u001b[22m ---------------------------------------------------------------------------------- tidyverse_conflicts() --\n",
      "\u001b[31mx\u001b[39m \u001b[34mdplyr\u001b[39m::\u001b[32mfilter()\u001b[39m masks \u001b[34mstats\u001b[39m::filter()\n",
      "\u001b[31mx\u001b[39m \u001b[34mdplyr\u001b[39m::\u001b[32mlag()\u001b[39m    masks \u001b[34mstats\u001b[39m::lag()\n",
      "\n",
      "Linking to GEOS 3.8.0, GDAL 3.0.4, PROJ 6.3.1\n",
      "\n"
     ]
    }
   ],
   "source": [
    "library(tidyverse)\n",
    "library(sf)\n",
    "library(tidycensus)\n",
    "library(redist)"
   ]
  },
  {
   "cell_type": "code",
   "execution_count": 10,
   "metadata": {},
   "outputs": [
    {
     "name": "stderr",
     "output_type": "stream",
     "text": [
      "To install your API key for use in future sessions, run this function with `install = TRUE`.\n",
      "\n",
      "Getting data from the 2011-2015 5-year ACS\n",
      "\n",
      "Downloading feature geometry from the Census website.  To cache shapefiles for use in future sessions, set `options(tigris_use_cache = TRUE)`.\n",
      "\n",
      "Fetching block group data by county and combining the result.\n",
      "\n"
     ]
    },
    {
     "ename": "ERROR",
     "evalue": "Error: Request failed after 3 attempts\n",
     "output_type": "error",
     "traceback": [
      "Error: Request failed after 3 attempts\nTraceback:\n",
      "1. get_acs(geography = \"block group\", state = \"VA\", year = 2015, \n .     variables = \"B01003_001\", geometry = TRUE)",
      "2. map(county, ~{\n .     suppressMessages(insist_get_acs(geography = geography, variables = variables, \n .         table = table, cache_table = cache_table, year = year, \n .         output = output, state = state, county = .x, zcta = zcta, \n .         summary_var = summary_var, geometry = geometry, keep_geo_vars = keep_geo_vars, \n .         shift_geo = FALSE, key = key, moe_level = moe_level, \n .         survey = survey, show_call = show_call)) %>% st_cast(\"MULTIPOLYGON\")\n . }) %>% reduce(rbind)",
      "3. reduce(., rbind)",
      "4. reduce_impl(.x, .f, ..., .init = .init, .dir = .dir)",
      "5. reduce_init(.x, .init, left = left)",
      "6. is_empty(x)",
      "7. map(county, ~{\n .     suppressMessages(insist_get_acs(geography = geography, variables = variables, \n .         table = table, cache_table = cache_table, year = year, \n .         output = output, state = state, county = .x, zcta = zcta, \n .         summary_var = summary_var, geometry = geometry, keep_geo_vars = keep_geo_vars, \n .         shift_geo = FALSE, key = key, moe_level = moe_level, \n .         survey = survey, show_call = show_call)) %>% st_cast(\"MULTIPOLYGON\")\n . })",
      "8. .f(.x[[i]], ...)",
      "9. suppressMessages(insist_get_acs(geography = geography, variables = variables, \n .     table = table, cache_table = cache_table, year = year, output = output, \n .     state = state, county = .x, zcta = zcta, summary_var = summary_var, \n .     geometry = geometry, keep_geo_vars = keep_geo_vars, shift_geo = FALSE, \n .     key = key, moe_level = moe_level, survey = survey, show_call = show_call)) %>% \n .     st_cast(\"MULTIPOLYGON\")",
      "10. st_cast(., \"MULTIPOLYGON\")",
      "11. suppressMessages(insist_get_acs(geography = geography, variables = variables, \n  .     table = table, cache_table = cache_table, year = year, output = output, \n  .     state = state, county = .x, zcta = zcta, summary_var = summary_var, \n  .     geometry = geometry, keep_geo_vars = keep_geo_vars, shift_geo = FALSE, \n  .     key = key, moe_level = moe_level, survey = survey, show_call = show_call))",
      "12. withCallingHandlers(expr, message = function(c) if (inherits(c, \n  .     classes)) tryInvokeRestart(\"muffleMessage\"))",
      "13. insist_get_acs(geography = geography, variables = variables, \n  .     table = table, cache_table = cache_table, year = year, output = output, \n  .     state = state, county = .x, zcta = zcta, summary_var = summary_var, \n  .     geometry = geometry, keep_geo_vars = keep_geo_vars, shift_geo = FALSE, \n  .     key = key, moe_level = moe_level, survey = survey, show_call = show_call)",
      "14. rate_sleep(rate, quiet = quiet)",
      "15. stop_rate_excess(rate)",
      "16. abort(msg, \"purrr_error_rate_excess\", rate = rate)",
      "17. signal_abort(cnd)"
     ]
    }
   ],
   "source": [
    "census_api_key(Sys.getenv(\"CENSUS_API_KEY\"))\n",
    "\n",
    "acs <-\n",
    "  get_acs(\n",
    "    geography = \"block group\",\n",
    "    state = \"VA\",\n",
    "    year = 2015,\n",
    "    variables = \"B01003_001\", #total population, see https://api.census.gov/data/2015/acs/acs5/variables.html\n",
    "    geometry = TRUE\n",
    "  )"
   ]
  },
  {
   "cell_type": "code",
   "execution_count": null,
   "metadata": {},
   "outputs": [],
   "source": []
  }
 ],
 "metadata": {
  "kernelspec": {
   "display_name": "R",
   "language": "R",
   "name": "ir"
  },
  "language_info": {
   "codemirror_mode": "r",
   "file_extension": ".r",
   "mimetype": "text/x-r-source",
   "name": "R",
   "pygments_lexer": "r",
   "version": "4.0.4"
  }
 },
 "nbformat": 4,
 "nbformat_minor": 4
}
