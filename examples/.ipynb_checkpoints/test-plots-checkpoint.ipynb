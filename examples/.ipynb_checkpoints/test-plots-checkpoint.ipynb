{
 "cells": [
  {
   "cell_type": "code",
   "execution_count": 1,
   "metadata": {},
   "outputs": [
    {
     "name": "stderr",
     "output_type": "stream",
     "text": [
      "-- \u001b[1mAttaching packages\u001b[22m ------------------------------------------------------------------------------- tidyverse 1.3.0 --\n",
      "\n",
      "\u001b[32mv\u001b[39m \u001b[34mggplot2\u001b[39m 3.3.3     \u001b[32mv\u001b[39m \u001b[34mpurrr  \u001b[39m 0.3.4\n",
      "\u001b[32mv\u001b[39m \u001b[34mtibble \u001b[39m 3.1.0     \u001b[32mv\u001b[39m \u001b[34mdplyr  \u001b[39m 1.0.5\n",
      "\u001b[32mv\u001b[39m \u001b[34mtidyr  \u001b[39m 1.1.2     \u001b[32mv\u001b[39m \u001b[34mstringr\u001b[39m 1.4.0\n",
      "\u001b[32mv\u001b[39m \u001b[34mreadr  \u001b[39m 1.4.0     \u001b[32mv\u001b[39m \u001b[34mforcats\u001b[39m 0.5.1\n",
      "\n",
      "-- \u001b[1mConflicts\u001b[22m ---------------------------------------------------------------------------------- tidyverse_conflicts() --\n",
      "\u001b[31mx\u001b[39m \u001b[34mdplyr\u001b[39m::\u001b[32mfilter()\u001b[39m masks \u001b[34mstats\u001b[39m::filter()\n",
      "\u001b[31mx\u001b[39m \u001b[34mdplyr\u001b[39m::\u001b[32mlag()\u001b[39m    masks \u001b[34mstats\u001b[39m::lag()\n",
      "\n",
      "Linking to GEOS 3.8.0, GDAL 3.0.4, PROJ 6.3.1\n",
      "\n"
     ]
    }
   ],
   "source": [
    "library(tidyverse)\n",
    "library(sf)\n",
    "library(tidycensus)\n",
    "library(redist)"
   ]
  },
  {
   "cell_type": "code",
   "execution_count": 2,
   "metadata": {},
   "outputs": [
    {
     "name": "stdout",
     "output_type": "stream",
     "text": [
      "Reading layer `VA_precinct_2018' from data source `C:\\Users\\madie\\OneDrive\\data\\pre-redist\\VA_precinct_2018\\VA_precinct_2018.shp' using driver `ESRI Shapefile'\n",
      "Simple feature collection with 2463 features and 10 fields\n",
      "geometry type:  MULTIPOLYGON\n",
      "dimension:      XYZ\n",
      "bbox:           xmin: 9963623 ymin: 6151696 xmax: 12442960 ymax: 7217011\n",
      "z_range:        zmin: 0 zmax: 0\n",
      "projected CRS:  NAD83 / Virginia North (ftUS)\n"
     ]
    }
   ],
   "source": [
    "precinct = st_read(\"C:/Users/madie/OneDrive/data/pre-redist/VA_precinct_2018/VA_precinct_2018.shp\")"
   ]
  },
  {
   "cell_type": "code",
   "execution_count": 17,
   "metadata": {},
   "outputs": [],
   "source": [
    "library(randomcoloR)\n",
    "colors = distinctColorPalette(k=11)"
   ]
  },
  {
   "cell_type": "code",
   "execution_count": 28,
   "metadata": {},
   "outputs": [],
   "source": [
    "option_2 = distinctColorPalette(k=11)"
   ]
  },
  {
   "cell_type": "code",
   "execution_count": 23,
   "metadata": {},
   "outputs": [],
   "source": [
    "palette_1 = c(\"#a0522d\", \"#228b22\", \"#000080\", \"#ff0000\", \"#ffff00\", \"#00ff00\", \"#00ffff\", \"#ff00ff\", \"#eee8aa\",\n",
    "             \"#6495ed\", \"#ff69b4\")"
   ]
  },
  {
   "cell_type": "code",
   "execution_count": 25,
   "metadata": {},
   "outputs": [],
   "source": [
    "option_1 <- colors"
   ]
  },
  {
   "cell_type": "code",
   "execution_count": 37,
   "metadata": {},
   "outputs": [
    {
     "name": "stdout",
     "output_type": "stream",
     "text": [
      " [1] \"#DA618D\" \"#85D7D4\" \"#D6D7B8\" \"#D5D160\" \"#D7895B\" \"#94E958\" \"#A87ADA\"\n",
      " [8] \"#DAB8D3\" \"#C843DB\" \"#84DE9A\" \"#78A5D5\"\n"
     ]
    }
   ],
   "source": [
    "print(option_2)"
   ]
  },
  {
   "cell_type": "code",
   "execution_count": 62,
   "metadata": {},
   "outputs": [],
   "source": [
    "option_2[1] = \"#DA618D\"\n",
    "option_2[3] = \"#044b62\"\n",
    "option_2[5] = \"#e7854b\"\n",
    "option_2[6] = \"#6cc32f\"\n",
    "option_2[10] = \"#329349\"\n",
    "option_2[11] = \"#78A5D5\""
   ]
  },
  {
   "cell_type": "code",
   "execution_count": 63,
   "metadata": {},
   "outputs": [
    {
     "name": "stdout",
     "output_type": "stream",
     "text": [
      " [1] \"#DA618D\" \"#85D7D4\" \"#044b62\" \"#D5D160\" \"#e7854b\" \"#6cc32f\" \"#A87ADA\"\n",
      " [8] \"#DAB8D3\" \"#C843DB\" \"#329349\" \"#78A5D5\"\n"
     ]
    }
   ],
   "source": [
    "print(option_2)"
   ]
  },
  {
   "cell_type": "code",
   "execution_count": 64,
   "metadata": {},
   "outputs": [
    {
     "data": {
      "image/png": "[encoded data removed]",
      "text/plain": [
       "plot without title"
      ]
     },
     "metadata": {
      "image/png": {
       "height": 420,
       "width": 420
      }
     },
     "output_type": "display_data"
    }
   ],
   "source": [
    "\n",
    "precinct %>% \n",
    "  ggplot(aes(fill = CON_DIST)) + \n",
    "  geom_sf(size = 0, show.legend = TRUE, color = NA) + \n",
    "  #scale_fill_viridis_c(option = \"magma\") + \n",
    "  scale_fill_manual(values = option_2) +\n",
    "  coord_sf(datum = NA) +\n",
    "  theme_void() + \n",
    "  labs(title = \"Virginia Congressional Districts, 2011-2020\")"
   ]
  },
  {
   "cell_type": "code",
   "execution_count": 27,
   "metadata": {},
   "outputs": [
    {
     "name": "stderr",
     "output_type": "stream",
     "text": [
      "Saving 6.67 x 6.67 in image\n",
      "\n"
     ]
    }
   ],
   "source": [
    "ggsave(\"option2.png\")"
   ]
  },
  {
   "cell_type": "code",
   "execution_count": 21,
   "metadata": {},
   "outputs": [
    {
     "name": "stdout",
     "output_type": "stream",
     "text": [
      " [1] \"#D5ADCF\" \"#DCDED2\" \"#BEC483\" \"#C647DB\" \"#82E46D\" \"#957FDE\" \"#78B4D2\"\n",
      " [8] \"#DB895B\" \"#82E3C4\" \"#DADE54\" \"#D96196\"\n"
     ]
    }
   ],
   "source": [
    "print(option_1)"
   ]
  },
  {
   "cell_type": "code",
   "execution_count": null,
   "metadata": {},
   "outputs": [],
   "source": []
  }
 ],
 "metadata": {
  "kernelspec": {
   "display_name": "R",
   "language": "R",
   "name": "ir"
  },
  "language_info": {
   "codemirror_mode": "r",
   "file_extension": ".r",
   "mimetype": "text/x-r-source",
   "name": "R",
   "pygments_lexer": "r",
   "version": "4.0.4"
  }
 },
 "nbformat": 4,
 "nbformat_minor": 4
}
