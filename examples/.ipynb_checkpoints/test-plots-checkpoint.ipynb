{
 "cells": [
  {
   "cell_type": "code",
   "execution_count": 1,
   "metadata": {},
   "outputs": [
    {
     "name": "stderr",
     "output_type": "stream",
     "text": [
      "-- \u001b[1mAttaching packages\u001b[22m ------------------------------------------------------------------------------- tidyverse 1.3.0 --\n",
      "\n",
      "\u001b[32mv\u001b[39m \u001b[34mggplot2\u001b[39m 3.3.3     \u001b[32mv\u001b[39m \u001b[34mpurrr  \u001b[39m 0.3.4\n",
      "\u001b[32mv\u001b[39m \u001b[34mtibble \u001b[39m 3.1.0     \u001b[32mv\u001b[39m \u001b[34mdplyr  \u001b[39m 1.0.5\n",
      "\u001b[32mv\u001b[39m \u001b[34mtidyr  \u001b[39m 1.1.2     \u001b[32mv\u001b[39m \u001b[34mstringr\u001b[39m 1.4.0\n",
      "\u001b[32mv\u001b[39m \u001b[34mreadr  \u001b[39m 1.4.0     \u001b[32mv\u001b[39m \u001b[34mforcats\u001b[39m 0.5.1\n",
      "\n",
      "-- \u001b[1mConflicts\u001b[22m ---------------------------------------------------------------------------------- tidyverse_conflicts() --\n",
      "\u001b[31mx\u001b[39m \u001b[34mdplyr\u001b[39m::\u001b[32mfilter()\u001b[39m masks \u001b[34mstats\u001b[39m::filter()\n",
      "\u001b[31mx\u001b[39m \u001b[34mdplyr\u001b[39m::\u001b[32mlag()\u001b[39m    masks \u001b[34mstats\u001b[39m::lag()\n",
      "\n",
      "Linking to GEOS 3.8.0, GDAL 3.0.4, PROJ 6.3.1\n",
      "\n"
     ]
    }
   ],
   "source": [
    "library(tidyverse)\n",
    "library(sf)\n",
    "library(tidycensus)\n",
    "library(redist)"
   ]
  },
  {
   "cell_type": "code",
   "execution_count": 2,
   "metadata": {},
   "outputs": [
    {
     "name": "stdout",
     "output_type": "stream",
     "text": [
      "Reading layer `VA_precinct_2018' from data source `C:\\Users\\madie\\OneDrive\\data\\pre-redist\\VA_precinct_2018\\VA_precinct_2018.shp' using driver `ESRI Shapefile'\n",
      "Simple feature collection with 2463 features and 10 fields\n",
      "geometry type:  MULTIPOLYGON\n",
      "dimension:      XYZ\n",
      "bbox:           xmin: 9963623 ymin: 6151696 xmax: 12442960 ymax: 7217011\n",
      "z_range:        zmin: 0 zmax: 0\n",
      "projected CRS:  NAD83 / Virginia North (ftUS)\n"
     ]
    }
   ],
   "source": [
    "precinct = st_read(\"C:/Users/madie/OneDrive/data/pre-redist/VA_precinct_2018/VA_precinct_2018.shp\")"
   ]
  },
  {
   "cell_type": "code",
   "execution_count": 65,
   "metadata": {},
   "outputs": [],
   "source": [
    "# optimal color palette \n",
    "colors <- c(\"#DA618D\", \"#85D7D4\", \"#044b62\", \"#D5D160\", \"#e7854b\", \"#6cc32f\", \"#A87ADA\", \"#DAB8D3\", \"#C843DB\", \"#329349\", \"#78A5D5\")"
   ]
  },
  {
   "cell_type": "code",
   "execution_count": 72,
   "metadata": {},
   "outputs": [],
   "source": [
    "cds <- as.numeric(precinct$CON_DIST)"
   ]
  },
  {
   "cell_type": "code",
   "execution_count": 66,
   "metadata": {},
   "outputs": [
    {
     "data": {
      "image/png": "[encoded data removed]",
      "text/plain": [
       "plot without title"
      ]
     },
     "metadata": {
      "image/png": {
       "height": 420,
       "width": 420
      }
     },
     "output_type": "display_data"
    }
   ],
   "source": [
    "precinct %>% \n",
    "  ggplot(aes(fill = CON_DIST)) + \n",
    "  geom_sf(size = 0, show.legend = TRUE, color = NA) + \n",
    "  #scale_fill_viridis_c(option = \"magma\") + \n",
    "  scale_fill_manual(values = option_2) +\n",
    "  coord_sf(datum = NA) +\n",
    "  theme_void() + \n",
    "  labs(title = \"Virginia Congressional Districts, 2011-2020\")"
   ]
  },
  {
   "cell_type": "code",
   "execution_count": 75,
   "metadata": {},
   "outputs": [
    {
     "name": "stderr",
     "output_type": "stream",
     "text": [
      "Warning message in if (measure == \"all\") {:\n",
      "\"the condition has length > 1 and only the first element will be used\"\n"
     ]
    }
   ],
   "source": [
    "library(pscl)\n",
    "# compute the percent of votes won by democrats in each district under DVS\n",
    "measures <- redist.metrics(cds, measure = c(\"DSeats\", \"DVS\"), precinct$G18HORREP, dvote = precinct$G18HORDEM) "
   ]
  },
  {
   "cell_type": "code",
   "execution_count": 76,
   "metadata": {},
   "outputs": [
    {
     "name": "stderr",
     "output_type": "stream",
     "text": [
      "Warning message in par(oldpar):\n",
      "\"graphical parameter \"cin\" cannot be set\"\n",
      "Warning message in par(oldpar):\n",
      "\"graphical parameter \"cra\" cannot be set\"\n",
      "Warning message in par(oldpar):\n",
      "\"graphical parameter \"csi\" cannot be set\"\n",
      "Warning message in par(oldpar):\n",
      "\"graphical parameter \"cxy\" cannot be set\"\n",
      "Warning message in par(oldpar):\n",
      "\"graphical parameter \"din\" cannot be set\"\n",
      "Warning message in par(oldpar):\n",
      "\"graphical parameter \"page\" cannot be set\"\n"
     ]
    },
    {
     "data": {
      "image/png": "[encoded data removed]",
      "text/plain": [
       "Plot with title \"Simulated Seats-Votes Curve Using Uniform Swing\n",
       "Democratic Vote Shares, VA 2018 Congressional Election\""
      ]
     },
     "metadata": {
      "image/png": {
       "height": 420,
       "width": 420
      }
     },
     "output_type": "display_data"
    }
   ],
   "source": [
    "plot_sv <-\n",
    "    measures %>%\n",
    "        # extract DVS into vector\n",
    "        pull(DVS) %>%\n",
    "        # calculate seats-votes curve using uniform partisan swing\n",
    "        seatsVotes(desc=\"Democratic Vote Shares, VA 2018 Congressional Election\") %>%\n",
    "        # plot the seats-votes curve\n",
    "        plot(type=\"seatsVotes\")"
   ]
  },
  {
   "cell_type": "code",
   "execution_count": 77,
   "metadata": {},
   "outputs": [],
   "source": [
    "dvs <- measures %>% pull(DVS)"
   ]
  },
  {
   "cell_type": "code",
   "execution_count": 79,
   "metadata": {},
   "outputs": [
    {
     "data": {
      "text/html": [
       "<style>\n",
       ".list-inline {list-style: none; margin:0; padding: 0}\n",
       ".list-inline>li {display: inline-block}\n",
       ".list-inline>li:not(:last-child)::after {content: \"\\00b7\"; padding: 0 .5ex}\n",
       "</style>\n",
       "<ol class=list-inline><li>0.447566276973537</li><li>0.511194781506726</li><li>1</li><li>0.63532510800818</li><li>0.467299656226742</li><li>0.402479632857804</li><li>0.509821237267426</li><li>0.762683775876754</li><li>0.347831548916788</li><li>0.561976268869299</li><li>0.725284070228381</li></ol>\n"
      ],
      "text/latex": [
       "\\begin{enumerate*}\n",
       "\\item 0.447566276973537\n",
       "\\item 0.511194781506726\n",
       "\\item 1\n",
       "\\item 0.63532510800818\n",
       "\\item 0.467299656226742\n",
       "\\item 0.402479632857804\n",
       "\\item 0.509821237267426\n",
       "\\item 0.762683775876754\n",
       "\\item 0.347831548916788\n",
       "\\item 0.561976268869299\n",
       "\\item 0.725284070228381\n",
       "\\end{enumerate*}\n"
      ],
      "text/markdown": [
       "1. 0.447566276973537\n",
       "2. 0.511194781506726\n",
       "3. 1\n",
       "4. 0.63532510800818\n",
       "5. 0.467299656226742\n",
       "6. 0.402479632857804\n",
       "7. 0.509821237267426\n",
       "8. 0.762683775876754\n",
       "9. 0.347831548916788\n",
       "10. 0.561976268869299\n",
       "11. 0.725284070228381\n",
       "\n",
       "\n"
      ],
      "text/plain": [
       " [1] 0.4475663 0.5111948 1.0000000 0.6353251 0.4672997 0.4024796 0.5098212\n",
       " [8] 0.7626838 0.3478315 0.5619763 0.7252841"
      ]
     },
     "metadata": {},
     "output_type": "display_data"
    }
   ],
   "source": [
    "dvs"
   ]
  },
  {
   "cell_type": "code",
   "execution_count": 80,
   "metadata": {},
   "outputs": [
    {
     "name": "stderr",
     "output_type": "stream",
     "text": [
      "ERROR while rich displaying an object: Error: Aesthetics must be either length 1 or the same as the data (2463): fill\n",
      "\n",
      "Traceback:\n",
      "1. FUN(X[[i]], ...)\n",
      "2. tryCatch(withCallingHandlers({\n",
      " .     if (!mime %in% names(repr::mime2repr)) \n",
      " .         stop(\"No repr_* for mimetype \", mime, \" in repr::mime2repr\")\n",
      " .     rpr <- repr::mime2repr[[mime]](obj)\n",
      " .     if (is.null(rpr)) \n",
      " .         return(NULL)\n",
      " .     prepare_content(is.raw(rpr), rpr)\n",
      " . }, error = error_handler), error = outer_handler)\n",
      "3. tryCatchList(expr, classes, parentenv, handlers)\n",
      "4. tryCatchOne(expr, names, parentenv, handlers[[1L]])\n",
      "5. doTryCatch(return(expr), name, parentenv, handler)\n",
      "6. withCallingHandlers({\n",
      " .     if (!mime %in% names(repr::mime2repr)) \n",
      " .         stop(\"No repr_* for mimetype \", mime, \" in repr::mime2repr\")\n",
      " .     rpr <- repr::mime2repr[[mime]](obj)\n",
      " .     if (is.null(rpr)) \n",
      " .         return(NULL)\n",
      " .     prepare_content(is.raw(rpr), rpr)\n",
      " . }, error = error_handler)\n",
      "7. repr::mime2repr[[mime]](obj)\n",
      "8. repr_text.default(obj)\n",
      "9. paste(capture.output(print(obj)), collapse = \"\\n\")\n",
      "10. capture.output(print(obj))\n",
      "11. evalVis(expr)\n",
      "12. withVisible(eval(expr, pf))\n",
      "13. eval(expr, pf)\n",
      "14. eval(expr, pf)\n",
      "15. print(obj)\n",
      "16. print.ggplot(obj)\n",
      "17. ggplot_build(x)\n",
      "18. ggplot_build.ggplot(x)\n",
      "19. by_layer(function(l, d) l$compute_aesthetics(d, plot))\n",
      "20. f(l = layers[[i]], d = data[[i]])\n",
      "21. l$compute_aesthetics(d, plot)\n",
      "22. f(..., self = self)\n",
      "23. check_aesthetics(evaled, n)\n",
      "24. abort(glue(\"Aesthetics must be either length 1 or the same as the data ({n}): \", \n",
      "  .     glue_collapse(names(which(!good)), \", \", last = \" and \")))\n",
      "25. signal_abort(cnd)\n"
     ]
    },
    {
     "data": {
      "image/png": "[encoded data removed]",
      "text/plain": [
       "plot without title"
      ]
     },
     "metadata": {
      "image/png": {
       "height": 420,
       "width": 420
      }
     },
     "output_type": "display_data"
    }
   ],
   "source": [
    "precinct %>% \n",
    "  ggplot(aes(fill = dvs)) + \n",
    "  geom_sf(size = 0, show.legend = TRUE, color = NA) + \n",
    "  #scale_fill_viridis_c(option = \"magma\") + \n",
    "  scale_fill_gradient2(low = \"#de0100\", high = \"#1405bd\", midpoint = .5) +\n",
    "  coord_sf(datum = NA) +\n",
    "  theme_void() + \n",
    "  labs(title = \"Congressional Election Results 2018\")"
   ]
  },
  {
   "cell_type": "code",
   "execution_count": null,
   "metadata": {},
   "outputs": [],
   "source": []
  }
 ],
 "metadata": {
  "kernelspec": {
   "display_name": "R",
   "language": "R",
   "name": "ir"
  },
  "language_info": {
   "codemirror_mode": "r",
   "file_extension": ".r",
   "mimetype": "text/x-r-source",
   "name": "R",
   "pygments_lexer": "r",
   "version": "4.0.4"
  }
 },
 "nbformat": 4,
 "nbformat_minor": 4
}
