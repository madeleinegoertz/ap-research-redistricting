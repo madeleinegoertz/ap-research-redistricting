{
 "cells": [
  {
   "cell_type": "code",
   "execution_count": 4,
   "metadata": {},
   "outputs": [
    {
     "name": "stderr",
     "output_type": "stream",
     "text": [
      "Linking to GEOS 3.8.0, GDAL 3.0.4, PROJ 6.3.1\n",
      "\n"
     ]
    }
   ],
   "source": [
    "library(dplyr)\n",
    "library(ggplot2)\n",
    "library(redist)\n",
    "library(sf)"
   ]
  },
  {
   "cell_type": "code",
   "execution_count": 6,
   "metadata": {},
   "outputs": [
    {
     "name": "stdout",
     "output_type": "stream",
     "text": [
      "Reading layer `VA_precinct_2015' from data source `C:\\Users\\madie\\OneDrive\\data\\pre-redist\\VA_precinct_2015\\VA_precinct_2015.shp' using driver `ESRI Shapefile'\n",
      "Simple feature collection with 2577 features and 14 fields\n",
      "geometry type:  MULTIPOLYGON\n",
      "dimension:      XYZ\n",
      "bbox:           xmin: 9963623 ymin: 6151696 xmax: 12442960 ymax: 7217011\n",
      "z_range:        zmin: 0 zmax: 0\n",
      "projected CRS:  NAD83 / Virginia North (ftUS)\n",
      "Simple feature collection with 2577 features and 14 fields\n",
      "geometry type:  MULTIPOLYGON\n",
      "dimension:      XYZ\n",
      "bbox:           xmin: 9963623 ymin: 6151696 xmax: 12442960 ymax: 7217011\n",
      "z_range:        zmin: 0 zmax: 0\n",
      "projected CRS:  NAD83 / Virginia North (ftUS)\n",
      "First 10 features:\n",
      "   COUNTYFP         LOCALITY  VTDST        PRECINCT HOD_DIST demvote repvote\n",
      "1       003 Albemarle County 000202 University Hall      057     221       0\n",
      "2       001  Accomack County 000101    Chincoteague      100     178     703\n",
      "3       001  Accomack County 000201        Atlantic      100      67     339\n",
      "4       001  Accomack County 000202  Greenbackville      100      97     306\n",
      "5       001  Accomack County 000301        Oak Hall      100     221     269\n",
      "6       001  Accomack County 000401          Bloxom      100      48     215\n",
      "7       001  Accomack County 000402        Parksley      100      80     357\n",
      "8       001  Accomack County 000403           Saxis      100      16      98\n",
      "9       001  Accomack County 000501      Mappsville      100     129     201\n",
      "10      001  Accomack County 000502             Rue      100     181     106\n",
      "    pop TotPop  BlackPop    HispPop       VAP  BlackVAP     HispVAP\n",
      "1  2214   2214 238.95305  99.690476 1905.0324 182.98927 58.12330429\n",
      "2  1122   1122  22.00000  14.998736  944.6565  10.00000 13.00884956\n",
      "3   353    353 122.75915  23.632405  275.7798 109.51752  3.69688328\n",
      "4   745    745 162.64085   0.000000  527.1462  74.94970  0.00000000\n",
      "5   819    819 273.26230  56.424178  596.6028 205.17613  8.74507876\n",
      "6   410    410  47.23704  54.541900  305.6595  38.06881 17.81722287\n",
      "7   733    733 155.32708  47.732669  531.1081 104.50167  1.38725490\n",
      "8   211    211  37.30157   3.106516  171.4541  28.44410  0.09473684\n",
      "9   733    733 388.77308 128.345136  458.4313 275.21017 10.13809911\n",
      "10  363    363 123.45675 101.713583  227.8626 102.50377  9.13306982\n",
      "                         geometry\n",
      "1  MULTIPOLYGON Z (((11474704 ...\n",
      "2  MULTIPOLYGON Z (((12370064 ...\n",
      "3  MULTIPOLYGON Z (((12319940 ...\n",
      "4  MULTIPOLYGON Z (((12348276 ...\n",
      "5  MULTIPOLYGON Z (((12304919 ...\n",
      "6  MULTIPOLYGON Z (((12286551 ...\n",
      "7  MULTIPOLYGON Z (((12270326 ...\n",
      "8  MULTIPOLYGON Z (((12261443 ...\n",
      "9  MULTIPOLYGON Z (((12312709 ...\n",
      "10 MULTIPOLYGON Z (((12300813 ...\n"
     ]
    }
   ],
   "source": [
    "va_2015_file <- \"C:/Users/madie/OneDrive/data/pre-redist/VA_precinct_2015/VA_precinct_2015.shp\"\n",
    "df <- st_read(va_2015_file)\n",
    "print(df)"
   ]
  },
  {
   "cell_type": "code",
   "execution_count": 9,
   "metadata": {},
   "outputs": [
    {
     "ename": "ERROR",
     "evalue": "Error in redist_map(): could not find function \"redist_map\"\n",
     "output_type": "error",
     "traceback": [
      "Error in redist_map(): could not find function \"redist_map\"\nTraceback:\n"
     ]
    }
   ],
   "source": [
    "va_map <- redist_map()"
   ]
  },
  {
   "cell_type": "code",
   "execution_count": null,
   "metadata": {},
   "outputs": [],
   "source": []
  },
  {
   "cell_type": "code",
   "execution_count": null,
   "metadata": {},
   "outputs": [],
   "source": []
  },
  {
   "cell_type": "code",
   "execution_count": null,
   "metadata": {},
   "outputs": [],
   "source": []
  }
 ],
 "metadata": {
  "kernelspec": {
   "display_name": "R",
   "language": "R",
   "name": "ir"
  },
  "language_info": {
   "codemirror_mode": "r",
   "file_extension": ".r",
   "mimetype": "text/x-r-source",
   "name": "R",
   "pygments_lexer": "r",
   "version": "4.0.4"
  }
 },
 "nbformat": 4,
 "nbformat_minor": 4
}
