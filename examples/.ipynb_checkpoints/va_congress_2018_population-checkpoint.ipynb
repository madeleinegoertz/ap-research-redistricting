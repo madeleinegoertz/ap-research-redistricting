{
 "cells": [
  {
   "cell_type": "markdown",
   "metadata": {},
   "source": [
    "Need to aggregate the 2018 population data from the ACS at the block-group level to the 2018 precinct-level election results shapefile. I downloaded both from IPUMS, so this should be a simple join. "
   ]
  },
  {
   "cell_type": "code",
   "execution_count": 16,
   "metadata": {},
   "outputs": [],
   "source": [
    "import geopandas\n",
    "import pandas as pd\n",
    "\n",
    "# read in blocks shapefile\n",
    "bg = geopandas.read_file(\"zip://C:/Users/madie/OneDrive/data/ipums/VA_blck_grp_2018.zip\")\n",
    "\n",
    "# keep only the useful cols\n",
    "bg = bg[[\"GISJOIN\", \"STATEFP\", \"COUNTYFP\", \"BLKGRPCE\", \"GEOID\", \"geometry\"]].copy()\n",
    "\n",
    "# read in population data csv\n",
    "data = pd.read_csv(\"C:/Users/madie/OneDrive/data/ipums/va_bg_2018_data.zip\")\n",
    "\n",
    "# keep only the relevant columns for total population\n",
    "data = data[[\"GISJOIN\", \"AJV9E001\"]].copy()\n",
    "\n",
    "# rename these cols to something more intelligible\n",
    "data.columns = [\"GISJOIN\", \"pop\"]\n",
    "\n",
    "# merge the population data into the blocks shapefile\n",
    "bg = bg.merge(data, on='GISJOIN')"
   ]
  },
  {
   "cell_type": "code",
   "execution_count": 31,
   "metadata": {},
   "outputs": [
    {
     "data": {
      "text/html": [
       "<div>\n",
       "<style scoped>\n",
       "    .dataframe tbody tr th:only-of-type {\n",
       "        vertical-align: middle;\n",
       "    }\n",
       "\n",
       "    .dataframe tbody tr th {\n",
       "        vertical-align: top;\n",
       "    }\n",
       "\n",
       "    .dataframe thead th {\n",
       "        text-align: right;\n",
       "    }\n",
       "</style>\n",
       "<table border=\"1\" class=\"dataframe\">\n",
       "  <thead>\n",
       "    <tr style=\"text-align: right;\">\n",
       "      <th></th>\n",
       "      <th>GISJOIN</th>\n",
       "      <th>STATEFP</th>\n",
       "      <th>COUNTYFP</th>\n",
       "      <th>BLKGRPCE</th>\n",
       "      <th>GEOID</th>\n",
       "      <th>geometry</th>\n",
       "      <th>pop</th>\n",
       "    </tr>\n",
       "  </thead>\n",
       "  <tbody>\n",
       "    <tr>\n",
       "      <th>0</th>\n",
       "      <td>G51000100901001</td>\n",
       "      <td>51</td>\n",
       "      <td>001</td>\n",
       "      <td>1</td>\n",
       "      <td>510010901001</td>\n",
       "      <td>MULTIPOLYGON (((1781384.119 243080.884, 178137...</td>\n",
       "      <td>60.0</td>\n",
       "    </tr>\n",
       "    <tr>\n",
       "      <th>1</th>\n",
       "      <td>G51000100901002</td>\n",
       "      <td>51</td>\n",
       "      <td>001</td>\n",
       "      <td>2</td>\n",
       "      <td>510010901002</td>\n",
       "      <td>POLYGON ((1782731.187 242733.316, 1782702.147 ...</td>\n",
       "      <td>60.0</td>\n",
       "    </tr>\n",
       "    <tr>\n",
       "      <th>2</th>\n",
       "      <td>G51000100901003</td>\n",
       "      <td>51</td>\n",
       "      <td>001</td>\n",
       "      <td>3</td>\n",
       "      <td>510010901003</td>\n",
       "      <td>MULTIPOLYGON (((1781920.301 240213.966, 178191...</td>\n",
       "      <td>60.0</td>\n",
       "    </tr>\n",
       "    <tr>\n",
       "      <th>3</th>\n",
       "      <td>G51000100901004</td>\n",
       "      <td>51</td>\n",
       "      <td>001</td>\n",
       "      <td>4</td>\n",
       "      <td>510010901004</td>\n",
       "      <td>MULTIPOLYGON (((1780346.252 237655.516, 178035...</td>\n",
       "      <td>40.0</td>\n",
       "    </tr>\n",
       "    <tr>\n",
       "      <th>4</th>\n",
       "      <td>G51000100902001</td>\n",
       "      <td>51</td>\n",
       "      <td>001</td>\n",
       "      <td>1</td>\n",
       "      <td>510010902001</td>\n",
       "      <td>POLYGON ((1767188.764 240954.662, 1767173.531 ...</td>\n",
       "      <td>30.0</td>\n",
       "    </tr>\n",
       "  </tbody>\n",
       "</table>\n",
       "</div>"
      ],
      "text/plain": [
       "           GISJOIN STATEFP COUNTYFP BLKGRPCE         GEOID  \\\n",
       "0  G51000100901001      51      001        1  510010901001   \n",
       "1  G51000100901002      51      001        2  510010901002   \n",
       "2  G51000100901003      51      001        3  510010901003   \n",
       "3  G51000100901004      51      001        4  510010901004   \n",
       "4  G51000100902001      51      001        1  510010902001   \n",
       "\n",
       "                                            geometry   pop  \n",
       "0  MULTIPOLYGON (((1781384.119 243080.884, 178137...  60.0  \n",
       "1  POLYGON ((1782731.187 242733.316, 1782702.147 ...  60.0  \n",
       "2  MULTIPOLYGON (((1781920.301 240213.966, 178191...  60.0  \n",
       "3  MULTIPOLYGON (((1780346.252 237655.516, 178035...  40.0  \n",
       "4  POLYGON ((1767188.764 240954.662, 1767173.531 ...  30.0  "
      ]
     },
     "execution_count": 31,
     "metadata": {},
     "output_type": "execute_result"
    }
   ],
   "source": [
    "bg.head()"
   ]
  },
  {
   "cell_type": "code",
   "execution_count": 34,
   "metadata": {},
   "outputs": [],
   "source": [
    "# write bg to file\n",
    "bg.to_file(\"C:/Users/madie/OneDrive/data/ipums/va_bg_2018_pop/va_bg_2018_pop.shp\")"
   ]
  },
  {
   "cell_type": "code",
   "execution_count": 37,
   "metadata": {},
   "outputs": [],
   "source": [
    "precincts = geopandas.read_file(\"C:/Users/madie/OneDrive/data/vest/va_2018_ushouse/va_2018_ushouse.shp\")"
   ]
  },
  {
   "cell_type": "code",
   "execution_count": 38,
   "metadata": {},
   "outputs": [
    {
     "data": {
      "text/html": [
       "<div>\n",
       "<style scoped>\n",
       "    .dataframe tbody tr th:only-of-type {\n",
       "        vertical-align: middle;\n",
       "    }\n",
       "\n",
       "    .dataframe tbody tr th {\n",
       "        vertical-align: top;\n",
       "    }\n",
       "\n",
       "    .dataframe thead th {\n",
       "        text-align: right;\n",
       "    }\n",
       "</style>\n",
       "<table border=\"1\" class=\"dataframe\">\n",
       "  <thead>\n",
       "    <tr style=\"text-align: right;\">\n",
       "      <th></th>\n",
       "      <th>COUNTYFP</th>\n",
       "      <th>LOCALITY</th>\n",
       "      <th>VTDST</th>\n",
       "      <th>PRECINCT</th>\n",
       "      <th>CON_DIST</th>\n",
       "      <th>G18HORDEM</th>\n",
       "      <th>G18HORREP</th>\n",
       "      <th>G18HORLIB</th>\n",
       "      <th>G18HORWRI</th>\n",
       "      <th>geometry</th>\n",
       "    </tr>\n",
       "  </thead>\n",
       "  <tbody>\n",
       "    <tr>\n",
       "      <th>0</th>\n",
       "      <td>001</td>\n",
       "      <td>Accomack County</td>\n",
       "      <td>000101</td>\n",
       "      <td>Chincoteague</td>\n",
       "      <td>2</td>\n",
       "      <td>533</td>\n",
       "      <td>1039</td>\n",
       "      <td>0</td>\n",
       "      <td>1</td>\n",
       "      <td>POLYGON Z ((-75.42507 37.89957 0.00000, -75.42...</td>\n",
       "    </tr>\n",
       "    <tr>\n",
       "      <th>1</th>\n",
       "      <td>001</td>\n",
       "      <td>Accomack County</td>\n",
       "      <td>000201</td>\n",
       "      <td>Atlantic</td>\n",
       "      <td>2</td>\n",
       "      <td>171</td>\n",
       "      <td>482</td>\n",
       "      <td>0</td>\n",
       "      <td>2</td>\n",
       "      <td>POLYGON Z ((-75.59978 37.87664 0.00000, -75.59...</td>\n",
       "    </tr>\n",
       "    <tr>\n",
       "      <th>2</th>\n",
       "      <td>001</td>\n",
       "      <td>Accomack County</td>\n",
       "      <td>000202</td>\n",
       "      <td>Greenbackville</td>\n",
       "      <td>2</td>\n",
       "      <td>307</td>\n",
       "      <td>595</td>\n",
       "      <td>0</td>\n",
       "      <td>1</td>\n",
       "      <td>POLYGON Z ((-75.49919 37.93416 0.00000, -75.49...</td>\n",
       "    </tr>\n",
       "    <tr>\n",
       "      <th>3</th>\n",
       "      <td>001</td>\n",
       "      <td>Accomack County</td>\n",
       "      <td>000301</td>\n",
       "      <td>New Church</td>\n",
       "      <td>2</td>\n",
       "      <td>583</td>\n",
       "      <td>490</td>\n",
       "      <td>0</td>\n",
       "      <td>0</td>\n",
       "      <td>POLYGON Z ((-75.64987 37.92702 0.00000, -75.64...</td>\n",
       "    </tr>\n",
       "    <tr>\n",
       "      <th>4</th>\n",
       "      <td>001</td>\n",
       "      <td>Accomack County</td>\n",
       "      <td>000401</td>\n",
       "      <td>Bloxom</td>\n",
       "      <td>2</td>\n",
       "      <td>118</td>\n",
       "      <td>286</td>\n",
       "      <td>0</td>\n",
       "      <td>0</td>\n",
       "      <td>POLYGON Z ((-75.71556 37.87513 0.00000, -75.71...</td>\n",
       "    </tr>\n",
       "  </tbody>\n",
       "</table>\n",
       "</div>"
      ],
      "text/plain": [
       "  COUNTYFP         LOCALITY   VTDST        PRECINCT CON_DIST  G18HORDEM  \\\n",
       "0      001  Accomack County  000101    Chincoteague        2        533   \n",
       "1      001  Accomack County  000201        Atlantic        2        171   \n",
       "2      001  Accomack County  000202  Greenbackville        2        307   \n",
       "3      001  Accomack County  000301      New Church        2        583   \n",
       "4      001  Accomack County  000401          Bloxom        2        118   \n",
       "\n",
       "   G18HORREP  G18HORLIB  G18HORWRI  \\\n",
       "0       1039          0          1   \n",
       "1        482          0          2   \n",
       "2        595          0          1   \n",
       "3        490          0          0   \n",
       "4        286          0          0   \n",
       "\n",
       "                                            geometry  \n",
       "0  POLYGON Z ((-75.42507 37.89957 0.00000, -75.42...  \n",
       "1  POLYGON Z ((-75.59978 37.87664 0.00000, -75.59...  \n",
       "2  POLYGON Z ((-75.49919 37.93416 0.00000, -75.49...  \n",
       "3  POLYGON Z ((-75.64987 37.92702 0.00000, -75.64...  \n",
       "4  POLYGON Z ((-75.71556 37.87513 0.00000, -75.71...  "
      ]
     },
     "execution_count": 38,
     "metadata": {},
     "output_type": "execute_result"
    }
   ],
   "source": [
    "precincts.head()"
   ]
  },
  {
   "cell_type": "code",
   "execution_count": 41,
   "metadata": {},
   "outputs": [
    {
     "data": {
      "text/plain": [
       "<Geographic 2D CRS: EPSG:4269>\n",
       "Name: NAD83\n",
       "Axis Info [ellipsoidal]:\n",
       "- Lat[north]: Geodetic latitude (degree)\n",
       "- Lon[east]: Geodetic longitude (degree)\n",
       "Area of Use:\n",
       "- name: North America - onshore and offshore: Canada - Alberta; British Columbia; Manitoba; New Brunswick; Newfoundland and Labrador; Northwest Territories; Nova Scotia; Nunavut; Ontario; Prince Edward Island; Quebec; Saskatchewan; Yukon. Puerto Rico. United States (USA) - Alabama; Alaska; Arizona; Arkansas; California; Colorado; Connecticut; Delaware; Florida; Georgia; Hawaii; Idaho; Illinois; Indiana; Iowa; Kansas; Kentucky; Louisiana; Maine; Maryland; Massachusetts; Michigan; Minnesota; Mississippi; Missouri; Montana; Nebraska; Nevada; New Hampshire; New Jersey; New Mexico; New York; North Carolina; North Dakota; Ohio; Oklahoma; Oregon; Pennsylvania; Rhode Island; South Carolina; South Dakota; Tennessee; Texas; Utah; Vermont; Virginia; Washington; West Virginia; Wisconsin; Wyoming. US Virgin Islands.  British Virgin Islands.\n",
       "- bounds: (167.65, 14.92, -47.74, 86.46)\n",
       "Datum: North American Datum 1983\n",
       "- Ellipsoid: GRS 1980\n",
       "- Prime Meridian: Greenwich"
      ]
     },
     "execution_count": 41,
     "metadata": {},
     "output_type": "execute_result"
    }
   ],
   "source": [
    "precincts.crs"
   ]
  },
  {
   "cell_type": "markdown",
   "metadata": {},
   "source": [
    "Now, using `maup`, I need to aggregate the block group population data into the precinct file."
   ]
  },
  {
   "cell_type": "code",
   "execution_count": 39,
   "metadata": {},
   "outputs": [
    {
     "ename": "TypeError",
     "evalue": "the source and target geometries must have the same CRS. PROJCS[\"USA_Contiguous_Albers_Equal_Area_Conic\",GEOGCS[\"NAD83\",DATUM[\"North_American_Datum_1983\",SPHEROID[\"GRS 1980\",6378137,298.257222101,AUTHORITY[\"EPSG\",\"7019\"]],AUTHORITY[\"EPSG\",\"6269\"]],PRIMEM[\"Greenwich\",0],UNIT[\"Degree\",0.0174532925199433],AUTHORITY[\"EPSG\",\"4269\"]],PROJECTION[\"Albers_Conic_Equal_Area\"],PARAMETER[\"latitude_of_center\",37.5],PARAMETER[\"longitude_of_center\",-96],PARAMETER[\"standard_parallel_1\",29.5],PARAMETER[\"standard_parallel_2\",45.5],PARAMETER[\"false_easting\",0],PARAMETER[\"false_northing\",0],UNIT[\"metre\",1,AUTHORITY[\"EPSG\",\"9001\"]],AXIS[\"Easting\",EAST],AXIS[\"Northing\",NORTH],AUTHORITY[\"ESRI\",\"102003\"]] epsg:4269",
     "output_type": "error",
     "traceback": [
      "\u001b[1;31m---------------------------------------------------------------------------\u001b[0m",
      "\u001b[1;31mTypeError\u001b[0m                                 Traceback (most recent call last)",
      "\u001b[1;32m<ipython-input-39-d0ef67d1f5f9>\u001b[0m in \u001b[0;36m<module>\u001b[1;34m\u001b[0m\n\u001b[0;32m      2\u001b[0m \u001b[1;33m\u001b[0m\u001b[0m\n\u001b[0;32m      3\u001b[0m \u001b[0mvariables\u001b[0m \u001b[1;33m=\u001b[0m \u001b[1;33m[\u001b[0m\u001b[1;34m\"pop\"\u001b[0m\u001b[1;33m]\u001b[0m\u001b[1;33m\u001b[0m\u001b[1;33m\u001b[0m\u001b[0m\n\u001b[1;32m----> 4\u001b[1;33m \u001b[0massignment\u001b[0m \u001b[1;33m=\u001b[0m \u001b[0mmaup\u001b[0m\u001b[1;33m.\u001b[0m\u001b[0massign\u001b[0m\u001b[1;33m(\u001b[0m\u001b[0mbg\u001b[0m\u001b[1;33m,\u001b[0m \u001b[0mprecincts\u001b[0m\u001b[1;33m)\u001b[0m\u001b[1;33m\u001b[0m\u001b[1;33m\u001b[0m\u001b[0m\n\u001b[0m",
      "\u001b[1;32m~\\anaconda3\\lib\\site-packages\\maup\\crs.py\u001b[0m in \u001b[0;36mwrapped\u001b[1;34m(*args, **kwargs)\u001b[0m\n\u001b[0;32m      7\u001b[0m         \u001b[0mgeoms1\u001b[0m\u001b[1;33m,\u001b[0m \u001b[0mgeoms2\u001b[0m\u001b[1;33m,\u001b[0m \u001b[1;33m*\u001b[0m\u001b[0mrest\u001b[0m \u001b[1;33m=\u001b[0m \u001b[0margs\u001b[0m\u001b[1;33m\u001b[0m\u001b[1;33m\u001b[0m\u001b[0m\n\u001b[0;32m      8\u001b[0m         \u001b[1;32mif\u001b[0m \u001b[1;32mnot\u001b[0m \u001b[0mgeoms1\u001b[0m\u001b[1;33m.\u001b[0m\u001b[0mcrs\u001b[0m \u001b[1;33m==\u001b[0m \u001b[0mgeoms2\u001b[0m\u001b[1;33m.\u001b[0m\u001b[0mcrs\u001b[0m\u001b[1;33m:\u001b[0m\u001b[1;33m\u001b[0m\u001b[1;33m\u001b[0m\u001b[0m\n\u001b[1;32m----> 9\u001b[1;33m             raise TypeError(\n\u001b[0m\u001b[0;32m     10\u001b[0m                 \"the source and target geometries must have the same CRS. {} {}\".format(\n\u001b[0;32m     11\u001b[0m                     \u001b[0mgeoms1\u001b[0m\u001b[1;33m.\u001b[0m\u001b[0mcrs\u001b[0m\u001b[1;33m,\u001b[0m \u001b[0mgeoms2\u001b[0m\u001b[1;33m.\u001b[0m\u001b[0mcrs\u001b[0m\u001b[1;33m\u001b[0m\u001b[1;33m\u001b[0m\u001b[0m\n",
      "\u001b[1;31mTypeError\u001b[0m: the source and target geometries must have the same CRS. PROJCS[\"USA_Contiguous_Albers_Equal_Area_Conic\",GEOGCS[\"NAD83\",DATUM[\"North_American_Datum_1983\",SPHEROID[\"GRS 1980\",6378137,298.257222101,AUTHORITY[\"EPSG\",\"7019\"]],AUTHORITY[\"EPSG\",\"6269\"]],PRIMEM[\"Greenwich\",0],UNIT[\"Degree\",0.0174532925199433],AUTHORITY[\"EPSG\",\"4269\"]],PROJECTION[\"Albers_Conic_Equal_Area\"],PARAMETER[\"latitude_of_center\",37.5],PARAMETER[\"longitude_of_center\",-96],PARAMETER[\"standard_parallel_1\",29.5],PARAMETER[\"standard_parallel_2\",45.5],PARAMETER[\"false_easting\",0],PARAMETER[\"false_northing\",0],UNIT[\"metre\",1,AUTHORITY[\"EPSG\",\"9001\"]],AXIS[\"Easting\",EAST],AXIS[\"Northing\",NORTH],AUTHORITY[\"ESRI\",\"102003\"]] epsg:4269"
     ]
    }
   ],
   "source": [
    "import maup\n",
    "\n",
    "variables = [\"pop\"]\n",
    "assignment = maup.assign(bg, precincts)"
   ]
  },
  {
   "cell_type": "code",
   "execution_count": null,
   "metadata": {},
   "outputs": [],
   "source": []
  }
 ],
 "metadata": {
  "kernelspec": {
   "display_name": "Python 3",
   "language": "python",
   "name": "python3"
  },
  "language_info": {
   "codemirror_mode": {
    "name": "ipython",
    "version": 3
   },
   "file_extension": ".py",
   "mimetype": "text/x-python",
   "name": "python",
   "nbconvert_exporter": "python",
   "pygments_lexer": "ipython3",
   "version": "3.8.3"
  }
 },
 "nbformat": 4,
 "nbformat_minor": 4
}
