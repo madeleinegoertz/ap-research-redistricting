{
 "cells": [
  {
   "cell_type": "markdown",
   "metadata": {},
   "source": [
    "## Redistricting using SMC\n",
    "\n",
    "I'm going to try redistricting the Virginia House of Delegates using Sequential Monte Carlo. "
   ]
  },
  {
   "cell_type": "code",
   "execution_count": 4,
   "metadata": {},
   "outputs": [
    {
     "name": "stderr",
     "output_type": "stream",
     "text": [
      "\n",
      "Attaching package: 'igraph'\n",
      "\n",
      "\n",
      "The following objects are masked from 'package:dplyr':\n",
      "\n",
      "    as_data_frame, groups, union\n",
      "\n",
      "\n",
      "The following objects are masked from 'package:purrr':\n",
      "\n",
      "    compose, simplify\n",
      "\n",
      "\n",
      "The following object is masked from 'package:tidyr':\n",
      "\n",
      "    crossing\n",
      "\n",
      "\n",
      "The following object is masked from 'package:tibble':\n",
      "\n",
      "    as_data_frame\n",
      "\n",
      "\n",
      "The following objects are masked from 'package:stats':\n",
      "\n",
      "    decompose, spectrum\n",
      "\n",
      "\n",
      "The following object is masked from 'package:base':\n",
      "\n",
      "    union\n",
      "\n",
      "\n"
     ]
    },
    {
     "name": "stdout",
     "output_type": "stream",
     "text": [
      "Reading layer `VA_precincts' from data source `C:\\Users\\madie\\OneDrive\\data\\VA-2017\\VA_precincts\\VA_precincts.shp' using driver `ESRI Shapefile'\n",
      "Simple feature collection with 2439 features and 56 fields\n",
      "geometry type:  MULTIPOLYGON\n",
      "dimension:      XY\n",
      "bbox:           xmin: -373531.2 ymin: 60026.37 xmax: 380257.5 ymax: 385298.6\n",
      "projected CRS:  Lambert_Conformal_Conic\n"
     ]
    }
   ],
   "source": [
    "library(sf)\n",
    "library(ggplot2)\n",
    "library(tidyverse)\n",
    "library(tibble)\n",
    "library(magrittr)\n",
    "library(redist)\n",
    "library(sp)\n",
    "library(spData)\n",
    "library(spdep)\n",
    "library(igraph)\n",
    "\n",
    "# read in file\n",
    "data_dir = \"C:/Users/madie/OneDrive/data/\" # the data's on onedrive b/c the files are getting too large\n",
    "df_va <- st_read(paste(data_dir, \"VA-2017/VA_precincts/VA_precincts.shp\", sep=\"\"))"
   ]
  },
  {
   "cell_type": "code",
   "execution_count": 3,
   "metadata": {},
   "outputs": [
    {
     "data": {
      "image/png": "[encoded data removed]",
      "text/plain": [
       "plot without title"
      ]
     },
     "metadata": {
      "image/png": {
       "height": 420,
       "width": 420
      }
     },
     "output_type": "display_data"
    }
   ],
   "source": [
    "# plot the precincts!\n",
    "df_va <- ggplot(data = df_va) +\n",
    "    geom_sf() #+\n",
    "    #geom_sf_label(aes(label = geoid10))\n",
    "df_va"
   ]
  },
  {
   "cell_type": "code",
   "execution_count": 5,
   "metadata": {},
   "outputs": [],
   "source": [
    "adjlist <- redist.adjacency(df_va)"
   ]
  },
  {
   "cell_type": "code",
   "execution_count": 7,
   "metadata": {},
   "outputs": [
    {
     "name": "stdout",
     "output_type": "stream",
     "text": [
      "Sampling 10000 2439-unit maps with 100 districts and population tolerance 1%.\n",
      "Making split 1 of 99\n",
      "Using k=7 for estimated success probability of 59.82%\n"
     ]
    },
    {
     "name": "stderr",
     "output_type": "stream",
     "text": [
      "Warning message in smc_plans(nsims, adjlist, counties, popvec, ndists, popcons, :\n",
      "\"printing of extremely long output is truncated\"\n",
      "Warning message in smc_plans(nsims, adjlist, counties, popvec, ndists, popcons, :\n",
      "\"printing of extremely long output is truncated\"\n",
      "Warning message in smc_plans(nsims, adjlist, counties, popvec, ndists, popcons, :\n",
      "\"printing of extremely long output is truncated\"\n",
      "Warning message in smc_plans(nsims, adjlist, counties, popvec, ndists, popcons, :\n",
      "\"printing of extremely long output is truncated\"\n",
      "Warning message in smc_plans(nsims, adjlist, counties, popvec, ndists, popcons, :\n",
      "\"printing of extremely long output is truncated\"\n",
      "Warning message in smc_plans(nsims, adjlist, counties, popvec, ndists, popcons, :\n",
      "\"printing of extremely long output is truncated\"\n",
      "Warning message in smc_plans(nsims, adjlist, counties, popvec, ndists, popcons, :\n",
      "\"printing of extremely long output is truncated\"\n",
      "Warning message in smc_plans(nsims, adjlist, counties, popvec, ndists, popcons, :\n",
      "\"printing of extremely long output is truncated\"\n",
      "Warning message in smc_plans(nsims, adjlist, counties, popvec, ndists, popcons, :\n",
      "\"printing of extremely long output is truncated\"\n",
      "Warning message in smc_plans(nsims, adjlist, counties, popvec, ndists, popcons, :\n",
      "\"printing of extremely long output is truncated\"\n"
     ]
    },
    {
     "name": "stdout",
     "output_type": "stream",
     "text": [
      "9507 valid samples (56.9% of total)\n",
      "Making split 2 of 99\n",
      "Using k=6 for estimated success probability of 53.75%\n"
     ]
    },
    {
     "name": "stderr",
     "output_type": "stream",
     "text": [
      "Warning message in smc_plans(nsims, adjlist, counties, popvec, ndists, popcons, :\n",
      "\"printing of extremely long output is truncated\"\n",
      "Warning message in smc_plans(nsims, adjlist, counties, popvec, ndists, popcons, :\n",
      "\"printing of extremely long output is truncated\"\n",
      "Warning message in smc_plans(nsims, adjlist, counties, popvec, ndists, popcons, :\n",
      "\"printing of extremely long output is truncated\"\n",
      "Warning message in smc_plans(nsims, adjlist, counties, popvec, ndists, popcons, :\n",
      "\"printing of extremely long output is truncated\"\n",
      "Warning message in smc_plans(nsims, adjlist, counties, popvec, ndists, popcons, :\n",
      "\"printing of extremely long output is truncated\"\n",
      "Warning message in smc_plans(nsims, adjlist, counties, popvec, ndists, popcons, :\n",
      "\"printing of extremely long output is truncated\"\n",
      "Warning message in smc_plans(nsims, adjlist, counties, popvec, ndists, popcons, :\n",
      "\"printing of extremely long output is truncated\"\n",
      "Warning message in smc_plans(nsims, adjlist, counties, popvec, ndists, popcons, :\n",
      "\"printing of extremely long output is truncated\"\n",
      "Warning message in smc_plans(nsims, adjlist, counties, popvec, ndists, popcons, :\n",
      "\"printing of extremely long output is truncated\"\n",
      "Warning message in smc_plans(nsims, adjlist, counties, popvec, ndists, popcons, :\n",
      "\"printing of extremely long output is truncated\"\n"
     ]
    },
    {
     "name": "stdout",
     "output_type": "stream",
     "text": [
      "11929 valid samples (64.1% of total)\n",
      "Making split 3 of 99\n",
      "Using k=7 for estimated success probability of 46.96%\n"
     ]
    },
    {
     "name": "stderr",
     "output_type": "stream",
     "text": [
      "Warning message in smc_plans(nsims, adjlist, counties, popvec, ndists, popcons, :\n",
      "\"printing of extremely long output is truncated\"\n",
      "Warning message in smc_plans(nsims, adjlist, counties, popvec, ndists, popcons, :\n",
      "\"printing of extremely long output is truncated\"\n",
      "Warning message in smc_plans(nsims, adjlist, counties, popvec, ndists, popcons, :\n",
      "\"printing of extremely long output is truncated\"\n",
      "Warning message in smc_plans(nsims, adjlist, counties, popvec, ndists, popcons, :\n",
      "\"printing of extremely long output is truncated\"\n",
      "Warning message in smc_plans(nsims, adjlist, counties, popvec, ndists, popcons, :\n",
      "\"printing of extremely long output is truncated\"\n",
      "Warning message in smc_plans(nsims, adjlist, counties, popvec, ndists, popcons, :\n",
      "\"printing of extremely long output is truncated\"\n",
      "Warning message in smc_plans(nsims, adjlist, counties, popvec, ndists, popcons, :\n",
      "\"printing of extremely long output is truncated\"\n",
      "Warning message in smc_plans(nsims, adjlist, counties, popvec, ndists, popcons, :\n",
      "\"printing of extremely long output is truncated\"\n",
      "Warning message in smc_plans(nsims, adjlist, counties, popvec, ndists, popcons, :\n",
      "\"printing of extremely long output is truncated\"\n",
      "Warning message in smc_plans(nsims, adjlist, counties, popvec, ndists, popcons, :\n",
      "\"printing of extremely long output is truncated\"\n"
     ]
    },
    {
     "name": "stdout",
     "output_type": "stream",
     "text": [
      "11898 valid samples (55.9% of total)\n",
      "Making split 4 of 99\n",
      "Using k=6 for estimated success probability of 53.54%\n"
     ]
    },
    {
     "name": "stderr",
     "output_type": "stream",
     "text": [
      "Warning message in smc_plans(nsims, adjlist, counties, popvec, ndists, popcons, :\n",
      "\"printing of extremely long output is truncated\"\n",
      "Warning message in smc_plans(nsims, adjlist, counties, popvec, ndists, popcons, :\n",
      "\"printing of extremely long output is truncated\"\n",
      "Warning message in smc_plans(nsims, adjlist, counties, popvec, ndists, popcons, :\n",
      "\"printing of extremely long output is truncated\"\n",
      "Warning message in smc_plans(nsims, adjlist, counties, popvec, ndists, popcons, :\n",
      "\"printing of extremely long output is truncated\"\n",
      "Warning message in smc_plans(nsims, adjlist, counties, popvec, ndists, popcons, :\n",
      "\"printing of extremely long output is truncated\"\n",
      "Warning message in smc_plans(nsims, adjlist, counties, popvec, ndists, popcons, :\n",
      "\"printing of extremely long output is truncated\"\n",
      "Warning message in smc_plans(nsims, adjlist, counties, popvec, ndists, popcons, :\n",
      "\"printing of extremely long output is truncated\"\n",
      "Warning message in smc_plans(nsims, adjlist, counties, popvec, ndists, popcons, :\n",
      "\"printing of extremely long output is truncated\"\n",
      "Warning message in smc_plans(nsims, adjlist, counties, popvec, ndists, popcons, :\n",
      "\"printing of extremely long output is truncated\"\n",
      "Warning message in smc_plans(nsims, adjlist, counties, popvec, ndists, popcons, :\n",
      "\"printing of extremely long output is truncated\"\n"
     ]
    },
    {
     "name": "stdout",
     "output_type": "stream",
     "text": [
      "11760 valid samples (63.0% of total)\n",
      "Making split 5 of 99\n",
      "Using k=6 for estimated success probability of 51.04%\n"
     ]
    },
    {
     "name": "stderr",
     "output_type": "stream",
     "text": [
      "Warning message in smc_plans(nsims, adjlist, counties, popvec, ndists, popcons, :\n",
      "\"printing of extremely long output is truncated\"\n",
      "Warning message in smc_plans(nsims, adjlist, counties, popvec, ndists, popcons, :\n",
      "\"printing of extremely long output is truncated\"\n",
      "Warning message in smc_plans(nsims, adjlist, counties, popvec, ndists, popcons, :\n",
      "\"printing of extremely long output is truncated\"\n",
      "Warning message in smc_plans(nsims, adjlist, counties, popvec, ndists, popcons, :\n",
      "\"printing of extremely long output is truncated\"\n",
      "Warning message in smc_plans(nsims, adjlist, counties, popvec, ndists, popcons, :\n",
      "\"printing of extremely long output is truncated\"\n",
      "Warning message in smc_plans(nsims, adjlist, counties, popvec, ndists, popcons, :\n",
      "\"printing of extremely long output is truncated\"\n",
      "Warning message in smc_plans(nsims, adjlist, counties, popvec, ndists, popcons, :\n",
      "\"printing of extremely long output is truncated\"\n",
      "Warning message in smc_plans(nsims, adjlist, counties, popvec, ndists, popcons, :\n",
      "\"printing of extremely long output is truncated\"\n",
      "Warning message in smc_plans(nsims, adjlist, counties, popvec, ndists, popcons, :\n",
      "\"printing of extremely long output is truncated\"\n",
      "Warning message in smc_plans(nsims, adjlist, counties, popvec, ndists, popcons, :\n",
      "\"printing of extremely long output is truncated\"\n"
     ]
    },
    {
     "name": "stdout",
     "output_type": "stream",
     "text": [
      "12098 valid samples (61.7% of total)\n",
      "Making split 6 of 99\n",
      "Using k=6 for estimated success probability of 53.33%\n"
     ]
    },
    {
     "name": "stderr",
     "output_type": "stream",
     "text": [
      "Warning message in smc_plans(nsims, adjlist, counties, popvec, ndists, popcons, :\n",
      "\"printing of extremely long output is truncated\"\n",
      "Warning message in smc_plans(nsims, adjlist, counties, popvec, ndists, popcons, :\n",
      "\"printing of extremely long output is truncated\"\n",
      "Warning message in smc_plans(nsims, adjlist, counties, popvec, ndists, popcons, :\n",
      "\"printing of extremely long output is truncated\"\n",
      "Warning message in smc_plans(nsims, adjlist, counties, popvec, ndists, popcons, :\n",
      "\"printing of extremely long output is truncated\"\n",
      "Warning message in smc_plans(nsims, adjlist, counties, popvec, ndists, popcons, :\n",
      "\"printing of extremely long output is truncated\"\n",
      "Warning message in smc_plans(nsims, adjlist, counties, popvec, ndists, popcons, :\n",
      "\"printing of extremely long output is truncated\"\n",
      "Warning message in smc_plans(nsims, adjlist, counties, popvec, ndists, popcons, :\n",
      "\"printing of extremely long output is truncated\"\n",
      "Warning message in smc_plans(nsims, adjlist, counties, popvec, ndists, popcons, :\n",
      "\"printing of extremely long output is truncated\"\n",
      "Warning message in smc_plans(nsims, adjlist, counties, popvec, ndists, popcons, :\n",
      "\"printing of extremely long output is truncated\"\n",
      "Warning message in smc_plans(nsims, adjlist, counties, popvec, ndists, popcons, :\n",
      "\"printing of extremely long output is truncated\"\n"
     ]
    },
    {
     "name": "stdout",
     "output_type": "stream",
     "text": [
      "11542 valid samples (61.6% of total)\n",
      "Making split 7 of 99\n",
      "Using k=5 for estimated success probability of 52.00%\n"
     ]
    },
    {
     "name": "stderr",
     "output_type": "stream",
     "text": [
      "Warning message in smc_plans(nsims, adjlist, counties, popvec, ndists, popcons, :\n",
      "\"printing of extremely long output is truncated\"\n",
      "Warning message in smc_plans(nsims, adjlist, counties, popvec, ndists, popcons, :\n",
      "\"printing of extremely long output is truncated\"\n",
      "Warning message in smc_plans(nsims, adjlist, counties, popvec, ndists, popcons, :\n",
      "\"printing of extremely long output is truncated\"\n",
      "Warning message in smc_plans(nsims, adjlist, counties, popvec, ndists, popcons, :\n",
      "\"printing of extremely long output is truncated\"\n",
      "Warning message in smc_plans(nsims, adjlist, counties, popvec, ndists, popcons, :\n",
      "\"printing of extremely long output is truncated\"\n",
      "Warning message in smc_plans(nsims, adjlist, counties, popvec, ndists, popcons, :\n",
      "\"printing of extremely long output is truncated\"\n",
      "Warning message in smc_plans(nsims, adjlist, counties, popvec, ndists, popcons, :\n",
      "\"printing of extremely long output is truncated\"\n",
      "Warning message in smc_plans(nsims, adjlist, counties, popvec, ndists, popcons, :\n",
      "\"printing of extremely long output is truncated\"\n",
      "Warning message in smc_plans(nsims, adjlist, counties, popvec, ndists, popcons, :\n",
      "\"printing of extremely long output is truncated\"\n",
      "Warning message in smc_plans(nsims, adjlist, counties, popvec, ndists, popcons, :\n",
      "\"printing of extremely long output is truncated\"\n"
     ]
    },
    {
     "name": "stdout",
     "output_type": "stream",
     "text": [
      "13506 valid samples (70.2% of total)\n",
      "Making split 8 of 99\n",
      "Using k=6 for estimated success probability of 52.08%\n"
     ]
    },
    {
     "name": "stderr",
     "output_type": "stream",
     "text": [
      "Warning message in smc_plans(nsims, adjlist, counties, popvec, ndists, popcons, :\n",
      "\"printing of extremely long output is truncated\"\n",
      "Warning message in smc_plans(nsims, adjlist, counties, popvec, ndists, popcons, :\n",
      "\"printing of extremely long output is truncated\"\n",
      "Warning message in smc_plans(nsims, adjlist, counties, popvec, ndists, popcons, :\n",
      "\"printing of extremely long output is truncated\"\n",
      "Warning message in smc_plans(nsims, adjlist, counties, popvec, ndists, popcons, :\n",
      "\"printing of extremely long output is truncated\"\n",
      "Warning message in smc_plans(nsims, adjlist, counties, popvec, ndists, popcons, :\n",
      "\"printing of extremely long output is truncated\"\n",
      "Warning message in smc_plans(nsims, adjlist, counties, popvec, ndists, popcons, :\n",
      "\"printing of extremely long output is truncated\"\n",
      "Warning message in smc_plans(nsims, adjlist, counties, popvec, ndists, popcons, :\n",
      "\"printing of extremely long output is truncated\"\n",
      "Warning message in smc_plans(nsims, adjlist, counties, popvec, ndists, popcons, :\n",
      "\"printing of extremely long output is truncated\"\n",
      "Warning message in smc_plans(nsims, adjlist, counties, popvec, ndists, popcons, :\n",
      "\"printing of extremely long output is truncated\"\n",
      "Warning message in smc_plans(nsims, adjlist, counties, popvec, ndists, popcons, :\n",
      "\"printing of extremely long output is truncated\"\n"
     ]
    },
    {
     "name": "stdout",
     "output_type": "stream",
     "text": [
      "11661 valid samples (60.7% of total)\n",
      "Making split 9 of 99\n",
      "Using k=6 for estimated success probability of 49.38%\n"
     ]
    },
    {
     "name": "stderr",
     "output_type": "stream",
     "text": [
      "Warning message in smc_plans(nsims, adjlist, counties, popvec, ndists, popcons, :\n",
      "\"printing of extremely long output is truncated\"\n",
      "Warning message in smc_plans(nsims, adjlist, counties, popvec, ndists, popcons, :\n",
      "\"printing of extremely long output is truncated\"\n",
      "Warning message in smc_plans(nsims, adjlist, counties, popvec, ndists, popcons, :\n",
      "\"printing of extremely long output is truncated\"\n",
      "Warning message in smc_plans(nsims, adjlist, counties, popvec, ndists, popcons, :\n",
      "\"printing of extremely long output is truncated\"\n",
      "Warning message in smc_plans(nsims, adjlist, counties, popvec, ndists, popcons, :\n",
      "\"printing of extremely long output is truncated\"\n",
      "Warning message in smc_plans(nsims, adjlist, counties, popvec, ndists, popcons, :\n",
      "\"printing of extremely long output is truncated\"\n",
      "Warning message in smc_plans(nsims, adjlist, counties, popvec, ndists, popcons, :\n",
      "\"printing of extremely long output is truncated\"\n",
      "Warning message in smc_plans(nsims, adjlist, counties, popvec, ndists, popcons, :\n",
      "\"printing of extremely long output is truncated\"\n",
      "Warning message in smc_plans(nsims, adjlist, counties, popvec, ndists, popcons, :\n",
      "\"printing of extremely long output is truncated\"\n",
      "Warning message in smc_plans(nsims, adjlist, counties, popvec, ndists, popcons, :\n",
      "\"printing of extremely long output is truncated\"\n"
     ]
    },
    {
     "name": "stdout",
     "output_type": "stream",
     "text": [
      "12104 valid samples (59.8% of total)\n",
      "Making split 10 of 99\n",
      "Using k=6 for estimated success probability of 53.12%\n"
     ]
    },
    {
     "name": "stderr",
     "output_type": "stream",
     "text": [
      "Warning message in smc_plans(nsims, adjlist, counties, popvec, ndists, popcons, :\n",
      "\"printing of extremely long output is truncated\"\n",
      "Warning message in smc_plans(nsims, adjlist, counties, popvec, ndists, popcons, :\n",
      "\"printing of extremely long output is truncated\"\n",
      "Warning message in smc_plans(nsims, adjlist, counties, popvec, ndists, popcons, :\n",
      "\"printing of extremely long output is truncated\"\n",
      "Warning message in smc_plans(nsims, adjlist, counties, popvec, ndists, popcons, :\n",
      "\"printing of extremely long output is truncated\"\n",
      "Warning message in smc_plans(nsims, adjlist, counties, popvec, ndists, popcons, :\n",
      "\"printing of extremely long output is truncated\"\n",
      "Warning message in smc_plans(nsims, adjlist, counties, popvec, ndists, popcons, :\n",
      "\"printing of extremely long output is truncated\"\n",
      "Warning message in smc_plans(nsims, adjlist, counties, popvec, ndists, popcons, :\n",
      "\"printing of extremely long output is truncated\"\n",
      "Warning message in smc_plans(nsims, adjlist, counties, popvec, ndists, popcons, :\n",
      "\"printing of extremely long output is truncated\"\n",
      "Warning message in smc_plans(nsims, adjlist, counties, popvec, ndists, popcons, :\n",
      "\"printing of extremely long output is truncated\"\n",
      "Warning message in smc_plans(nsims, adjlist, counties, popvec, ndists, popcons, :\n",
      "\"printing of extremely long output is truncated\"\n"
     ]
    },
    {
     "name": "stdout",
     "output_type": "stream",
     "text": [
      "11147 valid samples (59.2% of total)\n",
      "Making split 11 of 99\n",
      "Using k=6 for estimated success probability of 53.12%\n"
     ]
    },
    {
     "name": "stderr",
     "output_type": "stream",
     "text": [
      "Warning message in smc_plans(nsims, adjlist, counties, popvec, ndists, popcons, :\n",
      "\"printing of extremely long output is truncated\"\n",
      "Warning message in smc_plans(nsims, adjlist, counties, popvec, ndists, popcons, :\n",
      "\"printing of extremely long output is truncated\"\n",
      "Warning message in smc_plans(nsims, adjlist, counties, popvec, ndists, popcons, :\n",
      "\"printing of extremely long output is truncated\"\n",
      "Warning message in smc_plans(nsims, adjlist, counties, popvec, ndists, popcons, :\n",
      "\"printing of extremely long output is truncated\"\n",
      "Warning message in smc_plans(nsims, adjlist, counties, popvec, ndists, popcons, :\n",
      "\"printing of extremely long output is truncated\"\n",
      "Warning message in smc_plans(nsims, adjlist, counties, popvec, ndists, popcons, :\n",
      "\"printing of extremely long output is truncated\"\n",
      "Warning message in smc_plans(nsims, adjlist, counties, popvec, ndists, popcons, :\n",
      "\"printing of extremely long output is truncated\"\n",
      "Warning message in smc_plans(nsims, adjlist, counties, popvec, ndists, popcons, :\n",
      "\"printing of extremely long output is truncated\"\n",
      "Warning message in smc_plans(nsims, adjlist, counties, popvec, ndists, popcons, :\n",
      "\"printing of extremely long output is truncated\"\n",
      "Warning message in smc_plans(nsims, adjlist, counties, popvec, ndists, popcons, :\n",
      "\"printing of extremely long output is truncated\"\n"
     ]
    },
    {
     "name": "stdout",
     "output_type": "stream",
     "text": [
      "11007 valid samples (58.5% of total)\n",
      "Making split 12 of 99\n",
      "Using k=5 for estimated success probability of 53.00%\n"
     ]
    },
    {
     "name": "stderr",
     "output_type": "stream",
     "text": [
      "Warning message in smc_plans(nsims, adjlist, counties, popvec, ndists, popcons, :\n",
      "\"printing of extremely long output is truncated\"\n",
      "Warning message in smc_plans(nsims, adjlist, counties, popvec, ndists, popcons, :\n",
      "\"printing of extremely long output is truncated\"\n",
      "Warning message in smc_plans(nsims, adjlist, counties, popvec, ndists, popcons, :\n",
      "\"printing of extremely long output is truncated\"\n",
      "Warning message in smc_plans(nsims, adjlist, counties, popvec, ndists, popcons, :\n",
      "\"printing of extremely long output is truncated\"\n",
      "Warning message in smc_plans(nsims, adjlist, counties, popvec, ndists, popcons, :\n",
      "\"printing of extremely long output is truncated\"\n",
      "Warning message in smc_plans(nsims, adjlist, counties, popvec, ndists, popcons, :\n",
      "\"printing of extremely long output is truncated\"\n",
      "Warning message in smc_plans(nsims, adjlist, counties, popvec, ndists, popcons, :\n",
      "\"printing of extremely long output is truncated\"\n",
      "Warning message in smc_plans(nsims, adjlist, counties, popvec, ndists, popcons, :\n",
      "\"printing of extremely long output is truncated\"\n",
      "Warning message in smc_plans(nsims, adjlist, counties, popvec, ndists, popcons, :\n",
      "\"printing of extremely long output is truncated\"\n",
      "Warning message in smc_plans(nsims, adjlist, counties, popvec, ndists, popcons, :\n",
      "\"printing of extremely long output is truncated\"\n"
     ]
    },
    {
     "name": "stdout",
     "output_type": "stream",
     "text": [
      "12480 valid samples (66.1% of total)\n",
      "Making split 13 of 99\n",
      "Using k=6 for estimated success probability of 52.71%\n"
     ]
    },
    {
     "name": "stderr",
     "output_type": "stream",
     "text": [
      "Warning message in smc_plans(nsims, adjlist, counties, popvec, ndists, popcons, :\n",
      "\"printing of extremely long output is truncated\"\n",
      "Warning message in smc_plans(nsims, adjlist, counties, popvec, ndists, popcons, :\n",
      "\"printing of extremely long output is truncated\"\n",
      "Warning message in smc_plans(nsims, adjlist, counties, popvec, ndists, popcons, :\n",
      "\"printing of extremely long output is truncated\"\n",
      "Warning message in smc_plans(nsims, adjlist, counties, popvec, ndists, popcons, :\n",
      "\"printing of extremely long output is truncated\"\n",
      "Warning message in smc_plans(nsims, adjlist, counties, popvec, ndists, popcons, :\n",
      "\"printing of extremely long output is truncated\"\n",
      "Warning message in smc_plans(nsims, adjlist, counties, popvec, ndists, popcons, :\n",
      "\"printing of extremely long output is truncated\"\n",
      "Warning message in smc_plans(nsims, adjlist, counties, popvec, ndists, popcons, :\n",
      "\"printing of extremely long output is truncated\"\n",
      "Warning message in smc_plans(nsims, adjlist, counties, popvec, ndists, popcons, :\n",
      "\"printing of extremely long output is truncated\"\n",
      "Warning message in smc_plans(nsims, adjlist, counties, popvec, ndists, popcons, :\n",
      "\"printing of extremely long output is truncated\"\n",
      "Warning message in smc_plans(nsims, adjlist, counties, popvec, ndists, popcons, :\n",
      "\"printing of extremely long output is truncated\"\n"
     ]
    },
    {
     "name": "stdout",
     "output_type": "stream",
     "text": [
      "10820 valid samples (57.0% of total)\n",
      "Making split 14 of 99\n",
      "Using k=6 for estimated success probability of 50.62%\n"
     ]
    },
    {
     "name": "stderr",
     "output_type": "stream",
     "text": [
      "Warning message in smc_plans(nsims, adjlist, counties, popvec, ndists, popcons, :\n",
      "\"printing of extremely long output is truncated\"\n",
      "Warning message in smc_plans(nsims, adjlist, counties, popvec, ndists, popcons, :\n",
      "\"printing of extremely long output is truncated\"\n",
      "Warning message in smc_plans(nsims, adjlist, counties, popvec, ndists, popcons, :\n",
      "\"printing of extremely long output is truncated\"\n",
      "Warning message in smc_plans(nsims, adjlist, counties, popvec, ndists, popcons, :\n",
      "\"printing of extremely long output is truncated\"\n",
      "Warning message in smc_plans(nsims, adjlist, counties, popvec, ndists, popcons, :\n",
      "\"printing of extremely long output is truncated\"\n",
      "Warning message in smc_plans(nsims, adjlist, counties, popvec, ndists, popcons, :\n",
      "\"printing of extremely long output is truncated\"\n",
      "Warning message in smc_plans(nsims, adjlist, counties, popvec, ndists, popcons, :\n",
      "\"printing of extremely long output is truncated\"\n",
      "Warning message in smc_plans(nsims, adjlist, counties, popvec, ndists, popcons, :\n",
      "\"printing of extremely long output is truncated\"\n",
      "Warning message in smc_plans(nsims, adjlist, counties, popvec, ndists, popcons, :\n",
      "\"printing of extremely long output is truncated\"\n",
      "Warning message in smc_plans(nsims, adjlist, counties, popvec, ndists, popcons, :\n",
      "\"printing of extremely long output is truncated\"\n"
     ]
    },
    {
     "name": "stdout",
     "output_type": "stream",
     "text": [
      "11078 valid samples (56.1% of total)\n",
      "Making split 15 of 99\n",
      "Using k=6 for estimated success probability of 55.42%\n"
     ]
    },
    {
     "name": "stderr",
     "output_type": "stream",
     "text": [
      "Warning message in smc_plans(nsims, adjlist, counties, popvec, ndists, popcons, :\n",
      "\"printing of extremely long output is truncated\"\n",
      "Warning message in smc_plans(nsims, adjlist, counties, popvec, ndists, popcons, :\n",
      "\"printing of extremely long output is truncated\"\n",
      "Warning message in smc_plans(nsims, adjlist, counties, popvec, ndists, popcons, :\n",
      "\"printing of extremely long output is truncated\"\n",
      "Warning message in smc_plans(nsims, adjlist, counties, popvec, ndists, popcons, :\n",
      "\"printing of extremely long output is truncated\"\n",
      "Warning message in smc_plans(nsims, adjlist, counties, popvec, ndists, popcons, :\n",
      "\"printing of extremely long output is truncated\"\n",
      "Warning message in smc_plans(nsims, adjlist, counties, popvec, ndists, popcons, :\n",
      "\"printing of extremely long output is truncated\"\n",
      "Warning message in smc_plans(nsims, adjlist, counties, popvec, ndists, popcons, :\n",
      "\"printing of extremely long output is truncated\"\n",
      "Warning message in smc_plans(nsims, adjlist, counties, popvec, ndists, popcons, :\n",
      "\"printing of extremely long output is truncated\"\n",
      "Warning message in smc_plans(nsims, adjlist, counties, popvec, ndists, popcons, :\n",
      "\"printing of extremely long output is truncated\"\n",
      "Warning message in smc_plans(nsims, adjlist, counties, popvec, ndists, popcons, :\n",
      "\"printing of extremely long output is truncated\"\n"
     ]
    },
    {
     "name": "stdout",
     "output_type": "stream",
     "text": [
      "10159 valid samples (56.3% of total)\n",
      "Making split 16 of 99\n",
      "Using k=6 for estimated success probability of 54.58%\n"
     ]
    },
    {
     "name": "stderr",
     "output_type": "stream",
     "text": [
      "Warning message in smc_plans(nsims, adjlist, counties, popvec, ndists, popcons, :\n",
      "\"printing of extremely long output is truncated\"\n",
      "Warning message in smc_plans(nsims, adjlist, counties, popvec, ndists, popcons, :\n",
      "\"printing of extremely long output is truncated\"\n",
      "Warning message in smc_plans(nsims, adjlist, counties, popvec, ndists, popcons, :\n",
      "\"printing of extremely long output is truncated\"\n",
      "Warning message in smc_plans(nsims, adjlist, counties, popvec, ndists, popcons, :\n",
      "\"printing of extremely long output is truncated\"\n",
      "Warning message in smc_plans(nsims, adjlist, counties, popvec, ndists, popcons, :\n",
      "\"printing of extremely long output is truncated\"\n",
      "Warning message in smc_plans(nsims, adjlist, counties, popvec, ndists, popcons, :\n",
      "\"printing of extremely long output is truncated\"\n",
      "Warning message in smc_plans(nsims, adjlist, counties, popvec, ndists, popcons, :\n",
      "\"printing of extremely long output is truncated\"\n",
      "Warning message in smc_plans(nsims, adjlist, counties, popvec, ndists, popcons, :\n",
      "\"printing of extremely long output is truncated\"\n",
      "Warning message in smc_plans(nsims, adjlist, counties, popvec, ndists, popcons, :\n",
      "\"printing of extremely long output is truncated\"\n",
      "Warning message in smc_plans(nsims, adjlist, counties, popvec, ndists, popcons, :\n",
      "\"printing of extremely long output is truncated\"\n"
     ]
    },
    {
     "name": "stdout",
     "output_type": "stream",
     "text": [
      "10073 valid samples (55.0% of total)\n",
      "Making split 17 of 99\n",
      "Using k=6 for estimated success probability of 43.13%\n"
     ]
    },
    {
     "name": "stderr",
     "output_type": "stream",
     "text": [
      "Warning message in smc_plans(nsims, adjlist, counties, popvec, ndists, popcons, :\n",
      "\"printing of extremely long output is truncated\"\n",
      "Warning message in smc_plans(nsims, adjlist, counties, popvec, ndists, popcons, :\n",
      "\"printing of extremely long output is truncated\"\n",
      "Warning message in smc_plans(nsims, adjlist, counties, popvec, ndists, popcons, :\n",
      "\"printing of extremely long output is truncated\"\n",
      "Warning message in smc_plans(nsims, adjlist, counties, popvec, ndists, popcons, :\n",
      "\"printing of extremely long output is truncated\"\n",
      "Warning message in smc_plans(nsims, adjlist, counties, popvec, ndists, popcons, :\n",
      "\"printing of extremely long output is truncated\"\n",
      "Warning message in smc_plans(nsims, adjlist, counties, popvec, ndists, popcons, :\n",
      "\"printing of extremely long output is truncated\"\n",
      "Warning message in smc_plans(nsims, adjlist, counties, popvec, ndists, popcons, :\n",
      "\"printing of extremely long output is truncated\"\n",
      "Warning message in smc_plans(nsims, adjlist, counties, popvec, ndists, popcons, :\n",
      "\"printing of extremely long output is truncated\"\n",
      "Warning message in smc_plans(nsims, adjlist, counties, popvec, ndists, popcons, :\n",
      "\"printing of extremely long output is truncated\"\n",
      "Warning message in smc_plans(nsims, adjlist, counties, popvec, ndists, popcons, :\n",
      "\"printing of extremely long output is truncated\"\n"
     ]
    },
    {
     "name": "stdout",
     "output_type": "stream",
     "text": [
      "12727 valid samples (54.9% of total)\n",
      "Making split 18 of 99\n",
      "Using k=5 for estimated success probability of 56.75%\n"
     ]
    },
    {
     "name": "stderr",
     "output_type": "stream",
     "text": [
      "Warning message in smc_plans(nsims, adjlist, counties, popvec, ndists, popcons, :\n",
      "\"printing of extremely long output is truncated\"\n",
      "Warning message in smc_plans(nsims, adjlist, counties, popvec, ndists, popcons, :\n",
      "\"printing of extremely long output is truncated\"\n",
      "Warning message in smc_plans(nsims, adjlist, counties, popvec, ndists, popcons, :\n",
      "\"printing of extremely long output is truncated\"\n",
      "Warning message in smc_plans(nsims, adjlist, counties, popvec, ndists, popcons, :\n",
      "\"printing of extremely long output is truncated\"\n",
      "Warning message in smc_plans(nsims, adjlist, counties, popvec, ndists, popcons, :\n",
      "\"printing of extremely long output is truncated\"\n",
      "Warning message in smc_plans(nsims, adjlist, counties, popvec, ndists, popcons, :\n",
      "\"printing of extremely long output is truncated\"\n",
      "Warning message in smc_plans(nsims, adjlist, counties, popvec, ndists, popcons, :\n",
      "\"printing of extremely long output is truncated\"\n",
      "Warning message in smc_plans(nsims, adjlist, counties, popvec, ndists, popcons, :\n",
      "\"printing of extremely long output is truncated\"\n",
      "Warning message in smc_plans(nsims, adjlist, counties, popvec, ndists, popcons, :\n",
      "\"printing of extremely long output is truncated\"\n",
      "Warning message in smc_plans(nsims, adjlist, counties, popvec, ndists, popcons, :\n",
      "\"printing of extremely long output is truncated\"\n"
     ]
    },
    {
     "name": "stdout",
     "output_type": "stream",
     "text": [
      "11071 valid samples (62.8% of total)\n",
      "Making split 19 of 99\n",
      "Using k=5 for estimated success probability of 49.25%\n"
     ]
    },
    {
     "name": "stderr",
     "output_type": "stream",
     "text": [
      "Warning message in smc_plans(nsims, adjlist, counties, popvec, ndists, popcons, :\n",
      "\"printing of extremely long output is truncated\"\n",
      "Warning message in smc_plans(nsims, adjlist, counties, popvec, ndists, popcons, :\n",
      "\"printing of extremely long output is truncated\"\n",
      "Warning message in smc_plans(nsims, adjlist, counties, popvec, ndists, popcons, :\n",
      "\"printing of extremely long output is truncated\"\n",
      "Warning message in smc_plans(nsims, adjlist, counties, popvec, ndists, popcons, :\n",
      "\"printing of extremely long output is truncated\"\n",
      "Warning message in smc_plans(nsims, adjlist, counties, popvec, ndists, popcons, :\n",
      "\"printing of extremely long output is truncated\"\n",
      "Warning message in smc_plans(nsims, adjlist, counties, popvec, ndists, popcons, :\n",
      "\"printing of extremely long output is truncated\"\n",
      "Warning message in smc_plans(nsims, adjlist, counties, popvec, ndists, popcons, :\n",
      "\"printing of extremely long output is truncated\"\n",
      "Warning message in smc_plans(nsims, adjlist, counties, popvec, ndists, popcons, :\n",
      "\"printing of extremely long output is truncated\"\n",
      "Warning message in smc_plans(nsims, adjlist, counties, popvec, ndists, popcons, :\n",
      "\"printing of extremely long output is truncated\"\n",
      "Warning message in smc_plans(nsims, adjlist, counties, popvec, ndists, popcons, :\n",
      "\"printing of extremely long output is truncated\"\n"
     ]
    },
    {
     "name": "stdout",
     "output_type": "stream",
     "text": [
      "12597 valid samples (62.0% of total)\n",
      "Making split 20 of 99\n",
      "Using k=6 for estimated success probability of 54.17%\n"
     ]
    },
    {
     "name": "stderr",
     "output_type": "stream",
     "text": [
      "Warning message in smc_plans(nsims, adjlist, counties, popvec, ndists, popcons, :\n",
      "\"printing of extremely long output is truncated\"\n",
      "Warning message in smc_plans(nsims, adjlist, counties, popvec, ndists, popcons, :\n",
      "\"printing of extremely long output is truncated\"\n",
      "Warning message in smc_plans(nsims, adjlist, counties, popvec, ndists, popcons, :\n",
      "\"printing of extremely long output is truncated\"\n",
      "Warning message in smc_plans(nsims, adjlist, counties, popvec, ndists, popcons, :\n",
      "\"printing of extremely long output is truncated\"\n",
      "Warning message in smc_plans(nsims, adjlist, counties, popvec, ndists, popcons, :\n",
      "\"printing of extremely long output is truncated\"\n",
      "Warning message in smc_plans(nsims, adjlist, counties, popvec, ndists, popcons, :\n",
      "\"printing of extremely long output is truncated\"\n",
      "Warning message in smc_plans(nsims, adjlist, counties, popvec, ndists, popcons, :\n",
      "\"printing of extremely long output is truncated\"\n",
      "Warning message in smc_plans(nsims, adjlist, counties, popvec, ndists, popcons, :\n",
      "\"printing of extremely long output is truncated\"\n",
      "Warning message in smc_plans(nsims, adjlist, counties, popvec, ndists, popcons, :\n",
      "\"printing of extremely long output is truncated\"\n",
      "Warning message in smc_plans(nsims, adjlist, counties, popvec, ndists, popcons, :\n",
      "\"printing of extremely long output is truncated\"\n"
     ]
    },
    {
     "name": "stdout",
     "output_type": "stream",
     "text": [
      "9755 valid samples (52.8% of total)\n",
      "Making split 21 of 99\n",
      "Using k=5 for estimated success probability of 47.50%\n"
     ]
    },
    {
     "name": "stderr",
     "output_type": "stream",
     "text": [
      "Warning message in smc_plans(nsims, adjlist, counties, popvec, ndists, popcons, :\n",
      "\"printing of extremely long output is truncated\"\n",
      "Warning message in smc_plans(nsims, adjlist, counties, popvec, ndists, popcons, :\n",
      "\"printing of extremely long output is truncated\"\n",
      "Warning message in smc_plans(nsims, adjlist, counties, popvec, ndists, popcons, :\n",
      "\"printing of extremely long output is truncated\"\n",
      "Warning message in smc_plans(nsims, adjlist, counties, popvec, ndists, popcons, :\n",
      "\"printing of extremely long output is truncated\"\n",
      "Warning message in smc_plans(nsims, adjlist, counties, popvec, ndists, popcons, :\n",
      "\"printing of extremely long output is truncated\"\n",
      "Warning message in smc_plans(nsims, adjlist, counties, popvec, ndists, popcons, :\n",
      "\"printing of extremely long output is truncated\"\n",
      "Warning message in smc_plans(nsims, adjlist, counties, popvec, ndists, popcons, :\n",
      "\"printing of extremely long output is truncated\"\n",
      "Warning message in smc_plans(nsims, adjlist, counties, popvec, ndists, popcons, :\n",
      "\"printing of extremely long output is truncated\"\n",
      "Warning message in smc_plans(nsims, adjlist, counties, popvec, ndists, popcons, :\n",
      "\"printing of extremely long output is truncated\"\n",
      "Warning message in smc_plans(nsims, adjlist, counties, popvec, ndists, popcons, :\n",
      "\"printing of extremely long output is truncated\"\n"
     ]
    },
    {
     "name": "stdout",
     "output_type": "stream",
     "text": [
      "12784 valid samples (60.7% of total)\n",
      "Making split 22 of 99\n",
      "Using k=5 for estimated success probability of 52.75%\n"
     ]
    },
    {
     "name": "stderr",
     "output_type": "stream",
     "text": [
      "Warning message in smc_plans(nsims, adjlist, counties, popvec, ndists, popcons, :\n",
      "\"printing of extremely long output is truncated\"\n",
      "Warning message in smc_plans(nsims, adjlist, counties, popvec, ndists, popcons, :\n",
      "\"printing of extremely long output is truncated\"\n",
      "Warning message in smc_plans(nsims, adjlist, counties, popvec, ndists, popcons, :\n",
      "\"printing of extremely long output is truncated\"\n",
      "Warning message in smc_plans(nsims, adjlist, counties, popvec, ndists, popcons, :\n",
      "\"printing of extremely long output is truncated\"\n",
      "Warning message in smc_plans(nsims, adjlist, counties, popvec, ndists, popcons, :\n",
      "\"printing of extremely long output is truncated\"\n",
      "Warning message in smc_plans(nsims, adjlist, counties, popvec, ndists, popcons, :\n",
      "\"printing of extremely long output is truncated\"\n",
      "Warning message in smc_plans(nsims, adjlist, counties, popvec, ndists, popcons, :\n",
      "\"printing of extremely long output is truncated\"\n",
      "Warning message in smc_plans(nsims, adjlist, counties, popvec, ndists, popcons, :\n",
      "\"printing of extremely long output is truncated\"\n",
      "Warning message in smc_plans(nsims, adjlist, counties, popvec, ndists, popcons, :\n",
      "\"printing of extremely long output is truncated\"\n",
      "Warning message in smc_plans(nsims, adjlist, counties, popvec, ndists, popcons, :\n",
      "\"printing of extremely long output is truncated\"\n"
     ]
    },
    {
     "name": "stdout",
     "output_type": "stream",
     "text": [
      "11507 valid samples (60.7% of total)\n",
      "Making split 23 of 99\n",
      "Using k=6 for estimated success probability of 47.92%\n"
     ]
    },
    {
     "name": "stderr",
     "output_type": "stream",
     "text": [
      "Warning message in smc_plans(nsims, adjlist, counties, popvec, ndists, popcons, :\n",
      "\"printing of extremely long output is truncated\"\n",
      "Warning message in smc_plans(nsims, adjlist, counties, popvec, ndists, popcons, :\n",
      "\"printing of extremely long output is truncated\"\n",
      "Warning message in smc_plans(nsims, adjlist, counties, popvec, ndists, popcons, :\n",
      "\"printing of extremely long output is truncated\"\n",
      "Warning message in smc_plans(nsims, adjlist, counties, popvec, ndists, popcons, :\n",
      "\"printing of extremely long output is truncated\"\n",
      "Warning message in smc_plans(nsims, adjlist, counties, popvec, ndists, popcons, :\n",
      "\"printing of extremely long output is truncated\"\n",
      "Warning message in smc_plans(nsims, adjlist, counties, popvec, ndists, popcons, :\n",
      "\"printing of extremely long output is truncated\"\n",
      "Warning message in smc_plans(nsims, adjlist, counties, popvec, ndists, popcons, :\n",
      "\"printing of extremely long output is truncated\"\n",
      "Warning message in smc_plans(nsims, adjlist, counties, popvec, ndists, popcons, :\n",
      "\"printing of extremely long output is truncated\"\n",
      "Warning message in smc_plans(nsims, adjlist, counties, popvec, ndists, popcons, :\n",
      "\"printing of extremely long output is truncated\"\n",
      "Warning message in smc_plans(nsims, adjlist, counties, popvec, ndists, popcons, :\n",
      "\"printing of extremely long output is truncated\"\n"
     ]
    },
    {
     "name": "stdout",
     "output_type": "stream",
     "text": [
      "10693 valid samples (51.2% of total)\n",
      "Making split 24 of 99\n",
      "Using k=5 for estimated success probability of 49.75%\n"
     ]
    },
    {
     "name": "stderr",
     "output_type": "stream",
     "text": [
      "Warning message in smc_plans(nsims, adjlist, counties, popvec, ndists, popcons, :\n",
      "\"printing of extremely long output is truncated\"\n",
      "Warning message in smc_plans(nsims, adjlist, counties, popvec, ndists, popcons, :\n",
      "\"printing of extremely long output is truncated\"\n",
      "Warning message in smc_plans(nsims, adjlist, counties, popvec, ndists, popcons, :\n",
      "\"printing of extremely long output is truncated\"\n",
      "Warning message in smc_plans(nsims, adjlist, counties, popvec, ndists, popcons, :\n",
      "\"printing of extremely long output is truncated\"\n",
      "Warning message in smc_plans(nsims, adjlist, counties, popvec, ndists, popcons, :\n",
      "\"printing of extremely long output is truncated\"\n",
      "Warning message in smc_plans(nsims, adjlist, counties, popvec, ndists, popcons, :\n",
      "\"printing of extremely long output is truncated\"\n",
      "Warning message in smc_plans(nsims, adjlist, counties, popvec, ndists, popcons, :\n",
      "\"printing of extremely long output is truncated\"\n",
      "Warning message in smc_plans(nsims, adjlist, counties, popvec, ndists, popcons, :\n",
      "\"printing of extremely long output is truncated\"\n",
      "Warning message in smc_plans(nsims, adjlist, counties, popvec, ndists, popcons, :\n",
      "\"printing of extremely long output is truncated\"\n",
      "Warning message in smc_plans(nsims, adjlist, counties, popvec, ndists, popcons, :\n",
      "\"printing of extremely long output is truncated\"\n"
     ]
    },
    {
     "name": "stdout",
     "output_type": "stream",
     "text": [
      "11778 valid samples (58.6% of total)\n",
      "Making split 25 of 99\n",
      "Using k=5 for estimated success probability of 55.25%\n"
     ]
    },
    {
     "name": "stderr",
     "output_type": "stream",
     "text": [
      "Warning message in smc_plans(nsims, adjlist, counties, popvec, ndists, popcons, :\n",
      "\"printing of extremely long output is truncated\"\n",
      "Warning message in smc_plans(nsims, adjlist, counties, popvec, ndists, popcons, :\n",
      "\"printing of extremely long output is truncated\"\n",
      "Warning message in smc_plans(nsims, adjlist, counties, popvec, ndists, popcons, :\n",
      "\"printing of extremely long output is truncated\"\n",
      "Warning message in smc_plans(nsims, adjlist, counties, popvec, ndists, popcons, :\n",
      "\"printing of extremely long output is truncated\"\n",
      "Warning message in smc_plans(nsims, adjlist, counties, popvec, ndists, popcons, :\n",
      "\"printing of extremely long output is truncated\"\n",
      "Warning message in smc_plans(nsims, adjlist, counties, popvec, ndists, popcons, :\n",
      "\"printing of extremely long output is truncated\"\n",
      "Warning message in smc_plans(nsims, adjlist, counties, popvec, ndists, popcons, :\n",
      "\"printing of extremely long output is truncated\"\n",
      "Warning message in smc_plans(nsims, adjlist, counties, popvec, ndists, popcons, :\n",
      "\"printing of extremely long output is truncated\"\n",
      "Warning message in smc_plans(nsims, adjlist, counties, popvec, ndists, popcons, :\n",
      "\"printing of extremely long output is truncated\"\n",
      "Warning message in smc_plans(nsims, adjlist, counties, popvec, ndists, popcons, :\n",
      "\"printing of extremely long output is truncated\"\n"
     ]
    },
    {
     "name": "stdout",
     "output_type": "stream",
     "text": [
      "10526 valid samples (58.2% of total)\n",
      "Making split 26 of 99\n",
      "Using k=5 for estimated success probability of 51.00%\n"
     ]
    },
    {
     "name": "stderr",
     "output_type": "stream",
     "text": [
      "Warning message in smc_plans(nsims, adjlist, counties, popvec, ndists, popcons, :\n",
      "\"printing of extremely long output is truncated\"\n",
      "Warning message in smc_plans(nsims, adjlist, counties, popvec, ndists, popcons, :\n",
      "\"printing of extremely long output is truncated\"\n",
      "Warning message in smc_plans(nsims, adjlist, counties, popvec, ndists, popcons, :\n",
      "\"printing of extremely long output is truncated\"\n",
      "Warning message in smc_plans(nsims, adjlist, counties, popvec, ndists, popcons, :\n",
      "\"printing of extremely long output is truncated\"\n",
      "Warning message in smc_plans(nsims, adjlist, counties, popvec, ndists, popcons, :\n",
      "\"printing of extremely long output is truncated\"\n",
      "Warning message in smc_plans(nsims, adjlist, counties, popvec, ndists, popcons, :\n",
      "\"printing of extremely long output is truncated\"\n",
      "Warning message in smc_plans(nsims, adjlist, counties, popvec, ndists, popcons, :\n",
      "\"printing of extremely long output is truncated\"\n",
      "Warning message in smc_plans(nsims, adjlist, counties, popvec, ndists, popcons, :\n",
      "\"printing of extremely long output is truncated\"\n",
      "Warning message in smc_plans(nsims, adjlist, counties, popvec, ndists, popcons, :\n",
      "\"printing of extremely long output is truncated\"\n",
      "Warning message in smc_plans(nsims, adjlist, counties, popvec, ndists, popcons, :\n",
      "\"printing of extremely long output is truncated\"\n"
     ]
    },
    {
     "name": "stdout",
     "output_type": "stream",
     "text": [
      "11181 valid samples (57.0% of total)\n",
      "Making split 27 of 99\n",
      "Using k=5 for estimated success probability of 47.25%\n"
     ]
    },
    {
     "name": "stderr",
     "output_type": "stream",
     "text": [
      "Warning message in smc_plans(nsims, adjlist, counties, popvec, ndists, popcons, :\n",
      "\"printing of extremely long output is truncated\"\n",
      "Warning message in smc_plans(nsims, adjlist, counties, popvec, ndists, popcons, :\n",
      "\"printing of extremely long output is truncated\"\n",
      "Warning message in smc_plans(nsims, adjlist, counties, popvec, ndists, popcons, :\n",
      "\"printing of extremely long output is truncated\"\n",
      "Warning message in smc_plans(nsims, adjlist, counties, popvec, ndists, popcons, :\n",
      "\"printing of extremely long output is truncated\"\n",
      "Warning message in smc_plans(nsims, adjlist, counties, popvec, ndists, popcons, :\n",
      "\"printing of extremely long output is truncated\"\n",
      "Warning message in smc_plans(nsims, adjlist, counties, popvec, ndists, popcons, :\n",
      "\"printing of extremely long output is truncated\"\n",
      "Warning message in smc_plans(nsims, adjlist, counties, popvec, ndists, popcons, :\n",
      "\"printing of extremely long output is truncated\"\n",
      "Warning message in smc_plans(nsims, adjlist, counties, popvec, ndists, popcons, :\n",
      "\"printing of extremely long output is truncated\"\n",
      "Warning message in smc_plans(nsims, adjlist, counties, popvec, ndists, popcons, :\n",
      "\"printing of extremely long output is truncated\"\n",
      "Warning message in smc_plans(nsims, adjlist, counties, popvec, ndists, popcons, :\n",
      "\"printing of extremely long output is truncated\"\n"
     ]
    },
    {
     "name": "stdout",
     "output_type": "stream",
     "text": [
      "12067 valid samples (57.0% of total)\n",
      "Making split 28 of 99\n",
      "Using k=5 for estimated success probability of 47.00%\n"
     ]
    },
    {
     "name": "stderr",
     "output_type": "stream",
     "text": [
      "Warning message in smc_plans(nsims, adjlist, counties, popvec, ndists, popcons, :\n",
      "\"printing of extremely long output is truncated\"\n",
      "Warning message in smc_plans(nsims, adjlist, counties, popvec, ndists, popcons, :\n",
      "\"printing of extremely long output is truncated\"\n",
      "Warning message in smc_plans(nsims, adjlist, counties, popvec, ndists, popcons, :\n",
      "\"printing of extremely long output is truncated\"\n",
      "Warning message in smc_plans(nsims, adjlist, counties, popvec, ndists, popcons, :\n",
      "\"printing of extremely long output is truncated\"\n",
      "Warning message in smc_plans(nsims, adjlist, counties, popvec, ndists, popcons, :\n",
      "\"printing of extremely long output is truncated\"\n",
      "Warning message in smc_plans(nsims, adjlist, counties, popvec, ndists, popcons, :\n",
      "\"printing of extremely long output is truncated\"\n",
      "Warning message in smc_plans(nsims, adjlist, counties, popvec, ndists, popcons, :\n",
      "\"printing of extremely long output is truncated\"\n",
      "Warning message in smc_plans(nsims, adjlist, counties, popvec, ndists, popcons, :\n",
      "\"printing of extremely long output is truncated\"\n",
      "Warning message in smc_plans(nsims, adjlist, counties, popvec, ndists, popcons, :\n",
      "\"printing of extremely long output is truncated\"\n",
      "Warning message in smc_plans(nsims, adjlist, counties, popvec, ndists, popcons, :\n",
      "\"printing of extremely long output is truncated\"\n"
     ]
    },
    {
     "name": "stdout",
     "output_type": "stream",
     "text": [
      "11854 valid samples (55.7% of total)\n",
      "Making split 29 of 99\n",
      "Using k=5 for estimated success probability of 50.00%\n"
     ]
    },
    {
     "name": "stderr",
     "output_type": "stream",
     "text": [
      "Warning message in smc_plans(nsims, adjlist, counties, popvec, ndists, popcons, :\n",
      "\"printing of extremely long output is truncated\"\n",
      "Warning message in smc_plans(nsims, adjlist, counties, popvec, ndists, popcons, :\n",
      "\"printing of extremely long output is truncated\"\n",
      "Warning message in smc_plans(nsims, adjlist, counties, popvec, ndists, popcons, :\n",
      "\"printing of extremely long output is truncated\"\n",
      "Warning message in smc_plans(nsims, adjlist, counties, popvec, ndists, popcons, :\n",
      "\"printing of extremely long output is truncated\"\n",
      "Warning message in smc_plans(nsims, adjlist, counties, popvec, ndists, popcons, :\n",
      "\"printing of extremely long output is truncated\"\n",
      "Warning message in smc_plans(nsims, adjlist, counties, popvec, ndists, popcons, :\n",
      "\"printing of extremely long output is truncated\"\n",
      "Warning message in smc_plans(nsims, adjlist, counties, popvec, ndists, popcons, :\n",
      "\"printing of extremely long output is truncated\"\n",
      "Warning message in smc_plans(nsims, adjlist, counties, popvec, ndists, popcons, :\n",
      "\"printing of extremely long output is truncated\"\n",
      "Warning message in smc_plans(nsims, adjlist, counties, popvec, ndists, popcons, :\n",
      "\"printing of extremely long output is truncated\"\n",
      "Warning message in smc_plans(nsims, adjlist, counties, popvec, ndists, popcons, :\n",
      "\"printing of extremely long output is truncated\"\n"
     ]
    },
    {
     "name": "stdout",
     "output_type": "stream",
     "text": [
      "10918 valid samples (54.6% of total)\n",
      "Making split 30 of 99\n",
      "Using k=5 for estimated success probability of 48.25%\n"
     ]
    },
    {
     "name": "stderr",
     "output_type": "stream",
     "text": [
      "Warning message in smc_plans(nsims, adjlist, counties, popvec, ndists, popcons, :\n",
      "\"printing of extremely long output is truncated\"\n",
      "Warning message in smc_plans(nsims, adjlist, counties, popvec, ndists, popcons, :\n",
      "\"printing of extremely long output is truncated\"\n",
      "Warning message in smc_plans(nsims, adjlist, counties, popvec, ndists, popcons, :\n",
      "\"printing of extremely long output is truncated\"\n",
      "Warning message in smc_plans(nsims, adjlist, counties, popvec, ndists, popcons, :\n",
      "\"printing of extremely long output is truncated\"\n",
      "Warning message in smc_plans(nsims, adjlist, counties, popvec, ndists, popcons, :\n",
      "\"printing of extremely long output is truncated\"\n",
      "Warning message in smc_plans(nsims, adjlist, counties, popvec, ndists, popcons, :\n",
      "\"printing of extremely long output is truncated\"\n",
      "Warning message in smc_plans(nsims, adjlist, counties, popvec, ndists, popcons, :\n",
      "\"printing of extremely long output is truncated\"\n",
      "Warning message in smc_plans(nsims, adjlist, counties, popvec, ndists, popcons, :\n",
      "\"printing of extremely long output is truncated\"\n",
      "Warning message in smc_plans(nsims, adjlist, counties, popvec, ndists, popcons, :\n",
      "\"printing of extremely long output is truncated\"\n",
      "Warning message in smc_plans(nsims, adjlist, counties, popvec, ndists, popcons, :\n",
      "\"printing of extremely long output is truncated\"\n"
     ]
    },
    {
     "name": "stdout",
     "output_type": "stream",
     "text": [
      "11438 valid samples (55.2% of total)\n",
      "Making split 31 of 99\n",
      "Using k=5 for estimated success probability of 45.00%\n"
     ]
    },
    {
     "name": "stderr",
     "output_type": "stream",
     "text": [
      "Warning message in smc_plans(nsims, adjlist, counties, popvec, ndists, popcons, :\n",
      "\"printing of extremely long output is truncated\"\n",
      "Warning message in smc_plans(nsims, adjlist, counties, popvec, ndists, popcons, :\n",
      "\"printing of extremely long output is truncated\"\n",
      "Warning message in smc_plans(nsims, adjlist, counties, popvec, ndists, popcons, :\n",
      "\"printing of extremely long output is truncated\"\n",
      "Warning message in smc_plans(nsims, adjlist, counties, popvec, ndists, popcons, :\n",
      "\"printing of extremely long output is truncated\"\n",
      "Warning message in smc_plans(nsims, adjlist, counties, popvec, ndists, popcons, :\n",
      "\"printing of extremely long output is truncated\"\n",
      "Warning message in smc_plans(nsims, adjlist, counties, popvec, ndists, popcons, :\n",
      "\"printing of extremely long output is truncated\"\n",
      "Warning message in smc_plans(nsims, adjlist, counties, popvec, ndists, popcons, :\n",
      "\"printing of extremely long output is truncated\"\n",
      "Warning message in smc_plans(nsims, adjlist, counties, popvec, ndists, popcons, :\n",
      "\"printing of extremely long output is truncated\"\n",
      "Warning message in smc_plans(nsims, adjlist, counties, popvec, ndists, popcons, :\n",
      "\"printing of extremely long output is truncated\"\n",
      "Warning message in smc_plans(nsims, adjlist, counties, popvec, ndists, popcons, :\n",
      "\"printing of extremely long output is truncated\"\n"
     ]
    },
    {
     "name": "stdout",
     "output_type": "stream",
     "text": [
      "12004 valid samples (54.0% of total)\n",
      "Making split 32 of 99\n",
      "Using k=5 for estimated success probability of 48.25%\n"
     ]
    },
    {
     "name": "stderr",
     "output_type": "stream",
     "text": [
      "Warning message in smc_plans(nsims, adjlist, counties, popvec, ndists, popcons, :\n",
      "\"printing of extremely long output is truncated\"\n",
      "Warning message in smc_plans(nsims, adjlist, counties, popvec, ndists, popcons, :\n",
      "\"printing of extremely long output is truncated\"\n",
      "Warning message in smc_plans(nsims, adjlist, counties, popvec, ndists, popcons, :\n",
      "\"printing of extremely long output is truncated\"\n",
      "Warning message in smc_plans(nsims, adjlist, counties, popvec, ndists, popcons, :\n",
      "\"printing of extremely long output is truncated\"\n",
      "Warning message in smc_plans(nsims, adjlist, counties, popvec, ndists, popcons, :\n",
      "\"printing of extremely long output is truncated\"\n",
      "Warning message in smc_plans(nsims, adjlist, counties, popvec, ndists, popcons, :\n",
      "\"printing of extremely long output is truncated\"\n",
      "Warning message in smc_plans(nsims, adjlist, counties, popvec, ndists, popcons, :\n",
      "\"printing of extremely long output is truncated\"\n",
      "Warning message in smc_plans(nsims, adjlist, counties, popvec, ndists, popcons, :\n",
      "\"printing of extremely long output is truncated\"\n",
      "Warning message in smc_plans(nsims, adjlist, counties, popvec, ndists, popcons, :\n",
      "\"printing of extremely long output is truncated\"\n",
      "Warning message in smc_plans(nsims, adjlist, counties, popvec, ndists, popcons, :\n",
      "\"printing of extremely long output is truncated\"\n"
     ]
    },
    {
     "name": "stdout",
     "output_type": "stream",
     "text": [
      "11042 valid samples (53.3% of total)\n",
      "Making split 33 of 99\n",
      "Using k=5 for estimated success probability of 47.25%\n"
     ]
    },
    {
     "name": "stderr",
     "output_type": "stream",
     "text": [
      "Warning message in smc_plans(nsims, adjlist, counties, popvec, ndists, popcons, :\n",
      "\"printing of extremely long output is truncated\"\n",
      "Warning message in smc_plans(nsims, adjlist, counties, popvec, ndists, popcons, :\n",
      "\"printing of extremely long output is truncated\"\n",
      "Warning message in smc_plans(nsims, adjlist, counties, popvec, ndists, popcons, :\n",
      "\"printing of extremely long output is truncated\"\n",
      "Warning message in smc_plans(nsims, adjlist, counties, popvec, ndists, popcons, :\n",
      "\"printing of extremely long output is truncated\"\n",
      "Warning message in smc_plans(nsims, adjlist, counties, popvec, ndists, popcons, :\n",
      "\"printing of extremely long output is truncated\"\n",
      "Warning message in smc_plans(nsims, adjlist, counties, popvec, ndists, popcons, :\n",
      "\"printing of extremely long output is truncated\"\n",
      "Warning message in smc_plans(nsims, adjlist, counties, popvec, ndists, popcons, :\n",
      "\"printing of extremely long output is truncated\"\n",
      "Warning message in smc_plans(nsims, adjlist, counties, popvec, ndists, popcons, :\n",
      "\"printing of extremely long output is truncated\"\n",
      "Warning message in smc_plans(nsims, adjlist, counties, popvec, ndists, popcons, :\n",
      "\"printing of extremely long output is truncated\"\n",
      "Warning message in smc_plans(nsims, adjlist, counties, popvec, ndists, popcons, :\n",
      "\"printing of extremely long output is truncated\"\n"
     ]
    },
    {
     "name": "stdout",
     "output_type": "stream",
     "text": [
      "11309 valid samples (53.4% of total)\n",
      "Making split 34 of 99\n",
      "Using k=5 for estimated success probability of 43.00%\n"
     ]
    },
    {
     "name": "stderr",
     "output_type": "stream",
     "text": [
      "Warning message in smc_plans(nsims, adjlist, counties, popvec, ndists, popcons, :\n",
      "\"printing of extremely long output is truncated\"\n",
      "Warning message in smc_plans(nsims, adjlist, counties, popvec, ndists, popcons, :\n",
      "\"printing of extremely long output is truncated\"\n",
      "Warning message in smc_plans(nsims, adjlist, counties, popvec, ndists, popcons, :\n",
      "\"printing of extremely long output is truncated\"\n",
      "Warning message in smc_plans(nsims, adjlist, counties, popvec, ndists, popcons, :\n",
      "\"printing of extremely long output is truncated\"\n",
      "Warning message in smc_plans(nsims, adjlist, counties, popvec, ndists, popcons, :\n",
      "\"printing of extremely long output is truncated\"\n",
      "Warning message in smc_plans(nsims, adjlist, counties, popvec, ndists, popcons, :\n",
      "\"printing of extremely long output is truncated\"\n",
      "Warning message in smc_plans(nsims, adjlist, counties, popvec, ndists, popcons, :\n",
      "\"printing of extremely long output is truncated\"\n",
      "Warning message in smc_plans(nsims, adjlist, counties, popvec, ndists, popcons, :\n",
      "\"printing of extremely long output is truncated\"\n",
      "Warning message in smc_plans(nsims, adjlist, counties, popvec, ndists, popcons, :\n",
      "\"printing of extremely long output is truncated\"\n",
      "Warning message in smc_plans(nsims, adjlist, counties, popvec, ndists, popcons, :\n",
      "\"printing of extremely long output is truncated\"\n"
     ]
    },
    {
     "name": "stdout",
     "output_type": "stream",
     "text": [
      "11961 valid samples (51.4% of total)\n",
      "Making split 35 of 99\n",
      "Using k=5 for estimated success probability of 49.00%\n"
     ]
    },
    {
     "name": "stderr",
     "output_type": "stream",
     "text": [
      "Warning message in smc_plans(nsims, adjlist, counties, popvec, ndists, popcons, :\n",
      "\"printing of extremely long output is truncated\"\n",
      "Warning message in smc_plans(nsims, adjlist, counties, popvec, ndists, popcons, :\n",
      "\"printing of extremely long output is truncated\"\n",
      "Warning message in smc_plans(nsims, adjlist, counties, popvec, ndists, popcons, :\n",
      "\"printing of extremely long output is truncated\"\n",
      "Warning message in smc_plans(nsims, adjlist, counties, popvec, ndists, popcons, :\n",
      "\"printing of extremely long output is truncated\"\n",
      "Warning message in smc_plans(nsims, adjlist, counties, popvec, ndists, popcons, :\n",
      "\"printing of extremely long output is truncated\"\n",
      "Warning message in smc_plans(nsims, adjlist, counties, popvec, ndists, popcons, :\n",
      "\"printing of extremely long output is truncated\"\n",
      "Warning message in smc_plans(nsims, adjlist, counties, popvec, ndists, popcons, :\n",
      "\"printing of extremely long output is truncated\"\n",
      "Warning message in smc_plans(nsims, adjlist, counties, popvec, ndists, popcons, :\n",
      "\"printing of extremely long output is truncated\"\n",
      "Warning message in smc_plans(nsims, adjlist, counties, popvec, ndists, popcons, :\n",
      "\"printing of extremely long output is truncated\"\n",
      "Warning message in smc_plans(nsims, adjlist, counties, popvec, ndists, popcons, :\n",
      "\"printing of extremely long output is truncated\"\n"
     ]
    },
    {
     "name": "stdout",
     "output_type": "stream",
     "text": [
      "10404 valid samples (51.0% of total)\n",
      "Making split 36 of 99\n",
      "Using k=5 for estimated success probability of 50.00%\n"
     ]
    },
    {
     "name": "stderr",
     "output_type": "stream",
     "text": [
      "Warning message in smc_plans(nsims, adjlist, counties, popvec, ndists, popcons, :\n",
      "\"printing of extremely long output is truncated\"\n",
      "Warning message in smc_plans(nsims, adjlist, counties, popvec, ndists, popcons, :\n",
      "\"printing of extremely long output is truncated\"\n",
      "Warning message in smc_plans(nsims, adjlist, counties, popvec, ndists, popcons, :\n",
      "\"printing of extremely long output is truncated\"\n",
      "Warning message in smc_plans(nsims, adjlist, counties, popvec, ndists, popcons, :\n",
      "\"printing of extremely long output is truncated\"\n",
      "Warning message in smc_plans(nsims, adjlist, counties, popvec, ndists, popcons, :\n",
      "\"printing of extremely long output is truncated\"\n",
      "Warning message in smc_plans(nsims, adjlist, counties, popvec, ndists, popcons, :\n",
      "\"printing of extremely long output is truncated\"\n",
      "Warning message in smc_plans(nsims, adjlist, counties, popvec, ndists, popcons, :\n",
      "\"printing of extremely long output is truncated\"\n",
      "Warning message in smc_plans(nsims, adjlist, counties, popvec, ndists, popcons, :\n",
      "\"printing of extremely long output is truncated\"\n",
      "Warning message in smc_plans(nsims, adjlist, counties, popvec, ndists, popcons, :\n",
      "\"printing of extremely long output is truncated\"\n",
      "Warning message in smc_plans(nsims, adjlist, counties, popvec, ndists, popcons, :\n",
      "\"printing of extremely long output is truncated\"\n"
     ]
    },
    {
     "name": "stdout",
     "output_type": "stream",
     "text": [
      "10018 valid samples (50.1% of total)\n",
      "Making split 37 of 99\n",
      "Using k=5 for estimated success probability of 47.75%\n"
     ]
    },
    {
     "name": "stderr",
     "output_type": "stream",
     "text": [
      "Warning message in smc_plans(nsims, adjlist, counties, popvec, ndists, popcons, :\n",
      "\"printing of extremely long output is truncated\"\n",
      "Warning message in smc_plans(nsims, adjlist, counties, popvec, ndists, popcons, :\n",
      "\"printing of extremely long output is truncated\"\n",
      "Warning message in smc_plans(nsims, adjlist, counties, popvec, ndists, popcons, :\n",
      "\"printing of extremely long output is truncated\"\n",
      "Warning message in smc_plans(nsims, adjlist, counties, popvec, ndists, popcons, :\n",
      "\"printing of extremely long output is truncated\"\n",
      "Warning message in smc_plans(nsims, adjlist, counties, popvec, ndists, popcons, :\n",
      "\"printing of extremely long output is truncated\"\n",
      "Warning message in smc_plans(nsims, adjlist, counties, popvec, ndists, popcons, :\n",
      "\"printing of extremely long output is truncated\"\n",
      "Warning message in smc_plans(nsims, adjlist, counties, popvec, ndists, popcons, :\n",
      "\"printing of extremely long output is truncated\"\n",
      "Warning message in smc_plans(nsims, adjlist, counties, popvec, ndists, popcons, :\n",
      "\"printing of extremely long output is truncated\"\n",
      "Warning message in smc_plans(nsims, adjlist, counties, popvec, ndists, popcons, :\n",
      "\"printing of extremely long output is truncated\"\n",
      "Warning message in smc_plans(nsims, adjlist, counties, popvec, ndists, popcons, :\n",
      "\"printing of extremely long output is truncated\"\n"
     ]
    },
    {
     "name": "stdout",
     "output_type": "stream",
     "text": [
      "10408 valid samples (49.7% of total)\n",
      "Making split 38 of 99\n",
      "Using k=5 for estimated success probability of 47.00%\n"
     ]
    },
    {
     "name": "stderr",
     "output_type": "stream",
     "text": [
      "Warning message in smc_plans(nsims, adjlist, counties, popvec, ndists, popcons, :\n",
      "\"printing of extremely long output is truncated\"\n",
      "Warning message in smc_plans(nsims, adjlist, counties, popvec, ndists, popcons, :\n",
      "\"printing of extremely long output is truncated\"\n",
      "Warning message in smc_plans(nsims, adjlist, counties, popvec, ndists, popcons, :\n",
      "\"printing of extremely long output is truncated\"\n",
      "Warning message in smc_plans(nsims, adjlist, counties, popvec, ndists, popcons, :\n",
      "\"printing of extremely long output is truncated\"\n",
      "Warning message in smc_plans(nsims, adjlist, counties, popvec, ndists, popcons, :\n",
      "\"printing of extremely long output is truncated\"\n",
      "Warning message in smc_plans(nsims, adjlist, counties, popvec, ndists, popcons, :\n",
      "\"printing of extremely long output is truncated\"\n",
      "Warning message in smc_plans(nsims, adjlist, counties, popvec, ndists, popcons, :\n",
      "\"printing of extremely long output is truncated\"\n",
      "Warning message in smc_plans(nsims, adjlist, counties, popvec, ndists, popcons, :\n",
      "\"printing of extremely long output is truncated\"\n",
      "Warning message in smc_plans(nsims, adjlist, counties, popvec, ndists, popcons, :\n",
      "\"printing of extremely long output is truncated\"\n",
      "Warning message in smc_plans(nsims, adjlist, counties, popvec, ndists, popcons, :\n",
      "\"printing of extremely long output is truncated\"\n"
     ]
    },
    {
     "name": "stdout",
     "output_type": "stream",
     "text": [
      "10505 valid samples (49.4% of total)\n",
      "Making split 39 of 99\n",
      "Using k=5 for estimated success probability of 48.75%\n"
     ]
    },
    {
     "name": "stderr",
     "output_type": "stream",
     "text": [
      "Warning message in smc_plans(nsims, adjlist, counties, popvec, ndists, popcons, :\n",
      "\"printing of extremely long output is truncated\"\n",
      "Warning message in smc_plans(nsims, adjlist, counties, popvec, ndists, popcons, :\n",
      "\"printing of extremely long output is truncated\"\n",
      "Warning message in smc_plans(nsims, adjlist, counties, popvec, ndists, popcons, :\n",
      "\"printing of extremely long output is truncated\"\n",
      "Warning message in smc_plans(nsims, adjlist, counties, popvec, ndists, popcons, :\n",
      "\"printing of extremely long output is truncated\"\n",
      "Warning message in smc_plans(nsims, adjlist, counties, popvec, ndists, popcons, :\n",
      "\"printing of extremely long output is truncated\"\n",
      "Warning message in smc_plans(nsims, adjlist, counties, popvec, ndists, popcons, :\n",
      "\"printing of extremely long output is truncated\"\n",
      "Warning message in smc_plans(nsims, adjlist, counties, popvec, ndists, popcons, :\n",
      "\"printing of extremely long output is truncated\"\n",
      "Warning message in smc_plans(nsims, adjlist, counties, popvec, ndists, popcons, :\n",
      "\"printing of extremely long output is truncated\"\n",
      "Warning message in smc_plans(nsims, adjlist, counties, popvec, ndists, popcons, :\n",
      "\"printing of extremely long output is truncated\"\n",
      "Warning message in smc_plans(nsims, adjlist, counties, popvec, ndists, popcons, :\n",
      "\"printing of extremely long output is truncated\"\n"
     ]
    },
    {
     "name": "stdout",
     "output_type": "stream",
     "text": [
      "9745 valid samples (47.5% of total)\n",
      "Making split 40 of 99\n",
      "Using k=5 for estimated success probability of 43.25%\n"
     ]
    },
    {
     "name": "stderr",
     "output_type": "stream",
     "text": [
      "Warning message in smc_plans(nsims, adjlist, counties, popvec, ndists, popcons, :\n",
      "\"printing of extremely long output is truncated\"\n",
      "Warning message in smc_plans(nsims, adjlist, counties, popvec, ndists, popcons, :\n",
      "\"printing of extremely long output is truncated\"\n",
      "Warning message in smc_plans(nsims, adjlist, counties, popvec, ndists, popcons, :\n",
      "\"printing of extremely long output is truncated\"\n",
      "Warning message in smc_plans(nsims, adjlist, counties, popvec, ndists, popcons, :\n",
      "\"printing of extremely long output is truncated\"\n",
      "Warning message in smc_plans(nsims, adjlist, counties, popvec, ndists, popcons, :\n",
      "\"printing of extremely long output is truncated\"\n",
      "Warning message in smc_plans(nsims, adjlist, counties, popvec, ndists, popcons, :\n",
      "\"printing of extremely long output is truncated\"\n",
      "Warning message in smc_plans(nsims, adjlist, counties, popvec, ndists, popcons, :\n",
      "\"printing of extremely long output is truncated\"\n",
      "Warning message in smc_plans(nsims, adjlist, counties, popvec, ndists, popcons, :\n",
      "\"printing of extremely long output is truncated\"\n",
      "Warning message in smc_plans(nsims, adjlist, counties, popvec, ndists, popcons, :\n",
      "\"printing of extremely long output is truncated\"\n",
      "Warning message in smc_plans(nsims, adjlist, counties, popvec, ndists, popcons, :\n",
      "\"printing of extremely long output is truncated\"\n"
     ]
    },
    {
     "name": "stdout",
     "output_type": "stream",
     "text": [
      "11199 valid samples (48.4% of total)\n",
      "Making split 41 of 99\n",
      "Using k=5 for estimated success probability of 39.50%\n"
     ]
    },
    {
     "name": "stderr",
     "output_type": "stream",
     "text": [
      "Warning message in smc_plans(nsims, adjlist, counties, popvec, ndists, popcons, :\n",
      "\"printing of extremely long output is truncated\"\n",
      "Warning message in smc_plans(nsims, adjlist, counties, popvec, ndists, popcons, :\n",
      "\"printing of extremely long output is truncated\"\n",
      "Warning message in smc_plans(nsims, adjlist, counties, popvec, ndists, popcons, :\n",
      "\"printing of extremely long output is truncated\"\n",
      "Warning message in smc_plans(nsims, adjlist, counties, popvec, ndists, popcons, :\n",
      "\"printing of extremely long output is truncated\"\n",
      "Warning message in smc_plans(nsims, adjlist, counties, popvec, ndists, popcons, :\n",
      "\"printing of extremely long output is truncated\"\n",
      "Warning message in smc_plans(nsims, adjlist, counties, popvec, ndists, popcons, :\n",
      "\"printing of extremely long output is truncated\"\n",
      "Warning message in smc_plans(nsims, adjlist, counties, popvec, ndists, popcons, :\n",
      "\"printing of extremely long output is truncated\"\n",
      "Warning message in smc_plans(nsims, adjlist, counties, popvec, ndists, popcons, :\n",
      "\"printing of extremely long output is truncated\"\n",
      "Warning message in smc_plans(nsims, adjlist, counties, popvec, ndists, popcons, :\n",
      "\"printing of extremely long output is truncated\"\n",
      "Warning message in smc_plans(nsims, adjlist, counties, popvec, ndists, popcons, :\n",
      "\"printing of extremely long output is truncated\"\n"
     ]
    },
    {
     "name": "stdout",
     "output_type": "stream",
     "text": [
      "11822 valid samples (46.7% of total)\n",
      "Making split 42 of 99\n",
      "Using k=4 for estimated success probability of 44.69%\n"
     ]
    },
    {
     "name": "stderr",
     "output_type": "stream",
     "text": [
      "Warning message in smc_plans(nsims, adjlist, counties, popvec, ndists, popcons, :\n",
      "\"printing of extremely long output is truncated\"\n",
      "Warning message in smc_plans(nsims, adjlist, counties, popvec, ndists, popcons, :\n",
      "\"printing of extremely long output is truncated\"\n",
      "Warning message in smc_plans(nsims, adjlist, counties, popvec, ndists, popcons, :\n",
      "\"printing of extremely long output is truncated\"\n",
      "Warning message in smc_plans(nsims, adjlist, counties, popvec, ndists, popcons, :\n",
      "\"printing of extremely long output is truncated\"\n",
      "Warning message in smc_plans(nsims, adjlist, counties, popvec, ndists, popcons, :\n",
      "\"printing of extremely long output is truncated\"\n",
      "Warning message in smc_plans(nsims, adjlist, counties, popvec, ndists, popcons, :\n",
      "\"printing of extremely long output is truncated\"\n",
      "Warning message in smc_plans(nsims, adjlist, counties, popvec, ndists, popcons, :\n",
      "\"printing of extremely long output is truncated\"\n",
      "Warning message in smc_plans(nsims, adjlist, counties, popvec, ndists, popcons, :\n",
      "\"printing of extremely long output is truncated\"\n",
      "Warning message in smc_plans(nsims, adjlist, counties, popvec, ndists, popcons, :\n",
      "\"printing of extremely long output is truncated\"\n",
      "Warning message in smc_plans(nsims, adjlist, counties, popvec, ndists, popcons, :\n",
      "\"printing of extremely long output is truncated\"\n"
     ]
    },
    {
     "name": "stdout",
     "output_type": "stream",
     "text": [
      "12492 valid samples (55.8% of total)\n",
      "Making split 43 of 99\n",
      "Using k=5 for estimated success probability of 45.50%\n"
     ]
    },
    {
     "name": "stderr",
     "output_type": "stream",
     "text": [
      "Warning message in smc_plans(nsims, adjlist, counties, popvec, ndists, popcons, :\n",
      "\"printing of extremely long output is truncated\"\n",
      "Warning message in smc_plans(nsims, adjlist, counties, popvec, ndists, popcons, :\n",
      "\"printing of extremely long output is truncated\"\n",
      "Warning message in smc_plans(nsims, adjlist, counties, popvec, ndists, popcons, :\n",
      "\"printing of extremely long output is truncated\"\n",
      "Warning message in smc_plans(nsims, adjlist, counties, popvec, ndists, popcons, :\n",
      "\"printing of extremely long output is truncated\"\n",
      "Warning message in smc_plans(nsims, adjlist, counties, popvec, ndists, popcons, :\n",
      "\"printing of extremely long output is truncated\"\n",
      "Warning message in smc_plans(nsims, adjlist, counties, popvec, ndists, popcons, :\n",
      "\"printing of extremely long output is truncated\"\n",
      "Warning message in smc_plans(nsims, adjlist, counties, popvec, ndists, popcons, :\n",
      "\"printing of extremely long output is truncated\"\n",
      "Warning message in smc_plans(nsims, adjlist, counties, popvec, ndists, popcons, :\n",
      "\"printing of extremely long output is truncated\"\n",
      "Warning message in smc_plans(nsims, adjlist, counties, popvec, ndists, popcons, :\n",
      "\"printing of extremely long output is truncated\"\n",
      "Warning message in smc_plans(nsims, adjlist, counties, popvec, ndists, popcons, :\n",
      "\"printing of extremely long output is truncated\"\n"
     ]
    },
    {
     "name": "stdout",
     "output_type": "stream",
     "text": [
      "9902 valid samples (45.1% of total)\n",
      "Making split 44 of 99\n",
      "Using k=5 for estimated success probability of 42.25%\n"
     ]
    },
    {
     "name": "stderr",
     "output_type": "stream",
     "text": [
      "Warning message in smc_plans(nsims, adjlist, counties, popvec, ndists, popcons, :\n",
      "\"printing of extremely long output is truncated\"\n",
      "Warning message in smc_plans(nsims, adjlist, counties, popvec, ndists, popcons, :\n",
      "\"printing of extremely long output is truncated\"\n",
      "Warning message in smc_plans(nsims, adjlist, counties, popvec, ndists, popcons, :\n",
      "\"printing of extremely long output is truncated\"\n",
      "Warning message in smc_plans(nsims, adjlist, counties, popvec, ndists, popcons, :\n",
      "\"printing of extremely long output is truncated\"\n",
      "Warning message in smc_plans(nsims, adjlist, counties, popvec, ndists, popcons, :\n",
      "\"printing of extremely long output is truncated\"\n",
      "Warning message in smc_plans(nsims, adjlist, counties, popvec, ndists, popcons, :\n",
      "\"printing of extremely long output is truncated\"\n",
      "Warning message in smc_plans(nsims, adjlist, counties, popvec, ndists, popcons, :\n",
      "\"printing of extremely long output is truncated\"\n",
      "Warning message in smc_plans(nsims, adjlist, counties, popvec, ndists, popcons, :\n",
      "\"printing of extremely long output is truncated\"\n",
      "Warning message in smc_plans(nsims, adjlist, counties, popvec, ndists, popcons, :\n",
      "\"printing of extremely long output is truncated\"\n",
      "Warning message in smc_plans(nsims, adjlist, counties, popvec, ndists, popcons, :\n",
      "\"printing of extremely long output is truncated\"\n"
     ]
    },
    {
     "name": "stdout",
     "output_type": "stream",
     "text": [
      "10540 valid samples (44.5% of total)\n",
      "Making split 45 of 99\n",
      "Using k=5 for estimated success probability of 43.25%\n"
     ]
    },
    {
     "name": "stderr",
     "output_type": "stream",
     "text": [
      "Warning message in smc_plans(nsims, adjlist, counties, popvec, ndists, popcons, :\n",
      "\"printing of extremely long output is truncated\"\n",
      "Warning message in smc_plans(nsims, adjlist, counties, popvec, ndists, popcons, :\n",
      "\"printing of extremely long output is truncated\"\n",
      "Warning message in smc_plans(nsims, adjlist, counties, popvec, ndists, popcons, :\n",
      "\"printing of extremely long output is truncated\"\n",
      "Warning message in smc_plans(nsims, adjlist, counties, popvec, ndists, popcons, :\n",
      "\"printing of extremely long output is truncated\"\n",
      "Warning message in smc_plans(nsims, adjlist, counties, popvec, ndists, popcons, :\n",
      "\"printing of extremely long output is truncated\"\n",
      "Warning message in smc_plans(nsims, adjlist, counties, popvec, ndists, popcons, :\n",
      "\"printing of extremely long output is truncated\"\n",
      "Warning message in smc_plans(nsims, adjlist, counties, popvec, ndists, popcons, :\n",
      "\"printing of extremely long output is truncated\"\n",
      "Warning message in smc_plans(nsims, adjlist, counties, popvec, ndists, popcons, :\n",
      "\"printing of extremely long output is truncated\"\n",
      "Warning message in smc_plans(nsims, adjlist, counties, popvec, ndists, popcons, :\n",
      "\"printing of extremely long output is truncated\"\n",
      "Warning message in smc_plans(nsims, adjlist, counties, popvec, ndists, popcons, :\n",
      "\"printing of extremely long output is truncated\"\n"
     ]
    },
    {
     "name": "stdout",
     "output_type": "stream",
     "text": [
      "10011 valid samples (43.3% of total)\n",
      "Making split 46 of 99\n",
      "Using k=5 for estimated success probability of 42.00%\n"
     ]
    },
    {
     "name": "stderr",
     "output_type": "stream",
     "text": [
      "Warning message in smc_plans(nsims, adjlist, counties, popvec, ndists, popcons, :\n",
      "\"printing of extremely long output is truncated\"\n",
      "Warning message in smc_plans(nsims, adjlist, counties, popvec, ndists, popcons, :\n",
      "\"printing of extremely long output is truncated\"\n",
      "Warning message in smc_plans(nsims, adjlist, counties, popvec, ndists, popcons, :\n",
      "\"printing of extremely long output is truncated\"\n",
      "Warning message in smc_plans(nsims, adjlist, counties, popvec, ndists, popcons, :\n",
      "\"printing of extremely long output is truncated\"\n",
      "Warning message in smc_plans(nsims, adjlist, counties, popvec, ndists, popcons, :\n",
      "\"printing of extremely long output is truncated\"\n",
      "Warning message in smc_plans(nsims, adjlist, counties, popvec, ndists, popcons, :\n",
      "\"printing of extremely long output is truncated\"\n",
      "Warning message in smc_plans(nsims, adjlist, counties, popvec, ndists, popcons, :\n",
      "\"printing of extremely long output is truncated\"\n",
      "Warning message in smc_plans(nsims, adjlist, counties, popvec, ndists, popcons, :\n",
      "\"printing of extremely long output is truncated\"\n",
      "Warning message in smc_plans(nsims, adjlist, counties, popvec, ndists, popcons, :\n",
      "\"printing of extremely long output is truncated\"\n",
      "Warning message in smc_plans(nsims, adjlist, counties, popvec, ndists, popcons, :\n",
      "\"printing of extremely long output is truncated\"\n"
     ]
    },
    {
     "name": "stdout",
     "output_type": "stream",
     "text": [
      "10274 valid samples (43.1% of total)\n",
      "Making split 47 of 99\n",
      "Using k=4 for estimated success probability of 47.81%\n"
     ]
    },
    {
     "name": "stderr",
     "output_type": "stream",
     "text": [
      "Warning message in smc_plans(nsims, adjlist, counties, popvec, ndists, popcons, :\n",
      "\"printing of extremely long output is truncated\"\n",
      "Warning message in smc_plans(nsims, adjlist, counties, popvec, ndists, popcons, :\n",
      "\"printing of extremely long output is truncated\"\n",
      "Warning message in smc_plans(nsims, adjlist, counties, popvec, ndists, popcons, :\n",
      "\"printing of extremely long output is truncated\"\n",
      "Warning message in smc_plans(nsims, adjlist, counties, popvec, ndists, popcons, :\n",
      "\"printing of extremely long output is truncated\"\n",
      "Warning message in smc_plans(nsims, adjlist, counties, popvec, ndists, popcons, :\n",
      "\"printing of extremely long output is truncated\"\n",
      "Warning message in smc_plans(nsims, adjlist, counties, popvec, ndists, popcons, :\n",
      "\"printing of extremely long output is truncated\"\n",
      "Warning message in smc_plans(nsims, adjlist, counties, popvec, ndists, popcons, :\n",
      "\"printing of extremely long output is truncated\"\n",
      "Warning message in smc_plans(nsims, adjlist, counties, popvec, ndists, popcons, :\n",
      "\"printing of extremely long output is truncated\"\n",
      "Warning message in smc_plans(nsims, adjlist, counties, popvec, ndists, popcons, :\n",
      "\"printing of extremely long output is truncated\"\n",
      "Warning message in smc_plans(nsims, adjlist, counties, popvec, ndists, popcons, :\n",
      "\"printing of extremely long output is truncated\"\n"
     ]
    },
    {
     "name": "stdout",
     "output_type": "stream",
     "text": [
      "10705 valid samples (51.2% of total)\n",
      "Making split 48 of 99\n",
      "Using k=4 for estimated success probability of 44.38%\n"
     ]
    },
    {
     "name": "stderr",
     "output_type": "stream",
     "text": [
      "Warning message in smc_plans(nsims, adjlist, counties, popvec, ndists, popcons, :\n",
      "\"printing of extremely long output is truncated\"\n",
      "Warning message in smc_plans(nsims, adjlist, counties, popvec, ndists, popcons, :\n",
      "\"printing of extremely long output is truncated\"\n",
      "Warning message in smc_plans(nsims, adjlist, counties, popvec, ndists, popcons, :\n",
      "\"printing of extremely long output is truncated\"\n",
      "Warning message in smc_plans(nsims, adjlist, counties, popvec, ndists, popcons, :\n",
      "\"printing of extremely long output is truncated\"\n",
      "Warning message in smc_plans(nsims, adjlist, counties, popvec, ndists, popcons, :\n",
      "\"printing of extremely long output is truncated\"\n",
      "Warning message in smc_plans(nsims, adjlist, counties, popvec, ndists, popcons, :\n",
      "\"printing of extremely long output is truncated\"\n",
      "Warning message in smc_plans(nsims, adjlist, counties, popvec, ndists, popcons, :\n",
      "\"printing of extremely long output is truncated\"\n",
      "Warning message in smc_plans(nsims, adjlist, counties, popvec, ndists, popcons, :\n",
      "\"printing of extremely long output is truncated\"\n",
      "Warning message in smc_plans(nsims, adjlist, counties, popvec, ndists, popcons, :\n",
      "\"printing of extremely long output is truncated\"\n",
      "Warning message in smc_plans(nsims, adjlist, counties, popvec, ndists, popcons, :\n",
      "\"printing of extremely long output is truncated\"\n"
     ]
    },
    {
     "name": "stdout",
     "output_type": "stream",
     "text": [
      "11279 valid samples (50.0% of total)\n",
      "Making split 49 of 99\n",
      "Using k=4 for estimated success probability of 46.88%\n"
     ]
    },
    {
     "name": "stderr",
     "output_type": "stream",
     "text": [
      "Warning message in smc_plans(nsims, adjlist, counties, popvec, ndists, popcons, :\n",
      "\"printing of extremely long output is truncated\"\n",
      "Warning message in smc_plans(nsims, adjlist, counties, popvec, ndists, popcons, :\n",
      "\"printing of extremely long output is truncated\"\n",
      "Warning message in smc_plans(nsims, adjlist, counties, popvec, ndists, popcons, :\n",
      "\"printing of extremely long output is truncated\"\n",
      "Warning message in smc_plans(nsims, adjlist, counties, popvec, ndists, popcons, :\n",
      "\"printing of extremely long output is truncated\"\n",
      "Warning message in smc_plans(nsims, adjlist, counties, popvec, ndists, popcons, :\n",
      "\"printing of extremely long output is truncated\"\n",
      "Warning message in smc_plans(nsims, adjlist, counties, popvec, ndists, popcons, :\n",
      "\"printing of extremely long output is truncated\"\n",
      "Warning message in smc_plans(nsims, adjlist, counties, popvec, ndists, popcons, :\n",
      "\"printing of extremely long output is truncated\"\n",
      "Warning message in smc_plans(nsims, adjlist, counties, popvec, ndists, popcons, :\n",
      "\"printing of extremely long output is truncated\"\n",
      "Warning message in smc_plans(nsims, adjlist, counties, popvec, ndists, popcons, :\n",
      "\"printing of extremely long output is truncated\"\n",
      "Warning message in smc_plans(nsims, adjlist, counties, popvec, ndists, popcons, :\n",
      "\"printing of extremely long output is truncated\"\n"
     ]
    },
    {
     "name": "stdout",
     "output_type": "stream",
     "text": [
      "10693 valid samples (50.1% of total)\n",
      "Making split 50 of 99\n",
      "Using k=4 for estimated success probability of 42.50%\n"
     ]
    },
    {
     "name": "stderr",
     "output_type": "stream",
     "text": [
      "Warning message in smc_plans(nsims, adjlist, counties, popvec, ndists, popcons, :\n",
      "\"printing of extremely long output is truncated\"\n",
      "Warning message in smc_plans(nsims, adjlist, counties, popvec, ndists, popcons, :\n",
      "\"printing of extremely long output is truncated\"\n",
      "Warning message in smc_plans(nsims, adjlist, counties, popvec, ndists, popcons, :\n",
      "\"printing of extremely long output is truncated\"\n",
      "Warning message in smc_plans(nsims, adjlist, counties, popvec, ndists, popcons, :\n",
      "\"printing of extremely long output is truncated\"\n",
      "Warning message in smc_plans(nsims, adjlist, counties, popvec, ndists, popcons, :\n",
      "\"printing of extremely long output is truncated\"\n",
      "Warning message in smc_plans(nsims, adjlist, counties, popvec, ndists, popcons, :\n",
      "\"printing of extremely long output is truncated\"\n",
      "Warning message in smc_plans(nsims, adjlist, counties, popvec, ndists, popcons, :\n",
      "\"printing of extremely long output is truncated\"\n",
      "Warning message in smc_plans(nsims, adjlist, counties, popvec, ndists, popcons, :\n",
      "\"printing of extremely long output is truncated\"\n",
      "Warning message in smc_plans(nsims, adjlist, counties, popvec, ndists, popcons, :\n",
      "\"printing of extremely long output is truncated\"\n",
      "Warning message in smc_plans(nsims, adjlist, counties, popvec, ndists, popcons, :\n",
      "\"printing of extremely long output is truncated\"\n"
     ]
    },
    {
     "name": "stdout",
     "output_type": "stream",
     "text": [
      "11342 valid samples (48.2% of total)\n",
      "Making split 51 of 99\n",
      "Using k=4 for estimated success probability of 46.56%\n"
     ]
    },
    {
     "name": "stderr",
     "output_type": "stream",
     "text": [
      "Warning message in smc_plans(nsims, adjlist, counties, popvec, ndists, popcons, :\n",
      "\"printing of extremely long output is truncated\"\n",
      "Warning message in smc_plans(nsims, adjlist, counties, popvec, ndists, popcons, :\n",
      "\"printing of extremely long output is truncated\"\n",
      "Warning message in smc_plans(nsims, adjlist, counties, popvec, ndists, popcons, :\n",
      "\"printing of extremely long output is truncated\"\n",
      "Warning message in smc_plans(nsims, adjlist, counties, popvec, ndists, popcons, :\n",
      "\"printing of extremely long output is truncated\"\n",
      "Warning message in smc_plans(nsims, adjlist, counties, popvec, ndists, popcons, :\n",
      "\"printing of extremely long output is truncated\"\n",
      "Warning message in smc_plans(nsims, adjlist, counties, popvec, ndists, popcons, :\n",
      "\"printing of extremely long output is truncated\"\n",
      "Warning message in smc_plans(nsims, adjlist, counties, popvec, ndists, popcons, :\n",
      "\"printing of extremely long output is truncated\"\n",
      "Warning message in smc_plans(nsims, adjlist, counties, popvec, ndists, popcons, :\n",
      "\"printing of extremely long output is truncated\"\n",
      "Warning message in smc_plans(nsims, adjlist, counties, popvec, ndists, popcons, :\n",
      "\"printing of extremely long output is truncated\"\n",
      "Warning message in smc_plans(nsims, adjlist, counties, popvec, ndists, popcons, :\n",
      "\"printing of extremely long output is truncated\"\n"
     ]
    },
    {
     "name": "stdout",
     "output_type": "stream",
     "text": [
      "10272 valid samples (47.8% of total)\n",
      "Making split 52 of 99\n",
      "Using k=4 for estimated success probability of 36.88%\n"
     ]
    },
    {
     "name": "stderr",
     "output_type": "stream",
     "text": [
      "Warning message in smc_plans(nsims, adjlist, counties, popvec, ndists, popcons, :\n",
      "\"printing of extremely long output is truncated\"\n",
      "Warning message in smc_plans(nsims, adjlist, counties, popvec, ndists, popcons, :\n",
      "\"printing of extremely long output is truncated\"\n",
      "Warning message in smc_plans(nsims, adjlist, counties, popvec, ndists, popcons, :\n",
      "\"printing of extremely long output is truncated\"\n",
      "Warning message in smc_plans(nsims, adjlist, counties, popvec, ndists, popcons, :\n",
      "\"printing of extremely long output is truncated\"\n",
      "Warning message in smc_plans(nsims, adjlist, counties, popvec, ndists, popcons, :\n",
      "\"printing of extremely long output is truncated\"\n",
      "Warning message in smc_plans(nsims, adjlist, counties, popvec, ndists, popcons, :\n",
      "\"printing of extremely long output is truncated\"\n",
      "Warning message in smc_plans(nsims, adjlist, counties, popvec, ndists, popcons, :\n",
      "\"printing of extremely long output is truncated\"\n",
      "Warning message in smc_plans(nsims, adjlist, counties, popvec, ndists, popcons, :\n",
      "\"printing of extremely long output is truncated\"\n",
      "Warning message in smc_plans(nsims, adjlist, counties, popvec, ndists, popcons, :\n",
      "\"printing of extremely long output is truncated\"\n",
      "Warning message in smc_plans(nsims, adjlist, counties, popvec, ndists, popcons, :\n",
      "\"printing of extremely long output is truncated\"\n"
     ]
    },
    {
     "name": "stdout",
     "output_type": "stream",
     "text": [
      "12639 valid samples (46.6% of total)\n",
      "Making split 53 of 99\n",
      "Using k=4 for estimated success probability of 39.69%\n"
     ]
    },
    {
     "name": "stderr",
     "output_type": "stream",
     "text": [
      "Warning message in smc_plans(nsims, adjlist, counties, popvec, ndists, popcons, :\n",
      "\"printing of extremely long output is truncated\"\n",
      "Warning message in smc_plans(nsims, adjlist, counties, popvec, ndists, popcons, :\n",
      "\"printing of extremely long output is truncated\"\n",
      "Warning message in smc_plans(nsims, adjlist, counties, popvec, ndists, popcons, :\n",
      "\"printing of extremely long output is truncated\"\n",
      "Warning message in smc_plans(nsims, adjlist, counties, popvec, ndists, popcons, :\n",
      "\"printing of extremely long output is truncated\"\n",
      "Warning message in smc_plans(nsims, adjlist, counties, popvec, ndists, popcons, :\n",
      "\"printing of extremely long output is truncated\"\n",
      "Warning message in smc_plans(nsims, adjlist, counties, popvec, ndists, popcons, :\n",
      "\"printing of extremely long output is truncated\"\n",
      "Warning message in smc_plans(nsims, adjlist, counties, popvec, ndists, popcons, :\n",
      "\"printing of extremely long output is truncated\"\n",
      "Warning message in smc_plans(nsims, adjlist, counties, popvec, ndists, popcons, :\n",
      "\"printing of extremely long output is truncated\"\n",
      "Warning message in smc_plans(nsims, adjlist, counties, popvec, ndists, popcons, :\n",
      "\"printing of extremely long output is truncated\"\n",
      "Warning message in smc_plans(nsims, adjlist, counties, popvec, ndists, popcons, :\n",
      "\"printing of extremely long output is truncated\"\n"
     ]
    },
    {
     "name": "stdout",
     "output_type": "stream",
     "text": [
      "11549 valid samples (45.8% of total)\n",
      "Making split 54 of 99\n",
      "Using k=4 for estimated success probability of 41.25%\n"
     ]
    },
    {
     "name": "stderr",
     "output_type": "stream",
     "text": [
      "Warning message in smc_plans(nsims, adjlist, counties, popvec, ndists, popcons, :\n",
      "\"printing of extremely long output is truncated\"\n",
      "Warning message in smc_plans(nsims, adjlist, counties, popvec, ndists, popcons, :\n",
      "\"printing of extremely long output is truncated\"\n",
      "Warning message in smc_plans(nsims, adjlist, counties, popvec, ndists, popcons, :\n",
      "\"printing of extremely long output is truncated\"\n",
      "Warning message in smc_plans(nsims, adjlist, counties, popvec, ndists, popcons, :\n",
      "\"printing of extremely long output is truncated\"\n",
      "Warning message in smc_plans(nsims, adjlist, counties, popvec, ndists, popcons, :\n",
      "\"printing of extremely long output is truncated\"\n",
      "Warning message in smc_plans(nsims, adjlist, counties, popvec, ndists, popcons, :\n",
      "\"printing of extremely long output is truncated\"\n",
      "Warning message in smc_plans(nsims, adjlist, counties, popvec, ndists, popcons, :\n",
      "\"printing of extremely long output is truncated\"\n",
      "Warning message in smc_plans(nsims, adjlist, counties, popvec, ndists, popcons, :\n",
      "\"printing of extremely long output is truncated\"\n",
      "Warning message in smc_plans(nsims, adjlist, counties, popvec, ndists, popcons, :\n",
      "\"printing of extremely long output is truncated\"\n",
      "Warning message in smc_plans(nsims, adjlist, counties, popvec, ndists, popcons, :\n",
      "\"printing of extremely long output is truncated\"\n"
     ]
    },
    {
     "name": "stdout",
     "output_type": "stream",
     "text": [
      "10865 valid samples (44.8% of total)\n",
      "Making split 55 of 99\n",
      "Using k=4 for estimated success probability of 40.63%\n"
     ]
    },
    {
     "name": "stderr",
     "output_type": "stream",
     "text": [
      "Warning message in smc_plans(nsims, adjlist, counties, popvec, ndists, popcons, :\n",
      "\"printing of extremely long output is truncated\"\n",
      "Warning message in smc_plans(nsims, adjlist, counties, popvec, ndists, popcons, :\n",
      "\"printing of extremely long output is truncated\"\n",
      "Warning message in smc_plans(nsims, adjlist, counties, popvec, ndists, popcons, :\n",
      "\"printing of extremely long output is truncated\"\n",
      "Warning message in smc_plans(nsims, adjlist, counties, popvec, ndists, popcons, :\n",
      "\"printing of extremely long output is truncated\"\n",
      "Warning message in smc_plans(nsims, adjlist, counties, popvec, ndists, popcons, :\n",
      "\"printing of extremely long output is truncated\"\n",
      "Warning message in smc_plans(nsims, adjlist, counties, popvec, ndists, popcons, :\n",
      "\"printing of extremely long output is truncated\"\n",
      "Warning message in smc_plans(nsims, adjlist, counties, popvec, ndists, popcons, :\n",
      "\"printing of extremely long output is truncated\"\n",
      "Warning message in smc_plans(nsims, adjlist, counties, popvec, ndists, popcons, :\n",
      "\"printing of extremely long output is truncated\"\n",
      "Warning message in smc_plans(nsims, adjlist, counties, popvec, ndists, popcons, :\n",
      "\"printing of extremely long output is truncated\"\n",
      "Warning message in smc_plans(nsims, adjlist, counties, popvec, ndists, popcons, :\n",
      "\"printing of extremely long output is truncated\"\n"
     ]
    },
    {
     "name": "stdout",
     "output_type": "stream",
     "text": [
      "10757 valid samples (43.7% of total)\n",
      "Making split 56 of 99\n",
      "Using k=4 for estimated success probability of 41.25%\n"
     ]
    },
    {
     "name": "stderr",
     "output_type": "stream",
     "text": [
      "Warning message in smc_plans(nsims, adjlist, counties, popvec, ndists, popcons, :\n",
      "\"printing of extremely long output is truncated\"\n",
      "Warning message in smc_plans(nsims, adjlist, counties, popvec, ndists, popcons, :\n",
      "\"printing of extremely long output is truncated\"\n",
      "Warning message in smc_plans(nsims, adjlist, counties, popvec, ndists, popcons, :\n",
      "\"printing of extremely long output is truncated\"\n",
      "Warning message in smc_plans(nsims, adjlist, counties, popvec, ndists, popcons, :\n",
      "\"printing of extremely long output is truncated\"\n",
      "Warning message in smc_plans(nsims, adjlist, counties, popvec, ndists, popcons, :\n",
      "\"printing of extremely long output is truncated\"\n",
      "Warning message in smc_plans(nsims, adjlist, counties, popvec, ndists, popcons, :\n",
      "\"printing of extremely long output is truncated\"\n",
      "Warning message in smc_plans(nsims, adjlist, counties, popvec, ndists, popcons, :\n",
      "\"printing of extremely long output is truncated\"\n",
      "Warning message in smc_plans(nsims, adjlist, counties, popvec, ndists, popcons, :\n",
      "\"printing of extremely long output is truncated\"\n",
      "Warning message in smc_plans(nsims, adjlist, counties, popvec, ndists, popcons, :\n",
      "\"printing of extremely long output is truncated\"\n",
      "Warning message in smc_plans(nsims, adjlist, counties, popvec, ndists, popcons, :\n",
      "\"printing of extremely long output is truncated\"\n"
     ]
    },
    {
     "name": "stdout",
     "output_type": "stream",
     "text": [
      "10531 valid samples (43.4% of total)\n",
      "Making split 57 of 99\n",
      "Using k=4 for estimated success probability of 37.81%\n"
     ]
    },
    {
     "name": "stderr",
     "output_type": "stream",
     "text": [
      "Warning message in smc_plans(nsims, adjlist, counties, popvec, ndists, popcons, :\n",
      "\"printing of extremely long output is truncated\"\n",
      "Warning message in smc_plans(nsims, adjlist, counties, popvec, ndists, popcons, :\n",
      "\"printing of extremely long output is truncated\"\n",
      "Warning message in smc_plans(nsims, adjlist, counties, popvec, ndists, popcons, :\n",
      "\"printing of extremely long output is truncated\"\n",
      "Warning message in smc_plans(nsims, adjlist, counties, popvec, ndists, popcons, :\n",
      "\"printing of extremely long output is truncated\"\n",
      "Warning message in smc_plans(nsims, adjlist, counties, popvec, ndists, popcons, :\n",
      "\"printing of extremely long output is truncated\"\n",
      "Warning message in smc_plans(nsims, adjlist, counties, popvec, ndists, popcons, :\n",
      "\"printing of extremely long output is truncated\"\n",
      "Warning message in smc_plans(nsims, adjlist, counties, popvec, ndists, popcons, :\n",
      "\"printing of extremely long output is truncated\"\n",
      "Warning message in smc_plans(nsims, adjlist, counties, popvec, ndists, popcons, :\n",
      "\"printing of extremely long output is truncated\"\n",
      "Warning message in smc_plans(nsims, adjlist, counties, popvec, ndists, popcons, :\n",
      "\"printing of extremely long output is truncated\"\n",
      "Warning message in smc_plans(nsims, adjlist, counties, popvec, ndists, popcons, :\n",
      "\"printing of extremely long output is truncated\"\n"
     ]
    },
    {
     "name": "stdout",
     "output_type": "stream",
     "text": [
      "11186 valid samples (42.3% of total)\n",
      "Making split 58 of 99\n",
      "Using k=4 for estimated success probability of 36.56%\n"
     ]
    },
    {
     "name": "stderr",
     "output_type": "stream",
     "text": [
      "Warning message in smc_plans(nsims, adjlist, counties, popvec, ndists, popcons, :\n",
      "\"printing of extremely long output is truncated\"\n",
      "Warning message in smc_plans(nsims, adjlist, counties, popvec, ndists, popcons, :\n",
      "\"printing of extremely long output is truncated\"\n",
      "Warning message in smc_plans(nsims, adjlist, counties, popvec, ndists, popcons, :\n",
      "\"printing of extremely long output is truncated\"\n",
      "Warning message in smc_plans(nsims, adjlist, counties, popvec, ndists, popcons, :\n",
      "\"printing of extremely long output is truncated\"\n",
      "Warning message in smc_plans(nsims, adjlist, counties, popvec, ndists, popcons, :\n",
      "\"printing of extremely long output is truncated\"\n",
      "Warning message in smc_plans(nsims, adjlist, counties, popvec, ndists, popcons, :\n",
      "\"printing of extremely long output is truncated\"\n",
      "Warning message in smc_plans(nsims, adjlist, counties, popvec, ndists, popcons, :\n",
      "\"printing of extremely long output is truncated\"\n",
      "Warning message in smc_plans(nsims, adjlist, counties, popvec, ndists, popcons, :\n",
      "\"printing of extremely long output is truncated\"\n",
      "Warning message in smc_plans(nsims, adjlist, counties, popvec, ndists, popcons, :\n",
      "\"printing of extremely long output is truncated\"\n",
      "Warning message in smc_plans(nsims, adjlist, counties, popvec, ndists, popcons, :\n",
      "\"printing of extremely long output is truncated\"\n"
     ]
    },
    {
     "name": "stdout",
     "output_type": "stream",
     "text": [
      "11197 valid samples (40.9% of total)\n",
      "Making split 59 of 99\n",
      "Using k=4 for estimated success probability of 43.44%\n"
     ]
    },
    {
     "name": "stderr",
     "output_type": "stream",
     "text": [
      "Warning message in smc_plans(nsims, adjlist, counties, popvec, ndists, popcons, :\n",
      "\"printing of extremely long output is truncated\"\n",
      "Warning message in smc_plans(nsims, adjlist, counties, popvec, ndists, popcons, :\n",
      "\"printing of extremely long output is truncated\"\n",
      "Warning message in smc_plans(nsims, adjlist, counties, popvec, ndists, popcons, :\n",
      "\"printing of extremely long output is truncated\"\n",
      "Warning message in smc_plans(nsims, adjlist, counties, popvec, ndists, popcons, :\n",
      "\"printing of extremely long output is truncated\"\n",
      "Warning message in smc_plans(nsims, adjlist, counties, popvec, ndists, popcons, :\n",
      "\"printing of extremely long output is truncated\"\n",
      "Warning message in smc_plans(nsims, adjlist, counties, popvec, ndists, popcons, :\n",
      "\"printing of extremely long output is truncated\"\n",
      "Warning message in smc_plans(nsims, adjlist, counties, popvec, ndists, popcons, :\n",
      "\"printing of extremely long output is truncated\"\n",
      "Warning message in smc_plans(nsims, adjlist, counties, popvec, ndists, popcons, :\n",
      "\"printing of extremely long output is truncated\"\n",
      "Warning message in smc_plans(nsims, adjlist, counties, popvec, ndists, popcons, :\n",
      "\"printing of extremely long output is truncated\"\n",
      "Warning message in smc_plans(nsims, adjlist, counties, popvec, ndists, popcons, :\n",
      "\"printing of extremely long output is truncated\"\n"
     ]
    },
    {
     "name": "stdout",
     "output_type": "stream",
     "text": [
      "9186 valid samples (39.9% of total)\n",
      "Making split 60 of 99\n",
      "Using k=4 for estimated success probability of 40.00%\n"
     ]
    },
    {
     "name": "stderr",
     "output_type": "stream",
     "text": [
      "Warning message in smc_plans(nsims, adjlist, counties, popvec, ndists, popcons, :\n",
      "\"printing of extremely long output is truncated\"\n",
      "Warning message in smc_plans(nsims, adjlist, counties, popvec, ndists, popcons, :\n",
      "\"printing of extremely long output is truncated\"\n",
      "Warning message in smc_plans(nsims, adjlist, counties, popvec, ndists, popcons, :\n",
      "\"printing of extremely long output is truncated\"\n",
      "Warning message in smc_plans(nsims, adjlist, counties, popvec, ndists, popcons, :\n",
      "\"printing of extremely long output is truncated\"\n",
      "Warning message in smc_plans(nsims, adjlist, counties, popvec, ndists, popcons, :\n",
      "\"printing of extremely long output is truncated\"\n",
      "Warning message in smc_plans(nsims, adjlist, counties, popvec, ndists, popcons, :\n",
      "\"printing of extremely long output is truncated\"\n",
      "Warning message in smc_plans(nsims, adjlist, counties, popvec, ndists, popcons, :\n",
      "\"printing of extremely long output is truncated\"\n",
      "Warning message in smc_plans(nsims, adjlist, counties, popvec, ndists, popcons, :\n",
      "\"printing of extremely long output is truncated\"\n",
      "Warning message in smc_plans(nsims, adjlist, counties, popvec, ndists, popcons, :\n",
      "\"printing of extremely long output is truncated\"\n",
      "Warning message in smc_plans(nsims, adjlist, counties, popvec, ndists, popcons, :\n",
      "\"printing of extremely long output is truncated\"\n"
     ]
    },
    {
     "name": "stdout",
     "output_type": "stream",
     "text": [
      "9931 valid samples (39.7% of total)\n",
      "Making split 61 of 99\n",
      "Using k=4 for estimated success probability of 31.25%\n"
     ]
    },
    {
     "name": "stderr",
     "output_type": "stream",
     "text": [
      "Warning message in smc_plans(nsims, adjlist, counties, popvec, ndists, popcons, :\n",
      "\"printing of extremely long output is truncated\"\n",
      "Warning message in smc_plans(nsims, adjlist, counties, popvec, ndists, popcons, :\n",
      "\"printing of extremely long output is truncated\"\n",
      "Warning message in smc_plans(nsims, adjlist, counties, popvec, ndists, popcons, :\n",
      "\"printing of extremely long output is truncated\"\n",
      "Warning message in smc_plans(nsims, adjlist, counties, popvec, ndists, popcons, :\n",
      "\"printing of extremely long output is truncated\"\n",
      "Warning message in smc_plans(nsims, adjlist, counties, popvec, ndists, popcons, :\n",
      "\"printing of extremely long output is truncated\"\n",
      "Warning message in smc_plans(nsims, adjlist, counties, popvec, ndists, popcons, :\n",
      "\"printing of extremely long output is truncated\"\n",
      "Warning message in smc_plans(nsims, adjlist, counties, popvec, ndists, popcons, :\n",
      "\"printing of extremely long output is truncated\"\n",
      "Warning message in smc_plans(nsims, adjlist, counties, popvec, ndists, popcons, :\n",
      "\"printing of extremely long output is truncated\"\n",
      "Warning message in smc_plans(nsims, adjlist, counties, popvec, ndists, popcons, :\n",
      "\"printing of extremely long output is truncated\"\n",
      "Warning message in smc_plans(nsims, adjlist, counties, popvec, ndists, popcons, :\n",
      "\"printing of extremely long output is truncated\"\n"
     ]
    },
    {
     "name": "stdout",
     "output_type": "stream",
     "text": [
      "12490 valid samples (39.0% of total)\n",
      "Making split 62 of 99\n",
      "Using k=3 for estimated success probability of 40.83%\n"
     ]
    },
    {
     "name": "stderr",
     "output_type": "stream",
     "text": [
      "Warning message in smc_plans(nsims, adjlist, counties, popvec, ndists, popcons, :\n",
      "\"printing of extremely long output is truncated\"\n",
      "Warning message in smc_plans(nsims, adjlist, counties, popvec, ndists, popcons, :\n",
      "\"printing of extremely long output is truncated\"\n",
      "Warning message in smc_plans(nsims, adjlist, counties, popvec, ndists, popcons, :\n",
      "\"printing of extremely long output is truncated\"\n",
      "Warning message in smc_plans(nsims, adjlist, counties, popvec, ndists, popcons, :\n",
      "\"printing of extremely long output is truncated\"\n",
      "Warning message in smc_plans(nsims, adjlist, counties, popvec, ndists, popcons, :\n",
      "\"printing of extremely long output is truncated\"\n",
      "Warning message in smc_plans(nsims, adjlist, counties, popvec, ndists, popcons, :\n",
      "\"printing of extremely long output is truncated\"\n",
      "Warning message in smc_plans(nsims, adjlist, counties, popvec, ndists, popcons, :\n",
      "\"printing of extremely long output is truncated\"\n",
      "Warning message in smc_plans(nsims, adjlist, counties, popvec, ndists, popcons, :\n",
      "\"printing of extremely long output is truncated\"\n",
      "Warning message in smc_plans(nsims, adjlist, counties, popvec, ndists, popcons, :\n",
      "\"printing of extremely long output is truncated\"\n",
      "Warning message in smc_plans(nsims, adjlist, counties, popvec, ndists, popcons, :\n",
      "\"printing of extremely long output is truncated\"\n"
     ]
    },
    {
     "name": "stdout",
     "output_type": "stream",
     "text": [
      "12001 valid samples (49.0% of total)\n",
      "Making split 63 of 99\n",
      "Using k=4 for estimated success probability of 40.00%\n"
     ]
    },
    {
     "name": "stderr",
     "output_type": "stream",
     "text": [
      "Warning message in smc_plans(nsims, adjlist, counties, popvec, ndists, popcons, :\n",
      "\"printing of extremely long output is truncated\"\n",
      "Warning message in smc_plans(nsims, adjlist, counties, popvec, ndists, popcons, :\n",
      "\"printing of extremely long output is truncated\"\n",
      "Warning message in smc_plans(nsims, adjlist, counties, popvec, ndists, popcons, :\n",
      "\"printing of extremely long output is truncated\"\n",
      "Warning message in smc_plans(nsims, adjlist, counties, popvec, ndists, popcons, :\n",
      "\"printing of extremely long output is truncated\"\n",
      "Warning message in smc_plans(nsims, adjlist, counties, popvec, ndists, popcons, :\n",
      "\"printing of extremely long output is truncated\"\n",
      "Warning message in smc_plans(nsims, adjlist, counties, popvec, ndists, popcons, :\n",
      "\"printing of extremely long output is truncated\"\n",
      "Warning message in smc_plans(nsims, adjlist, counties, popvec, ndists, popcons, :\n",
      "\"printing of extremely long output is truncated\"\n",
      "Warning message in smc_plans(nsims, adjlist, counties, popvec, ndists, popcons, :\n",
      "\"printing of extremely long output is truncated\"\n",
      "Warning message in smc_plans(nsims, adjlist, counties, popvec, ndists, popcons, :\n",
      "\"printing of extremely long output is truncated\"\n",
      "Warning message in smc_plans(nsims, adjlist, counties, popvec, ndists, popcons, :\n",
      "\"printing of extremely long output is truncated\"\n"
     ]
    },
    {
     "name": "stdout",
     "output_type": "stream",
     "text": [
      "9264 valid samples (37.1% of total)\n",
      "Making split 64 of 99\n",
      "Using k=3 for estimated success probability of 39.17%\n"
     ]
    },
    {
     "name": "stderr",
     "output_type": "stream",
     "text": [
      "Warning message in smc_plans(nsims, adjlist, counties, popvec, ndists, popcons, :\n",
      "\"printing of extremely long output is truncated\"\n",
      "Warning message in smc_plans(nsims, adjlist, counties, popvec, ndists, popcons, :\n",
      "\"printing of extremely long output is truncated\"\n",
      "Warning message in smc_plans(nsims, adjlist, counties, popvec, ndists, popcons, :\n",
      "\"printing of extremely long output is truncated\"\n",
      "Warning message in smc_plans(nsims, adjlist, counties, popvec, ndists, popcons, :\n",
      "\"printing of extremely long output is truncated\"\n",
      "Warning message in smc_plans(nsims, adjlist, counties, popvec, ndists, popcons, :\n",
      "\"printing of extremely long output is truncated\"\n",
      "Warning message in smc_plans(nsims, adjlist, counties, popvec, ndists, popcons, :\n",
      "\"printing of extremely long output is truncated\"\n",
      "Warning message in smc_plans(nsims, adjlist, counties, popvec, ndists, popcons, :\n",
      "\"printing of extremely long output is truncated\"\n",
      "Warning message in smc_plans(nsims, adjlist, counties, popvec, ndists, popcons, :\n",
      "\"printing of extremely long output is truncated\"\n",
      "Warning message in smc_plans(nsims, adjlist, counties, popvec, ndists, popcons, :\n",
      "\"printing of extremely long output is truncated\"\n",
      "Warning message in smc_plans(nsims, adjlist, counties, popvec, ndists, popcons, :\n",
      "\"printing of extremely long output is truncated\"\n"
     ]
    },
    {
     "name": "stdout",
     "output_type": "stream",
     "text": [
      "11931 valid samples (46.7% of total)\n",
      "Making split 65 of 99\n",
      "Using k=4 for estimated success probability of 37.19%\n"
     ]
    },
    {
     "name": "stderr",
     "output_type": "stream",
     "text": [
      "Warning message in smc_plans(nsims, adjlist, counties, popvec, ndists, popcons, :\n",
      "\"printing of extremely long output is truncated\"\n",
      "Warning message in smc_plans(nsims, adjlist, counties, popvec, ndists, popcons, :\n",
      "\"printing of extremely long output is truncated\"\n",
      "Warning message in smc_plans(nsims, adjlist, counties, popvec, ndists, popcons, :\n",
      "\"printing of extremely long output is truncated\"\n",
      "Warning message in smc_plans(nsims, adjlist, counties, popvec, ndists, popcons, :\n",
      "\"printing of extremely long output is truncated\"\n",
      "Warning message in smc_plans(nsims, adjlist, counties, popvec, ndists, popcons, :\n",
      "\"printing of extremely long output is truncated\"\n",
      "Warning message in smc_plans(nsims, adjlist, counties, popvec, ndists, popcons, :\n",
      "\"printing of extremely long output is truncated\"\n",
      "Warning message in smc_plans(nsims, adjlist, counties, popvec, ndists, popcons, :\n",
      "\"printing of extremely long output is truncated\"\n",
      "Warning message in smc_plans(nsims, adjlist, counties, popvec, ndists, popcons, :\n",
      "\"printing of extremely long output is truncated\"\n",
      "Warning message in smc_plans(nsims, adjlist, counties, popvec, ndists, popcons, :\n",
      "\"printing of extremely long output is truncated\"\n",
      "Warning message in smc_plans(nsims, adjlist, counties, popvec, ndists, popcons, :\n",
      "\"printing of extremely long output is truncated\"\n"
     ]
    },
    {
     "name": "stdout",
     "output_type": "stream",
     "text": [
      "9541 valid samples (35.5% of total)\n",
      "Making split 66 of 99\n",
      "Using k=3 for estimated success probability of 39.58%\n"
     ]
    },
    {
     "name": "stderr",
     "output_type": "stream",
     "text": [
      "Warning message in smc_plans(nsims, adjlist, counties, popvec, ndists, popcons, :\n",
      "\"printing of extremely long output is truncated\"\n",
      "Warning message in smc_plans(nsims, adjlist, counties, popvec, ndists, popcons, :\n",
      "\"printing of extremely long output is truncated\"\n",
      "Warning message in smc_plans(nsims, adjlist, counties, popvec, ndists, popcons, :\n",
      "\"printing of extremely long output is truncated\"\n",
      "Warning message in smc_plans(nsims, adjlist, counties, popvec, ndists, popcons, :\n",
      "\"printing of extremely long output is truncated\"\n",
      "Warning message in smc_plans(nsims, adjlist, counties, popvec, ndists, popcons, :\n",
      "\"printing of extremely long output is truncated\"\n",
      "Warning message in smc_plans(nsims, adjlist, counties, popvec, ndists, popcons, :\n",
      "\"printing of extremely long output is truncated\"\n",
      "Warning message in smc_plans(nsims, adjlist, counties, popvec, ndists, popcons, :\n",
      "\"printing of extremely long output is truncated\"\n",
      "Warning message in smc_plans(nsims, adjlist, counties, popvec, ndists, popcons, :\n",
      "\"printing of extremely long output is truncated\"\n",
      "Warning message in smc_plans(nsims, adjlist, counties, popvec, ndists, popcons, :\n",
      "\"printing of extremely long output is truncated\"\n",
      "Warning message in smc_plans(nsims, adjlist, counties, popvec, ndists, popcons, :\n",
      "\"printing of extremely long output is truncated\"\n"
     ]
    },
    {
     "name": "stdout",
     "output_type": "stream",
     "text": [
      "11433 valid samples (45.3% of total)\n",
      "Making split 67 of 99\n",
      "Using k=3 for estimated success probability of 40.00%\n"
     ]
    },
    {
     "name": "stderr",
     "output_type": "stream",
     "text": [
      "Warning message in smc_plans(nsims, adjlist, counties, popvec, ndists, popcons, :\n",
      "\"printing of extremely long output is truncated\"\n",
      "Warning message in smc_plans(nsims, adjlist, counties, popvec, ndists, popcons, :\n",
      "\"printing of extremely long output is truncated\"\n",
      "Warning message in smc_plans(nsims, adjlist, counties, popvec, ndists, popcons, :\n",
      "\"printing of extremely long output is truncated\"\n",
      "Warning message in smc_plans(nsims, adjlist, counties, popvec, ndists, popcons, :\n",
      "\"printing of extremely long output is truncated\"\n",
      "Warning message in smc_plans(nsims, adjlist, counties, popvec, ndists, popcons, :\n",
      "\"printing of extremely long output is truncated\"\n",
      "Warning message in smc_plans(nsims, adjlist, counties, popvec, ndists, popcons, :\n",
      "\"printing of extremely long output is truncated\"\n",
      "Warning message in smc_plans(nsims, adjlist, counties, popvec, ndists, popcons, :\n",
      "\"printing of extremely long output is truncated\"\n",
      "Warning message in smc_plans(nsims, adjlist, counties, popvec, ndists, popcons, :\n",
      "\"printing of extremely long output is truncated\"\n",
      "Warning message in smc_plans(nsims, adjlist, counties, popvec, ndists, popcons, :\n",
      "\"printing of extremely long output is truncated\"\n",
      "Warning message in smc_plans(nsims, adjlist, counties, popvec, ndists, popcons, :\n",
      "\"printing of extremely long output is truncated\"\n"
     ]
    },
    {
     "name": "stdout",
     "output_type": "stream",
     "text": [
      "10916 valid samples (43.7% of total)\n",
      "Making split 68 of 99\n",
      "Using k=4 for estimated success probability of 31.25%\n"
     ]
    },
    {
     "name": "stderr",
     "output_type": "stream",
     "text": [
      "Warning message in smc_plans(nsims, adjlist, counties, popvec, ndists, popcons, :\n",
      "\"printing of extremely long output is truncated\"\n",
      "Warning message in smc_plans(nsims, adjlist, counties, popvec, ndists, popcons, :\n",
      "\"printing of extremely long output is truncated\"\n",
      "Warning message in smc_plans(nsims, adjlist, counties, popvec, ndists, popcons, :\n",
      "\"printing of extremely long output is truncated\"\n",
      "Warning message in smc_plans(nsims, adjlist, counties, popvec, ndists, popcons, :\n",
      "\"printing of extremely long output is truncated\"\n",
      "Warning message in smc_plans(nsims, adjlist, counties, popvec, ndists, popcons, :\n",
      "\"printing of extremely long output is truncated\"\n",
      "Warning message in smc_plans(nsims, adjlist, counties, popvec, ndists, popcons, :\n",
      "\"printing of extremely long output is truncated\"\n",
      "Warning message in smc_plans(nsims, adjlist, counties, popvec, ndists, popcons, :\n",
      "\"printing of extremely long output is truncated\"\n",
      "Warning message in smc_plans(nsims, adjlist, counties, popvec, ndists, popcons, :\n",
      "\"printing of extremely long output is truncated\"\n",
      "Warning message in smc_plans(nsims, adjlist, counties, popvec, ndists, popcons, :\n",
      "\"printing of extremely long output is truncated\"\n",
      "Warning message in smc_plans(nsims, adjlist, counties, popvec, ndists, popcons, :\n",
      "\"printing of extremely long output is truncated\"\n"
     ]
    },
    {
     "name": "stdout",
     "output_type": "stream",
     "text": [
      "10642 valid samples (33.3% of total)\n",
      "Making split 69 of 99\n",
      "Using k=3 for estimated success probability of 31.25%\n"
     ]
    },
    {
     "name": "stderr",
     "output_type": "stream",
     "text": [
      "Warning message in smc_plans(nsims, adjlist, counties, popvec, ndists, popcons, :\n",
      "\"printing of extremely long output is truncated\"\n",
      "Warning message in smc_plans(nsims, adjlist, counties, popvec, ndists, popcons, :\n",
      "\"printing of extremely long output is truncated\"\n",
      "Warning message in smc_plans(nsims, adjlist, counties, popvec, ndists, popcons, :\n",
      "\"printing of extremely long output is truncated\"\n",
      "Warning message in smc_plans(nsims, adjlist, counties, popvec, ndists, popcons, :\n",
      "\"printing of extremely long output is truncated\"\n",
      "Warning message in smc_plans(nsims, adjlist, counties, popvec, ndists, popcons, :\n",
      "\"printing of extremely long output is truncated\"\n",
      "Warning message in smc_plans(nsims, adjlist, counties, popvec, ndists, popcons, :\n",
      "\"printing of extremely long output is truncated\"\n",
      "Warning message in smc_plans(nsims, adjlist, counties, popvec, ndists, popcons, :\n",
      "\"printing of extremely long output is truncated\"\n",
      "Warning message in smc_plans(nsims, adjlist, counties, popvec, ndists, popcons, :\n",
      "\"printing of extremely long output is truncated\"\n",
      "Warning message in smc_plans(nsims, adjlist, counties, popvec, ndists, popcons, :\n",
      "\"printing of extremely long output is truncated\"\n",
      "Warning message in smc_plans(nsims, adjlist, counties, popvec, ndists, popcons, :\n",
      "\"printing of extremely long output is truncated\"\n"
     ]
    },
    {
     "name": "stdout",
     "output_type": "stream",
     "text": [
      "13340 valid samples (41.7% of total)\n",
      "Making split 70 of 99\n",
      "Using k=4 for estimated success probability of 32.19%\n"
     ]
    },
    {
     "name": "stderr",
     "output_type": "stream",
     "text": [
      "Warning message in smc_plans(nsims, adjlist, counties, popvec, ndists, popcons, :\n",
      "\"printing of extremely long output is truncated\"\n",
      "Warning message in smc_plans(nsims, adjlist, counties, popvec, ndists, popcons, :\n",
      "\"printing of extremely long output is truncated\"\n",
      "Warning message in smc_plans(nsims, adjlist, counties, popvec, ndists, popcons, :\n",
      "\"printing of extremely long output is truncated\"\n",
      "Warning message in smc_plans(nsims, adjlist, counties, popvec, ndists, popcons, :\n",
      "\"printing of extremely long output is truncated\"\n",
      "Warning message in smc_plans(nsims, adjlist, counties, popvec, ndists, popcons, :\n",
      "\"printing of extremely long output is truncated\"\n",
      "Warning message in smc_plans(nsims, adjlist, counties, popvec, ndists, popcons, :\n",
      "\"printing of extremely long output is truncated\"\n",
      "Warning message in smc_plans(nsims, adjlist, counties, popvec, ndists, popcons, :\n",
      "\"printing of extremely long output is truncated\"\n",
      "Warning message in smc_plans(nsims, adjlist, counties, popvec, ndists, popcons, :\n",
      "\"printing of extremely long output is truncated\"\n",
      "Warning message in smc_plans(nsims, adjlist, counties, popvec, ndists, popcons, :\n",
      "\"printing of extremely long output is truncated\"\n",
      "Warning message in smc_plans(nsims, adjlist, counties, popvec, ndists, popcons, :\n",
      "\"printing of extremely long output is truncated\"\n"
     ]
    },
    {
     "name": "stdout",
     "output_type": "stream",
     "text": [
      "9683 valid samples (31.2% of total)\n",
      "Making split 71 of 99\n",
      "Using k=3 for estimated success probability of 32.92%\n"
     ]
    },
    {
     "name": "stderr",
     "output_type": "stream",
     "text": [
      "Warning message in smc_plans(nsims, adjlist, counties, popvec, ndists, popcons, :\n",
      "\"printing of extremely long output is truncated\"\n",
      "Warning message in smc_plans(nsims, adjlist, counties, popvec, ndists, popcons, :\n",
      "\"printing of extremely long output is truncated\"\n",
      "Warning message in smc_plans(nsims, adjlist, counties, popvec, ndists, popcons, :\n",
      "\"printing of extremely long output is truncated\"\n",
      "Warning message in smc_plans(nsims, adjlist, counties, popvec, ndists, popcons, :\n",
      "\"printing of extremely long output is truncated\"\n",
      "Warning message in smc_plans(nsims, adjlist, counties, popvec, ndists, popcons, :\n",
      "\"printing of extremely long output is truncated\"\n",
      "Warning message in smc_plans(nsims, adjlist, counties, popvec, ndists, popcons, :\n",
      "\"printing of extremely long output is truncated\"\n",
      "Warning message in smc_plans(nsims, adjlist, counties, popvec, ndists, popcons, :\n",
      "\"printing of extremely long output is truncated\"\n",
      "Warning message in smc_plans(nsims, adjlist, counties, popvec, ndists, popcons, :\n",
      "\"printing of extremely long output is truncated\"\n",
      "Warning message in smc_plans(nsims, adjlist, counties, popvec, ndists, popcons, :\n",
      "\"printing of extremely long output is truncated\"\n",
      "Warning message in smc_plans(nsims, adjlist, counties, popvec, ndists, popcons, :\n",
      "\"printing of extremely long output is truncated\"\n"
     ]
    },
    {
     "name": "stdout",
     "output_type": "stream",
     "text": [
      "12075 valid samples (39.7% of total)\n",
      "Making split 72 of 99\n",
      "Using k=3 for estimated success probability of 40.42%\n"
     ]
    },
    {
     "name": "stderr",
     "output_type": "stream",
     "text": [
      "Warning message in smc_plans(nsims, adjlist, counties, popvec, ndists, popcons, :\n",
      "\"printing of extremely long output is truncated\"\n",
      "Warning message in smc_plans(nsims, adjlist, counties, popvec, ndists, popcons, :\n",
      "\"printing of extremely long output is truncated\"\n",
      "Warning message in smc_plans(nsims, adjlist, counties, popvec, ndists, popcons, :\n",
      "\"printing of extremely long output is truncated\"\n",
      "Warning message in smc_plans(nsims, adjlist, counties, popvec, ndists, popcons, :\n",
      "\"printing of extremely long output is truncated\"\n",
      "Warning message in smc_plans(nsims, adjlist, counties, popvec, ndists, popcons, :\n",
      "\"printing of extremely long output is truncated\"\n",
      "Warning message in smc_plans(nsims, adjlist, counties, popvec, ndists, popcons, :\n",
      "\"printing of extremely long output is truncated\"\n",
      "Warning message in smc_plans(nsims, adjlist, counties, popvec, ndists, popcons, :\n",
      "\"printing of extremely long output is truncated\"\n",
      "Warning message in smc_plans(nsims, adjlist, counties, popvec, ndists, popcons, :\n",
      "\"printing of extremely long output is truncated\"\n",
      "Warning message in smc_plans(nsims, adjlist, counties, popvec, ndists, popcons, :\n",
      "\"printing of extremely long output is truncated\"\n",
      "Warning message in smc_plans(nsims, adjlist, counties, popvec, ndists, popcons, :\n",
      "\"printing of extremely long output is truncated\"\n"
     ]
    },
    {
     "name": "stdout",
     "output_type": "stream",
     "text": [
      "9570 valid samples (38.7% of total)\n",
      "Making split 73 of 99\n",
      "Using k=3 for estimated success probability of 35.83%\n"
     ]
    },
    {
     "name": "stderr",
     "output_type": "stream",
     "text": [
      "Warning message in smc_plans(nsims, adjlist, counties, popvec, ndists, popcons, :\n",
      "\"printing of extremely long output is truncated\"\n",
      "Warning message in smc_plans(nsims, adjlist, counties, popvec, ndists, popcons, :\n",
      "\"printing of extremely long output is truncated\"\n",
      "Warning message in smc_plans(nsims, adjlist, counties, popvec, ndists, popcons, :\n",
      "\"printing of extremely long output is truncated\"\n",
      "Warning message in smc_plans(nsims, adjlist, counties, popvec, ndists, popcons, :\n",
      "\"printing of extremely long output is truncated\"\n",
      "Warning message in smc_plans(nsims, adjlist, counties, popvec, ndists, popcons, :\n",
      "\"printing of extremely long output is truncated\"\n",
      "Warning message in smc_plans(nsims, adjlist, counties, popvec, ndists, popcons, :\n",
      "\"printing of extremely long output is truncated\"\n",
      "Warning message in smc_plans(nsims, adjlist, counties, popvec, ndists, popcons, :\n",
      "\"printing of extremely long output is truncated\"\n",
      "Warning message in smc_plans(nsims, adjlist, counties, popvec, ndists, popcons, :\n",
      "\"printing of extremely long output is truncated\"\n",
      "Warning message in smc_plans(nsims, adjlist, counties, popvec, ndists, popcons, :\n",
      "\"printing of extremely long output is truncated\"\n",
      "Warning message in smc_plans(nsims, adjlist, counties, popvec, ndists, popcons, :\n",
      "\"printing of extremely long output is truncated\"\n"
     ]
    },
    {
     "name": "stdout",
     "output_type": "stream",
     "text": [
      "10618 valid samples (38.0% of total)\n",
      "Making split 74 of 99\n",
      "Using k=3 for estimated success probability of 40.83%\n"
     ]
    },
    {
     "name": "stderr",
     "output_type": "stream",
     "text": [
      "Warning message in smc_plans(nsims, adjlist, counties, popvec, ndists, popcons, :\n",
      "\"printing of extremely long output is truncated\"\n",
      "Warning message in smc_plans(nsims, adjlist, counties, popvec, ndists, popcons, :\n",
      "\"printing of extremely long output is truncated\"\n",
      "Warning message in smc_plans(nsims, adjlist, counties, popvec, ndists, popcons, :\n",
      "\"printing of extremely long output is truncated\"\n",
      "Warning message in smc_plans(nsims, adjlist, counties, popvec, ndists, popcons, :\n",
      "\"printing of extremely long output is truncated\"\n",
      "Warning message in smc_plans(nsims, adjlist, counties, popvec, ndists, popcons, :\n",
      "\"printing of extremely long output is truncated\"\n",
      "Warning message in smc_plans(nsims, adjlist, counties, popvec, ndists, popcons, :\n",
      "\"printing of extremely long output is truncated\"\n",
      "Warning message in smc_plans(nsims, adjlist, counties, popvec, ndists, popcons, :\n",
      "\"printing of extremely long output is truncated\"\n",
      "Warning message in smc_plans(nsims, adjlist, counties, popvec, ndists, popcons, :\n",
      "\"printing of extremely long output is truncated\"\n",
      "Warning message in smc_plans(nsims, adjlist, counties, popvec, ndists, popcons, :\n",
      "\"printing of extremely long output is truncated\"\n",
      "Warning message in smc_plans(nsims, adjlist, counties, popvec, ndists, popcons, :\n",
      "\"printing of extremely long output is truncated\"\n"
     ]
    },
    {
     "name": "stdout",
     "output_type": "stream",
     "text": [
      "9121 valid samples (37.2% of total)\n",
      "Making split 75 of 99\n",
      "Using k=3 for estimated success probability of 37.08%\n"
     ]
    },
    {
     "name": "stderr",
     "output_type": "stream",
     "text": [
      "Warning message in smc_plans(nsims, adjlist, counties, popvec, ndists, popcons, :\n",
      "\"printing of extremely long output is truncated\"\n",
      "Warning message in smc_plans(nsims, adjlist, counties, popvec, ndists, popcons, :\n",
      "\"printing of extremely long output is truncated\"\n",
      "Warning message in smc_plans(nsims, adjlist, counties, popvec, ndists, popcons, :\n",
      "\"printing of extremely long output is truncated\"\n",
      "Warning message in smc_plans(nsims, adjlist, counties, popvec, ndists, popcons, :\n",
      "\"printing of extremely long output is truncated\"\n",
      "Warning message in smc_plans(nsims, adjlist, counties, popvec, ndists, popcons, :\n",
      "\"printing of extremely long output is truncated\"\n",
      "Warning message in smc_plans(nsims, adjlist, counties, popvec, ndists, popcons, :\n",
      "\"printing of extremely long output is truncated\"\n",
      "Warning message in smc_plans(nsims, adjlist, counties, popvec, ndists, popcons, :\n",
      "\"printing of extremely long output is truncated\"\n",
      "Warning message in smc_plans(nsims, adjlist, counties, popvec, ndists, popcons, :\n",
      "\"printing of extremely long output is truncated\"\n",
      "Warning message in smc_plans(nsims, adjlist, counties, popvec, ndists, popcons, :\n",
      "\"printing of extremely long output is truncated\"\n",
      "Warning message in smc_plans(nsims, adjlist, counties, popvec, ndists, popcons, :\n",
      "\"printing of extremely long output is truncated\"\n"
     ]
    },
    {
     "name": "stdout",
     "output_type": "stream",
     "text": [
      "9650 valid samples (35.8% of total)\n",
      "Making split 76 of 99\n",
      "Using k=3 for estimated success probability of 34.17%\n"
     ]
    },
    {
     "name": "stderr",
     "output_type": "stream",
     "text": [
      "Warning message in smc_plans(nsims, adjlist, counties, popvec, ndists, popcons, :\n",
      "\"printing of extremely long output is truncated\"\n",
      "Warning message in smc_plans(nsims, adjlist, counties, popvec, ndists, popcons, :\n",
      "\"printing of extremely long output is truncated\"\n",
      "Warning message in smc_plans(nsims, adjlist, counties, popvec, ndists, popcons, :\n",
      "\"printing of extremely long output is truncated\"\n",
      "Warning message in smc_plans(nsims, adjlist, counties, popvec, ndists, popcons, :\n",
      "\"printing of extremely long output is truncated\"\n",
      "Warning message in smc_plans(nsims, adjlist, counties, popvec, ndists, popcons, :\n",
      "\"printing of extremely long output is truncated\"\n",
      "Warning message in smc_plans(nsims, adjlist, counties, popvec, ndists, popcons, :\n",
      "\"printing of extremely long output is truncated\"\n",
      "Warning message in smc_plans(nsims, adjlist, counties, popvec, ndists, popcons, :\n",
      "\"printing of extremely long output is truncated\"\n",
      "Warning message in smc_plans(nsims, adjlist, counties, popvec, ndists, popcons, :\n",
      "\"printing of extremely long output is truncated\"\n",
      "Warning message in smc_plans(nsims, adjlist, counties, popvec, ndists, popcons, :\n",
      "\"printing of extremely long output is truncated\"\n",
      "Warning message in smc_plans(nsims, adjlist, counties, popvec, ndists, popcons, :\n",
      "\"printing of extremely long output is truncated\"\n"
     ]
    },
    {
     "name": "stdout",
     "output_type": "stream",
     "text": [
      "10205 valid samples (34.9% of total)\n",
      "Making split 77 of 99\n",
      "Using k=3 for estimated success probability of 34.58%\n"
     ]
    },
    {
     "name": "stderr",
     "output_type": "stream",
     "text": [
      "Warning message in smc_plans(nsims, adjlist, counties, popvec, ndists, popcons, :\n",
      "\"printing of extremely long output is truncated\"\n",
      "Warning message in smc_plans(nsims, adjlist, counties, popvec, ndists, popcons, :\n",
      "\"printing of extremely long output is truncated\"\n",
      "Warning message in smc_plans(nsims, adjlist, counties, popvec, ndists, popcons, :\n",
      "\"printing of extremely long output is truncated\"\n",
      "Warning message in smc_plans(nsims, adjlist, counties, popvec, ndists, popcons, :\n",
      "\"printing of extremely long output is truncated\"\n",
      "Warning message in smc_plans(nsims, adjlist, counties, popvec, ndists, popcons, :\n",
      "\"printing of extremely long output is truncated\"\n",
      "Warning message in smc_plans(nsims, adjlist, counties, popvec, ndists, popcons, :\n",
      "\"printing of extremely long output is truncated\"\n",
      "Warning message in smc_plans(nsims, adjlist, counties, popvec, ndists, popcons, :\n",
      "\"printing of extremely long output is truncated\"\n",
      "Warning message in smc_plans(nsims, adjlist, counties, popvec, ndists, popcons, :\n",
      "\"printing of extremely long output is truncated\"\n",
      "Warning message in smc_plans(nsims, adjlist, counties, popvec, ndists, popcons, :\n",
      "\"printing of extremely long output is truncated\"\n",
      "Warning message in smc_plans(nsims, adjlist, counties, popvec, ndists, popcons, :\n",
      "\"printing of extremely long output is truncated\"\n"
     ]
    },
    {
     "name": "stdout",
     "output_type": "stream",
     "text": [
      "9663 valid samples (33.4% of total)\n",
      "Making split 78 of 99\n",
      "Using k=3 for estimated success probability of 30.83%\n"
     ]
    },
    {
     "name": "stderr",
     "output_type": "stream",
     "text": [
      "Warning message in smc_plans(nsims, adjlist, counties, popvec, ndists, popcons, :\n",
      "\"printing of extremely long output is truncated\"\n",
      "Warning message in smc_plans(nsims, adjlist, counties, popvec, ndists, popcons, :\n",
      "\"printing of extremely long output is truncated\"\n",
      "Warning message in smc_plans(nsims, adjlist, counties, popvec, ndists, popcons, :\n",
      "\"printing of extremely long output is truncated\"\n",
      "Warning message in smc_plans(nsims, adjlist, counties, popvec, ndists, popcons, :\n",
      "\"printing of extremely long output is truncated\"\n",
      "Warning message in smc_plans(nsims, adjlist, counties, popvec, ndists, popcons, :\n",
      "\"printing of extremely long output is truncated\"\n",
      "Warning message in smc_plans(nsims, adjlist, counties, popvec, ndists, popcons, :\n",
      "\"printing of extremely long output is truncated\"\n",
      "Warning message in smc_plans(nsims, adjlist, counties, popvec, ndists, popcons, :\n",
      "\"printing of extremely long output is truncated\"\n",
      "Warning message in smc_plans(nsims, adjlist, counties, popvec, ndists, popcons, :\n",
      "\"printing of extremely long output is truncated\"\n",
      "Warning message in smc_plans(nsims, adjlist, counties, popvec, ndists, popcons, :\n",
      "\"printing of extremely long output is truncated\"\n",
      "Warning message in smc_plans(nsims, adjlist, counties, popvec, ndists, popcons, :\n",
      "\"printing of extremely long output is truncated\"\n"
     ]
    },
    {
     "name": "stdout",
     "output_type": "stream",
     "text": [
      "10490 valid samples (32.3% of total)\n",
      "Making split 79 of 99\n",
      "Using k=3 for estimated success probability of 28.75%\n"
     ]
    },
    {
     "name": "stderr",
     "output_type": "stream",
     "text": [
      "Warning message in smc_plans(nsims, adjlist, counties, popvec, ndists, popcons, :\n",
      "\"printing of extremely long output is truncated\"\n",
      "Warning message in smc_plans(nsims, adjlist, counties, popvec, ndists, popcons, :\n",
      "\"printing of extremely long output is truncated\"\n",
      "Warning message in smc_plans(nsims, adjlist, counties, popvec, ndists, popcons, :\n",
      "\"printing of extremely long output is truncated\"\n",
      "Warning message in smc_plans(nsims, adjlist, counties, popvec, ndists, popcons, :\n",
      "\"printing of extremely long output is truncated\"\n",
      "Warning message in smc_plans(nsims, adjlist, counties, popvec, ndists, popcons, :\n",
      "\"printing of extremely long output is truncated\"\n",
      "Warning message in smc_plans(nsims, adjlist, counties, popvec, ndists, popcons, :\n",
      "\"printing of extremely long output is truncated\"\n",
      "Warning message in smc_plans(nsims, adjlist, counties, popvec, ndists, popcons, :\n",
      "\"printing of extremely long output is truncated\"\n",
      "Warning message in smc_plans(nsims, adjlist, counties, popvec, ndists, popcons, :\n",
      "\"printing of extremely long output is truncated\"\n",
      "Warning message in smc_plans(nsims, adjlist, counties, popvec, ndists, popcons, :\n",
      "\"printing of extremely long output is truncated\"\n",
      "Warning message in smc_plans(nsims, adjlist, counties, popvec, ndists, popcons, :\n",
      "\"printing of extremely long output is truncated\"\n"
     ]
    },
    {
     "name": "stdout",
     "output_type": "stream",
     "text": [
      "10871 valid samples (31.3% of total)\n",
      "Making split 80 of 99\n",
      "Using k=3 for estimated success probability of 27.08%\n"
     ]
    },
    {
     "name": "stderr",
     "output_type": "stream",
     "text": [
      "Warning message in smc_plans(nsims, adjlist, counties, popvec, ndists, popcons, :\n",
      "\"printing of extremely long output is truncated\"\n",
      "Warning message in smc_plans(nsims, adjlist, counties, popvec, ndists, popcons, :\n",
      "\"printing of extremely long output is truncated\"\n",
      "Warning message in smc_plans(nsims, adjlist, counties, popvec, ndists, popcons, :\n",
      "\"printing of extremely long output is truncated\"\n",
      "Warning message in smc_plans(nsims, adjlist, counties, popvec, ndists, popcons, :\n",
      "\"printing of extremely long output is truncated\"\n",
      "Warning message in smc_plans(nsims, adjlist, counties, popvec, ndists, popcons, :\n",
      "\"printing of extremely long output is truncated\"\n",
      "Warning message in smc_plans(nsims, adjlist, counties, popvec, ndists, popcons, :\n",
      "\"printing of extremely long output is truncated\"\n",
      "Warning message in smc_plans(nsims, adjlist, counties, popvec, ndists, popcons, :\n",
      "\"printing of extremely long output is truncated\"\n",
      "Warning message in smc_plans(nsims, adjlist, counties, popvec, ndists, popcons, :\n",
      "\"printing of extremely long output is truncated\"\n",
      "Warning message in smc_plans(nsims, adjlist, counties, popvec, ndists, popcons, :\n",
      "\"printing of extremely long output is truncated\"\n",
      "Warning message in smc_plans(nsims, adjlist, counties, popvec, ndists, popcons, :\n",
      "\"printing of extremely long output is truncated\"\n"
     ]
    },
    {
     "name": "stdout",
     "output_type": "stream",
     "text": [
      "10999 valid samples (29.8% of total)\n",
      "Making split 81 of 99\n",
      "Using k=3 for estimated success probability of 31.67%\n"
     ]
    },
    {
     "name": "stderr",
     "output_type": "stream",
     "text": [
      "Warning message in smc_plans(nsims, adjlist, counties, popvec, ndists, popcons, :\n",
      "\"printing of extremely long output is truncated\"\n",
      "Warning message in smc_plans(nsims, adjlist, counties, popvec, ndists, popcons, :\n",
      "\"printing of extremely long output is truncated\"\n",
      "Warning message in smc_plans(nsims, adjlist, counties, popvec, ndists, popcons, :\n",
      "\"printing of extremely long output is truncated\"\n",
      "Warning message in smc_plans(nsims, adjlist, counties, popvec, ndists, popcons, :\n",
      "\"printing of extremely long output is truncated\"\n",
      "Warning message in smc_plans(nsims, adjlist, counties, popvec, ndists, popcons, :\n",
      "\"printing of extremely long output is truncated\"\n",
      "Warning message in smc_plans(nsims, adjlist, counties, popvec, ndists, popcons, :\n",
      "\"printing of extremely long output is truncated\"\n",
      "Warning message in smc_plans(nsims, adjlist, counties, popvec, ndists, popcons, :\n",
      "\"printing of extremely long output is truncated\"\n",
      "Warning message in smc_plans(nsims, adjlist, counties, popvec, ndists, popcons, :\n",
      "\"printing of extremely long output is truncated\"\n",
      "Warning message in smc_plans(nsims, adjlist, counties, popvec, ndists, popcons, :\n",
      "\"printing of extremely long output is truncated\"\n",
      "Warning message in smc_plans(nsims, adjlist, counties, popvec, ndists, popcons, :\n",
      "\"printing of extremely long output is truncated\"\n"
     ]
    },
    {
     "name": "stdout",
     "output_type": "stream",
     "text": [
      "9090 valid samples (28.8% of total)\n",
      "Making split 82 of 99\n",
      "Using k=3 for estimated success probability of 30.83%\n"
     ]
    },
    {
     "name": "stderr",
     "output_type": "stream",
     "text": [
      "Warning message in smc_plans(nsims, adjlist, counties, popvec, ndists, popcons, :\n",
      "\"printing of extremely long output is truncated\"\n",
      "Warning message in smc_plans(nsims, adjlist, counties, popvec, ndists, popcons, :\n",
      "\"printing of extremely long output is truncated\"\n",
      "Warning message in smc_plans(nsims, adjlist, counties, popvec, ndists, popcons, :\n",
      "\"printing of extremely long output is truncated\"\n",
      "Warning message in smc_plans(nsims, adjlist, counties, popvec, ndists, popcons, :\n",
      "\"printing of extremely long output is truncated\"\n",
      "Warning message in smc_plans(nsims, adjlist, counties, popvec, ndists, popcons, :\n",
      "\"printing of extremely long output is truncated\"\n",
      "Warning message in smc_plans(nsims, adjlist, counties, popvec, ndists, popcons, :\n",
      "\"printing of extremely long output is truncated\"\n",
      "Warning message in smc_plans(nsims, adjlist, counties, popvec, ndists, popcons, :\n",
      "\"printing of extremely long output is truncated\"\n",
      "Warning message in smc_plans(nsims, adjlist, counties, popvec, ndists, popcons, :\n",
      "\"printing of extremely long output is truncated\"\n",
      "Warning message in smc_plans(nsims, adjlist, counties, popvec, ndists, popcons, :\n",
      "\"printing of extremely long output is truncated\"\n",
      "Warning message in smc_plans(nsims, adjlist, counties, popvec, ndists, popcons, :\n",
      "\"printing of extremely long output is truncated\"\n"
     ]
    },
    {
     "name": "stdout",
     "output_type": "stream",
     "text": [
      "8882 valid samples (27.4% of total)\n",
      "Making split 83 of 99\n",
      "Using k=3 for estimated success probability of 28.75%\n"
     ]
    },
    {
     "name": "stderr",
     "output_type": "stream",
     "text": [
      "Warning message in smc_plans(nsims, adjlist, counties, popvec, ndists, popcons, :\n",
      "\"printing of extremely long output is truncated\"\n",
      "Warning message in smc_plans(nsims, adjlist, counties, popvec, ndists, popcons, :\n",
      "\"printing of extremely long output is truncated\"\n",
      "Warning message in smc_plans(nsims, adjlist, counties, popvec, ndists, popcons, :\n",
      "\"printing of extremely long output is truncated\"\n",
      "Warning message in smc_plans(nsims, adjlist, counties, popvec, ndists, popcons, :\n",
      "\"printing of extremely long output is truncated\"\n",
      "Warning message in smc_plans(nsims, adjlist, counties, popvec, ndists, popcons, :\n",
      "\"printing of extremely long output is truncated\"\n",
      "Warning message in smc_plans(nsims, adjlist, counties, popvec, ndists, popcons, :\n",
      "\"printing of extremely long output is truncated\"\n",
      "Warning message in smc_plans(nsims, adjlist, counties, popvec, ndists, popcons, :\n",
      "\"printing of extremely long output is truncated\"\n",
      "Warning message in smc_plans(nsims, adjlist, counties, popvec, ndists, popcons, :\n",
      "\"printing of extremely long output is truncated\"\n",
      "Warning message in smc_plans(nsims, adjlist, counties, popvec, ndists, popcons, :\n",
      "\"printing of extremely long output is truncated\"\n",
      "Warning message in smc_plans(nsims, adjlist, counties, popvec, ndists, popcons, :\n",
      "\"printing of extremely long output is truncated\"\n"
     ]
    },
    {
     "name": "stdout",
     "output_type": "stream",
     "text": [
      "8959 valid samples (25.8% of total)\n",
      "Making split 84 of 99\n",
      "Using k=3 for estimated success probability of 27.08%\n"
     ]
    },
    {
     "name": "stderr",
     "output_type": "stream",
     "text": [
      "Warning message in smc_plans(nsims, adjlist, counties, popvec, ndists, popcons, :\n",
      "\"printing of extremely long output is truncated\"\n",
      "Warning message in smc_plans(nsims, adjlist, counties, popvec, ndists, popcons, :\n",
      "\"printing of extremely long output is truncated\"\n",
      "Warning message in smc_plans(nsims, adjlist, counties, popvec, ndists, popcons, :\n",
      "\"printing of extremely long output is truncated\"\n",
      "Warning message in smc_plans(nsims, adjlist, counties, popvec, ndists, popcons, :\n",
      "\"printing of extremely long output is truncated\"\n",
      "Warning message in smc_plans(nsims, adjlist, counties, popvec, ndists, popcons, :\n",
      "\"printing of extremely long output is truncated\"\n",
      "Warning message in smc_plans(nsims, adjlist, counties, popvec, ndists, popcons, :\n",
      "\"printing of extremely long output is truncated\"\n",
      "Warning message in smc_plans(nsims, adjlist, counties, popvec, ndists, popcons, :\n",
      "\"printing of extremely long output is truncated\"\n",
      "Warning message in smc_plans(nsims, adjlist, counties, popvec, ndists, popcons, :\n",
      "\"printing of extremely long output is truncated\"\n",
      "Warning message in smc_plans(nsims, adjlist, counties, popvec, ndists, popcons, :\n",
      "\"printing of extremely long output is truncated\"\n",
      "Warning message in smc_plans(nsims, adjlist, counties, popvec, ndists, popcons, :\n",
      "\"printing of extremely long output is truncated\"\n"
     ]
    },
    {
     "name": "stdout",
     "output_type": "stream",
     "text": [
      "9275 valid samples (25.1% of total)\n",
      "Making split 85 of 99\n",
      "Using k=2 for estimated success probability of 26.88%\n"
     ]
    },
    {
     "name": "stderr",
     "output_type": "stream",
     "text": [
      "Warning message in smc_plans(nsims, adjlist, counties, popvec, ndists, popcons, :\n",
      "\"printing of extremely long output is truncated\"\n",
      "Warning message in smc_plans(nsims, adjlist, counties, popvec, ndists, popcons, :\n",
      "\"printing of extremely long output is truncated\"\n",
      "Warning message in smc_plans(nsims, adjlist, counties, popvec, ndists, popcons, :\n",
      "\"printing of extremely long output is truncated\"\n",
      "Warning message in smc_plans(nsims, adjlist, counties, popvec, ndists, popcons, :\n",
      "\"printing of extremely long output is truncated\"\n",
      "Warning message in smc_plans(nsims, adjlist, counties, popvec, ndists, popcons, :\n",
      "\"printing of extremely long output is truncated\"\n",
      "Warning message in smc_plans(nsims, adjlist, counties, popvec, ndists, popcons, :\n",
      "\"printing of extremely long output is truncated\"\n",
      "Warning message in smc_plans(nsims, adjlist, counties, popvec, ndists, popcons, :\n",
      "\"printing of extremely long output is truncated\"\n",
      "Warning message in smc_plans(nsims, adjlist, counties, popvec, ndists, popcons, :\n",
      "\"printing of extremely long output is truncated\"\n",
      "Warning message in smc_plans(nsims, adjlist, counties, popvec, ndists, popcons, :\n",
      "\"printing of extremely long output is truncated\"\n",
      "Warning message in smc_plans(nsims, adjlist, counties, popvec, ndists, popcons, :\n",
      "\"printing of extremely long output is truncated\"\n"
     ]
    },
    {
     "name": "stdout",
     "output_type": "stream",
     "text": [
      "12410 valid samples (33.4% of total)\n",
      "Making split 86 of 99\n",
      "Using k=3 for estimated success probability of 22.08%\n"
     ]
    },
    {
     "name": "stderr",
     "output_type": "stream",
     "text": [
      "Warning message in smc_plans(nsims, adjlist, counties, popvec, ndists, popcons, :\n",
      "\"printing of extremely long output is truncated\"\n",
      "Warning message in smc_plans(nsims, adjlist, counties, popvec, ndists, popcons, :\n",
      "\"printing of extremely long output is truncated\"\n",
      "Warning message in smc_plans(nsims, adjlist, counties, popvec, ndists, popcons, :\n",
      "\"printing of extremely long output is truncated\"\n",
      "Warning message in smc_plans(nsims, adjlist, counties, popvec, ndists, popcons, :\n",
      "\"printing of extremely long output is truncated\"\n",
      "Warning message in smc_plans(nsims, adjlist, counties, popvec, ndists, popcons, :\n",
      "\"printing of extremely long output is truncated\"\n",
      "Warning message in smc_plans(nsims, adjlist, counties, popvec, ndists, popcons, :\n",
      "\"printing of extremely long output is truncated\"\n",
      "Warning message in smc_plans(nsims, adjlist, counties, popvec, ndists, popcons, :\n",
      "\"printing of extremely long output is truncated\"\n",
      "Warning message in smc_plans(nsims, adjlist, counties, popvec, ndists, popcons, :\n",
      "\"printing of extremely long output is truncated\"\n",
      "Warning message in smc_plans(nsims, adjlist, counties, popvec, ndists, popcons, :\n",
      "\"printing of extremely long output is truncated\"\n",
      "Warning message in smc_plans(nsims, adjlist, counties, popvec, ndists, popcons, :\n",
      "\"printing of extremely long output is truncated\"\n"
     ]
    },
    {
     "name": "stdout",
     "output_type": "stream",
     "text": [
      "9721 valid samples (21.5% of total)\n",
      "Making split 87 of 99\n",
      "Using k=3 for estimated success probability of 24.58%\n"
     ]
    },
    {
     "name": "stderr",
     "output_type": "stream",
     "text": [
      "Warning message in smc_plans(nsims, adjlist, counties, popvec, ndists, popcons, :\n",
      "\"printing of extremely long output is truncated\"\n",
      "Warning message in smc_plans(nsims, adjlist, counties, popvec, ndists, popcons, :\n",
      "\"printing of extremely long output is truncated\"\n",
      "Warning message in smc_plans(nsims, adjlist, counties, popvec, ndists, popcons, :\n",
      "\"printing of extremely long output is truncated\"\n",
      "Warning message in smc_plans(nsims, adjlist, counties, popvec, ndists, popcons, :\n",
      "\"printing of extremely long output is truncated\"\n",
      "Warning message in smc_plans(nsims, adjlist, counties, popvec, ndists, popcons, :\n",
      "\"printing of extremely long output is truncated\"\n",
      "Warning message in smc_plans(nsims, adjlist, counties, popvec, ndists, popcons, :\n",
      "\"printing of extremely long output is truncated\"\n",
      "Warning message in smc_plans(nsims, adjlist, counties, popvec, ndists, popcons, :\n",
      "\"printing of extremely long output is truncated\"\n",
      "Warning message in smc_plans(nsims, adjlist, counties, popvec, ndists, popcons, :\n",
      "\"printing of extremely long output is truncated\"\n",
      "Warning message in smc_plans(nsims, adjlist, counties, popvec, ndists, popcons, :\n",
      "\"printing of extremely long output is truncated\"\n",
      "Warning message in smc_plans(nsims, adjlist, counties, popvec, ndists, popcons, :\n",
      "\"printing of extremely long output is truncated\"\n"
     ]
    },
    {
     "name": "stdout",
     "output_type": "stream",
     "text": [
      "7817 valid samples (19.2% of total)\n",
      "Making split 88 of 99\n",
      "Using k=3 for estimated success probability of 22.92%\n"
     ]
    },
    {
     "name": "stderr",
     "output_type": "stream",
     "text": [
      "Warning message in smc_plans(nsims, adjlist, counties, popvec, ndists, popcons, :\n",
      "\"printing of extremely long output is truncated\"\n",
      "Warning message in smc_plans(nsims, adjlist, counties, popvec, ndists, popcons, :\n",
      "\"printing of extremely long output is truncated\"\n",
      "Warning message in smc_plans(nsims, adjlist, counties, popvec, ndists, popcons, :\n",
      "\"printing of extremely long output is truncated\"\n",
      "Warning message in smc_plans(nsims, adjlist, counties, popvec, ndists, popcons, :\n",
      "\"printing of extremely long output is truncated\"\n",
      "Warning message in smc_plans(nsims, adjlist, counties, popvec, ndists, popcons, :\n",
      "\"printing of extremely long output is truncated\"\n",
      "Warning message in smc_plans(nsims, adjlist, counties, popvec, ndists, popcons, :\n",
      "\"printing of extremely long output is truncated\"\n",
      "Warning message in smc_plans(nsims, adjlist, counties, popvec, ndists, popcons, :\n",
      "\"printing of extremely long output is truncated\"\n",
      "Warning message in smc_plans(nsims, adjlist, counties, popvec, ndists, popcons, :\n",
      "\"printing of extremely long output is truncated\"\n",
      "Warning message in smc_plans(nsims, adjlist, counties, popvec, ndists, popcons, :\n",
      "\"printing of extremely long output is truncated\"\n",
      "Warning message in smc_plans(nsims, adjlist, counties, popvec, ndists, popcons, :\n",
      "\"printing of extremely long output is truncated\"\n"
     ]
    },
    {
     "name": "stdout",
     "output_type": "stream",
     "text": [
      "7339 valid samples (16.8% of total)\n",
      "Making split 89 of 99\n",
      "Using k=2 for estimated success probability of 28.13%\n"
     ]
    },
    {
     "name": "stderr",
     "output_type": "stream",
     "text": [
      "Warning message in smc_plans(nsims, adjlist, counties, popvec, ndists, popcons, :\n",
      "\"printing of extremely long output is truncated\"\n",
      "Warning message in smc_plans(nsims, adjlist, counties, popvec, ndists, popcons, :\n",
      "\"printing of extremely long output is truncated\"\n",
      "Warning message in smc_plans(nsims, adjlist, counties, popvec, ndists, popcons, :\n",
      "\"printing of extremely long output is truncated\"\n",
      "Warning message in smc_plans(nsims, adjlist, counties, popvec, ndists, popcons, :\n",
      "\"printing of extremely long output is truncated\"\n",
      "Warning message in smc_plans(nsims, adjlist, counties, popvec, ndists, popcons, :\n",
      "\"printing of extremely long output is truncated\"\n",
      "Warning message in smc_plans(nsims, adjlist, counties, popvec, ndists, popcons, :\n",
      "\"printing of extremely long output is truncated\"\n",
      "Warning message in smc_plans(nsims, adjlist, counties, popvec, ndists, popcons, :\n",
      "\"printing of extremely long output is truncated\"\n",
      "Warning message in smc_plans(nsims, adjlist, counties, popvec, ndists, popcons, :\n",
      "\"printing of extremely long output is truncated\"\n",
      "Warning message in smc_plans(nsims, adjlist, counties, popvec, ndists, popcons, :\n",
      "\"printing of extremely long output is truncated\"\n",
      "Warning message in smc_plans(nsims, adjlist, counties, popvec, ndists, popcons, :\n",
      "\"printing of extremely long output is truncated\"\n"
     ]
    },
    {
     "name": "stdout",
     "output_type": "stream",
     "text": [
      "7517 valid samples (21.1% of total)\n",
      "Making split 90 of 99\n",
      "Using k=2 for estimated success probability of 24.38%\n"
     ]
    },
    {
     "name": "stderr",
     "output_type": "stream",
     "text": [
      "Warning message in smc_plans(nsims, adjlist, counties, popvec, ndists, popcons, :\n",
      "\"printing of extremely long output is truncated\"\n",
      "Warning message in smc_plans(nsims, adjlist, counties, popvec, ndists, popcons, :\n",
      "\"printing of extremely long output is truncated\"\n",
      "Warning message in smc_plans(nsims, adjlist, counties, popvec, ndists, popcons, :\n",
      "\"printing of extremely long output is truncated\"\n",
      "Warning message in smc_plans(nsims, adjlist, counties, popvec, ndists, popcons, :\n",
      "\"printing of extremely long output is truncated\"\n",
      "Warning message in smc_plans(nsims, adjlist, counties, popvec, ndists, popcons, :\n",
      "\"printing of extremely long output is truncated\"\n",
      "Warning message in smc_plans(nsims, adjlist, counties, popvec, ndists, popcons, :\n",
      "\"printing of extremely long output is truncated\"\n",
      "Warning message in smc_plans(nsims, adjlist, counties, popvec, ndists, popcons, :\n",
      "\"printing of extremely long output is truncated\"\n",
      "Warning message in smc_plans(nsims, adjlist, counties, popvec, ndists, popcons, :\n",
      "\"printing of extremely long output is truncated\"\n",
      "Warning message in smc_plans(nsims, adjlist, counties, popvec, ndists, popcons, :\n",
      "\"printing of extremely long output is truncated\"\n",
      "Warning message in smc_plans(nsims, adjlist, counties, popvec, ndists, popcons, :\n",
      "\"printing of extremely long output is truncated\"\n"
     ]
    },
    {
     "name": "stdout",
     "output_type": "stream",
     "text": [
      "7416 valid samples (18.1% of total)\n",
      "Making split 91 of 99\n",
      "Using k=2 for estimated success probability of 20.63%\n"
     ]
    },
    {
     "name": "stderr",
     "output_type": "stream",
     "text": [
      "Warning message in smc_plans(nsims, adjlist, counties, popvec, ndists, popcons, :\n",
      "\"printing of extremely long output is truncated\"\n",
      "Warning message in smc_plans(nsims, adjlist, counties, popvec, ndists, popcons, :\n",
      "\"printing of extremely long output is truncated\"\n",
      "Warning message in smc_plans(nsims, adjlist, counties, popvec, ndists, popcons, :\n",
      "\"printing of extremely long output is truncated\"\n",
      "Warning message in smc_plans(nsims, adjlist, counties, popvec, ndists, popcons, :\n",
      "\"printing of extremely long output is truncated\"\n",
      "Warning message in smc_plans(nsims, adjlist, counties, popvec, ndists, popcons, :\n",
      "\"printing of extremely long output is truncated\"\n",
      "Warning message in smc_plans(nsims, adjlist, counties, popvec, ndists, popcons, :\n",
      "\"printing of extremely long output is truncated\"\n",
      "Warning message in smc_plans(nsims, adjlist, counties, popvec, ndists, popcons, :\n",
      "\"printing of extremely long output is truncated\"\n",
      "Warning message in smc_plans(nsims, adjlist, counties, popvec, ndists, popcons, :\n",
      "\"printing of extremely long output is truncated\"\n",
      "Warning message in smc_plans(nsims, adjlist, counties, popvec, ndists, popcons, :\n",
      "\"printing of extremely long output is truncated\"\n",
      "Warning message in smc_plans(nsims, adjlist, counties, popvec, ndists, popcons, :\n",
      "\"printing of extremely long output is truncated\"\n"
     ]
    },
    {
     "name": "stdout",
     "output_type": "stream",
     "text": [
      "7622 valid samples (15.7% of total)\n",
      "Making split 92 of 99\n",
      "Using k=2 for estimated success probability of 21.88%\n"
     ]
    },
    {
     "name": "stderr",
     "output_type": "stream",
     "text": [
      "Warning message in smc_plans(nsims, adjlist, counties, popvec, ndists, popcons, :\n",
      "\"printing of extremely long output is truncated\"\n",
      "Warning message in smc_plans(nsims, adjlist, counties, popvec, ndists, popcons, :\n",
      "\"printing of extremely long output is truncated\"\n",
      "Warning message in smc_plans(nsims, adjlist, counties, popvec, ndists, popcons, :\n",
      "\"printing of extremely long output is truncated\"\n",
      "Warning message in smc_plans(nsims, adjlist, counties, popvec, ndists, popcons, :\n",
      "\"printing of extremely long output is truncated\"\n",
      "Warning message in smc_plans(nsims, adjlist, counties, popvec, ndists, popcons, :\n",
      "\"printing of extremely long output is truncated\"\n",
      "Warning message in smc_plans(nsims, adjlist, counties, popvec, ndists, popcons, :\n",
      "\"printing of extremely long output is truncated\"\n",
      "Warning message in smc_plans(nsims, adjlist, counties, popvec, ndists, popcons, :\n",
      "\"printing of extremely long output is truncated\"\n",
      "Warning message in smc_plans(nsims, adjlist, counties, popvec, ndists, popcons, :\n",
      "\"printing of extremely long output is truncated\"\n",
      "Warning message in smc_plans(nsims, adjlist, counties, popvec, ndists, popcons, :\n",
      "\"printing of extremely long output is truncated\"\n",
      "Warning message in smc_plans(nsims, adjlist, counties, popvec, ndists, popcons, :\n",
      "\"printing of extremely long output is truncated\"\n"
     ]
    },
    {
     "name": "stdout",
     "output_type": "stream",
     "text": [
      "6311 valid samples (13.8% of total)\n",
      "Making split 93 of 99\n",
      "Using k=2 for estimated success probability of 24.38%\n"
     ]
    },
    {
     "name": "stderr",
     "output_type": "stream",
     "text": [
      "Warning message in smc_plans(nsims, adjlist, counties, popvec, ndists, popcons, :\n",
      "\"printing of extremely long output is truncated\"\n",
      "Warning message in smc_plans(nsims, adjlist, counties, popvec, ndists, popcons, :\n",
      "\"printing of extremely long output is truncated\"\n",
      "Warning message in smc_plans(nsims, adjlist, counties, popvec, ndists, popcons, :\n",
      "\"printing of extremely long output is truncated\"\n",
      "Warning message in smc_plans(nsims, adjlist, counties, popvec, ndists, popcons, :\n",
      "\"printing of extremely long output is truncated\"\n",
      "Warning message in smc_plans(nsims, adjlist, counties, popvec, ndists, popcons, :\n",
      "\"printing of extremely long output is truncated\"\n",
      "Warning message in smc_plans(nsims, adjlist, counties, popvec, ndists, popcons, :\n",
      "\"printing of extremely long output is truncated\"\n",
      "Warning message in smc_plans(nsims, adjlist, counties, popvec, ndists, popcons, :\n",
      "\"printing of extremely long output is truncated\"\n",
      "Warning message in smc_plans(nsims, adjlist, counties, popvec, ndists, popcons, :\n",
      "\"printing of extremely long output is truncated\"\n",
      "Warning message in smc_plans(nsims, adjlist, counties, popvec, ndists, popcons, :\n",
      "\"printing of extremely long output is truncated\"\n",
      "Warning message in smc_plans(nsims, adjlist, counties, popvec, ndists, popcons, :\n",
      "\"printing of extremely long output is truncated\"\n"
     ]
    },
    {
     "name": "stdout",
     "output_type": "stream",
     "text": [
      "5122 valid samples (12.5% of total)\n",
      "Making split 94 of 99\n",
      "Using k=2 for estimated success probability of 17.50%\n"
     ]
    },
    {
     "name": "stderr",
     "output_type": "stream",
     "text": [
      "Warning message in smc_plans(nsims, adjlist, counties, popvec, ndists, popcons, :\n",
      "\"printing of extremely long output is truncated\"\n",
      "Warning message in smc_plans(nsims, adjlist, counties, popvec, ndists, popcons, :\n",
      "\"printing of extremely long output is truncated\"\n",
      "Warning message in smc_plans(nsims, adjlist, counties, popvec, ndists, popcons, :\n",
      "\"printing of extremely long output is truncated\"\n",
      "Warning message in smc_plans(nsims, adjlist, counties, popvec, ndists, popcons, :\n",
      "\"printing of extremely long output is truncated\"\n",
      "Warning message in smc_plans(nsims, adjlist, counties, popvec, ndists, popcons, :\n",
      "\"printing of extremely long output is truncated\"\n",
      "Warning message in smc_plans(nsims, adjlist, counties, popvec, ndists, popcons, :\n",
      "\"printing of extremely long output is truncated\"\n",
      "Warning message in smc_plans(nsims, adjlist, counties, popvec, ndists, popcons, :\n",
      "\"printing of extremely long output is truncated\"\n",
      "Warning message in smc_plans(nsims, adjlist, counties, popvec, ndists, popcons, :\n",
      "\"printing of extremely long output is truncated\"\n",
      "Warning message in smc_plans(nsims, adjlist, counties, popvec, ndists, popcons, :\n",
      "\"printing of extremely long output is truncated\"\n",
      "Warning message in smc_plans(nsims, adjlist, counties, popvec, ndists, popcons, :\n",
      "\"printing of extremely long output is truncated\"\n"
     ]
    },
    {
     "name": "stdout",
     "output_type": "stream",
     "text": [
      "6165 valid samples (10.8% of total)\n",
      "Making split 95 of 99\n",
      "Using k=2 for estimated success probability of 20.00%\n"
     ]
    },
    {
     "name": "stderr",
     "output_type": "stream",
     "text": [
      "Warning message in smc_plans(nsims, adjlist, counties, popvec, ndists, popcons, :\n",
      "\"printing of extremely long output is truncated\"\n",
      "Warning message in smc_plans(nsims, adjlist, counties, popvec, ndists, popcons, :\n",
      "\"printing of extremely long output is truncated\"\n",
      "Warning message in smc_plans(nsims, adjlist, counties, popvec, ndists, popcons, :\n",
      "\"printing of extremely long output is truncated\"\n",
      "Warning message in smc_plans(nsims, adjlist, counties, popvec, ndists, popcons, :\n",
      "\"printing of extremely long output is truncated\"\n",
      "Warning message in smc_plans(nsims, adjlist, counties, popvec, ndists, popcons, :\n",
      "\"printing of extremely long output is truncated\"\n",
      "Warning message in smc_plans(nsims, adjlist, counties, popvec, ndists, popcons, :\n",
      "\"printing of extremely long output is truncated\"\n",
      "Warning message in smc_plans(nsims, adjlist, counties, popvec, ndists, popcons, :\n",
      "\"printing of extremely long output is truncated\"\n",
      "Warning message in smc_plans(nsims, adjlist, counties, popvec, ndists, popcons, :\n",
      "\"printing of extremely long output is truncated\"\n",
      "Warning message in smc_plans(nsims, adjlist, counties, popvec, ndists, popcons, :\n",
      "\"printing of extremely long output is truncated\"\n",
      "Warning message in smc_plans(nsims, adjlist, counties, popvec, ndists, popcons, :\n",
      "\"printing of extremely long output is truncated\"\n"
     ]
    },
    {
     "name": "stdout",
     "output_type": "stream",
     "text": [
      "4739 valid samples (9.5% of total)\n",
      "Making split 96 of 99\n",
      "Using k=2 for estimated success probability of 15.00%\n"
     ]
    },
    {
     "name": "stderr",
     "output_type": "stream",
     "text": [
      "Warning message in smc_plans(nsims, adjlist, counties, popvec, ndists, popcons, :\n",
      "\"printing of extremely long output is truncated\"\n",
      "Warning message in smc_plans(nsims, adjlist, counties, popvec, ndists, popcons, :\n",
      "\"printing of extremely long output is truncated\"\n",
      "Warning message in smc_plans(nsims, adjlist, counties, popvec, ndists, popcons, :\n",
      "\"printing of extremely long output is truncated\"\n",
      "Warning message in smc_plans(nsims, adjlist, counties, popvec, ndists, popcons, :\n",
      "\"printing of extremely long output is truncated\"\n",
      "Warning message in smc_plans(nsims, adjlist, counties, popvec, ndists, popcons, :\n",
      "\"printing of extremely long output is truncated\"\n",
      "Warning message in smc_plans(nsims, adjlist, counties, popvec, ndists, popcons, :\n",
      "\"printing of extremely long output is truncated\"\n",
      "Warning message in smc_plans(nsims, adjlist, counties, popvec, ndists, popcons, :\n",
      "\"printing of extremely long output is truncated\"\n",
      "Warning message in smc_plans(nsims, adjlist, counties, popvec, ndists, popcons, :\n",
      "\"printing of extremely long output is truncated\"\n",
      "Warning message in smc_plans(nsims, adjlist, counties, popvec, ndists, popcons, :\n",
      "\"printing of extremely long output is truncated\"\n",
      "Warning message in smc_plans(nsims, adjlist, counties, popvec, ndists, popcons, :\n",
      "\"printing of extremely long output is truncated\"\n"
     ]
    },
    {
     "name": "stdout",
     "output_type": "stream",
     "text": [
      "5460 valid samples (8.2% of total)\n",
      "Making split 97 of 99\n",
      "Using k=2 for estimated success probability of 19.38%\n"
     ]
    },
    {
     "name": "stderr",
     "output_type": "stream",
     "text": [
      "Warning message in smc_plans(nsims, adjlist, counties, popvec, ndists, popcons, :\n",
      "\"printing of extremely long output is truncated\"\n",
      "Warning message in smc_plans(nsims, adjlist, counties, popvec, ndists, popcons, :\n",
      "\"printing of extremely long output is truncated\"\n",
      "Warning message in smc_plans(nsims, adjlist, counties, popvec, ndists, popcons, :\n",
      "\"printing of extremely long output is truncated\"\n",
      "Warning message in smc_plans(nsims, adjlist, counties, popvec, ndists, popcons, :\n",
      "\"printing of extremely long output is truncated\"\n",
      "Warning message in smc_plans(nsims, adjlist, counties, popvec, ndists, popcons, :\n",
      "\"printing of extremely long output is truncated\"\n",
      "Warning message in smc_plans(nsims, adjlist, counties, popvec, ndists, popcons, :\n",
      "\"printing of extremely long output is truncated\"\n",
      "Warning message in smc_plans(nsims, adjlist, counties, popvec, ndists, popcons, :\n",
      "\"printing of extremely long output is truncated\"\n",
      "Warning message in smc_plans(nsims, adjlist, counties, popvec, ndists, popcons, :\n",
      "\"printing of extremely long output is truncated\"\n",
      "Warning message in smc_plans(nsims, adjlist, counties, popvec, ndists, popcons, :\n",
      "\"printing of extremely long output is truncated\"\n",
      "Warning message in smc_plans(nsims, adjlist, counties, popvec, ndists, popcons, :\n",
      "\"printing of extremely long output is truncated\"\n"
     ]
    },
    {
     "name": "stdout",
     "output_type": "stream",
     "text": [
      "3550 valid samples (6.9% of total)\n",
      "Making split 98 of 99\n",
      "Using k=2 for estimated success probability of 8.75%\n"
     ]
    },
    {
     "name": "stderr",
     "output_type": "stream",
     "text": [
      "Warning message in smc_plans(nsims, adjlist, counties, popvec, ndists, popcons, :\n",
      "\"printing of extremely long output is truncated\"\n",
      "Warning message in smc_plans(nsims, adjlist, counties, popvec, ndists, popcons, :\n",
      "\"printing of extremely long output is truncated\"\n",
      "Warning message in smc_plans(nsims, adjlist, counties, popvec, ndists, popcons, :\n",
      "\"printing of extremely long output is truncated\"\n",
      "Warning message in smc_plans(nsims, adjlist, counties, popvec, ndists, popcons, :\n",
      "\"printing of extremely long output is truncated\"\n",
      "Warning message in smc_plans(nsims, adjlist, counties, popvec, ndists, popcons, :\n",
      "\"printing of extremely long output is truncated\"\n",
      "Warning message in smc_plans(nsims, adjlist, counties, popvec, ndists, popcons, :\n",
      "\"printing of extremely long output is truncated\"\n",
      "Warning message in smc_plans(nsims, adjlist, counties, popvec, ndists, popcons, :\n",
      "\"printing of extremely long output is truncated\"\n",
      "Warning message in smc_plans(nsims, adjlist, counties, popvec, ndists, popcons, :\n",
      "\"printing of extremely long output is truncated\"\n",
      "Warning message in smc_plans(nsims, adjlist, counties, popvec, ndists, popcons, :\n",
      "\"printing of extremely long output is truncated\"\n",
      "Warning message in smc_plans(nsims, adjlist, counties, popvec, ndists, popcons, :\n",
      "\"printing of extremely long output is truncated\"\n"
     ]
    },
    {
     "name": "stdout",
     "output_type": "stream",
     "text": [
      "7180 valid samples (6.3% of total)\n",
      "Making split 99 of 99\n",
      "Using k=2 for estimated success probability of 10.63%\n"
     ]
    },
    {
     "name": "stderr",
     "output_type": "stream",
     "text": [
      "Warning message in smc_plans(nsims, adjlist, counties, popvec, ndists, popcons, :\n",
      "\"printing of extremely long output is truncated\"\n",
      "Warning message in smc_plans(nsims, adjlist, counties, popvec, ndists, popcons, :\n",
      "\"printing of extremely long output is truncated\"\n",
      "Warning message in smc_plans(nsims, adjlist, counties, popvec, ndists, popcons, :\n",
      "\"printing of extremely long output is truncated\"\n",
      "Warning message in smc_plans(nsims, adjlist, counties, popvec, ndists, popcons, :\n",
      "\"printing of extremely long output is truncated\"\n",
      "Warning message in smc_plans(nsims, adjlist, counties, popvec, ndists, popcons, :\n",
      "\"printing of extremely long output is truncated\"\n",
      "Warning message in smc_plans(nsims, adjlist, counties, popvec, ndists, popcons, :\n",
      "\"printing of extremely long output is truncated\"\n",
      "Warning message in smc_plans(nsims, adjlist, counties, popvec, ndists, popcons, :\n",
      "\"printing of extremely long output is truncated\"\n",
      "Warning message in smc_plans(nsims, adjlist, counties, popvec, ndists, popcons, :\n",
      "\"printing of extremely long output is truncated\"\n",
      "Warning message in smc_plans(nsims, adjlist, counties, popvec, ndists, popcons, :\n",
      "\"printing of extremely long output is truncated\"\n",
      "Warning message in smc_plans(nsims, adjlist, counties, popvec, ndists, popcons, :\n",
      "\"printing of extremely long output is truncated\"\n"
     ]
    },
    {
     "name": "stdout",
     "output_type": "stream",
     "text": [
      "5679 valid samples (2.8% of total)\n"
     ]
    },
    {
     "name": "stderr",
     "output_type": "stream",
     "text": [
      "Warning message in redist.smc(adjobj = adjlist, popvec = df_va$TOTPOP, ndists = 100, :\n",
      "\"Fewer maps sampled than requested; try increasing `max_oversample`.\"\n"
     ]
    }
   ],
   "source": [
    "alg_smc <- redist.smc(adjobj = adjlist,\n",
    "                        popvec = df_va$TOTPOP,\n",
    "                        ndists = 100,\n",
    "                        nsims = 10000)"
   ]
  },
  {
   "cell_type": "code",
   "execution_count": 9,
   "metadata": {},
   "outputs": [
    {
     "name": "stderr",
     "output_type": "stream",
     "text": [
      "Saving 6.67 x 6.67 in image\n",
      "\n"
     ]
    },
    {
     "data": {
      "image/png": "[encoded data removed]",
      "text/plain": [
       "plot without title"
      ]
     },
     "metadata": {
      "image/png": {
       "height": 420,
       "width": 420
      }
     },
     "output_type": "display_data"
    }
   ],
   "source": [
    "# Let's plot this!\n",
    "# generate 100 random colors that are distinct so that the different districts are distinguishable. \n",
    "library(randomcoloR)\n",
    "colors <- distinctColorPalette(k=100)\n",
    "\n",
    "cds_smc <- alg_smc$cdvec[,1]\n",
    "plot_smc <- redist.map(shp=df_va, \n",
    "        district_membership=cds_smc, \n",
    "        centroids=FALSE, \n",
    "        edges=FALSE,\n",
    "        title=\"100 Districts in Viriginia from SMC: 2017\") +\n",
    "        theme(legend.position=\"none\") +\n",
    "        scale_fill_manual(values = colors)\n",
    "        # geom_sf_label(aes(label = cds))\n",
    "ggsave(\"va_100_smc.png\")\n",
    "plot_smc"
   ]
  },
  {
   "cell_type": "code",
   "execution_count": null,
   "metadata": {},
   "outputs": [],
   "source": []
  }
 ],
 "metadata": {
  "kernelspec": {
   "display_name": "R",
   "language": "R",
   "name": "ir"
  },
  "language_info": {
   "codemirror_mode": "r",
   "file_extension": ".r",
   "mimetype": "text/x-r-source",
   "name": "R",
   "pygments_lexer": "r",
   "version": "4.0.3"
  }
 },
 "nbformat": 4,
 "nbformat_minor": 4
}
