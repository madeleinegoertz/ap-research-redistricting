{
 "cells": [
  {
   "cell_type": "code",
   "execution_count": 4,
   "metadata": {
    "scrolled": true
   },
   "outputs": [
    {
     "name": "stderr",
     "output_type": "stream",
     "text": [
      "Linking to GEOS 3.8.0, GDAL 3.0.4, PROJ 6.3.1\n",
      "\n",
      "Loading required package: spData\n",
      "\n",
      "\n",
      "Attaching package: 'igraph'\n",
      "\n",
      "\n",
      "The following objects are masked from 'package:stats':\n",
      "\n",
      "    decompose, spectrum\n",
      "\n",
      "\n",
      "The following object is masked from 'package:base':\n",
      "\n",
      "    union\n",
      "\n",
      "\n",
      "\n",
      "Attaching package: 'dplyr'\n",
      "\n",
      "\n",
      "The following objects are masked from 'package:igraph':\n",
      "\n",
      "    as_data_frame, groups, union\n",
      "\n",
      "\n",
      "The following objects are masked from 'package:stats':\n",
      "\n",
      "    filter, lag\n",
      "\n",
      "\n",
      "The following objects are masked from 'package:base':\n",
      "\n",
      "    intersect, setdiff, setequal, union\n",
      "\n",
      "\n",
      "\n",
      "Attaching package: 'geojsonio'\n",
      "\n",
      "\n",
      "The following object is masked from 'package:base':\n",
      "\n",
      "    pretty\n",
      "\n",
      "\n"
     ]
    }
   ],
   "source": [
    "library(redist)\n",
    "library(sf)\n",
    "library(sp)\n",
    "library(spdep)\n",
    "library(igraph)\n",
    "library(ggplot2)\n",
    "library(dplyr)\n",
    "library(geojsonio)\n",
    "library(magrittr)\n"
   ]
  },
  {
   "cell_type": "code",
   "execution_count": 6,
   "metadata": {
    "scrolled": false
   },
   "outputs": [],
   "source": [
    "data(\"algdat.p10\")\n",
    "data(\"algdat.p20\")\n",
    "data(\"algdat.pfull\")\n"
   ]
  },
  {
   "cell_type": "code",
   "execution_count": 7,
   "metadata": {
    "scrolled": false
   },
   "outputs": [
    {
     "data": {
      "text/html": [
       "<style>\n",
       ".list-inline {list-style: none; margin:0; padding: 0}\n",
       ".list-inline>li {display: inline-block}\n",
       ".list-inline>li:not(:last-child)::after {content: \"\\00b7\"; padding: 0 .5ex}\n",
       "</style>\n",
       "<ol class=list-inline><li>'adjlist'</li><li>'cdmat'</li><li>'precinct.data'</li><li>'segregation.index'</li><li>'distancemat'</li></ol>\n"
      ],
      "text/latex": [
       "\\begin{enumerate*}\n",
       "\\item 'adjlist'\n",
       "\\item 'cdmat'\n",
       "\\item 'precinct.data'\n",
       "\\item 'segregation.index'\n",
       "\\item 'distancemat'\n",
       "\\end{enumerate*}\n"
      ],
      "text/markdown": [
       "1. 'adjlist'\n",
       "2. 'cdmat'\n",
       "3. 'precinct.data'\n",
       "4. 'segregation.index'\n",
       "5. 'distancemat'\n",
       "\n",
       "\n"
      ],
      "text/plain": [
       "[1] \"adjlist\"           \"cdmat\"             \"precinct.data\"    \n",
       "[4] \"segregation.index\" \"distancemat\"      "
      ]
     },
     "metadata": {},
     "output_type": "display_data"
    },
    {
     "data": {
      "text/html": [
       "<style>\n",
       ".list-inline {list-style: none; margin:0; padding: 0}\n",
       ".list-inline>li {display: inline-block}\n",
       ".list-inline>li:not(:last-child)::after {content: \"\\00b7\"; padding: 0 .5ex}\n",
       "</style>\n",
       "<ol class=list-inline><li>'adjlist'</li><li>'cdmat'</li><li>'precinct.data'</li><li>'segregation.index'</li><li>'distancemat'</li></ol>\n"
      ],
      "text/latex": [
       "\\begin{enumerate*}\n",
       "\\item 'adjlist'\n",
       "\\item 'cdmat'\n",
       "\\item 'precinct.data'\n",
       "\\item 'segregation.index'\n",
       "\\item 'distancemat'\n",
       "\\end{enumerate*}\n"
      ],
      "text/markdown": [
       "1. 'adjlist'\n",
       "2. 'cdmat'\n",
       "3. 'precinct.data'\n",
       "4. 'segregation.index'\n",
       "5. 'distancemat'\n",
       "\n",
       "\n"
      ],
      "text/plain": [
       "[1] \"adjlist\"           \"cdmat\"             \"precinct.data\"    \n",
       "[4] \"segregation.index\" \"distancemat\"      "
      ]
     },
     "metadata": {},
     "output_type": "display_data"
    },
    {
     "data": {
      "text/html": [
       "<style>\n",
       ".list-inline {list-style: none; margin:0; padding: 0}\n",
       ".list-inline>li {display: inline-block}\n",
       ".list-inline>li:not(:last-child)::after {content: \"\\00b7\"; padding: 0 .5ex}\n",
       "</style>\n",
       "<ol class=list-inline><li>'adjlist'</li><li>'cdmat'</li><li>'precinct.data'</li><li>'segregation.index'</li><li>'distancemat'</li></ol>\n"
      ],
      "text/latex": [
       "\\begin{enumerate*}\n",
       "\\item 'adjlist'\n",
       "\\item 'cdmat'\n",
       "\\item 'precinct.data'\n",
       "\\item 'segregation.index'\n",
       "\\item 'distancemat'\n",
       "\\end{enumerate*}\n"
      ],
      "text/markdown": [
       "1. 'adjlist'\n",
       "2. 'cdmat'\n",
       "3. 'precinct.data'\n",
       "4. 'segregation.index'\n",
       "5. 'distancemat'\n",
       "\n",
       "\n"
      ],
      "text/plain": [
       "[1] \"adjlist\"           \"cdmat\"             \"precinct.data\"    \n",
       "[4] \"segregation.index\" \"distancemat\"      "
      ]
     },
     "metadata": {},
     "output_type": "display_data"
    }
   ],
   "source": [
    "names(algdat.p10)\n",
    "names(algdat.p20)\n",
    "names(algdat.pfull)"
   ]
  },
  {
   "cell_type": "code",
   "execution_count": 9,
   "metadata": {
    "scrolled": false
   },
   "outputs": [
    {
     "name": "stdout",
     "output_type": "stream",
     "text": [
      "Classes 'sf' and 'data.frame':\t250 obs. of  12 variables:\n",
      " $ geoid10 : num  NA NA NA NA NA NA NA NA NA NA ...\n",
      " $ pop     : int  2106 859 4364 714 2361 307 3994 543 455 200 ...\n",
      " $ vap     : int  1555 656 3635 559 2020 220 3170 417 419 145 ...\n",
      " $ obama   : num  645 365 936 101 560 84 933 59 63 32 ...\n",
      " $ mccain  : num  161 33 1317 18 718 ...\n",
      " $ TotPop  : int  2106 859 4364 714 2361 307 3994 543 455 200 ...\n",
      " $ BlackPop: int  1358 646 90 371 75 230 909 245 15 10 ...\n",
      " $ HispPop : int  109 48 256 175 114 28 225 149 22 90 ...\n",
      " $ VAP_1   : int  1555 656 3635 559 2020 220 3170 417 419 145 ...\n",
      " $ BlackVAP: int  954 492 76 289 59 166 639 198 14 10 ...\n",
      " $ HispVAP : int  63 34 184 131 83 12 155 85 17 53 ...\n",
      " $ geometry:sfc_POLYGON of length 250; first list element: List of 1\n",
      "  ..$ : num [1:24, 1:2] -80.7 -80.7 -80.7 -80.7 -80.7 ...\n",
      "  ..- attr(*, \"class\")= chr [1:3] \"XY\" \"POLYGON\" \"sfg\"\n",
      " - attr(*, \"sf_column\")= chr \"geometry\"\n",
      " - attr(*, \"agr\")= Factor w/ 3 levels \"constant\",\"aggregate\",..: NA NA NA NA NA NA NA NA NA NA ...\n",
      "  ..- attr(*, \"names\")= chr [1:11] \"geoid10\" \"pop\" \"vap\" \"obama\" ...\n"
     ]
    }
   ],
   "source": [
    "str(fl250)"
   ]
  },
  {
   "cell_type": "code",
   "execution_count": 3,
   "metadata": {
    "scrolled": false
   },
   "outputs": [
    {
     "ename": "ERROR",
     "evalue": "Error in head(fl250): object 'fl250' not found\n",
     "output_type": "error",
     "traceback": [
      "Error in head(fl250): object 'fl250' not found\nTraceback:\n",
      "1. head(fl250)"
     ]
    }
   ],
   "source": []
  },
  {
   "cell_type": "code",
   "execution_count": 2,
   "metadata": {},
   "outputs": [
    {
     "ename": "ERROR",
     "evalue": "Error in eval(expr, envir, enclos): object 'fl250.dtypes' not found\n",
     "output_type": "error",
     "traceback": [
      "Error in eval(expr, envir, enclos): object 'fl250.dtypes' not found\nTraceback:\n"
     ]
    }
   ],
   "source": [
    "fl250.dtypes"
   ]
  },
  {
   "cell_type": "markdown",
   "metadata": {},
   "source": [
    "Agency-Based Redistricting"
   ]
  },
  {
   "cell_type": "code",
   "execution_count": 7,
   "metadata": {
    "scrolled": false
   },
   "outputs": [
    {
     "data": {
      "image/png": "[encoded data removed]",
      "text/plain": [
       "plot without title"
      ]
     },
     "metadata": {
      "image/png": {
       "height": 420,
       "width": 420
      }
     },
     "output_type": "display_data"
    }
   ],
   "source": [
    "fl250 %>% ggplot(aes(fill = pop)) + \n",
    "    geom_sf()"
   ]
  },
  {
   "cell_type": "code",
   "execution_count": 9,
   "metadata": {
    "scrolled": false
   },
   "outputs": [
    {
     "data": {
      "image/png": "[encoded data removed]",
      "text/plain": [
       "plot without title"
      ]
     },
     "metadata": {
      "image/png": {
       "height": 420,
       "width": 420
      }
     },
     "output_type": "display_data"
    }
   ],
   "source": [
    "fl250$id <- 1:250\n",
    "fl250[c(12,13,1,14,15),] %>% ggplot() +\n",
    "    geom_sf() + \n",
    "geom_sf_label(aes(label = id))"
   ]
  },
  {
   "cell_type": "code",
   "execution_count": 10,
   "metadata": {
    "scrolled": false
   },
   "outputs": [
    {
     "data": {
      "text/html": [
       "<style>\n",
       ".list-inline {list-style: none; margin:0; padding: 0}\n",
       ".list-inline>li {display: inline-block}\n",
       ".list-inline>li:not(:last-child)::after {content: \"\\00b7\"; padding: 0 .5ex}\n",
       "</style>\n",
       "<ol class=list-inline><li>17</li><li>20</li></ol>\n"
      ],
      "text/latex": [
       "\\begin{enumerate*}\n",
       "\\item 17\n",
       "\\item 20\n",
       "\\end{enumerate*}\n"
      ],
      "text/markdown": [
       "1. 17\n",
       "2. 20\n",
       "\n",
       "\n"
      ],
      "text/plain": [
       "[1] 17 20"
      ]
     },
     "metadata": {},
     "output_type": "display_data"
    }
   ],
   "source": [
    "# List of all precients each precinct is adjacent to\n",
    "# (corner touching doesn't qualify)\n",
    "adjlist <- poly2nb(pl = fl250, queen = FALSE)\n",
    "adjlist[[25]]"
   ]
  },
  {
   "cell_type": "code",
   "execution_count": 11,
   "metadata": {
    "scrolled": false
   },
   "outputs": [
    {
     "data": {
      "image/png": "[encoded data removed]",
      "text/plain": [
       "Plot with title \"\""
      ]
     },
     "metadata": {
      "image/png": {
       "height": 420,
       "width": 420
      }
     },
     "output_type": "display_data"
    }
   ],
   "source": [
    "plot(graph_from_adj_list(adjlist, mode = 'total'))"
   ]
  },
  {
   "cell_type": "code",
   "execution_count": 12,
   "metadata": {
    "scrolled": false
   },
   "outputs": [
    {
     "data": {
      "text/html": [
       "<style>\n",
       ".list-inline {list-style: none; margin:0; padding: 0}\n",
       ".list-inline>li {display: inline-block}\n",
       ".list-inline>li:not(:last-child)::after {content: \"\\00b7\"; padding: 0 .5ex}\n",
       "</style>\n",
       "<ol class=list-inline><li>16</li><li>19</li></ol>\n"
      ],
      "text/latex": [
       "\\begin{enumerate*}\n",
       "\\item 16\n",
       "\\item 19\n",
       "\\end{enumerate*}\n"
      ],
      "text/markdown": [
       "1. 16\n",
       "2. 19\n",
       "\n",
       "\n"
      ],
      "text/plain": [
       "[1] 16 19"
      ]
     },
     "metadata": {},
     "output_type": "display_data"
    }
   ],
   "source": [
    "# Zero-index the labels so that the C++ back end is happy\n",
    "for(i in 1:250) {\n",
    "    adjlist[[i]] <- adjlist[[i]]-1\n",
    "}\n",
    "adjlist[[25]]"
   ]
  },
  {
   "cell_type": "markdown",
   "metadata": {},
   "source": [
    "Redistricting with MCMC"
   ]
  },
  {
   "cell_type": "code",
   "execution_count": 13,
   "metadata": {
    "scrolled": false
   },
   "outputs": [
    {
     "name": "stdout",
     "output_type": "stream",
     "text": [
      "\n",
      "==================== \n",
      "redist.mcmc(): Automated Redistricting Simulation Using\n",
      "         Markov Chain Monte Carlo\n",
      "\n",
      "Preprocessing data.\n",
      "\n",
      "\n",
      "==================== \n",
      "Using redist.rsg() to generate starting values.\n",
      "\n",
      "10 percent done.\n",
      "Metropolis acceptance ratio: 0.968969\n",
      "\n",
      "20 percent done.\n",
      "Metropolis acceptance ratio: 0.969985\n",
      "\n",
      "30 percent done.\n",
      "Metropolis acceptance ratio: 0.967322\n",
      "\n",
      "40 percent done.\n",
      "Metropolis acceptance ratio: 0.965741\n",
      "\n",
      "50 percent done.\n",
      "Metropolis acceptance ratio: 0.964193\n",
      "\n",
      "60 percent done.\n",
      "Metropolis acceptance ratio: 0.965494\n",
      "\n",
      "70 percent done.\n",
      "Metropolis acceptance ratio: 0.966281\n",
      "\n",
      "80 percent done.\n",
      "Metropolis acceptance ratio: 0.966746\n",
      "\n",
      "90 percent done.\n",
      "Metropolis acceptance ratio: 0.966441\n",
      "\n",
      "100 percent done.\n",
      "Metropolis acceptance ratio: 0.965897\n",
      "\n"
     ]
    }
   ],
   "source": [
    "alg_mcmc <- redist.mcmc(adjobj = algdat.pfull$adjlist, # adjacency list\n",
    "                        popvec = algdat.pfull$precinct.data$pop, \n",
    "                        ndists = 3,\n",
    "                        nsims = 10000,\n",
    "                        savename = \"redist.mcmc\")"
   ]
  },
  {
   "cell_type": "code",
   "execution_count": 14,
   "metadata": {
    "scrolled": false
   },
   "outputs": [
    {
     "name": "stdout",
     "output_type": "stream",
     "text": [
      "\n",
      "==================== \n",
      "redist.mcmc(): Automated Redistricting Simulation Using\n",
      "         Markov Chain Monte Carlo\n",
      "\n",
      "Preprocessing data.\n",
      "\n",
      "10 percent done.\n",
      "Metropolis acceptance ratio: 0.95996\n",
      "\n",
      "20 percent done.\n",
      "Metropolis acceptance ratio: 0.95948\n",
      "\n",
      "30 percent done.\n",
      "Metropolis acceptance ratio: 0.959987\n",
      "\n",
      "40 percent done.\n",
      "Metropolis acceptance ratio: 0.95849\n",
      "\n",
      "50 percent done.\n",
      "Metropolis acceptance ratio: 0.957992\n",
      "\n",
      "60 percent done.\n",
      "Metropolis acceptance ratio: 0.96016\n",
      "\n",
      "70 percent done.\n",
      "Metropolis acceptance ratio: 0.960852\n",
      "\n",
      "80 percent done.\n",
      "Metropolis acceptance ratio: 0.96137\n",
      "\n",
      "90 percent done.\n",
      "Metropolis acceptance ratio: 0.962329\n",
      "\n",
      "100 percent done.\n",
      "Metropolis acceptance ratio: 0.962196\n",
      "\n"
     ]
    }
   ],
   "source": [
    "initcds <- algdat.pfull$cdmat[,1]\n",
    "alg_mcmc <- redist.mcmc(adjobj = algdat.pfull$adjlist,\n",
    "                        popvec = algdat.pfull$precinct.data$pop,\n",
    "                        initcds = initcds,\n",
    "                        nsims = 10000,\n",
    "                        savename = \"redist.mcmc\")"
   ]
  },
  {
   "cell_type": "code",
   "execution_count": 15,
   "metadata": {
    "scrolled": false
   },
   "outputs": [
    {
     "data": {
      "text/html": [
       "'redist'"
      ],
      "text/latex": [
       "'redist'"
      ],
      "text/markdown": [
       "'redist'"
      ],
      "text/plain": [
       "[1] \"redist\""
      ]
     },
     "metadata": {},
     "output_type": "display_data"
    },
    {
     "data": {
      "text/html": [
       "<style>\n",
       ".list-inline {list-style: none; margin:0; padding: 0}\n",
       ".list-inline>li {display: inline-block}\n",
       ".list-inline>li:not(:last-child)::after {content: \"\\00b7\"; padding: 0 .5ex}\n",
       "</style>\n",
       "<ol class=list-inline><li>'partitions'</li><li>'distance_parity'</li><li>'distance_original'</li><li>'mhdecisions'</li><li>'mhprob'</li><li>'pparam'</li><li>'beta_sequence'</li><li>'energy_psi'</li><li>'constraint_pop'</li><li>'constraint_compact'</li><li>'constraint_segregation'</li><li>'constraint_similar'</li><li>'constraint_countysplit'</li><li>'boundary_partitions'</li><li>'boundaryratio'</li></ol>\n"
      ],
      "text/latex": [
       "\\begin{enumerate*}\n",
       "\\item 'partitions'\n",
       "\\item 'distance\\_parity'\n",
       "\\item 'distance\\_original'\n",
       "\\item 'mhdecisions'\n",
       "\\item 'mhprob'\n",
       "\\item 'pparam'\n",
       "\\item 'beta\\_sequence'\n",
       "\\item 'energy\\_psi'\n",
       "\\item 'constraint\\_pop'\n",
       "\\item 'constraint\\_compact'\n",
       "\\item 'constraint\\_segregation'\n",
       "\\item 'constraint\\_similar'\n",
       "\\item 'constraint\\_countysplit'\n",
       "\\item 'boundary\\_partitions'\n",
       "\\item 'boundaryratio'\n",
       "\\end{enumerate*}\n"
      ],
      "text/markdown": [
       "1. 'partitions'\n",
       "2. 'distance_parity'\n",
       "3. 'distance_original'\n",
       "4. 'mhdecisions'\n",
       "5. 'mhprob'\n",
       "6. 'pparam'\n",
       "7. 'beta_sequence'\n",
       "8. 'energy_psi'\n",
       "9. 'constraint_pop'\n",
       "10. 'constraint_compact'\n",
       "11. 'constraint_segregation'\n",
       "12. 'constraint_similar'\n",
       "13. 'constraint_countysplit'\n",
       "14. 'boundary_partitions'\n",
       "15. 'boundaryratio'\n",
       "\n",
       "\n"
      ],
      "text/plain": [
       " [1] \"partitions\"             \"distance_parity\"        \"distance_original\"     \n",
       " [4] \"mhdecisions\"            \"mhprob\"                 \"pparam\"                \n",
       " [7] \"beta_sequence\"          \"energy_psi\"             \"constraint_pop\"        \n",
       "[10] \"constraint_compact\"     \"constraint_segregation\" \"constraint_similar\"    \n",
       "[13] \"constraint_countysplit\" \"boundary_partitions\"    \"boundaryratio\"         "
      ]
     },
     "metadata": {},
     "output_type": "display_data"
    }
   ],
   "source": [
    "class(alg_mcmc)\n",
    "names(alg_mcmc)"
   ]
  },
  {
   "cell_type": "markdown",
   "metadata": {},
   "source": [
    "Using Multiple Chains"
   ]
  },
  {
   "cell_type": "code",
   "execution_count": 16,
   "metadata": {
    "scrolled": true
   },
   "outputs": [
    {
     "name": "stdout",
     "output_type": "stream",
     "text": [
      "\n",
      "==================== \n",
      "redist.mcmc(): Automated Redistricting Simulation Using\n",
      "         Markov Chain Monte Carlo\n",
      "\n",
      "Preprocessing data.\n",
      "\n",
      "\n",
      "==================== \n",
      "Using redist.rsg() to generate starting values.\n",
      "\n",
      "10 percent done.\n",
      "Metropolis acceptance ratio: 0.964965\n",
      "\n",
      "20 percent done.\n",
      "Metropolis acceptance ratio: 0.961981\n",
      "\n",
      "30 percent done.\n",
      "Metropolis acceptance ratio: 0.963988\n",
      "\n",
      "40 percent done.\n",
      "Metropolis acceptance ratio: 0.95974\n",
      "\n",
      "50 percent done.\n",
      "Metropolis acceptance ratio: 0.961392\n",
      "\n",
      "60 percent done.\n",
      "Metropolis acceptance ratio: 0.96066\n",
      "\n",
      "70 percent done.\n",
      "Metropolis acceptance ratio: 0.961566\n",
      "\n",
      "80 percent done.\n",
      "Metropolis acceptance ratio: 0.96087\n",
      "\n",
      "90 percent done.\n",
      "Metropolis acceptance ratio: 0.960662\n",
      "\n",
      "100 percent done.\n",
      "Metropolis acceptance ratio: 0.960596\n",
      "\n",
      "\n",
      "==================== \n",
      "redist.mcmc(): Automated Redistricting Simulation Using\n",
      "         Markov Chain Monte Carlo\n",
      "\n",
      "Preprocessing data.\n",
      "\n",
      "\n",
      "==================== \n",
      "Using redist.rsg() to generate starting values.\n",
      "\n",
      "10 percent done.\n",
      "Metropolis acceptance ratio: 0.955956\n",
      "\n",
      "20 percent done.\n",
      "Metropolis acceptance ratio: 0.96048\n",
      "\n",
      "30 percent done.\n",
      "Metropolis acceptance ratio: 0.962654\n",
      "\n",
      "40 percent done.\n",
      "Metropolis acceptance ratio: 0.96049\n",
      "\n",
      "50 percent done.\n",
      "Metropolis acceptance ratio: 0.962593\n",
      "\n",
      "60 percent done.\n",
      "Metropolis acceptance ratio: 0.962827\n",
      "\n",
      "70 percent done.\n",
      "Metropolis acceptance ratio: 0.963566\n",
      "\n",
      "80 percent done.\n",
      "Metropolis acceptance ratio: 0.964371\n",
      "\n",
      "90 percent done.\n",
      "Metropolis acceptance ratio: 0.963663\n",
      "\n",
      "100 percent done.\n",
      "Metropolis acceptance ratio: 0.963696\n",
      "\n",
      "\n",
      "==================== \n",
      "redist.mcmc(): Automated Redistricting Simulation Using\n",
      "         Markov Chain Monte Carlo\n",
      "\n",
      "Preprocessing data.\n",
      "\n",
      "\n",
      "==================== \n",
      "Using redist.rsg() to generate starting values.\n",
      "\n",
      "10 percent done.\n",
      "Metropolis acceptance ratio: 0.958959\n",
      "\n",
      "20 percent done.\n",
      "Metropolis acceptance ratio: 0.961481\n",
      "\n",
      "30 percent done.\n",
      "Metropolis acceptance ratio: 0.964321\n",
      "\n",
      "40 percent done.\n",
      "Metropolis acceptance ratio: 0.966992\n",
      "\n",
      "50 percent done.\n",
      "Metropolis acceptance ratio: 0.967193\n",
      "\n",
      "60 percent done.\n",
      "Metropolis acceptance ratio: 0.966994\n",
      "\n",
      "70 percent done.\n",
      "Metropolis acceptance ratio: 0.966995\n",
      "\n",
      "80 percent done.\n",
      "Metropolis acceptance ratio: 0.966371\n",
      "\n",
      "90 percent done.\n",
      "Metropolis acceptance ratio: 0.965996\n",
      "\n",
      "100 percent done.\n",
      "Metropolis acceptance ratio: 0.965597\n",
      "\n",
      "\n",
      "==================== \n",
      "redist.mcmc(): Automated Redistricting Simulation Using\n",
      "         Markov Chain Monte Carlo\n",
      "\n",
      "Preprocessing data.\n",
      "\n",
      "\n",
      "==================== \n",
      "Using redist.rsg() to generate starting values.\n",
      "\n",
      "10 percent done.\n",
      "Metropolis acceptance ratio: 0.968969\n",
      "\n",
      "20 percent done.\n",
      "Metropolis acceptance ratio: 0.965483\n",
      "\n",
      "30 percent done.\n",
      "Metropolis acceptance ratio: 0.964655\n",
      "\n",
      "40 percent done.\n",
      "Metropolis acceptance ratio: 0.963491\n",
      "\n",
      "50 percent done.\n",
      "Metropolis acceptance ratio: 0.963993\n",
      "\n",
      "60 percent done.\n",
      "Metropolis acceptance ratio: 0.962494\n",
      "\n",
      "70 percent done.\n",
      "Metropolis acceptance ratio: 0.96328\n",
      "\n",
      "80 percent done.\n",
      "Metropolis acceptance ratio: 0.96387\n",
      "\n",
      "90 percent done.\n",
      "Metropolis acceptance ratio: 0.964218\n",
      "\n",
      "100 percent done.\n",
      "Metropolis acceptance ratio: 0.964896\n",
      "\n"
     ]
    }
   ],
   "source": [
    "RNGkind(kind = \"L'Ecuyer-CMRG\")\n",
    "set.seed(1)\n",
    "nchains <- 4\n",
    "nsims <- 10000\n",
    "mcmc_chains <- lapply(1:nchains, function(x){\n",
    "          redist.mcmc(adjobj = algdat.pfull$adjlist, \n",
    "                      popvec = algdat.pfull$precinct.data$pop, \n",
    "                      nsims = nsims,\n",
    "                      ndists = 3)\n",
    "})"
   ]
  },
  {
   "cell_type": "code",
   "execution_count": 17,
   "metadata": {
    "scrolled": false
   },
   "outputs": [],
   "source": [
    "seg <- redist.segcalc(algout = alg_mcmc, \n",
    "                      grouppop = algdat.pfull$precinct.data$blackpop,\n",
    "                      fullpop = algdat.pfull$precinct.data$pop)\n"
   ]
  },
  {
   "cell_type": "markdown",
   "metadata": {},
   "source": [
    "Diagnostic Plots"
   ]
  },
  {
   "cell_type": "code",
   "execution_count": 18,
   "metadata": {
    "scrolled": false
   },
   "outputs": [
    {
     "data": {
      "image/png": "[encoded data removed]",
      "text/plain": [
       "plot without title"
      ]
     },
     "metadata": {
      "image/png": {
       "height": 420,
       "width": 420
      }
     },
     "output_type": "display_data"
    }
   ],
   "source": [
    "# Trace Plot\n",
    "redist.diagplot(seg, plot = \"trace\")"
   ]
  },
  {
   "cell_type": "code",
   "execution_count": 19,
   "metadata": {
    "scrolled": false
   },
   "outputs": [
    {
     "data": {
      "image/png": "[encoded data removed]",
      "text/plain": [
       "Plot with title \"\""
      ]
     },
     "metadata": {
      "image/png": {
       "height": 420,
       "width": 420
      }
     },
     "output_type": "display_data"
    }
   ],
   "source": [
    "# Autocorrelation Plot\n",
    "redist.diagplot(seg, plot = \"autocorr\")"
   ]
  },
  {
   "cell_type": "code",
   "execution_count": 20,
   "metadata": {
    "scrolled": false
   },
   "outputs": [
    {
     "data": {
      "image/png": "[encoded data removed]",
      "text/plain": [
       "Plot with title \"\""
      ]
     },
     "metadata": {
      "image/png": {
       "height": 420,
       "width": 420
      }
     },
     "output_type": "display_data"
    }
   ],
   "source": [
    "# Density Plot\n",
    "redist.diagplot(seg, plot = \"densplot\")"
   ]
  },
  {
   "cell_type": "code",
   "execution_count": 21,
   "metadata": {
    "scrolled": false
   },
   "outputs": [
    {
     "data": {
      "image/png": "[encoded data removed]",
      "text/plain": [
       "Plot with title \"\""
      ]
     },
     "metadata": {
      "image/png": {
       "height": 420,
       "width": 420
      }
     },
     "output_type": "display_data"
    }
   ],
   "source": [
    "# Mean plot\n",
    "redist.diagplot(seg, plot = \"mean\")"
   ]
  }
 ],
 "metadata": {
  "kernelspec": {
   "display_name": "R",
   "language": "R",
   "name": "ir"
  },
  "language_info": {
   "codemirror_mode": "r",
   "file_extension": ".r",
   "mimetype": "text/x-r-source",
   "name": "R",
   "pygments_lexer": "r",
   "version": "4.0.3"
  }
 },
 "nbformat": 4,
 "nbformat_minor": 4
}
