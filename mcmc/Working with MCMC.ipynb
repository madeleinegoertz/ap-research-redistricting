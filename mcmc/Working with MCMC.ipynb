{
 "cells": [
  {
   "cell_type": "code",
   "execution_count": 1,
   "metadata": {
    "scrolled": true
   },
   "outputs": [
    {
     "name": "stderr",
     "output_type": "stream",
     "text": [
      "Linking to GEOS 3.8.0, GDAL 3.0.4, PROJ 6.3.1\n",
      "\n",
      "Loading required package: spData\n",
      "\n",
      "\n",
      "Attaching package: 'igraph'\n",
      "\n",
      "\n",
      "The following objects are masked from 'package:stats':\n",
      "\n",
      "    decompose, spectrum\n",
      "\n",
      "\n",
      "The following object is masked from 'package:base':\n",
      "\n",
      "    union\n",
      "\n",
      "\n",
      "\n",
      "Attaching package: 'dplyr'\n",
      "\n",
      "\n",
      "The following objects are masked from 'package:igraph':\n",
      "\n",
      "    as_data_frame, groups, union\n",
      "\n",
      "\n",
      "The following objects are masked from 'package:stats':\n",
      "\n",
      "    filter, lag\n",
      "\n",
      "\n",
      "The following objects are masked from 'package:base':\n",
      "\n",
      "    intersect, setdiff, setequal, union\n",
      "\n",
      "\n",
      "\n",
      "Attaching package: 'geojsonio'\n",
      "\n",
      "\n",
      "The following object is masked from 'package:base':\n",
      "\n",
      "    pretty\n",
      "\n",
      "\n"
     ]
    }
   ],
   "source": [
    "library(redist)\n",
    "library(sf)\n",
    "library(sp)\n",
    "library(spdep)\n",
    "library(igraph)\n",
    "library(ggplot2)\n",
    "library(dplyr)\n",
    "library(geojsonio)\n",
    "library(magrittr)\n"
   ]
  },
  {
   "cell_type": "code",
   "execution_count": 2,
   "metadata": {
    "scrolled": false
   },
   "outputs": [],
   "source": [
    "data(\"algdat.p10\")\n",
    "data(\"algdat.p20\")\n",
    "data(\"algdat.pfull\")\n"
   ]
  },
  {
   "cell_type": "code",
   "execution_count": 3,
   "metadata": {
    "scrolled": false
   },
   "outputs": [
    {
     "data": {
      "text/html": [
       "<style>\n",
       ".list-inline {list-style: none; margin:0; padding: 0}\n",
       ".list-inline>li {display: inline-block}\n",
       ".list-inline>li:not(:last-child)::after {content: \"\\00b7\"; padding: 0 .5ex}\n",
       "</style>\n",
       "<ol class=list-inline><li>'adjlist'</li><li>'cdmat'</li><li>'precinct.data'</li><li>'segregation.index'</li><li>'distancemat'</li></ol>\n"
      ],
      "text/latex": [
       "\\begin{enumerate*}\n",
       "\\item 'adjlist'\n",
       "\\item 'cdmat'\n",
       "\\item 'precinct.data'\n",
       "\\item 'segregation.index'\n",
       "\\item 'distancemat'\n",
       "\\end{enumerate*}\n"
      ],
      "text/markdown": [
       "1. 'adjlist'\n",
       "2. 'cdmat'\n",
       "3. 'precinct.data'\n",
       "4. 'segregation.index'\n",
       "5. 'distancemat'\n",
       "\n",
       "\n"
      ],
      "text/plain": [
       "[1] \"adjlist\"           \"cdmat\"             \"precinct.data\"    \n",
       "[4] \"segregation.index\" \"distancemat\"      "
      ]
     },
     "metadata": {},
     "output_type": "display_data"
    },
    {
     "data": {
      "text/html": [
       "<style>\n",
       ".list-inline {list-style: none; margin:0; padding: 0}\n",
       ".list-inline>li {display: inline-block}\n",
       ".list-inline>li:not(:last-child)::after {content: \"\\00b7\"; padding: 0 .5ex}\n",
       "</style>\n",
       "<ol class=list-inline><li>'adjlist'</li><li>'cdmat'</li><li>'precinct.data'</li><li>'segregation.index'</li><li>'distancemat'</li></ol>\n"
      ],
      "text/latex": [
       "\\begin{enumerate*}\n",
       "\\item 'adjlist'\n",
       "\\item 'cdmat'\n",
       "\\item 'precinct.data'\n",
       "\\item 'segregation.index'\n",
       "\\item 'distancemat'\n",
       "\\end{enumerate*}\n"
      ],
      "text/markdown": [
       "1. 'adjlist'\n",
       "2. 'cdmat'\n",
       "3. 'precinct.data'\n",
       "4. 'segregation.index'\n",
       "5. 'distancemat'\n",
       "\n",
       "\n"
      ],
      "text/plain": [
       "[1] \"adjlist\"           \"cdmat\"             \"precinct.data\"    \n",
       "[4] \"segregation.index\" \"distancemat\"      "
      ]
     },
     "metadata": {},
     "output_type": "display_data"
    },
    {
     "data": {
      "text/html": [
       "<style>\n",
       ".list-inline {list-style: none; margin:0; padding: 0}\n",
       ".list-inline>li {display: inline-block}\n",
       ".list-inline>li:not(:last-child)::after {content: \"\\00b7\"; padding: 0 .5ex}\n",
       "</style>\n",
       "<ol class=list-inline><li>'adjlist'</li><li>'cdmat'</li><li>'precinct.data'</li><li>'segregation.index'</li><li>'distancemat'</li></ol>\n"
      ],
      "text/latex": [
       "\\begin{enumerate*}\n",
       "\\item 'adjlist'\n",
       "\\item 'cdmat'\n",
       "\\item 'precinct.data'\n",
       "\\item 'segregation.index'\n",
       "\\item 'distancemat'\n",
       "\\end{enumerate*}\n"
      ],
      "text/markdown": [
       "1. 'adjlist'\n",
       "2. 'cdmat'\n",
       "3. 'precinct.data'\n",
       "4. 'segregation.index'\n",
       "5. 'distancemat'\n",
       "\n",
       "\n"
      ],
      "text/plain": [
       "[1] \"adjlist\"           \"cdmat\"             \"precinct.data\"    \n",
       "[4] \"segregation.index\" \"distancemat\"      "
      ]
     },
     "metadata": {},
     "output_type": "display_data"
    }
   ],
   "source": [
    "names(algdat.p10)\n",
    "names(algdat.p20)\n",
    "names(algdat.pfull)"
   ]
  },
  {
   "cell_type": "code",
   "execution_count": 31,
   "metadata": {
    "scrolled": false
   },
   "outputs": [
    {
     "data": {
      "text/html": [
       "<style>\n",
       ".list-inline {list-style: none; margin:0; padding: 0}\n",
       ".list-inline>li {display: inline-block}\n",
       ".list-inline>li:not(:last-child)::after {content: \"\\00b7\"; padding: 0 .5ex}\n",
       "</style>\n",
       "<ol class=list-inline><li>'matrix'</li><li>'array'</li></ol>\n"
      ],
      "text/latex": [
       "\\begin{enumerate*}\n",
       "\\item 'matrix'\n",
       "\\item 'array'\n",
       "\\end{enumerate*}\n"
      ],
      "text/markdown": [
       "1. 'matrix'\n",
       "2. 'array'\n",
       "\n",
       "\n"
      ],
      "text/plain": [
       "[1] \"matrix\" \"array\" "
      ]
     },
     "metadata": {},
     "output_type": "display_data"
    },
    {
     "data": {
      "text/html": [
       "'nb'"
      ],
      "text/latex": [
       "'nb'"
      ],
      "text/markdown": [
       "'nb'"
      ],
      "text/plain": [
       "[1] \"nb\""
      ]
     },
     "metadata": {},
     "output_type": "display_data"
    }
   ],
   "source": [
    "class(algdat.p10[[2]])\n",
    "class(algdat.p10$adjlist)"
   ]
  },
  {
   "cell_type": "code",
   "execution_count": 26,
   "metadata": {
    "scrolled": false
   },
   "outputs": [
    {
     "data": {
      "text/html": [
       "'nb'"
      ],
      "text/latex": [
       "'nb'"
      ],
      "text/markdown": [
       "'nb'"
      ],
      "text/plain": [
       "[1] \"nb\""
      ]
     },
     "metadata": {},
     "output_type": "display_data"
    },
    {
     "data": {
      "text/html": [
       "<style>\n",
       ".list-inline {list-style: none; margin:0; padding: 0}\n",
       ".list-inline>li {display: inline-block}\n",
       ".list-inline>li:not(:last-child)::after {content: \"\\00b7\"; padding: 0 .5ex}\n",
       "</style>\n",
       "<ol class=list-inline><li>'matrix'</li><li>'array'</li></ol>\n"
      ],
      "text/latex": [
       "\\begin{enumerate*}\n",
       "\\item 'matrix'\n",
       "\\item 'array'\n",
       "\\end{enumerate*}\n"
      ],
      "text/markdown": [
       "1. 'matrix'\n",
       "2. 'array'\n",
       "\n",
       "\n"
      ],
      "text/plain": [
       "[1] \"matrix\" \"array\" "
      ]
     },
     "metadata": {},
     "output_type": "display_data"
    },
    {
     "data": {
      "text/html": [
       "'data.frame'"
      ],
      "text/latex": [
       "'data.frame'"
      ],
      "text/markdown": [
       "'data.frame'"
      ],
      "text/plain": [
       "[1] \"data.frame\""
      ]
     },
     "metadata": {},
     "output_type": "display_data"
    },
    {
     "data": {
      "text/html": [
       "'data.frame'"
      ],
      "text/latex": [
       "'data.frame'"
      ],
      "text/markdown": [
       "'data.frame'"
      ],
      "text/plain": [
       "[1] \"data.frame\""
      ]
     },
     "metadata": {},
     "output_type": "display_data"
    },
    {
     "data": {
      "text/html": [
       "<style>\n",
       ".list-inline {list-style: none; margin:0; padding: 0}\n",
       ".list-inline>li {display: inline-block}\n",
       ".list-inline>li:not(:last-child)::after {content: \"\\00b7\"; padding: 0 .5ex}\n",
       "</style>\n",
       "<ol class=list-inline><li>'matrix'</li><li>'array'</li></ol>\n"
      ],
      "text/latex": [
       "\\begin{enumerate*}\n",
       "\\item 'matrix'\n",
       "\\item 'array'\n",
       "\\end{enumerate*}\n"
      ],
      "text/markdown": [
       "1. 'matrix'\n",
       "2. 'array'\n",
       "\n",
       "\n"
      ],
      "text/plain": [
       "[1] \"matrix\" \"array\" "
      ]
     },
     "metadata": {},
     "output_type": "display_data"
    }
   ],
   "source": [
    "class(algdat.p10[[1]])\n",
    "class(algdat.p10[[2]])\n",
    "class(algdat.p10[[3]])\n",
    "class(algdat.p10[[4]])\n",
    "class(algdat.p10[[5]])"
   ]
  },
  {
   "cell_type": "code",
   "execution_count": 30,
   "metadata": {},
   "outputs": [
    {
     "data": {
      "application/geo+json": {
       "features": [
        {
         "geometry": {
          "coordinates": [
           [
            [
             -81.781,
             26.6274
            ],
            [
             -81.7798,
             26.6253
            ],
            [
             -81.773,
             26.6203
            ],
            [
             -81.7696,
             26.617
            ],
            [
             -81.7633,
             26.6115
            ],
            [
             -81.7591,
             26.6079
            ],
            [
             -81.7566,
             26.6058
            ],
            [
             -81.7501,
             26.6002
            ],
            [
             -81.7412,
             26.5926
            ],
            [
             -81.7383,
             26.5904
            ],
            [
             -81.728,
             26.5858
            ],
            [
             -81.7229,
             26.5836
            ],
            [
             -81.7174,
             26.5811
            ],
            [
             -81.7124,
             26.5789
            ],
            [
             -81.7093,
             26.5776
            ],
            [
             -81.7017,
             26.5742
            ],
            [
             -81.6969,
             26.5721
            ],
            [
             -81.6929,
             26.5703
            ],
            [
             -81.6801,
             26.5647
            ],
            [
             -81.6772,
             26.5633
            ],
            [
             -81.67,
             26.5606
            ],
            [
             -81.6618,
             26.5582
            ],
            [
             -81.6454,
             26.5512
            ],
            [
             -81.6418,
             26.5487
            ],
            [
             -81.637,
             26.5447
            ],
            [
             -81.6356,
             26.5423
            ],
            [
             -81.6331,
             26.5378
            ],
            [
             -81.6315,
             26.5361
            ],
            [
             -81.6292,
             26.5349
            ],
            [
             -81.6248,
             26.5337
            ],
            [
             -81.6208,
             26.5326
            ],
            [
             -81.6166,
             26.5316
            ],
            [
             -81.605,
             26.5293
            ],
            [
             -81.6022,
             26.528
            ],
            [
             -81.5882,
             26.5244
            ],
            [
             -81.58,
             26.5223
            ],
            [
             -81.5732,
             26.5208
            ],
            [
             -81.5685,
             26.5195
            ],
            [
             -81.5641,
             26.5184
            ],
            [
             -81.5637,
             26.5133
            ],
            [
             -81.5637,
             26.5093
            ],
            [
             -81.5635,
             26.5004
            ],
            [
             -81.563,
             26.4731
            ],
            [
             -81.5629,
             26.4659
            ],
            [
             -81.5747,
             26.4658
            ],
            [
             -81.5832,
             26.4656
            ],
            [
             -81.5908,
             26.4656
            ],
            [
             -81.5941,
             26.4656
            ],
            [
             -81.6095,
             26.4654
            ],
            [
             -81.6118,
             26.4653
            ],
            [
             -81.6574,
             26.4649
            ],
            [
             -81.664,
             26.4648
            ],
            [
             -81.6662,
             26.4657
            ],
            [
             -81.6668,
             26.49
            ],
            [
             -81.667,
             26.4958
            ],
            [
             -81.6673,
             26.4996
            ],
            [
             -81.6677,
             26.5081
            ],
            [
             -81.6772,
             26.5081
            ],
            [
             -81.6944,
             26.5083
            ],
            [
             -81.7253,
             26.5089
            ],
            [
             -81.7253,
             26.5048
            ],
            [
             -81.7251,
             26.4988
            ],
            [
             -81.725,
             26.494
            ],
            [
             -81.7285,
             26.494
            ],
            [
             -81.7322,
             26.494
            ],
            [
             -81.7356,
             26.494
            ],
            [
             -81.7385,
             26.4939
            ],
            [
             -81.741,
             26.4944
            ],
            [
             -81.7413,
             26.503
            ],
            [
             -81.7414,
             26.509
            ],
            [
             -81.7496,
             26.5089
            ],
            [
             -81.7551,
             26.5089
            ],
            [
             -81.7682,
             26.5089
            ],
            [
             -81.7977,
             26.5093
            ],
            [
             -81.7971,
             26.5132
            ],
            [
             -81.7974,
             26.5455
            ],
            [
             -81.7984,
             26.5474
            ],
            [
             -81.7974,
             26.5489
            ],
            [
             -81.7976,
             26.555
            ],
            [
             -81.7975,
             26.5637
            ],
            [
             -81.7974,
             26.5681
            ],
            [
             -81.7976,
             26.5728
            ],
            [
             -81.7982,
             26.5769
            ],
            [
             -81.7989,
             26.58
            ],
            [
             -81.8002,
             26.5836
            ],
            [
             -81.8019,
             26.5875
            ],
            [
             -81.8033,
             26.5901
            ],
            [
             -81.8053,
             26.5931
            ],
            [
             -81.8064,
             26.5985
            ],
            [
             -81.8091,
             26.6118
            ],
            [
             -81.8097,
             26.615
            ],
            [
             -81.8099,
             26.6179
            ],
            [
             -81.809,
             26.6216
            ],
            [
             -81.8052,
             26.6259
            ],
            [
             -81.8037,
             26.6283
            ],
            [
             -81.8029,
             26.6304
            ],
            [
             -81.8022,
             26.6322
            ],
            [
             -81.801,
             26.6341
            ],
            [
             -81.7985,
             26.6335
            ],
            [
             -81.7956,
             26.6326
            ],
            [
             -81.7918,
             26.6314
            ],
            [
             -81.7872,
             26.6299
            ],
            [
             -81.7833,
             26.6287
            ],
            [
             -81.781,
             26.6274
            ]
           ]
          ],
          "type": "Polygon"
         },
         "properties": {
          "BlackPop": 863,
          "BlackVAP": 582,
          "HispPop": 1980,
          "HispVAP": 1292,
          "TotPop": 15993,
          "VAP": 12379,
          "geoid10": "2519.0_0",
          "mccain": 1522,
          "obama": 647,
          "pop": 15993,
          "vap": 12379
         },
         "type": "Feature"
        },
        {
         "geometry": {
          "coordinates": [
           [
            [
             -81.801,
             26.6341
            ],
            [
             -81.8022,
             26.6322
            ],
            [
             -81.8029,
             26.6304
            ],
            [
             -81.8037,
             26.6283
            ],
            [
             -81.8052,
             26.6259
            ],
            [
             -81.809,
             26.6216
            ],
            [
             -81.8099,
             26.6179
            ],
            [
             -81.8097,
             26.615
            ],
            [
             -81.8091,
             26.6118
            ],
            [
             -81.8064,
             26.5985
            ],
            [
             -81.8053,
             26.5931
            ],
            [
             -81.8078,
             26.5889
            ],
            [
             -81.81,
             26.587
            ],
            [
             -81.8108,
             26.5903
            ],
            [
             -81.8108,
             26.5932
            ],
            [
             -81.8109,
             26.5981
            ],
            [
             -81.8119,
             26.6005
            ],
            [
             -81.8118,
             26.6056
            ],
            [
             -81.8111,
             26.609
            ],
            [
             -81.8197,
             26.6095
            ],
            [
             -81.8227,
             26.6084
            ],
            [
             -81.8268,
             26.6062
            ],
            [
             -81.8289,
             26.6046
            ],
            [
             -81.8315,
             26.6025
            ],
            [
             -81.8322,
             26.5981
            ],
            [
             -81.8275,
             26.598
            ],
            [
             -81.8233,
             26.598
            ],
            [
             -81.8233,
             26.5911
            ],
            [
             -81.8289,
             26.5911
            ],
            [
             -81.8355,
             26.5919
            ],
            [
             -81.8378,
             26.5942
            ],
            [
             -81.8391,
             26.5975
            ],
            [
             -81.8414,
             26.5975
            ],
            [
             -81.8467,
             26.5974
            ],
            [
             -81.8471,
             26.5945
            ],
            [
             -81.8501,
             26.5948
            ],
            [
             -81.8521,
             26.5948
            ],
            [
             -81.8528,
             26.5973
            ],
            [
             -81.8555,
             26.5972
            ],
            [
             -81.8557,
             26.6043
            ],
            [
             -81.8558,
             26.6116
            ],
            [
             -81.8557,
             26.6213
            ],
            [
             -81.8553,
             26.6263
            ],
            [
             -81.8525,
             26.6265
            ],
            [
             -81.8476,
             26.6268
            ],
            [
             -81.8428,
             26.6268
            ],
            [
             -81.84,
             26.6268
            ],
            [
             -81.8353,
             26.6268
            ],
            [
             -81.8326,
             26.6268
            ],
            [
             -81.8285,
             26.6266
            ],
            [
             -81.8241,
             26.6266
            ],
            [
             -81.8258,
             26.6327
            ],
            [
             -81.8248,
             26.6412
            ],
            [
             -81.8198,
             26.6402
            ],
            [
             -81.8177,
             26.6397
            ],
            [
             -81.8146,
             26.6387
            ],
            [
             -81.8117,
             26.6377
            ],
            [
             -81.8065,
             26.6361
            ],
            [
             -81.8033,
             26.6351
            ],
            [
             -81.801,
             26.6341
            ]
           ]
          ],
          "type": "Polygon"
         },
         "properties": {
          "BlackPop": 2417,
          "BlackVAP": 1601,
          "HispPop": 1600,
          "HispVAP": 1133,
          "TotPop": 7799,
          "VAP": 6084,
          "geoid10": "2402.0_0",
          "mccain": 226,
          "obama": 266,
          "pop": 7799,
          "vap": 6084
         },
         "type": "Feature"
        },
        {
         "geometry": {
          "coordinates": [
           [
            [
             -81.7977,
             26.5093
            ],
            [
             -81.8219,
             26.5088
            ],
            [
             -81.8225,
             26.5187
            ],
            [
             -81.8268,
             26.5199
            ],
            [
             -81.8268,
             26.5247
            ],
            [
             -81.8471,
             26.525
            ],
            [
             -81.842,
             26.53
            ],
            [
             -81.8377,
             26.5359
            ],
            [
             -81.8334,
             26.5467
            ],
            [
             -81.8297,
             26.5468
            ],
            [
             -81.8258,
             26.5469
            ],
            [
             -81.8217,
             26.5469
            ],
            [
             -81.8184,
             26.547
            ],
            [
             -81.8158,
             26.5471
            ],
            [
             -81.8123,
             26.5471
            ],
            [
             -81.8081,
             26.5472
            ],
            [
             -81.804,
             26.5473
            ],
            [
             -81.8006,
             26.5473
            ],
            [
             -81.7984,
             26.5474
            ],
            [
             -81.7974,
             26.5455
            ],
            [
             -81.7971,
             26.5132
            ],
            [
             -81.7977,
             26.5093
            ]
           ]
          ],
          "type": "Polygon"
         },
         "properties": {
          "BlackPop": 97,
          "BlackVAP": 78,
          "HispPop": 304,
          "HispVAP": 240,
          "TotPop": 6347,
          "VAP": 5698,
          "geoid10": "2520.0_0",
          "mccain": 1846,
          "obama": 758,
          "pop": 6347,
          "vap": 5698
         },
         "type": "Feature"
        },
        {
         "geometry": {
          "coordinates": [
           [
            [
             -81.7984,
             26.5474
            ],
            [
             -81.8006,
             26.5473
            ],
            [
             -81.804,
             26.5473
            ],
            [
             -81.8081,
             26.5472
            ],
            [
             -81.8123,
             26.5471
            ],
            [
             -81.8158,
             26.5471
            ],
            [
             -81.8184,
             26.547
            ],
            [
             -81.8217,
             26.5469
            ],
            [
             -81.8258,
             26.5469
            ],
            [
             -81.8297,
             26.5468
            ],
            [
             -81.8334,
             26.5467
            ],
            [
             -81.8318,
             26.5539
            ],
            [
             -81.8278,
             26.563
            ],
            [
             -81.8246,
             26.57
            ],
            [
             -81.8204,
             26.5755
            ],
            [
             -81.8186,
             26.5775
            ],
            [
             -81.8161,
             26.5802
            ],
            [
             -81.8136,
             26.5829
            ],
            [
             -81.81,
             26.587
            ],
            [
             -81.8078,
             26.5889
            ],
            [
             -81.8053,
             26.5931
            ],
            [
             -81.8033,
             26.5901
            ],
            [
             -81.8019,
             26.5875
            ],
            [
             -81.8002,
             26.5836
            ],
            [
             -81.7989,
             26.58
            ],
            [
             -81.7982,
             26.5769
            ],
            [
             -81.7976,
             26.5728
            ],
            [
             -81.7974,
             26.5681
            ],
            [
             -81.7975,
             26.5637
            ],
            [
             -81.7976,
             26.555
            ],
            [
             -81.7974,
             26.5489
            ],
            [
             -81.7984,
             26.5474
            ]
           ]
          ],
          "type": "Polygon"
         },
         "properties": {
          "BlackPop": 41,
          "BlackVAP": 27,
          "HispPop": 180,
          "HispVAP": 134,
          "TotPop": 3808,
          "VAP": 3134,
          "geoid10": "2532.0_0",
          "mccain": 828,
          "obama": 424,
          "pop": 3808,
          "vap": 3134
         },
         "type": "Feature"
        },
        {
         "geometry": {
          "coordinates": [
           [
            [
             -81.7504,
             26.7038
            ],
            [
             -81.7505,
             26.7014
            ],
            [
             -81.7498,
             26.6955
            ],
            [
             -81.7495,
             26.693
            ],
            [
             -81.7504,
             26.6902
            ],
            [
             -81.7529,
             26.6893
            ],
            [
             -81.7561,
             26.6907
            ],
            [
             -81.7591,
             26.6917
            ],
            [
             -81.7608,
             26.6926
            ],
            [
             -81.7603,
             26.6889
            ],
            [
             -81.7599,
             26.6768
            ],
            [
             -81.7601,
             26.6565
            ],
            [
             -81.7592,
             26.6274
            ],
            [
             -81.7634,
             26.6272
            ],
            [
             -81.7679,
             26.6271
            ],
            [
             -81.7741,
             26.6268
            ],
            [
             -81.7778,
             26.6271
            ],
            [
             -81.781,
             26.6274
            ],
            [
             -81.7833,
             26.6287
            ],
            [
             -81.7872,
             26.6299
            ],
            [
             -81.7918,
             26.6314
            ],
            [
             -81.7956,
             26.6326
            ],
            [
             -81.7985,
             26.6335
            ],
            [
             -81.801,
             26.6341
            ],
            [
             -81.8013,
             26.6371
            ],
            [
             -81.8014,
             26.6417
            ],
            [
             -81.8008,
             26.6455
            ],
            [
             -81.8003,
             26.655
            ],
            [
             -81.8003,
             26.6585
            ],
            [
             -81.8002,
             26.6625
            ],
            [
             -81.8002,
             26.666
            ],
            [
             -81.8,
             26.669
            ],
            [
             -81.7996,
             26.6709
            ],
            [
             -81.799,
             26.6744
            ],
            [
             -81.7988,
             26.6789
            ],
            [
             -81.7988,
             26.6829
            ],
            [
             -81.7988,
             26.6862
            ],
            [
             -81.799,
             26.6881
            ],
            [
             -81.7992,
             26.6915
            ],
            [
             -81.7997,
             26.6961
            ],
            [
             -81.798,
             26.6972
            ],
            [
             -81.7944,
             26.6976
            ],
            [
             -81.7901,
             26.6982
            ],
            [
             -81.786,
             26.699
            ],
            [
             -81.783,
             26.7001
            ],
            [
             -81.7806,
             26.7011
            ],
            [
             -81.7766,
             26.7027
            ],
            [
             -81.7727,
             26.7055
            ],
            [
             -81.7702,
             26.7102
            ],
            [
             -81.7679,
             26.7139
            ],
            [
             -81.7651,
             26.7157
            ],
            [
             -81.7612,
             26.7171
            ],
            [
             -81.7604,
             26.7151
            ],
            [
             -81.7602,
             26.7129
            ],
            [
             -81.7602,
             26.7092
            ],
            [
             -81.7602,
             26.7062
            ],
            [
             -81.7601,
             26.7037
            ],
            [
             -81.7595,
             26.7017
            ],
            [
             -81.7565,
             26.7026
            ],
            [
             -81.7533,
             26.7032
            ],
            [
             -81.7504,
             26.7038
            ]
           ]
          ],
          "type": "Polygon"
         },
         "properties": {
          "BlackPop": 316,
          "BlackVAP": 199,
          "HispPop": 837,
          "HispVAP": 545,
          "TotPop": 4982,
          "VAP": 4173,
          "geoid10": "2438.0_0",
          "mccain": 842,
          "obama": 668,
          "pop": 4982,
          "vap": 4173
         },
         "type": "Feature"
        },
        {
         "geometry": {
          "coordinates": [
           [
            [
             -81.6662,
             26.4657
            ],
            [
             -81.6742,
             26.4648
            ],
            [
             -81.6814,
             26.4647
            ],
            [
             -81.6839,
             26.4647
            ],
            [
             -81.6889,
             26.4647
            ],
            [
             -81.7013,
             26.4646
            ],
            [
             -81.7057,
             26.4645
            ],
            [
             -81.7097,
             26.4645
            ],
            [
             -81.713,
             26.4644
            ],
            [
             -81.7179,
             26.4644
            ],
            [
             -81.7245,
             26.4643
            ],
            [
             -81.7242,
             26.4561
            ],
            [
             -81.7454,
             26.4534
            ],
            [
             -81.7478,
             26.453
            ],
            [
             -81.7513,
             26.4525
            ],
            [
             -81.7557,
             26.4519
            ],
            [
             -81.7831,
             26.4483
            ],
            [
             -81.7844,
             26.4514
            ],
            [
             -81.7868,
             26.4574
            ],
            [
             -81.7875,
             26.4593
            ],
            [
             -81.7904,
             26.4656
            ],
            [
             -81.7919,
             26.4702
            ],
            [
             -81.7927,
             26.4722
            ],
            [
             -81.7946,
             26.4767
            ],
            [
             -81.7963,
             26.4793
            ],
            [
             -81.8044,
             26.4786
            ],
            [
             -81.8144,
             26.4779
            ],
            [
             -81.8138,
             26.4813
            ],
            [
             -81.8146,
             26.4848
            ],
            [
             -81.8176,
             26.4848
            ],
            [
             -81.8211,
             26.4848
            ],
            [
             -81.8264,
             26.4847
            ],
            [
             -81.8309,
             26.4848
            ],
            [
             -81.8341,
             26.4848
            ],
            [
             -81.8399,
             26.4823
            ],
            [
             -81.8439,
             26.4902
            ],
            [
             -81.8451,
             26.4923
            ],
            [
             -81.8408,
             26.4925
            ],
            [
             -81.8437,
             26.4967
            ],
            [
             -81.8464,
             26.5004
            ],
            [
             -81.8488,
             26.5038
            ],
            [
             -81.8437,
             26.5029
            ],
            [
             -81.8381,
             26.5024
            ],
            [
             -81.8296,
             26.5025
            ],
            [
             -81.8296,
             26.5088
            ],
            [
             -81.8219,
             26.5088
            ],
            [
             -81.7977,
             26.5093
            ],
            [
             -81.7682,
             26.5089
            ],
            [
             -81.7551,
             26.5089
            ],
            [
             -81.7496,
             26.5089
            ],
            [
             -81.7414,
             26.509
            ],
            [
             -81.7413,
             26.503
            ],
            [
             -81.741,
             26.4944
            ],
            [
             -81.7385,
             26.4939
            ],
            [
             -81.7356,
             26.494
            ],
            [
             -81.7322,
             26.494
            ],
            [
             -81.7285,
             26.494
            ],
            [
             -81.725,
             26.494
            ],
            [
             -81.7251,
             26.4988
            ],
            [
             -81.7253,
             26.5048
            ],
            [
             -81.7253,
             26.5089
            ],
            [
             -81.6944,
             26.5083
            ],
            [
             -81.6772,
             26.5081
            ],
            [
             -81.6677,
             26.5081
            ],
            [
             -81.6673,
             26.4996
            ],
            [
             -81.667,
             26.4958
            ],
            [
             -81.6668,
             26.49
            ],
            [
             -81.6662,
             26.4657
            ]
           ]
          ],
          "type": "Polygon"
         },
         "properties": {
          "BlackPop": 195,
          "BlackVAP": 153,
          "HispPop": 1147,
          "HispVAP": 860,
          "TotPop": 8907,
          "VAP": 7587,
          "geoid10": "2521.0_0",
          "mccain": 935,
          "obama": 644,
          "pop": 8907,
          "vap": 7587
         },
         "type": "Feature"
        },
        {
         "geometry": {
          "coordinates": [
           [
            [
             -81.7304,
             26.6916
            ],
            [
             -81.7324,
             26.6877
            ],
            [
             -81.7325,
             26.6855
            ],
            [
             -81.7319,
             26.6817
            ],
            [
             -81.7299,
             26.6785
            ],
            [
             -81.7293,
             26.6757
            ],
            [
             -81.7324,
             26.6748
            ],
            [
             -81.732,
             26.6706
            ],
            [
             -81.7293,
             26.669
            ],
            [
             -81.7268,
             26.6676
            ],
            [
             -81.7247,
             26.666
            ],
            [
             -81.7224,
             26.6643
            ],
            [
             -81.7206,
             26.6623
            ],
            [
             -81.7181,
             26.6618
            ],
            [
             -81.7157,
             26.6614
            ],
            [
             -81.7106,
             26.6589
            ],
            [
             -81.7076,
             26.6572
            ],
            [
             -81.7052,
             26.6557
            ],
            [
             -81.7036,
             26.6541
            ],
            [
             -81.7016,
             26.6532
            ],
            [
             -81.6925,
             26.6477
            ],
            [
             -81.691,
             26.6445
            ],
            [
             -81.687,
             26.6417
            ],
            [
             -81.6851,
             26.6405
            ],
            [
             -81.686,
             26.638
            ],
            [
             -81.6861,
             26.6353
            ],
            [
             -81.6861,
             26.632
            ],
            [
             -81.6861,
             26.6293
            ],
            [
             -81.6861,
             26.6256
            ],
            [
             -81.6861,
             26.6224
            ],
            [
             -81.6858,
             26.6195
            ],
            [
             -81.6834,
             26.6173
            ],
            [
             -81.688,
             26.617
            ],
            [
             -81.6927,
             26.617
            ],
            [
             -81.6971,
             26.6169
            ],
            [
             -81.7003,
             26.6169
            ],
            [
             -81.7032,
             26.6169
            ],
            [
             -81.7059,
             26.6169
            ],
            [
             -81.7081,
             26.6169
            ],
            [
             -81.7106,
             26.6169
            ],
            [
             -81.715,
             26.6169
            ],
            [
             -81.717,
             26.6169
            ],
            [
             -81.7197,
             26.6168
            ],
            [
             -81.7235,
             26.6167
            ],
            [
             -81.7264,
             26.6167
            ],
            [
             -81.7298,
             26.6172
            ],
            [
             -81.7327,
             26.6192
            ],
            [
             -81.7361,
             26.6208
            ],
            [
             -81.7425,
             26.621
            ],
            [
             -81.7449,
             26.6209
            ],
            [
             -81.7476,
             26.6209
            ],
            [
             -81.75,
             26.6209
            ],
            [
             -81.7551,
             26.6208
            ],
            [
             -81.7581,
             26.6208
            ],
            [
             -81.7628,
             26.6207
            ],
            [
             -81.7703,
             26.6205
            ],
            [
             -81.773,
             26.6203
            ],
            [
             -81.7798,
             26.6253
            ],
            [
             -81.781,
             26.6274
            ],
            [
             -81.7778,
             26.6271
            ],
            [
             -81.7741,
             26.6268
            ],
            [
             -81.7679,
             26.6271
            ],
            [
             -81.7634,
             26.6272
            ],
            [
             -81.7592,
             26.6274
            ],
            [
             -81.7601,
             26.6565
            ],
            [
             -81.7599,
             26.6768
            ],
            [
             -81.7603,
             26.6889
            ],
            [
             -81.7608,
             26.6926
            ],
            [
             -81.7591,
             26.6917
            ],
            [
             -81.7561,
             26.6907
            ],
            [
             -81.7529,
             26.6893
            ],
            [
             -81.7504,
             26.6902
            ],
            [
             -81.7495,
             26.693
            ],
            [
             -81.7367,
             26.6932
            ],
            [
             -81.7367,
             26.6978
            ],
            [
             -81.7276,
             26.6983
            ],
            [
             -81.7304,
             26.6916
            ]
           ]
          ],
          "type": "Polygon"
         },
         "properties": {
          "BlackPop": 2368,
          "BlackVAP": 1468,
          "HispPop": 3860,
          "HispVAP": 2511,
          "TotPop": 12853,
          "VAP": 8965,
          "geoid10": "2396.0_0",
          "mccain": 1027,
          "obama": 640,
          "pop": 12853,
          "vap": 8965
         },
         "type": "Feature"
        },
        {
         "geometry": {
          "coordinates": [
           [
            [
             -81.6834,
             26.6173
            ],
            [
             -81.6804,
             26.6155
            ],
            [
             -81.6793,
             26.6125
            ],
            [
             -81.679,
             26.6089
            ],
            [
             -81.679,
             26.6054
            ],
            [
             -81.679,
             26.6019
            ],
            [
             -81.6793,
             26.5983
            ],
            [
             -81.6794,
             26.5943
            ],
            [
             -81.6793,
             26.5908
            ],
            [
             -81.6793,
             26.5879
            ],
            [
             -81.6793,
             26.5855
            ],
            [
             -81.6792,
             26.5831
            ],
            [
             -81.6792,
             26.58
            ],
            [
             -81.6791,
             26.5761
            ],
            [
             -81.6791,
             26.5729
            ],
            [
             -81.6791,
             26.5707
            ],
            [
             -81.679,
             26.5684
            ],
            [
             -81.679,
             26.5665
            ],
            [
             -81.6801,
             26.5647
            ],
            [
             -81.6929,
             26.5703
            ],
            [
             -81.6969,
             26.5721
            ],
            [
             -81.7017,
             26.5742
            ],
            [
             -81.7093,
             26.5776
            ],
            [
             -81.7124,
             26.5789
            ],
            [
             -81.7174,
             26.5811
            ],
            [
             -81.7229,
             26.5836
            ],
            [
             -81.728,
             26.5858
            ],
            [
             -81.7383,
             26.5904
            ],
            [
             -81.7412,
             26.5926
            ],
            [
             -81.7501,
             26.6002
            ],
            [
             -81.7566,
             26.6058
            ],
            [
             -81.7591,
             26.6079
            ],
            [
             -81.7633,
             26.6115
            ],
            [
             -81.7696,
             26.617
            ],
            [
             -81.773,
             26.6203
            ],
            [
             -81.7703,
             26.6205
            ],
            [
             -81.7628,
             26.6207
            ],
            [
             -81.7581,
             26.6208
            ],
            [
             -81.7551,
             26.6208
            ],
            [
             -81.75,
             26.6209
            ],
            [
             -81.7476,
             26.6209
            ],
            [
             -81.7449,
             26.6209
            ],
            [
             -81.7425,
             26.621
            ],
            [
             -81.7361,
             26.6208
            ],
            [
             -81.7327,
             26.6192
            ],
            [
             -81.7298,
             26.6172
            ],
            [
             -81.7264,
             26.6167
            ],
            [
             -81.7235,
             26.6167
            ],
            [
             -81.7197,
             26.6168
            ],
            [
             -81.717,
             26.6169
            ],
            [
             -81.715,
             26.6169
            ],
            [
             -81.7106,
             26.6169
            ],
            [
             -81.7081,
             26.6169
            ],
            [
             -81.7059,
             26.6169
            ],
            [
             -81.7032,
             26.6169
            ],
            [
             -81.7003,
             26.6169
            ],
            [
             -81.6971,
             26.6169
            ],
            [
             -81.6927,
             26.617
            ],
            [
             -81.688,
             26.617
            ],
            [
             -81.6834,
             26.6173
            ]
           ]
          ],
          "type": "Polygon"
         },
         "properties": {
          "BlackPop": 5911,
          "BlackVAP": 3417,
          "HispPop": 8800,
          "HispVAP": 5482,
          "TotPop": 22218,
          "VAP": 14513,
          "geoid10": "2515.0_0",
          "mccain": 641,
          "obama": 506,
          "pop": 22218,
          "vap": 14513
         },
         "type": "Feature"
        },
        {
         "geometry": {
          "coordinates": [
           [
            [
             -81.5623,
             26.4228
            ],
            [
             -81.5675,
             26.4226
            ],
            [
             -81.5781,
             26.4224
            ],
            [
             -81.6081,
             26.4219
            ],
            [
             -81.6136,
             26.4218
            ],
            [
             -81.6202,
             26.4217
            ],
            [
             -81.6257,
             26.4217
            ],
            [
             -81.6298,
             26.4216
            ],
            [
             -81.6362,
             26.4215
            ],
            [
             -81.643,
             26.4214
            ],
            [
             -81.6477,
             26.4213
            ],
            [
             -81.6592,
             26.4209
            ],
            [
             -81.7556,
             26.4212
            ],
            [
             -81.7554,
             26.39
            ],
            [
             -81.7719,
             26.389
            ],
            [
             -81.7725,
             26.3916
            ],
            [
             -81.7874,
             26.3916
            ],
            [
             -81.8037,
             26.3916
            ],
            [
             -81.8101,
             26.3914
            ],
            [
             -81.8108,
             26.3951
            ],
            [
             -81.8108,
             26.3982
            ],
            [
             -81.8109,
             26.4022
            ],
            [
             -81.8113,
             26.4049
            ],
            [
             -81.8122,
             26.4121
            ],
            [
             -81.8122,
             26.4155
            ],
            [
             -81.8119,
             26.4195
            ],
            [
             -81.8116,
             26.4228
            ],
            [
             -81.811,
             26.4285
            ],
            [
             -81.8109,
             26.4311
            ],
            [
             -81.811,
             26.4346
            ],
            [
             -81.8111,
             26.4378
            ],
            [
             -81.8115,
             26.4422
            ],
            [
             -81.8133,
             26.4446
            ],
            [
             -81.8158,
             26.4465
            ],
            [
             -81.8181,
             26.4485
            ],
            [
             -81.8092,
             26.4488
            ],
            [
             -81.8047,
             26.4485
            ],
            [
             -81.8009,
             26.4482
            ],
            [
             -81.7969,
             26.4479
            ],
            [
             -81.7926,
             26.4476
            ],
            [
             -81.7891,
             26.4473
            ],
            [
             -81.7831,
             26.4483
            ],
            [
             -81.7557,
             26.4519
            ],
            [
             -81.7513,
             26.4525
            ],
            [
             -81.7478,
             26.453
            ],
            [
             -81.7454,
             26.4534
            ],
            [
             -81.7242,
             26.4561
            ],
            [
             -81.7245,
             26.4643
            ],
            [
             -81.7179,
             26.4644
            ],
            [
             -81.713,
             26.4644
            ],
            [
             -81.7097,
             26.4645
            ],
            [
             -81.7057,
             26.4645
            ],
            [
             -81.7013,
             26.4646
            ],
            [
             -81.6889,
             26.4647
            ],
            [
             -81.6839,
             26.4647
            ],
            [
             -81.6814,
             26.4647
            ],
            [
             -81.6742,
             26.4648
            ],
            [
             -81.6662,
             26.4657
            ],
            [
             -81.664,
             26.4648
            ],
            [
             -81.6574,
             26.4649
            ],
            [
             -81.6118,
             26.4653
            ],
            [
             -81.6095,
             26.4654
            ],
            [
             -81.5941,
             26.4656
            ],
            [
             -81.5908,
             26.4656
            ],
            [
             -81.5832,
             26.4656
            ],
            [
             -81.5747,
             26.4658
            ],
            [
             -81.5629,
             26.4659
            ],
            [
             -81.5628,
             26.4629
            ],
            [
             -81.5626,
             26.4553
            ],
            [
             -81.5626,
             26.4515
            ],
            [
             -81.5626,
             26.4465
            ],
            [
             -81.5623,
             26.4228
            ]
           ]
          ],
          "type": "Polygon"
         },
         "properties": {
          "BlackPop": 197,
          "BlackVAP": 155,
          "HispPop": 791,
          "HispVAP": 564,
          "TotPop": 16734,
          "VAP": 14720,
          "geoid10": "2525.0_0",
          "mccain": 1414,
          "obama": 826,
          "pop": 16734,
          "vap": 14720
         },
         "type": "Feature"
        },
        {
         "geometry": {
          "coordinates": [
           [
            [
             -81.65,
             26.5989
            ],
            [
             -81.6496,
             26.5892
            ],
            [
             -81.6494,
             26.5844
            ],
            [
             -81.646,
             26.5835
            ],
            [
             -81.6475,
             26.5811
            ],
            [
             -81.6524,
             26.5786
            ],
            [
             -81.6582,
             26.5759
            ],
            [
             -81.6616,
             26.5725
            ],
            [
             -81.6618,
             26.5614
            ],
            [
             -81.6618,
             26.5582
            ],
            [
             -81.67,
             26.5606
            ],
            [
             -81.6772,
             26.5633
            ],
            [
             -81.6801,
             26.5647
            ],
            [
             -81.679,
             26.5665
            ],
            [
             -81.679,
             26.5684
            ],
            [
             -81.6791,
             26.5707
            ],
            [
             -81.6791,
             26.5729
            ],
            [
             -81.6791,
             26.5761
            ],
            [
             -81.6792,
             26.58
            ],
            [
             -81.6792,
             26.5831
            ],
            [
             -81.6793,
             26.5855
            ],
            [
             -81.6793,
             26.5879
            ],
            [
             -81.6793,
             26.5908
            ],
            [
             -81.6794,
             26.5943
            ],
            [
             -81.6793,
             26.5983
            ],
            [
             -81.679,
             26.6019
            ],
            [
             -81.679,
             26.6054
            ],
            [
             -81.679,
             26.6089
            ],
            [
             -81.6793,
             26.6125
            ],
            [
             -81.6804,
             26.6155
            ],
            [
             -81.6784,
             26.617
            ],
            [
             -81.676,
             26.617
            ],
            [
             -81.6721,
             26.617
            ],
            [
             -81.6677,
             26.617
            ],
            [
             -81.6654,
             26.6156
            ],
            [
             -81.6634,
             26.6144
            ],
            [
             -81.6576,
             26.6143
            ],
            [
             -81.6544,
             26.6139
            ],
            [
             -81.6541,
             26.611
            ],
            [
             -81.6547,
             26.6088
            ],
            [
             -81.6549,
             26.607
            ],
            [
             -81.6542,
             26.6003
            ],
            [
             -81.65,
             26.5989
            ]
           ]
          ],
          "type": "Polygon"
         },
         "properties": {
          "BlackPop": 1147,
          "BlackVAP": 698,
          "HispPop": 2578,
          "HispVAP": 1671,
          "TotPop": 6961,
          "VAP": 4872,
          "geoid10": "2445.0_0",
          "mccain": 574,
          "obama": 494,
          "pop": 6961,
          "vap": 4872
         },
         "type": "Feature"
        },
        {
         "geometry": {
          "coordinates": [
           [
            [
             -81.6292,
             26.5349
            ],
            [
             -81.6315,
             26.5361
            ],
            [
             -81.6331,
             26.5378
            ],
            [
             -81.6356,
             26.5423
            ],
            [
             -81.637,
             26.5447
            ],
            [
             -81.6418,
             26.5487
            ],
            [
             -81.6454,
             26.5512
            ],
            [
             -81.6618,
             26.5582
            ],
            [
             -81.6618,
             26.5614
            ],
            [
             -81.6616,
             26.5725
            ],
            [
             -81.6582,
             26.5759
            ],
            [
             -81.6524,
             26.5786
            ],
            [
             -81.6475,
             26.5811
            ],
            [
             -81.646,
             26.5835
            ],
            [
             -81.6494,
             26.5844
            ],
            [
             -81.6496,
             26.5892
            ],
            [
             -81.65,
             26.5989
            ],
            [
             -81.6462,
             26.5994
            ],
            [
             -81.645,
             26.6024
            ],
            [
             -81.6424,
             26.6027
            ],
            [
             -81.6387,
             26.6028
            ],
            [
             -81.6336,
             26.6029
            ],
            [
             -81.6299,
             26.6029
            ],
            [
             -81.6296,
             26.5988
            ],
            [
             -81.6293,
             26.5921
            ],
            [
             -81.629,
             26.5886
            ],
            [
             -81.6263,
             26.5854
            ],
            [
             -81.6256,
             26.5773
            ],
            [
             -81.6254,
             26.5716
            ],
            [
             -81.6291,
             26.5701
            ],
            [
             -81.6289,
             26.5606
            ],
            [
             -81.6289,
             26.5549
            ],
            [
             -81.6289,
             26.5516
            ],
            [
             -81.6289,
             26.5486
            ],
            [
             -81.6289,
             26.5433
            ],
            [
             -81.6292,
             26.5349
            ]
           ]
          ],
          "type": "Polygon"
         },
         "properties": {
          "BlackPop": 1068,
          "BlackVAP": 681,
          "HispPop": 2367,
          "HispVAP": 1528,
          "TotPop": 6576,
          "VAP": 4778,
          "geoid10": "2443.0_0",
          "mccain": 591,
          "obama": 617,
          "pop": 6576,
          "vap": 4778
         },
         "type": "Feature"
        },
        {
         "geometry": {
          "coordinates": [
           [
            [
             -81.605,
             26.5293
            ],
            [
             -81.6166,
             26.5316
            ],
            [
             -81.6208,
             26.5326
            ],
            [
             -81.6248,
             26.5337
            ],
            [
             -81.6292,
             26.5349
            ],
            [
             -81.6289,
             26.5433
            ],
            [
             -81.6289,
             26.5486
            ],
            [
             -81.6289,
             26.5516
            ],
            [
             -81.6289,
             26.5549
            ],
            [
             -81.6289,
             26.5606
            ],
            [
             -81.6291,
             26.5701
            ],
            [
             -81.6254,
             26.5716
            ],
            [
             -81.6256,
             26.5773
            ],
            [
             -81.6263,
             26.5854
            ],
            [
             -81.629,
             26.5886
            ],
            [
             -81.6293,
             26.5921
            ],
            [
             -81.6296,
             26.5988
            ],
            [
             -81.6299,
             26.6029
            ],
            [
             -81.6271,
             26.603
            ],
            [
             -81.6244,
             26.603
            ],
            [
             -81.6202,
             26.6031
            ],
            [
             -81.6157,
             26.6031
            ],
            [
             -81.6114,
             26.6038
            ],
            [
             -81.6094,
             26.6
            ],
            [
             -81.607,
             26.5969
            ],
            [
             -81.6053,
             26.5935
            ],
            [
             -81.6051,
             26.5894
            ],
            [
             -81.6051,
             26.5853
            ],
            [
             -81.6051,
             26.5822
            ],
            [
             -81.6051,
             26.5788
            ],
            [
             -81.605,
             26.574
            ],
            [
             -81.6049,
             26.57
            ],
            [
             -81.6048,
             26.5658
            ],
            [
             -81.6048,
             26.5627
            ],
            [
             -81.6047,
             26.556
            ],
            [
             -81.6047,
             26.5522
            ],
            [
             -81.6046,
             26.5472
            ],
            [
             -81.6046,
             26.5431
            ],
            [
             -81.6045,
             26.5391
            ],
            [
             -81.6045,
             26.5357
            ],
            [
             -81.6044,
             26.5322
            ],
            [
             -81.605,
             26.5293
            ]
           ]
          ],
          "type": "Polygon"
         },
         "properties": {
          "BlackPop": 1054,
          "BlackVAP": 750,
          "HispPop": 2105,
          "HispVAP": 1411,
          "TotPop": 6416,
          "VAP": 4828,
          "geoid10": "2470.0_0",
          "mccain": 880,
          "obama": 787,
          "pop": 6416,
          "vap": 4828
         },
         "type": "Feature"
        },
        {
         "geometry": {
          "coordinates": [
           [
            [
             -81.5654,
             26.6001
            ],
            [
             -81.5649,
             26.5933
            ],
            [
             -81.5647,
             26.5801
            ],
            [
             -81.5646,
             26.564
            ],
            [
             -81.5646,
             26.5596
            ],
            [
             -81.5644,
             26.5489
            ],
            [
             -81.5644,
             26.5443
            ],
            [
             -81.5642,
             26.5375
            ],
            [
             -81.5642,
             26.533
            ],
            [
             -81.5641,
             26.5282
            ],
            [
             -81.5641,
             26.5184
            ],
            [
             -81.5685,
             26.5195
            ],
            [
             -81.5732,
             26.5208
            ],
            [
             -81.58,
             26.5223
            ],
            [
             -81.5882,
             26.5244
            ],
            [
             -81.6022,
             26.528
            ],
            [
             -81.605,
             26.5293
            ],
            [
             -81.6044,
             26.5322
            ],
            [
             -81.6045,
             26.5357
            ],
            [
             -81.6045,
             26.5391
            ],
            [
             -81.6046,
             26.5431
            ],
            [
             -81.6046,
             26.5472
            ],
            [
             -81.6047,
             26.5522
            ],
            [
             -81.6047,
             26.556
            ],
            [
             -81.6048,
             26.5627
            ],
            [
             -81.6048,
             26.5658
            ],
            [
             -81.6049,
             26.57
            ],
            [
             -81.605,
             26.574
            ],
            [
             -81.6051,
             26.5788
            ],
            [
             -81.6051,
             26.5822
            ],
            [
             -81.6051,
             26.5853
            ],
            [
             -81.6051,
             26.5894
            ],
            [
             -81.6053,
             26.5935
            ],
            [
             -81.607,
             26.5969
            ],
            [
             -81.6094,
             26.6
            ],
            [
             -81.6114,
             26.6038
            ],
            [
             -81.6079,
             26.6028
            ],
            [
             -81.6041,
             26.6021
            ],
            [
             -81.5975,
             26.6007
            ],
            [
             -81.595,
             26.6004
            ],
            [
             -81.5924,
             26.5999
            ],
            [
             -81.5885,
             26.5998
            ],
            [
             -81.5848,
             26.5998
            ],
            [
             -81.5822,
             26.5998
            ],
            [
             -81.5785,
             26.5998
            ],
            [
             -81.5745,
             26.5999
            ],
            [
             -81.5706,
             26.5999
            ],
            [
             -81.5677,
             26.5999
            ],
            [
             -81.5654,
             26.6001
            ]
           ]
          ],
          "type": "Polygon"
         },
         "properties": {
          "BlackPop": 996,
          "BlackVAP": 634,
          "HispPop": 2647,
          "HispVAP": 1559,
          "TotPop": 6190,
          "VAP": 4093,
          "geoid10": "2446.0_0",
          "mccain": 164,
          "obama": 112,
          "pop": 6190,
          "vap": 4093
         },
         "type": "Feature"
        },
        {
         "geometry": {
          "coordinates": [
           [
            [
             -81.4334,
             26.4189
            ],
            [
             -81.4373,
             26.4184
            ],
            [
             -81.4416,
             26.4186
            ],
            [
             -81.4651,
             26.4194
            ],
            [
             -81.4649,
             26.4221
            ],
            [
             -81.4647,
             26.4251
            ],
            [
             -81.4735,
             26.4249
            ],
            [
             -81.4795,
             26.4247
            ],
            [
             -81.5058,
             26.4241
            ],
            [
             -81.5359,
             26.4233
            ],
            [
             -81.5465,
             26.423
            ],
            [
             -81.557,
             26.4228
            ],
            [
             -81.5623,
             26.4228
            ],
            [
             -81.5626,
             26.4465
            ],
            [
             -81.5626,
             26.4515
            ],
            [
             -81.5626,
             26.4553
            ],
            [
             -81.5628,
             26.4629
            ],
            [
             -81.5629,
             26.4659
            ],
            [
             -81.563,
             26.4731
            ],
            [
             -81.5635,
             26.5004
            ],
            [
             -81.5637,
             26.5093
            ],
            [
             -81.5637,
             26.5133
            ],
            [
             -81.5484,
             26.5133
            ],
            [
             -81.5447,
             26.5134
            ],
            [
             -81.531,
             26.5134
            ],
            [
             -81.4998,
             26.5134
            ],
            [
             -81.4854,
             26.5136
            ],
            [
             -81.482,
             26.5135
            ],
            [
             -81.4755,
             26.5134
            ],
            [
             -81.4704,
             26.5133
            ],
            [
             -81.4537,
             26.5147
            ],
            [
             -81.4484,
             26.5152
            ],
            [
             -81.4445,
             26.5155
            ],
            [
             -81.438,
             26.5155
            ],
            [
             -81.4344,
             26.5155
            ],
            [
             -81.435,
             26.5058
            ],
            [
             -81.4349,
             26.5009
            ],
            [
             -81.4346,
             26.486
            ],
            [
             -81.4343,
             26.4745
            ],
            [
             -81.4342,
             26.4701
            ],
            [
             -81.4341,
             26.4632
            ],
            [
             -81.4339,
             26.4489
            ],
            [
             -81.4338,
             26.4447
            ],
            [
             -81.4338,
             26.4412
            ],
            [
             -81.4338,
             26.4378
            ],
            [
             -81.4338,
             26.4337
            ],
            [
             -81.4337,
             26.4284
            ],
            [
             -81.4336,
             26.4248
            ],
            [
             -81.4335,
             26.4218
            ],
            [
             -81.4334,
             26.4189
            ]
           ]
          ],
          "type": "Polygon"
         },
         "properties": {
          "BlackPop": 1693,
          "BlackVAP": 1062,
          "HispPop": 9773,
          "HispVAP": 6041,
          "TotPop": 12289,
          "VAP": 7734,
          "geoid10": "1246.0_0",
          "mccain": 271,
          "obama": 366,
          "pop": 12289,
          "vap": 7734
         },
         "type": "Feature"
        },
        {
         "geometry": {
          "coordinates": [
           [
            [
             -81.2738,
             26.5974
            ],
            [
             -81.2735,
             26.5753
            ],
            [
             -81.2733,
             26.5717
            ],
            [
             -81.2727,
             26.5556
            ],
            [
             -81.2723,
             26.5441
            ],
            [
             -81.2718,
             26.5316
            ],
            [
             -81.2717,
             26.5171
            ],
            [
             -81.37,
             26.5162
            ],
            [
             -81.3748,
             26.5162
            ],
            [
             -81.3805,
             26.5163
            ],
            [
             -81.3858,
             26.5164
            ],
            [
             -81.3924,
             26.5165
            ],
            [
             -81.3971,
             26.5165
            ],
            [
             -81.4028,
             26.5164
            ],
            [
             -81.4057,
             26.5164
            ],
            [
             -81.4095,
             26.5164
            ],
            [
             -81.4179,
             26.5163
            ],
            [
             -81.4239,
             26.516
            ],
            [
             -81.4344,
             26.5155
            ],
            [
             -81.438,
             26.5155
            ],
            [
             -81.4445,
             26.5155
            ],
            [
             -81.4484,
             26.5152
            ],
            [
             -81.4537,
             26.5147
            ],
            [
             -81.4704,
             26.5133
            ],
            [
             -81.4755,
             26.5134
            ],
            [
             -81.482,
             26.5135
            ],
            [
             -81.4854,
             26.5136
            ],
            [
             -81.4998,
             26.5134
            ],
            [
             -81.531,
             26.5134
            ],
            [
             -81.5447,
             26.5134
            ],
            [
             -81.5484,
             26.5133
            ],
            [
             -81.5637,
             26.5133
            ],
            [
             -81.5641,
             26.5184
            ],
            [
             -81.5641,
             26.5282
            ],
            [
             -81.5642,
             26.533
            ],
            [
             -81.5642,
             26.5375
            ],
            [
             -81.5644,
             26.5443
            ],
            [
             -81.5644,
             26.5489
            ],
            [
             -81.5646,
             26.5596
            ],
            [
             -81.5646,
             26.564
            ],
            [
             -81.5647,
             26.5801
            ],
            [
             -81.5649,
             26.5933
            ],
            [
             -81.5654,
             26.6001
            ],
            [
             -81.5612,
             26.6
            ],
            [
             -81.5574,
             26.6001
            ],
            [
             -81.534,
             26.6004
            ],
            [
             -81.525,
             26.6006
            ],
            [
             -81.5164,
             26.6007
            ],
            [
             -81.5003,
             26.6007
            ],
            [
             -81.4835,
             26.6007
            ],
            [
             -81.4676,
             26.6014
            ],
            [
             -81.4639,
             26.6018
            ],
            [
             -81.4585,
             26.6024
            ],
            [
             -81.4523,
             26.603
            ],
            [
             -81.4439,
             26.6031
            ],
            [
             -81.44,
             26.6035
            ],
            [
             -81.437,
             26.6034
            ],
            [
             -81.4366,
             26.5961
            ],
            [
             -81.4168,
             26.5963
            ],
            [
             -81.4095,
             26.5963
            ],
            [
             -81.4054,
             26.5963
            ],
            [
             -81.402,
             26.5962
            ],
            [
             -81.3922,
             26.5962
            ],
            [
             -81.3885,
             26.5962
            ],
            [
             -81.3828,
             26.597
            ],
            [
             -81.3796,
             26.5979
            ],
            [
             -81.3753,
             26.5991
            ],
            [
             -81.3574,
             26.6019
            ],
            [
             -81.3513,
             26.6027
            ],
            [
             -81.3487,
             26.603
            ],
            [
             -81.3443,
             26.6016
            ],
            [
             -81.3387,
             26.5983
            ],
            [
             -81.3306,
             26.5945
            ],
            [
             -81.3283,
             26.5935
            ],
            [
             -81.3187,
             26.5906
            ],
            [
             -81.2993,
             26.5818
            ],
            [
             -81.2934,
             26.582
            ],
            [
             -81.2843,
             26.589
            ],
            [
             -81.2738,
             26.5974
            ]
           ]
          ],
          "type": "Polygon"
         },
         "properties": {
          "BlackPop": 5,
          "BlackVAP": 4,
          "HispPop": 561,
          "HispVAP": 316,
          "TotPop": 1061,
          "VAP": 704,
          "geoid10": "1795.0_0",
          "mccain": 184,
          "obama": 37,
          "pop": 1061,
          "vap": 704
         },
         "type": "Feature"
        },
        {
         "geometry": {
          "coordinates": [
           [
            [
             -81.8558,
             26.6116
            ],
            [
             -81.8557,
             26.6043
            ],
            [
             -81.8586,
             26.6043
            ],
            [
             -81.8627,
             26.6042
            ],
            [
             -81.867,
             26.6042
            ],
            [
             -81.8723,
             26.6044
            ],
            [
             -81.8761,
             26.6044
            ],
            [
             -81.8803,
             26.6045
            ],
            [
             -81.8838,
             26.6047
            ],
            [
             -81.8873,
             26.6043
            ],
            [
             -81.8864,
             26.6068
            ],
            [
             -81.8849,
             26.6104
            ],
            [
             -81.8749,
             26.6106
            ],
            [
             -81.872,
             26.613
            ],
            [
             -81.8676,
             26.6116
            ],
            [
             -81.8634,
             26.6116
            ],
            [
             -81.8607,
             26.6116
            ],
            [
             -81.8558,
             26.6116
            ]
           ]
          ],
          "type": "Polygon"
         },
         "properties": {
          "BlackPop": 1071,
          "BlackVAP": 714,
          "HispPop": 746,
          "HispVAP": 502,
          "TotPop": 3906,
          "VAP": 3059,
          "geoid10": "2403.0_0",
          "mccain": 523,
          "obama": 439,
          "pop": 3906,
          "vap": 3059
         },
         "type": "Feature"
        },
        {
         "geometry": {
          "coordinates": [
           [
            [
             -81.8553,
             26.6263
            ],
            [
             -81.8557,
             26.6213
            ],
            [
             -81.8558,
             26.6116
            ],
            [
             -81.8607,
             26.6116
            ],
            [
             -81.8634,
             26.6116
            ],
            [
             -81.8676,
             26.6116
            ],
            [
             -81.872,
             26.613
            ],
            [
             -81.872,
             26.6168
            ],
            [
             -81.8721,
             26.6205
            ],
            [
             -81.8721,
             26.6245
            ],
            [
             -81.8723,
             26.6267
            ],
            [
             -81.8717,
             26.6295
            ],
            [
             -81.8673,
             26.6298
            ],
            [
             -81.8632,
             26.6298
            ],
            [
             -81.8598,
             26.6298
            ],
            [
             -81.8577,
             26.6298
            ],
            [
             -81.8564,
             26.6285
            ],
            [
             -81.8553,
             26.6263
            ]
           ]
          ],
          "type": "Polygon"
         },
         "properties": {
          "BlackPop": 1996,
          "BlackVAP": 1362,
          "HispPop": 699,
          "HispVAP": 465,
          "TotPop": 3804,
          "VAP": 2773,
          "geoid10": "2425.0_0",
          "mccain": 300,
          "obama": 505,
          "pop": 3804,
          "vap": 2773
         },
         "type": "Feature"
        },
        {
         "geometry": {
          "coordinates": [
           [
            [
             -81.8557,
             26.6043
            ],
            [
             -81.8555,
             26.5972
            ],
            [
             -81.8555,
             26.5935
            ],
            [
             -81.8552,
             26.5858
            ],
            [
             -81.8549,
             26.5825
            ],
            [
             -81.8573,
             26.5804
            ],
            [
             -81.8598,
             26.5812
            ],
            [
             -81.8631,
             26.5813
            ],
            [
             -81.8665,
             26.5803
            ],
            [
             -81.8684,
             26.5798
            ],
            [
             -81.8703,
             26.577
            ],
            [
             -81.8721,
             26.5757
            ],
            [
             -81.872,
             26.579
            ],
            [
             -81.8719,
             26.5819
            ],
            [
             -81.8719,
             26.5882
            ],
            [
             -81.8697,
             26.5905
            ],
            [
             -81.8718,
             26.5922
            ],
            [
             -81.8728,
             26.5964
            ],
            [
             -81.8762,
             26.5969
            ],
            [
             -81.8791,
             26.5968
            ],
            [
             -81.8836,
             26.5968
            ],
            [
             -81.8899,
             26.5971
            ],
            [
             -81.8891,
             26.6003
            ],
            [
             -81.8883,
             26.6023
            ],
            [
             -81.8873,
             26.6043
            ],
            [
             -81.8838,
             26.6047
            ],
            [
             -81.8803,
             26.6045
            ],
            [
             -81.8761,
             26.6044
            ],
            [
             -81.8723,
             26.6044
            ],
            [
             -81.867,
             26.6042
            ],
            [
             -81.8627,
             26.6042
            ],
            [
             -81.8586,
             26.6043
            ],
            [
             -81.8557,
             26.6043
            ]
           ]
          ],
          "type": "Polygon"
         },
         "properties": {
          "BlackPop": 426,
          "BlackVAP": 318,
          "HispPop": 416,
          "HispVAP": 300,
          "TotPop": 3124,
          "VAP": 2586,
          "geoid10": "2469.0_0",
          "mccain": 473,
          "obama": 389,
          "pop": 3124,
          "vap": 2586
         },
         "type": "Feature"
        },
        {
         "geometry": {
          "coordinates": [
           [
            [
             -81.848,
             26.6409
            ],
            [
             -81.848,
             26.6382
            ],
            [
             -81.8479,
             26.6337
            ],
            [
             -81.8462,
             26.6329
            ],
            [
             -81.8481,
             26.631
            ],
            [
             -81.8482,
             26.6287
            ],
            [
             -81.8476,
             26.6268
            ],
            [
             -81.8525,
             26.6265
            ],
            [
             -81.8553,
             26.6263
            ],
            [
             -81.8564,
             26.6285
            ],
            [
             -81.8577,
             26.6298
            ],
            [
             -81.8598,
             26.6298
            ],
            [
             -81.8632,
             26.6298
            ],
            [
             -81.8673,
             26.6298
            ],
            [
             -81.8717,
             26.6295
            ],
            [
             -81.8726,
             26.6322
            ],
            [
             -81.8726,
             26.6346
            ],
            [
             -81.8728,
             26.6373
            ],
            [
             -81.8715,
             26.6406
            ],
            [
             -81.8682,
             26.6407
            ],
            [
             -81.8651,
             26.6407
            ],
            [
             -81.8629,
             26.6411
            ],
            [
             -81.8604,
             26.6408
            ],
            [
             -81.8583,
             26.6409
            ],
            [
             -81.8538,
             26.6409
            ],
            [
             -81.8502,
             26.6409
            ],
            [
             -81.848,
             26.6409
            ]
           ]
          ],
          "type": "Polygon"
         },
         "properties": {
          "BlackPop": 2572,
          "BlackVAP": 1831,
          "HispPop": 347,
          "HispVAP": 207,
          "TotPop": 3470,
          "VAP": 2528,
          "geoid10": "2412.0_0",
          "mccain": 111,
          "obama": 598,
          "pop": 3470,
          "vap": 2528
         },
         "type": "Feature"
        },
        {
         "geometry": {
          "coordinates": [
           [
            [
             -81.84,
             26.6268
            ],
            [
             -81.8428,
             26.6268
            ],
            [
             -81.8476,
             26.6268
            ],
            [
             -81.8482,
             26.6287
            ],
            [
             -81.8481,
             26.631
            ],
            [
             -81.8462,
             26.6329
            ],
            [
             -81.8479,
             26.6337
            ],
            [
             -81.848,
             26.6382
            ],
            [
             -81.848,
             26.6409
            ],
            [
             -81.8454,
             26.641
            ],
            [
             -81.8427,
             26.641
            ],
            [
             -81.8395,
             26.6405
            ],
            [
             -81.8356,
             26.6415
            ],
            [
             -81.8323,
             26.6418
            ],
            [
             -81.8319,
             26.6371
            ],
            [
             -81.8326,
             26.6339
            ],
            [
             -81.8353,
             26.6339
            ],
            [
             -81.8392,
             26.6339
            ],
            [
             -81.8412,
             26.632
            ],
            [
             -81.84,
             26.6268
            ]
           ]
          ],
          "type": "Polygon"
         },
         "properties": {
          "BlackPop": 1600,
          "BlackVAP": 1140,
          "HispPop": 66,
          "HispVAP": 42,
          "TotPop": 1681,
          "VAP": 1196,
          "geoid10": "2418.0_0",
          "mccain": 18,
          "obama": 348,
          "pop": 1681,
          "vap": 1196
         },
         "type": "Feature"
        },
        {
         "geometry": {
          "coordinates": [
           [
            [
             -81.81,
             26.587
            ],
            [
             -81.8136,
             26.5829
            ],
            [
             -81.8161,
             26.5802
            ],
            [
             -81.8186,
             26.5775
            ],
            [
             -81.8204,
             26.5755
            ],
            [
             -81.8246,
             26.57
            ],
            [
             -81.8278,
             26.563
            ],
            [
             -81.8318,
             26.5539
            ],
            [
             -81.8334,
             26.5467
            ],
            [
             -81.8377,
             26.5359
            ],
            [
             -81.842,
             26.53
            ],
            [
             -81.8471,
             26.525
            ],
            [
             -81.8491,
             26.5232
            ],
            [
             -81.8546,
             26.5176
            ],
            [
             -81.8558,
             26.5283
            ],
            [
             -81.8551,
             26.5343
            ],
            [
             -81.8553,
             26.544
            ],
            [
             -81.855,
             26.5465
            ],
            [
             -81.8555,
             26.5606
            ],
            [
             -81.8553,
             26.5641
            ],
            [
             -81.8534,
             26.5646
            ],
            [
             -81.8534,
             26.5688
            ],
            [
             -81.8534,
             26.5726
            ],
            [
             -81.8534,
             26.5777
            ],
            [
             -81.8549,
             26.5825
            ],
            [
             -81.8552,
             26.5858
            ],
            [
             -81.8555,
             26.5935
            ],
            [
             -81.8555,
             26.5972
            ],
            [
             -81.8528,
             26.5973
            ],
            [
             -81.8521,
             26.5948
            ],
            [
             -81.8501,
             26.5948
            ],
            [
             -81.8471,
             26.5945
            ],
            [
             -81.8467,
             26.5974
            ],
            [
             -81.8414,
             26.5975
            ],
            [
             -81.8391,
             26.5975
            ],
            [
             -81.8378,
             26.5942
            ],
            [
             -81.8355,
             26.5919
            ],
            [
             -81.8289,
             26.5911
            ],
            [
             -81.8233,
             26.5911
            ],
            [
             -81.8233,
             26.598
            ],
            [
             -81.8275,
             26.598
            ],
            [
             -81.8322,
             26.5981
            ],
            [
             -81.8315,
             26.6025
            ],
            [
             -81.8289,
             26.6046
            ],
            [
             -81.8268,
             26.6062
            ],
            [
             -81.8227,
             26.6084
            ],
            [
             -81.8197,
             26.6095
            ],
            [
             -81.8111,
             26.609
            ],
            [
             -81.8118,
             26.6056
            ],
            [
             -81.8119,
             26.6005
            ],
            [
             -81.8109,
             26.5981
            ],
            [
             -81.8108,
             26.5932
            ],
            [
             -81.8108,
             26.5903
            ],
            [
             -81.81,
             26.587
            ]
           ]
          ],
          "type": "Polygon"
         },
         "properties": {
          "BlackPop": 536,
          "BlackVAP": 375,
          "HispPop": 1115,
          "HispVAP": 765,
          "TotPop": 8311,
          "VAP": 6605,
          "geoid10": "2478.0_0",
          "mccain": 1377,
          "obama": 672,
          "pop": 8311,
          "vap": 6605
         },
         "type": "Feature"
        },
        {
         "geometry": {
          "coordinates": [
           [
            [
             -81.8281,
             26.6557
            ],
            [
             -81.8287,
             26.6581
            ],
            [
             -81.8204,
             26.6622
            ],
            [
             -81.819,
             26.66
            ],
            [
             -81.8183,
             26.6572
            ],
            [
             -81.8122,
             26.6541
            ],
            [
             -81.8152,
             26.6518
            ],
            [
             -81.8119,
             26.6509
            ],
            [
             -81.8119,
             26.6486
            ],
            [
             -81.8109,
             26.646
            ],
            [
             -81.8104,
             26.6435
            ],
            [
             -81.8116,
             26.6406
            ],
            [
             -81.8067,
             26.641
            ],
            [
             -81.8043,
             26.6412
            ],
            [
             -81.8014,
             26.6417
            ],
            [
             -81.8013,
             26.6371
            ],
            [
             -81.801,
             26.6341
            ],
            [
             -81.8033,
             26.6351
            ],
            [
             -81.8065,
             26.6361
            ],
            [
             -81.8117,
             26.6377
            ],
            [
             -81.8146,
             26.6387
            ],
            [
             -81.8177,
             26.6397
            ],
            [
             -81.8198,
             26.6402
            ],
            [
             -81.8248,
             26.6412
            ],
            [
             -81.8258,
             26.6327
            ],
            [
             -81.8241,
             26.6266
            ],
            [
             -81.8285,
             26.6266
            ],
            [
             -81.8326,
             26.6268
            ],
            [
             -81.8353,
             26.6268
            ],
            [
             -81.84,
             26.6268
            ],
            [
             -81.8412,
             26.632
            ],
            [
             -81.8392,
             26.6339
            ],
            [
             -81.8353,
             26.6339
            ],
            [
             -81.8326,
             26.6339
            ],
            [
             -81.8319,
             26.6371
            ],
            [
             -81.8323,
             26.6418
            ],
            [
             -81.8356,
             26.6415
            ],
            [
             -81.8395,
             26.6405
            ],
            [
             -81.8427,
             26.641
            ],
            [
             -81.8454,
             26.641
            ],
            [
             -81.848,
             26.6409
            ],
            [
             -81.8482,
             26.6437
            ],
            [
             -81.8475,
             26.6459
            ],
            [
             -81.8469,
             26.6481
            ],
            [
             -81.8447,
             26.6482
            ],
            [
             -81.8411,
             26.6485
            ],
            [
             -81.8381,
             26.6483
            ],
            [
             -81.8352,
             26.6483
            ],
            [
             -81.8329,
             26.6484
            ],
            [
             -81.8309,
             26.6484
            ],
            [
             -81.8281,
             26.6486
            ],
            [
             -81.8254,
             26.6488
            ],
            [
             -81.8244,
             26.6514
            ],
            [
             -81.8222,
             26.6523
            ],
            [
             -81.8203,
             26.6526
            ],
            [
             -81.8203,
             26.6552
            ],
            [
             -81.8224,
             26.6558
            ],
            [
             -81.8247,
             26.6559
            ],
            [
             -81.8281,
             26.6557
            ]
           ]
          ],
          "type": "Polygon"
         },
         "properties": {
          "BlackPop": 2649,
          "BlackVAP": 1717,
          "HispPop": 552,
          "HispVAP": 357,
          "TotPop": 3626,
          "VAP": 2454,
          "geoid10": "2435.0_1",
          "mccain": 99,
          "obama": 637,
          "pop": 3626,
          "vap": 2454
         },
         "type": "Feature"
        },
        {
         "geometry": {
          "coordinates": [
           [
            [
             -81.8219,
             26.5088
            ],
            [
             -81.8296,
             26.5088
            ],
            [
             -81.8296,
             26.5025
            ],
            [
             -81.8381,
             26.5024
            ],
            [
             -81.8437,
             26.5029
            ],
            [
             -81.8488,
             26.5038
            ],
            [
             -81.8525,
             26.509
            ],
            [
             -81.8539,
             26.512
            ],
            [
             -81.8546,
             26.5176
            ],
            [
             -81.8491,
             26.5232
            ],
            [
             -81.8471,
             26.525
            ],
            [
             -81.8268,
             26.5247
            ],
            [
             -81.8268,
             26.5199
            ],
            [
             -81.8225,
             26.5187
            ],
            [
             -81.8219,
             26.5088
            ]
           ]
          ],
          "type": "Polygon"
         },
         "properties": {
          "BlackPop": 11,
          "BlackVAP": 8,
          "HispPop": 68,
          "HispVAP": 42,
          "TotPop": 1496,
          "VAP": 1124,
          "geoid10": "2535.0_0",
          "mccain": 454,
          "obama": 192,
          "pop": 1496,
          "vap": 1124
         },
         "type": "Feature"
        },
        {
         "geometry": {
          "coordinates": [
           [
            [
             -81.7996,
             26.6709
            ],
            [
             -81.8,
             26.669
            ],
            [
             -81.8002,
             26.666
            ],
            [
             -81.8002,
             26.6625
            ],
            [
             -81.8003,
             26.6585
            ],
            [
             -81.8003,
             26.655
            ],
            [
             -81.803,
             26.6561
            ],
            [
             -81.8081,
             26.656
            ],
            [
             -81.8122,
             26.6541
            ],
            [
             -81.8183,
             26.6572
            ],
            [
             -81.819,
             26.66
            ],
            [
             -81.8204,
             26.6622
            ],
            [
             -81.8246,
             26.6649
            ],
            [
             -81.8247,
             26.6707
            ],
            [
             -81.8248,
             26.6745
            ],
            [
             -81.8248,
             26.6775
            ],
            [
             -81.8256,
             26.6801
            ],
            [
             -81.8282,
             26.6818
            ],
            [
             -81.8303,
             26.6832
            ],
            [
             -81.8349,
             26.6859
            ],
            [
             -81.8382,
             26.6878
            ],
            [
             -81.8413,
             26.689
            ],
            [
             -81.8381,
             26.6903
            ],
            [
             -81.8311,
             26.6904
            ],
            [
             -81.8269,
             26.6907
            ],
            [
             -81.8151,
             26.6939
            ],
            [
             -81.8152,
             26.6883
            ],
            [
             -81.8151,
             26.6839
            ],
            [
             -81.8155,
             26.6788
            ],
            [
             -81.8165,
             26.6766
            ],
            [
             -81.8152,
             26.6748
            ],
            [
             -81.8137,
             26.6727
            ],
            [
             -81.8116,
             26.6707
            ],
            [
             -81.8044,
             26.6707
            ],
            [
             -81.7996,
             26.6709
            ]
           ]
          ],
          "type": "Polygon"
         },
         "properties": {
          "BlackPop": 941,
          "BlackVAP": 641,
          "HispPop": 3425,
          "HispVAP": 2179,
          "TotPop": 5534,
          "VAP": 3850,
          "geoid10": "2465.0_0",
          "mccain": 391.9,
          "obama": 438.36,
          "pop": 5534,
          "vap": 3850
         },
         "type": "Feature"
        },
        {
         "geometry": {
          "coordinates": [
           [
            [
             -81.8067,
             26.641
            ],
            [
             -81.8116,
             26.6406
            ],
            [
             -81.8104,
             26.6435
            ],
            [
             -81.8109,
             26.646
            ],
            [
             -81.8119,
             26.6486
            ],
            [
             -81.8119,
             26.6509
            ],
            [
             -81.8152,
             26.6518
            ],
            [
             -81.8122,
             26.6541
            ],
            [
             -81.8081,
             26.656
            ],
            [
             -81.803,
             26.6561
            ],
            [
             -81.8003,
             26.655
            ],
            [
             -81.8008,
             26.6455
            ],
            [
             -81.8014,
             26.6417
            ],
            [
             -81.8043,
             26.6412
            ],
            [
             -81.8067,
             26.641
            ]
           ]
          ],
          "type": "Polygon"
         },
         "properties": {
          "BlackPop": 184,
          "BlackVAP": 147,
          "HispPop": 558,
          "HispVAP": 363,
          "TotPop": 957,
          "VAP": 688,
          "geoid10": "2481.0_1",
          "mccain": 43.67,
          "obama": 121.88,
          "pop": 957,
          "vap": 688
         },
         "type": "Feature"
        }
       ],
       "type": "FeatureCollection"
      },
      "text/html": [
       "<table>\n",
       "<caption>A sf: 25 × 12</caption>\n",
       "<thead>\n",
       "\t<tr><th></th><th scope=col>geoid10</th><th scope=col>pop</th><th scope=col>vap</th><th scope=col>obama</th><th scope=col>mccain</th><th scope=col>TotPop</th><th scope=col>BlackPop</th><th scope=col>HispPop</th><th scope=col>VAP</th><th scope=col>BlackVAP</th><th scope=col>HispVAP</th><th scope=col>geometry</th></tr>\n",
       "\t<tr><th></th><th scope=col>&lt;chr&gt;</th><th scope=col>&lt;dbl&gt;</th><th scope=col>&lt;dbl&gt;</th><th scope=col>&lt;dbl&gt;</th><th scope=col>&lt;dbl&gt;</th><th scope=col>&lt;dbl&gt;</th><th scope=col>&lt;dbl&gt;</th><th scope=col>&lt;dbl&gt;</th><th scope=col>&lt;dbl&gt;</th><th scope=col>&lt;dbl&gt;</th><th scope=col>&lt;dbl&gt;</th><th scope=col>&lt;POLYGON&gt;</th></tr>\n",
       "</thead>\n",
       "<tbody>\n",
       "\t<tr><th scope=row>2942</th><td>2519.0_0</td><td>15993</td><td>12379</td><td>647.00</td><td>1522.00</td><td>15993</td><td> 863</td><td>1980</td><td>12379</td><td> 582</td><td>1292</td><td>POLYGON ((-81.78102 26.6274...</td></tr>\n",
       "\t<tr><th scope=row>2561</th><td>2402.0_0</td><td> 7799</td><td> 6084</td><td>266.00</td><td> 226.00</td><td> 7799</td><td>2417</td><td>1600</td><td> 6084</td><td>1601</td><td>1133</td><td>POLYGON ((-81.80102 26.6341...</td></tr>\n",
       "\t<tr><th scope=row>2581</th><td>2520.0_0</td><td> 6347</td><td> 5698</td><td>758.00</td><td>1846.00</td><td> 6347</td><td>  97</td><td> 304</td><td> 5698</td><td>  78</td><td> 240</td><td>POLYGON ((-81.79772 26.5093...</td></tr>\n",
       "\t<tr><th scope=row>2594</th><td>2532.0_0</td><td> 3808</td><td> 3134</td><td>424.00</td><td> 828.00</td><td> 3808</td><td>  41</td><td> 180</td><td> 3134</td><td>  27</td><td> 134</td><td>POLYGON ((-81.79842 26.5474...</td></tr>\n",
       "\t<tr><th scope=row>2687</th><td>2438.0_0</td><td> 4982</td><td> 4173</td><td>668.00</td><td> 842.00</td><td> 4982</td><td> 316</td><td> 837</td><td> 4173</td><td> 199</td><td> 545</td><td>POLYGON ((-81.75042 26.7038...</td></tr>\n",
       "\t<tr><th scope=row>2732</th><td>2521.0_0</td><td> 8907</td><td> 7587</td><td>644.00</td><td> 935.00</td><td> 8907</td><td> 195</td><td>1147</td><td> 7587</td><td> 153</td><td> 860</td><td>POLYGON ((-81.66622 26.4657...</td></tr>\n",
       "\t<tr><th scope=row>2791</th><td>2396.0_0</td><td>12853</td><td> 8965</td><td>640.00</td><td>1027.00</td><td>12853</td><td>2368</td><td>3860</td><td> 8965</td><td>1468</td><td>2511</td><td>POLYGON ((-81.73042 26.6916...</td></tr>\n",
       "\t<tr><th scope=row>2810</th><td>2515.0_0</td><td>22218</td><td>14513</td><td>506.00</td><td> 641.00</td><td>22218</td><td>5911</td><td>8800</td><td>14513</td><td>3417</td><td>5482</td><td>POLYGON ((-81.68342 26.6173...</td></tr>\n",
       "\t<tr><th scope=row>2929</th><td>2525.0_0</td><td>16734</td><td>14720</td><td>826.00</td><td>1414.00</td><td>16734</td><td> 197</td><td> 791</td><td>14720</td><td> 155</td><td> 564</td><td>POLYGON ((-81.56232 26.4228...</td></tr>\n",
       "\t<tr><th scope=row>3003</th><td>2445.0_0</td><td> 6961</td><td> 4872</td><td>494.00</td><td> 574.00</td><td> 6961</td><td>1147</td><td>2578</td><td> 4872</td><td> 698</td><td>1671</td><td>POLYGON ((-81.65002 26.5989...</td></tr>\n",
       "\t<tr><th scope=row>3047</th><td>2443.0_0</td><td> 6576</td><td> 4778</td><td>617.00</td><td> 591.00</td><td> 6576</td><td>1068</td><td>2367</td><td> 4778</td><td> 681</td><td>1528</td><td>POLYGON ((-81.62922 26.5349...</td></tr>\n",
       "\t<tr><th scope=row>3099</th><td>2470.0_0</td><td> 6416</td><td> 4828</td><td>787.00</td><td> 880.00</td><td> 6416</td><td>1054</td><td>2105</td><td> 4828</td><td> 750</td><td>1411</td><td>POLYGON ((-81.60502 26.5293...</td></tr>\n",
       "\t<tr><th scope=row>3158</th><td>2446.0_0</td><td> 6190</td><td> 4093</td><td>112.00</td><td> 164.00</td><td> 6190</td><td> 996</td><td>2647</td><td> 4093</td><td> 634</td><td>1559</td><td>POLYGON ((-81.56542 26.6001...</td></tr>\n",
       "\t<tr><th scope=row>3303</th><td>1246.0_0</td><td>12289</td><td> 7734</td><td>366.00</td><td> 271.00</td><td>12289</td><td>1693</td><td>9773</td><td> 7734</td><td>1062</td><td>6041</td><td>POLYGON ((-81.43342 26.4189...</td></tr>\n",
       "\t<tr><th scope=row>3491</th><td>1795.0_0</td><td> 1061</td><td>  704</td><td> 37.00</td><td> 184.00</td><td> 1061</td><td>   5</td><td> 561</td><td>  704</td><td>   4</td><td> 316</td><td>POLYGON ((-81.27382 26.5974...</td></tr>\n",
       "\t<tr><th scope=row>2493</th><td>2403.0_0</td><td> 3906</td><td> 3059</td><td>439.00</td><td> 523.00</td><td> 3906</td><td>1071</td><td> 746</td><td> 3059</td><td> 714</td><td> 502</td><td>POLYGON ((-81.85582 26.6116...</td></tr>\n",
       "\t<tr><th scope=row>2506</th><td>2425.0_0</td><td> 3804</td><td> 2773</td><td>505.00</td><td> 300.00</td><td> 3804</td><td>1996</td><td> 699</td><td> 2773</td><td>1362</td><td> 465</td><td>POLYGON ((-81.85532 26.6263...</td></tr>\n",
       "\t<tr><th scope=row>2511</th><td>2469.0_0</td><td> 3124</td><td> 2586</td><td>389.00</td><td> 473.00</td><td> 3124</td><td> 426</td><td> 416</td><td> 2586</td><td> 318</td><td> 300</td><td>POLYGON ((-81.85572 26.6043...</td></tr>\n",
       "\t<tr><th scope=row>2516</th><td>2412.0_0</td><td> 3470</td><td> 2528</td><td>598.00</td><td> 111.00</td><td> 3470</td><td>2572</td><td> 347</td><td> 2528</td><td>1831</td><td> 207</td><td>POLYGON ((-81.84802 26.6409...</td></tr>\n",
       "\t<tr><th scope=row>2543</th><td>2418.0_0</td><td> 1681</td><td> 1196</td><td>348.00</td><td>  18.00</td><td> 1681</td><td>1600</td><td>  66</td><td> 1196</td><td>1140</td><td>  42</td><td>POLYGON ((-81.84002 26.6268...</td></tr>\n",
       "\t<tr><th scope=row>2554</th><td>2478.0_0</td><td> 8311</td><td> 6605</td><td>672.00</td><td>1377.00</td><td> 8311</td><td> 536</td><td>1115</td><td> 6605</td><td> 375</td><td> 765</td><td>POLYGON ((-81.81002 26.587,...</td></tr>\n",
       "\t<tr><th scope=row>2575</th><td>2435.0_1</td><td> 3626</td><td> 2454</td><td>637.00</td><td>  99.00</td><td> 3626</td><td>2649</td><td> 552</td><td> 2454</td><td>1717</td><td> 357</td><td>POLYGON ((-81.82812 26.6557...</td></tr>\n",
       "\t<tr><th scope=row>2546</th><td>2535.0_0</td><td> 1496</td><td> 1124</td><td>192.00</td><td> 454.00</td><td> 1496</td><td>  11</td><td>  68</td><td> 1124</td><td>   8</td><td>  42</td><td>POLYGON ((-81.82192 26.5088...</td></tr>\n",
       "\t<tr><th scope=row>2586</th><td>2465.0_0</td><td> 5534</td><td> 3850</td><td>438.36</td><td> 391.90</td><td> 5534</td><td> 941</td><td>3425</td><td> 3850</td><td> 641</td><td>2179</td><td>POLYGON ((-81.79962 26.6709...</td></tr>\n",
       "\t<tr><th scope=row>2601</th><td>2481.0_1</td><td>  957</td><td>  688</td><td>121.88</td><td>  43.67</td><td>  957</td><td> 184</td><td> 558</td><td>  688</td><td> 147</td><td> 363</td><td>POLYGON ((-81.80672 26.641,...</td></tr>\n",
       "</tbody>\n",
       "</table>\n"
      ],
      "text/latex": [
       "A sf: 25 × 12\n",
       "\\begin{tabular}{r|llllllllllll}\n",
       "  & geoid10 & pop & vap & obama & mccain & TotPop & BlackPop & HispPop & VAP & BlackVAP & HispVAP & geometry\\\\\n",
       "  & <chr> & <dbl> & <dbl> & <dbl> & <dbl> & <dbl> & <dbl> & <dbl> & <dbl> & <dbl> & <dbl> & <POLYGON>\\\\\n",
       "\\hline\n",
       "\t2942 & 2519.0\\_0 & 15993 & 12379 & 647.00 & 1522.00 & 15993 &  863 & 1980 & 12379 &  582 & 1292 & POLYGON ((-81.78102 26.6274...\\\\\n",
       "\t2561 & 2402.0\\_0 &  7799 &  6084 & 266.00 &  226.00 &  7799 & 2417 & 1600 &  6084 & 1601 & 1133 & POLYGON ((-81.80102 26.6341...\\\\\n",
       "\t2581 & 2520.0\\_0 &  6347 &  5698 & 758.00 & 1846.00 &  6347 &   97 &  304 &  5698 &   78 &  240 & POLYGON ((-81.79772 26.5093...\\\\\n",
       "\t2594 & 2532.0\\_0 &  3808 &  3134 & 424.00 &  828.00 &  3808 &   41 &  180 &  3134 &   27 &  134 & POLYGON ((-81.79842 26.5474...\\\\\n",
       "\t2687 & 2438.0\\_0 &  4982 &  4173 & 668.00 &  842.00 &  4982 &  316 &  837 &  4173 &  199 &  545 & POLYGON ((-81.75042 26.7038...\\\\\n",
       "\t2732 & 2521.0\\_0 &  8907 &  7587 & 644.00 &  935.00 &  8907 &  195 & 1147 &  7587 &  153 &  860 & POLYGON ((-81.66622 26.4657...\\\\\n",
       "\t2791 & 2396.0\\_0 & 12853 &  8965 & 640.00 & 1027.00 & 12853 & 2368 & 3860 &  8965 & 1468 & 2511 & POLYGON ((-81.73042 26.6916...\\\\\n",
       "\t2810 & 2515.0\\_0 & 22218 & 14513 & 506.00 &  641.00 & 22218 & 5911 & 8800 & 14513 & 3417 & 5482 & POLYGON ((-81.68342 26.6173...\\\\\n",
       "\t2929 & 2525.0\\_0 & 16734 & 14720 & 826.00 & 1414.00 & 16734 &  197 &  791 & 14720 &  155 &  564 & POLYGON ((-81.56232 26.4228...\\\\\n",
       "\t3003 & 2445.0\\_0 &  6961 &  4872 & 494.00 &  574.00 &  6961 & 1147 & 2578 &  4872 &  698 & 1671 & POLYGON ((-81.65002 26.5989...\\\\\n",
       "\t3047 & 2443.0\\_0 &  6576 &  4778 & 617.00 &  591.00 &  6576 & 1068 & 2367 &  4778 &  681 & 1528 & POLYGON ((-81.62922 26.5349...\\\\\n",
       "\t3099 & 2470.0\\_0 &  6416 &  4828 & 787.00 &  880.00 &  6416 & 1054 & 2105 &  4828 &  750 & 1411 & POLYGON ((-81.60502 26.5293...\\\\\n",
       "\t3158 & 2446.0\\_0 &  6190 &  4093 & 112.00 &  164.00 &  6190 &  996 & 2647 &  4093 &  634 & 1559 & POLYGON ((-81.56542 26.6001...\\\\\n",
       "\t3303 & 1246.0\\_0 & 12289 &  7734 & 366.00 &  271.00 & 12289 & 1693 & 9773 &  7734 & 1062 & 6041 & POLYGON ((-81.43342 26.4189...\\\\\n",
       "\t3491 & 1795.0\\_0 &  1061 &   704 &  37.00 &  184.00 &  1061 &    5 &  561 &   704 &    4 &  316 & POLYGON ((-81.27382 26.5974...\\\\\n",
       "\t2493 & 2403.0\\_0 &  3906 &  3059 & 439.00 &  523.00 &  3906 & 1071 &  746 &  3059 &  714 &  502 & POLYGON ((-81.85582 26.6116...\\\\\n",
       "\t2506 & 2425.0\\_0 &  3804 &  2773 & 505.00 &  300.00 &  3804 & 1996 &  699 &  2773 & 1362 &  465 & POLYGON ((-81.85532 26.6263...\\\\\n",
       "\t2511 & 2469.0\\_0 &  3124 &  2586 & 389.00 &  473.00 &  3124 &  426 &  416 &  2586 &  318 &  300 & POLYGON ((-81.85572 26.6043...\\\\\n",
       "\t2516 & 2412.0\\_0 &  3470 &  2528 & 598.00 &  111.00 &  3470 & 2572 &  347 &  2528 & 1831 &  207 & POLYGON ((-81.84802 26.6409...\\\\\n",
       "\t2543 & 2418.0\\_0 &  1681 &  1196 & 348.00 &   18.00 &  1681 & 1600 &   66 &  1196 & 1140 &   42 & POLYGON ((-81.84002 26.6268...\\\\\n",
       "\t2554 & 2478.0\\_0 &  8311 &  6605 & 672.00 & 1377.00 &  8311 &  536 & 1115 &  6605 &  375 &  765 & POLYGON ((-81.81002 26.587,...\\\\\n",
       "\t2575 & 2435.0\\_1 &  3626 &  2454 & 637.00 &   99.00 &  3626 & 2649 &  552 &  2454 & 1717 &  357 & POLYGON ((-81.82812 26.6557...\\\\\n",
       "\t2546 & 2535.0\\_0 &  1496 &  1124 & 192.00 &  454.00 &  1496 &   11 &   68 &  1124 &    8 &   42 & POLYGON ((-81.82192 26.5088...\\\\\n",
       "\t2586 & 2465.0\\_0 &  5534 &  3850 & 438.36 &  391.90 &  5534 &  941 & 3425 &  3850 &  641 & 2179 & POLYGON ((-81.79962 26.6709...\\\\\n",
       "\t2601 & 2481.0\\_1 &   957 &   688 & 121.88 &   43.67 &   957 &  184 &  558 &   688 &  147 &  363 & POLYGON ((-81.80672 26.641,...\\\\\n",
       "\\end{tabular}\n"
      ],
      "text/markdown": [
       "\n",
       "A sf: 25 × 12\n",
       "\n",
       "| <!--/--> | geoid10 &lt;chr&gt; | pop &lt;dbl&gt; | vap &lt;dbl&gt; | obama &lt;dbl&gt; | mccain &lt;dbl&gt; | TotPop &lt;dbl&gt; | BlackPop &lt;dbl&gt; | HispPop &lt;dbl&gt; | VAP &lt;dbl&gt; | BlackVAP &lt;dbl&gt; | HispVAP &lt;dbl&gt; | geometry &lt;POLYGON&gt; |\n",
       "|---|---|---|---|---|---|---|---|---|---|---|---|---|\n",
       "| 2942 | 2519.0_0 | 15993 | 12379 | 647.00 | 1522.00 | 15993 |  863 | 1980 | 12379 |  582 | 1292 | POLYGON ((-81.78102 26.6274... |\n",
       "| 2561 | 2402.0_0 |  7799 |  6084 | 266.00 |  226.00 |  7799 | 2417 | 1600 |  6084 | 1601 | 1133 | POLYGON ((-81.80102 26.6341... |\n",
       "| 2581 | 2520.0_0 |  6347 |  5698 | 758.00 | 1846.00 |  6347 |   97 |  304 |  5698 |   78 |  240 | POLYGON ((-81.79772 26.5093... |\n",
       "| 2594 | 2532.0_0 |  3808 |  3134 | 424.00 |  828.00 |  3808 |   41 |  180 |  3134 |   27 |  134 | POLYGON ((-81.79842 26.5474... |\n",
       "| 2687 | 2438.0_0 |  4982 |  4173 | 668.00 |  842.00 |  4982 |  316 |  837 |  4173 |  199 |  545 | POLYGON ((-81.75042 26.7038... |\n",
       "| 2732 | 2521.0_0 |  8907 |  7587 | 644.00 |  935.00 |  8907 |  195 | 1147 |  7587 |  153 |  860 | POLYGON ((-81.66622 26.4657... |\n",
       "| 2791 | 2396.0_0 | 12853 |  8965 | 640.00 | 1027.00 | 12853 | 2368 | 3860 |  8965 | 1468 | 2511 | POLYGON ((-81.73042 26.6916... |\n",
       "| 2810 | 2515.0_0 | 22218 | 14513 | 506.00 |  641.00 | 22218 | 5911 | 8800 | 14513 | 3417 | 5482 | POLYGON ((-81.68342 26.6173... |\n",
       "| 2929 | 2525.0_0 | 16734 | 14720 | 826.00 | 1414.00 | 16734 |  197 |  791 | 14720 |  155 |  564 | POLYGON ((-81.56232 26.4228... |\n",
       "| 3003 | 2445.0_0 |  6961 |  4872 | 494.00 |  574.00 |  6961 | 1147 | 2578 |  4872 |  698 | 1671 | POLYGON ((-81.65002 26.5989... |\n",
       "| 3047 | 2443.0_0 |  6576 |  4778 | 617.00 |  591.00 |  6576 | 1068 | 2367 |  4778 |  681 | 1528 | POLYGON ((-81.62922 26.5349... |\n",
       "| 3099 | 2470.0_0 |  6416 |  4828 | 787.00 |  880.00 |  6416 | 1054 | 2105 |  4828 |  750 | 1411 | POLYGON ((-81.60502 26.5293... |\n",
       "| 3158 | 2446.0_0 |  6190 |  4093 | 112.00 |  164.00 |  6190 |  996 | 2647 |  4093 |  634 | 1559 | POLYGON ((-81.56542 26.6001... |\n",
       "| 3303 | 1246.0_0 | 12289 |  7734 | 366.00 |  271.00 | 12289 | 1693 | 9773 |  7734 | 1062 | 6041 | POLYGON ((-81.43342 26.4189... |\n",
       "| 3491 | 1795.0_0 |  1061 |   704 |  37.00 |  184.00 |  1061 |    5 |  561 |   704 |    4 |  316 | POLYGON ((-81.27382 26.5974... |\n",
       "| 2493 | 2403.0_0 |  3906 |  3059 | 439.00 |  523.00 |  3906 | 1071 |  746 |  3059 |  714 |  502 | POLYGON ((-81.85582 26.6116... |\n",
       "| 2506 | 2425.0_0 |  3804 |  2773 | 505.00 |  300.00 |  3804 | 1996 |  699 |  2773 | 1362 |  465 | POLYGON ((-81.85532 26.6263... |\n",
       "| 2511 | 2469.0_0 |  3124 |  2586 | 389.00 |  473.00 |  3124 |  426 |  416 |  2586 |  318 |  300 | POLYGON ((-81.85572 26.6043... |\n",
       "| 2516 | 2412.0_0 |  3470 |  2528 | 598.00 |  111.00 |  3470 | 2572 |  347 |  2528 | 1831 |  207 | POLYGON ((-81.84802 26.6409... |\n",
       "| 2543 | 2418.0_0 |  1681 |  1196 | 348.00 |   18.00 |  1681 | 1600 |   66 |  1196 | 1140 |   42 | POLYGON ((-81.84002 26.6268... |\n",
       "| 2554 | 2478.0_0 |  8311 |  6605 | 672.00 | 1377.00 |  8311 |  536 | 1115 |  6605 |  375 |  765 | POLYGON ((-81.81002 26.587,... |\n",
       "| 2575 | 2435.0_1 |  3626 |  2454 | 637.00 |   99.00 |  3626 | 2649 |  552 |  2454 | 1717 |  357 | POLYGON ((-81.82812 26.6557... |\n",
       "| 2546 | 2535.0_0 |  1496 |  1124 | 192.00 |  454.00 |  1496 |   11 |   68 |  1124 |    8 |   42 | POLYGON ((-81.82192 26.5088... |\n",
       "| 2586 | 2465.0_0 |  5534 |  3850 | 438.36 |  391.90 |  5534 |  941 | 3425 |  3850 |  641 | 2179 | POLYGON ((-81.79962 26.6709... |\n",
       "| 2601 | 2481.0_1 |   957 |   688 | 121.88 |   43.67 |   957 |  184 |  558 |   688 |  147 |  363 | POLYGON ((-81.80672 26.641,... |\n",
       "\n"
      ],
      "text/plain": [
       "     geoid10  pop   vap   obama  mccain  TotPop BlackPop HispPop VAP   BlackVAP\n",
       "2942 2519.0_0 15993 12379 647.00 1522.00 15993   863     1980    12379  582    \n",
       "2561 2402.0_0  7799  6084 266.00  226.00  7799  2417     1600     6084 1601    \n",
       "2581 2520.0_0  6347  5698 758.00 1846.00  6347    97      304     5698   78    \n",
       "2594 2532.0_0  3808  3134 424.00  828.00  3808    41      180     3134   27    \n",
       "2687 2438.0_0  4982  4173 668.00  842.00  4982   316      837     4173  199    \n",
       "2732 2521.0_0  8907  7587 644.00  935.00  8907   195     1147     7587  153    \n",
       "2791 2396.0_0 12853  8965 640.00 1027.00 12853  2368     3860     8965 1468    \n",
       "2810 2515.0_0 22218 14513 506.00  641.00 22218  5911     8800    14513 3417    \n",
       "2929 2525.0_0 16734 14720 826.00 1414.00 16734   197      791    14720  155    \n",
       "3003 2445.0_0  6961  4872 494.00  574.00  6961  1147     2578     4872  698    \n",
       "3047 2443.0_0  6576  4778 617.00  591.00  6576  1068     2367     4778  681    \n",
       "3099 2470.0_0  6416  4828 787.00  880.00  6416  1054     2105     4828  750    \n",
       "3158 2446.0_0  6190  4093 112.00  164.00  6190   996     2647     4093  634    \n",
       "3303 1246.0_0 12289  7734 366.00  271.00 12289  1693     9773     7734 1062    \n",
       "3491 1795.0_0  1061   704  37.00  184.00  1061     5      561      704    4    \n",
       "2493 2403.0_0  3906  3059 439.00  523.00  3906  1071      746     3059  714    \n",
       "2506 2425.0_0  3804  2773 505.00  300.00  3804  1996      699     2773 1362    \n",
       "2511 2469.0_0  3124  2586 389.00  473.00  3124   426      416     2586  318    \n",
       "2516 2412.0_0  3470  2528 598.00  111.00  3470  2572      347     2528 1831    \n",
       "2543 2418.0_0  1681  1196 348.00   18.00  1681  1600       66     1196 1140    \n",
       "2554 2478.0_0  8311  6605 672.00 1377.00  8311   536     1115     6605  375    \n",
       "2575 2435.0_1  3626  2454 637.00   99.00  3626  2649      552     2454 1717    \n",
       "2546 2535.0_0  1496  1124 192.00  454.00  1496    11       68     1124    8    \n",
       "2586 2465.0_0  5534  3850 438.36  391.90  5534   941     3425     3850  641    \n",
       "2601 2481.0_1   957   688 121.88   43.67   957   184      558      688  147    \n",
       "     HispVAP geometry                      \n",
       "2942 1292    POLYGON ((-81.78102 26.6274...\n",
       "2561 1133    POLYGON ((-81.80102 26.6341...\n",
       "2581  240    POLYGON ((-81.79772 26.5093...\n",
       "2594  134    POLYGON ((-81.79842 26.5474...\n",
       "2687  545    POLYGON ((-81.75042 26.7038...\n",
       "2732  860    POLYGON ((-81.66622 26.4657...\n",
       "2791 2511    POLYGON ((-81.73042 26.6916...\n",
       "2810 5482    POLYGON ((-81.68342 26.6173...\n",
       "2929  564    POLYGON ((-81.56232 26.4228...\n",
       "3003 1671    POLYGON ((-81.65002 26.5989...\n",
       "3047 1528    POLYGON ((-81.62922 26.5349...\n",
       "3099 1411    POLYGON ((-81.60502 26.5293...\n",
       "3158 1559    POLYGON ((-81.56542 26.6001...\n",
       "3303 6041    POLYGON ((-81.43342 26.4189...\n",
       "3491  316    POLYGON ((-81.27382 26.5974...\n",
       "2493  502    POLYGON ((-81.85582 26.6116...\n",
       "2506  465    POLYGON ((-81.85532 26.6263...\n",
       "2511  300    POLYGON ((-81.85572 26.6043...\n",
       "2516  207    POLYGON ((-81.84802 26.6409...\n",
       "2543   42    POLYGON ((-81.84002 26.6268...\n",
       "2554  765    POLYGON ((-81.81002 26.587,...\n",
       "2575  357    POLYGON ((-81.82812 26.6557...\n",
       "2546   42    POLYGON ((-81.82192 26.5088...\n",
       "2586 2179    POLYGON ((-81.79962 26.6709...\n",
       "2601  363    POLYGON ((-81.80672 26.641,..."
      ]
     },
     "metadata": {},
     "output_type": "display_data"
    }
   ],
   "source": [
    "data(\"fl25\")\n",
    "fl25"
   ]
  },
  {
   "cell_type": "markdown",
   "metadata": {},
   "source": [
    "Agency-Based Redistricting"
   ]
  },
  {
   "cell_type": "code",
   "execution_count": null,
   "metadata": {
    "scrolled": false
   },
   "outputs": [],
   "source": [
    "fl250 %>% ggplot(aes(fill = pop)) + \n",
    "    geom_sf()"
   ]
  },
  {
   "cell_type": "code",
   "execution_count": null,
   "metadata": {
    "scrolled": false
   },
   "outputs": [],
   "source": [
    "fl250$id <- 1:250\n",
    "fl250[c(12,13,1,14,15),] %>% ggplot() +\n",
    "    geom_sf() + \n",
    "geom_sf_label(aes(label = id))"
   ]
  },
  {
   "cell_type": "code",
   "execution_count": null,
   "metadata": {
    "scrolled": false
   },
   "outputs": [],
   "source": [
    "# List of all precients each precinct is adjacent to\n",
    "# (corner touching doesn't qualify)\n",
    "adjlist <- poly2nb(pl = fl250, queen = FALSE)\n",
    "adjlist[[25]]"
   ]
  },
  {
   "cell_type": "code",
   "execution_count": null,
   "metadata": {
    "scrolled": false
   },
   "outputs": [],
   "source": [
    "plot(graph_from_adj_list(adjlist, mode = 'total'))"
   ]
  },
  {
   "cell_type": "code",
   "execution_count": null,
   "metadata": {
    "scrolled": false
   },
   "outputs": [],
   "source": [
    "# Zero-index the labels so that the C++ back end is happy\n",
    "for(i in 1:250) {\n",
    "    adjlist[[i]] <- adjlist[[i]]-1\n",
    "}\n",
    "adjlist[[25]]"
   ]
  },
  {
   "cell_type": "markdown",
   "metadata": {},
   "source": [
    "Redistricting with MCMC"
   ]
  },
  {
   "cell_type": "code",
   "execution_count": null,
   "metadata": {
    "scrolled": false
   },
   "outputs": [],
   "source": [
    "alg_mcmc <- redist.mcmc(adjobj = algdat.pfull$adjlist, # adjacency list\n",
    "                        popvec = algdat.pfull$precinct.data$pop, \n",
    "                        ndists = 3,\n",
    "                        nsims = 10000,\n",
    "                        savename = \"redist.mcmc\")"
   ]
  },
  {
   "cell_type": "code",
   "execution_count": null,
   "metadata": {
    "scrolled": false
   },
   "outputs": [],
   "source": [
    "initcds <- algdat.pfull$cdmat[,1]\n",
    "alg_mcmc <- redist.mcmc(adjobj = algdat.pfull$adjlist,\n",
    "                        popvec = algdat.pfull$precinct.data$pop,\n",
    "                        initcds = initcds,\n",
    "                        nsims = 10000,\n",
    "                        savename = \"redist.mcmc\")"
   ]
  },
  {
   "cell_type": "code",
   "execution_count": null,
   "metadata": {
    "scrolled": false
   },
   "outputs": [],
   "source": [
    "class(alg_mcmc)\n",
    "names(alg_mcmc)"
   ]
  },
  {
   "cell_type": "markdown",
   "metadata": {},
   "source": [
    "Using Multiple Chains"
   ]
  },
  {
   "cell_type": "code",
   "execution_count": null,
   "metadata": {
    "scrolled": true
   },
   "outputs": [],
   "source": [
    "RNGkind(kind = \"L'Ecuyer-CMRG\")\n",
    "set.seed(1)\n",
    "nchains <- 4\n",
    "nsims <- 10000\n",
    "mcmc_chains <- lapply(1:nchains, function(x){\n",
    "          redist.mcmc(adjobj = algdat.pfull$adjlist, \n",
    "                      popvec = algdat.pfull$precinct.data$pop, \n",
    "                      nsims = nsims,\n",
    "                      ndists = 3)\n",
    "})"
   ]
  },
  {
   "cell_type": "code",
   "execution_count": null,
   "metadata": {
    "scrolled": false
   },
   "outputs": [],
   "source": [
    "seg <- redist.segcalc(algout = alg_mcmc, \n",
    "                      grouppop = algdat.pfull$precinct.data$blackpop,\n",
    "                      fullpop = algdat.pfull$precinct.data$pop)\n"
   ]
  },
  {
   "cell_type": "markdown",
   "metadata": {},
   "source": [
    "Diagnostic Plots"
   ]
  },
  {
   "cell_type": "code",
   "execution_count": null,
   "metadata": {
    "scrolled": false
   },
   "outputs": [],
   "source": [
    "# Trace Plot\n",
    "redist.diagplot(seg, plot = \"trace\")"
   ]
  },
  {
   "cell_type": "code",
   "execution_count": null,
   "metadata": {
    "scrolled": false
   },
   "outputs": [],
   "source": [
    "# Autocorrelation Plot\n",
    "redist.diagplot(seg, plot = \"autocorr\")"
   ]
  },
  {
   "cell_type": "code",
   "execution_count": null,
   "metadata": {
    "scrolled": false
   },
   "outputs": [],
   "source": [
    "# Density Plot\n",
    "redist.diagplot(seg, plot = \"densplot\")"
   ]
  },
  {
   "cell_type": "code",
   "execution_count": null,
   "metadata": {
    "scrolled": false
   },
   "outputs": [],
   "source": [
    "# Mean plot\n",
    "redist.diagplot(seg, plot = \"mean\")"
   ]
  }
 ],
 "metadata": {
  "kernelspec": {
   "display_name": "R",
   "language": "R",
   "name": "ir"
  },
  "language_info": {
   "codemirror_mode": "r",
   "file_extension": ".r",
   "mimetype": "text/x-r-source",
   "name": "R",
   "pygments_lexer": "r",
   "version": "4.0.3"
  }
 },
 "nbformat": 4,
 "nbformat_minor": 4
}
