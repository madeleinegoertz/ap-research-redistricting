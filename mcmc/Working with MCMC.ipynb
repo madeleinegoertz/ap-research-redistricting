{
 "cells": [
  {
   "cell_type": "code",
   "execution_count": 10,
   "metadata": {
    "scrolled": true
   },
   "outputs": [
    {
     "name": "stderr",
     "output_type": "stream",
     "text": [
      "\n",
      "Attaching package: 'geojsonio'\n",
      "\n",
      "\n",
      "The following object is masked from 'package:base':\n",
      "\n",
      "    pretty\n",
      "\n",
      "\n"
     ]
    }
   ],
   "source": [
    "library(redist)\n",
    "library(sf)\n",
    "library(sp)\n",
    "library(spdep)\n",
    "library(igraph)\n",
    "library(ggplot2)\n",
    "library(dplyr)\n",
    "library(geojsonio)\n",
    "library(magrittr)\n"
   ]
  },
  {
   "cell_type": "code",
   "execution_count": 12,
   "metadata": {},
   "outputs": [],
   "source": [
    "data(\"algdat.p10\")\n",
    "data(\"algdat.p20\")\n",
    "data(\"algdat.pfull\")\n"
   ]
  },
  {
   "cell_type": "code",
   "execution_count": 13,
   "metadata": {},
   "outputs": [
    {
     "data": {
      "text/html": [
       "<style>\n",
       ".list-inline {list-style: none; margin:0; padding: 0}\n",
       ".list-inline>li {display: inline-block}\n",
       ".list-inline>li:not(:last-child)::after {content: \"\\00b7\"; padding: 0 .5ex}\n",
       "</style>\n",
       "<ol class=list-inline><li>'adjlist'</li><li>'cdmat'</li><li>'precinct.data'</li><li>'segregation.index'</li><li>'distancemat'</li></ol>\n"
      ],
      "text/latex": [
       "\\begin{enumerate*}\n",
       "\\item 'adjlist'\n",
       "\\item 'cdmat'\n",
       "\\item 'precinct.data'\n",
       "\\item 'segregation.index'\n",
       "\\item 'distancemat'\n",
       "\\end{enumerate*}\n"
      ],
      "text/markdown": [
       "1. 'adjlist'\n",
       "2. 'cdmat'\n",
       "3. 'precinct.data'\n",
       "4. 'segregation.index'\n",
       "5. 'distancemat'\n",
       "\n",
       "\n"
      ],
      "text/plain": [
       "[1] \"adjlist\"           \"cdmat\"             \"precinct.data\"    \n",
       "[4] \"segregation.index\" \"distancemat\"      "
      ]
     },
     "metadata": {},
     "output_type": "display_data"
    },
    {
     "data": {
      "text/html": [
       "<style>\n",
       ".list-inline {list-style: none; margin:0; padding: 0}\n",
       ".list-inline>li {display: inline-block}\n",
       ".list-inline>li:not(:last-child)::after {content: \"\\00b7\"; padding: 0 .5ex}\n",
       "</style>\n",
       "<ol class=list-inline><li>'adjlist'</li><li>'cdmat'</li><li>'precinct.data'</li><li>'segregation.index'</li><li>'distancemat'</li></ol>\n"
      ],
      "text/latex": [
       "\\begin{enumerate*}\n",
       "\\item 'adjlist'\n",
       "\\item 'cdmat'\n",
       "\\item 'precinct.data'\n",
       "\\item 'segregation.index'\n",
       "\\item 'distancemat'\n",
       "\\end{enumerate*}\n"
      ],
      "text/markdown": [
       "1. 'adjlist'\n",
       "2. 'cdmat'\n",
       "3. 'precinct.data'\n",
       "4. 'segregation.index'\n",
       "5. 'distancemat'\n",
       "\n",
       "\n"
      ],
      "text/plain": [
       "[1] \"adjlist\"           \"cdmat\"             \"precinct.data\"    \n",
       "[4] \"segregation.index\" \"distancemat\"      "
      ]
     },
     "metadata": {},
     "output_type": "display_data"
    },
    {
     "data": {
      "text/html": [
       "<style>\n",
       ".list-inline {list-style: none; margin:0; padding: 0}\n",
       ".list-inline>li {display: inline-block}\n",
       ".list-inline>li:not(:last-child)::after {content: \"\\00b7\"; padding: 0 .5ex}\n",
       "</style>\n",
       "<ol class=list-inline><li>'adjlist'</li><li>'cdmat'</li><li>'precinct.data'</li><li>'segregation.index'</li><li>'distancemat'</li></ol>\n"
      ],
      "text/latex": [
       "\\begin{enumerate*}\n",
       "\\item 'adjlist'\n",
       "\\item 'cdmat'\n",
       "\\item 'precinct.data'\n",
       "\\item 'segregation.index'\n",
       "\\item 'distancemat'\n",
       "\\end{enumerate*}\n"
      ],
      "text/markdown": [
       "1. 'adjlist'\n",
       "2. 'cdmat'\n",
       "3. 'precinct.data'\n",
       "4. 'segregation.index'\n",
       "5. 'distancemat'\n",
       "\n",
       "\n"
      ],
      "text/plain": [
       "[1] \"adjlist\"           \"cdmat\"             \"precinct.data\"    \n",
       "[4] \"segregation.index\" \"distancemat\"      "
      ]
     },
     "metadata": {},
     "output_type": "display_data"
    }
   ],
   "source": [
    "names(algdat.p10)\n",
    "names(algdat.p20)\n",
    "names(algdat.pfull)"
   ]
  },
  {
   "cell_type": "code",
   "execution_count": 38,
   "metadata": {},
   "outputs": [],
   "source": [
    "data(\"fl250\")"
   ]
  },
  {
   "cell_type": "code",
   "execution_count": 39,
   "metadata": {},
   "outputs": [
    {
     "data": {
      "application/geo+json": {
       "features": [
        {
         "geometry": {
          "coordinates": [
           [
            [
             -80.7328,
             28.356
            ],
            [
             -80.7291,
             28.3559
            ],
            [
             -80.7245,
             28.356
            ],
            [
             -80.7202,
             28.356
            ],
            [
             -80.7182,
             28.3562
            ],
            [
             -80.7171,
             28.3535
            ],
            [
             -80.7156,
             28.3499
            ],
            [
             -80.7236,
             28.3495
            ],
            [
             -80.7278,
             28.3494
            ],
            [
             -80.731,
             28.3494
            ],
            [
             -80.7344,
             28.3494
            ],
            [
             -80.7377,
             28.3494
            ],
            [
             -80.7421,
             28.3494
            ],
            [
             -80.7448,
             28.3494
            ],
            [
             -80.7475,
             28.3494
            ],
            [
             -80.7496,
             28.3497
            ],
            [
             -80.7496,
             28.3525
            ],
            [
             -80.7466,
             28.3524
            ],
            [
             -80.7469,
             28.3565
            ],
            [
             -80.7444,
             28.3568
            ],
            [
             -80.7418,
             28.3559
            ],
            [
             -80.7392,
             28.3558
            ],
            [
             -80.7356,
             28.3558
            ],
            [
             -80.7328,
             28.356
            ]
           ]
          ],
          "type": "Polygon"
         },
         "properties": {
          "BlackPop": 1358,
          "BlackVAP": 954,
          "HispPop": 109,
          "HispVAP": 63,
          "TotPop": 2106,
          "VAP_1": 1555,
          "geoid10": "NA",
          "mccain": 161,
          "obama": 645,
          "pop": 2106,
          "vap": 1555
         },
         "type": "Feature"
        },
        {
         "geometry": {
          "coordinates": [
           [
            [
             -80.7344,
             28.3494
            ],
            [
             -80.7348,
             28.344
            ],
            [
             -80.7411,
             28.3442
            ],
            [
             -80.7472,
             28.3435
            ],
            [
             -80.7497,
             28.344
            ],
            [
             -80.7544,
             28.3454
            ],
            [
             -80.7547,
             28.3493
            ],
            [
             -80.7496,
             28.3497
            ],
            [
             -80.7475,
             28.3494
            ],
            [
             -80.7448,
             28.3494
            ],
            [
             -80.7421,
             28.3494
            ],
            [
             -80.7377,
             28.3494
            ],
            [
             -80.7344,
             28.3494
            ]
           ]
          ],
          "type": "Polygon"
         },
         "properties": {
          "BlackPop": 646,
          "BlackVAP": 492,
          "HispPop": 48,
          "HispVAP": 34,
          "TotPop": 859,
          "VAP_1": 656,
          "geoid10": "NA",
          "mccain": 33,
          "obama": 365,
          "pop": 859,
          "vap": 656
         },
         "type": "Feature"
        },
        {
         "geometry": {
          "coordinates": [
           [
            [
             -80.6795,
             28.3573
            ],
            [
             -80.6774,
             28.3469
            ],
            [
             -80.683,
             28.3469
            ],
            [
             -80.6881,
             28.3468
            ],
            [
             -80.6919,
             28.3468
            ],
            [
             -80.6952,
             28.3469
            ],
            [
             -80.6988,
             28.3468
            ],
            [
             -80.6964,
             28.3437
            ],
            [
             -80.6939,
             28.3416
            ],
            [
             -80.6916,
             28.3397
            ],
            [
             -80.6899,
             28.3384
            ],
            [
             -80.6883,
             28.3366
            ],
            [
             -80.6917,
             28.3362
            ],
            [
             -80.6948,
             28.336
            ],
            [
             -80.6924,
             28.3336
            ],
            [
             -80.6955,
             28.3325
            ],
            [
             -80.7078,
             28.3323
            ],
            [
             -80.7106,
             28.3388
            ],
            [
             -80.7156,
             28.3499
            ],
            [
             -80.7171,
             28.3535
            ],
            [
             -80.7182,
             28.3562
            ],
            [
             -80.7204,
             28.3613
            ],
            [
             -80.7081,
             28.3617
            ],
            [
             -80.7037,
             28.3614
            ],
            [
             -80.7005,
             28.3617
            ],
            [
             -80.7001,
             28.3647
            ],
            [
             -80.6977,
             28.3657
            ],
            [
             -80.6955,
             28.3651
            ],
            [
             -80.6947,
             28.3613
            ],
            [
             -80.6923,
             28.358
            ],
            [
             -80.6846,
             28.3572
            ],
            [
             -80.6795,
             28.3573
            ]
           ]
          ],
          "type": "Polygon"
         },
         "properties": {
          "BlackPop": 90,
          "BlackVAP": 76,
          "HispPop": 256,
          "HispVAP": 184,
          "TotPop": 4364,
          "VAP_1": 3635,
          "geoid10": "NA",
          "mccain": 1317,
          "obama": 936,
          "pop": 4364,
          "vap": 3635
         },
         "type": "Feature"
        },
        {
         "geometry": {
          "coordinates": [
           [
            [
             -80.7496,
             28.3497
            ],
            [
             -80.7547,
             28.3493
            ],
            [
             -80.7546,
             28.3531
            ],
            [
             -80.7541,
             28.3559
            ],
            [
             -80.752,
             28.3558
            ],
            [
             -80.7499,
             28.3558
            ],
            [
             -80.7469,
             28.3565
            ],
            [
             -80.7466,
             28.3524
            ],
            [
             -80.7496,
             28.3525
            ],
            [
             -80.7496,
             28.3497
            ]
           ]
          ],
          "type": "Polygon"
         },
         "properties": {
          "BlackPop": 371,
          "BlackVAP": 289,
          "HispPop": 175,
          "HispVAP": 131,
          "TotPop": 714,
          "VAP_1": 559,
          "geoid10": "NA",
          "mccain": 18,
          "obama": 101,
          "pop": 714,
          "vap": 559
         },
         "type": "Feature"
        },
        {
         "geometry": {
          "coordinates": [
           [
            [
             -80.7078,
             28.3323
            ],
            [
             -80.7041,
             28.3244
            ],
            [
             -80.6992,
             28.3139
            ],
            [
             -80.6939,
             28.3025
            ],
            [
             -80.7009,
             28.3024
            ],
            [
             -80.7042,
             28.3027
            ],
            [
             -80.7076,
             28.3086
            ],
            [
             -80.7116,
             28.3135
            ],
            [
             -80.7132,
             28.3174
            ],
            [
             -80.7144,
             28.3203
            ],
            [
             -80.7186,
             28.3253
            ],
            [
             -80.7236,
             28.3307
            ],
            [
             -80.7256,
             28.3338
            ],
            [
             -80.7266,
             28.3362
            ],
            [
             -80.731,
             28.3494
            ],
            [
             -80.7278,
             28.3494
            ],
            [
             -80.7236,
             28.3495
            ],
            [
             -80.7156,
             28.3499
            ],
            [
             -80.7106,
             28.3388
            ],
            [
             -80.7078,
             28.3323
            ]
           ]
          ],
          "type": "Polygon"
         },
         "properties": {
          "BlackPop": 75,
          "BlackVAP": 59,
          "HispPop": 114,
          "HispVAP": 83,
          "TotPop": 2361,
          "VAP_1": 2020,
          "geoid10": "NA",
          "mccain": 718,
          "obama": 560,
          "pop": 2361,
          "vap": 2020
         },
         "type": "Feature"
        },
        {
         "geometry": {
          "coordinates": [
           [
            [
             -80.7411,
             28.3591
            ],
            [
             -80.7444,
             28.3568
            ],
            [
             -80.7469,
             28.3565
            ],
            [
             -80.7468,
             28.3603
            ],
            [
             -80.7444,
             28.3604
            ],
            [
             -80.7411,
             28.3591
            ]
           ]
          ],
          "type": "Polygon"
         },
         "properties": {
          "BlackPop": 230,
          "BlackVAP": 166,
          "HispPop": 28,
          "HispVAP": 12,
          "TotPop": 307,
          "VAP_1": 220,
          "geoid10": "NA",
          "mccain": 17,
          "obama": 84,
          "pop": 307,
          "vap": 220
         },
         "type": "Feature"
        }
       ],
       "type": "FeatureCollection"
      },
      "text/html": [
       "<table>\n",
       "<caption>A sf: 6 × 12</caption>\n",
       "<thead>\n",
       "\t<tr><th></th><th scope=col>geoid10</th><th scope=col>pop</th><th scope=col>vap</th><th scope=col>obama</th><th scope=col>mccain</th><th scope=col>TotPop</th><th scope=col>BlackPop</th><th scope=col>HispPop</th><th scope=col>VAP_1</th><th scope=col>BlackVAP</th><th scope=col>HispVAP</th><th scope=col>geometry</th></tr>\n",
       "\t<tr><th></th><th scope=col>&lt;dbl&gt;</th><th scope=col>&lt;int&gt;</th><th scope=col>&lt;int&gt;</th><th scope=col>&lt;dbl&gt;</th><th scope=col>&lt;dbl&gt;</th><th scope=col>&lt;int&gt;</th><th scope=col>&lt;int&gt;</th><th scope=col>&lt;int&gt;</th><th scope=col>&lt;int&gt;</th><th scope=col>&lt;int&gt;</th><th scope=col>&lt;int&gt;</th><th scope=col>&lt;POLYGON&gt;</th></tr>\n",
       "</thead>\n",
       "<tbody>\n",
       "\t<tr><th scope=row>1</th><td>NA</td><td>2106</td><td>1555</td><td>645</td><td> 161</td><td>2106</td><td>1358</td><td>109</td><td>1555</td><td>954</td><td> 63</td><td>POLYGON ((-80.73282 28.356,...</td></tr>\n",
       "\t<tr><th scope=row>2</th><td>NA</td><td> 859</td><td> 656</td><td>365</td><td>  33</td><td> 859</td><td> 646</td><td> 48</td><td> 656</td><td>492</td><td> 34</td><td>POLYGON ((-80.73442 28.3494...</td></tr>\n",
       "\t<tr><th scope=row>3</th><td>NA</td><td>4364</td><td>3635</td><td>936</td><td>1317</td><td>4364</td><td>  90</td><td>256</td><td>3635</td><td> 76</td><td>184</td><td>POLYGON ((-80.67952 28.3573...</td></tr>\n",
       "\t<tr><th scope=row>4</th><td>NA</td><td> 714</td><td> 559</td><td>101</td><td>  18</td><td> 714</td><td> 371</td><td>175</td><td> 559</td><td>289</td><td>131</td><td>POLYGON ((-80.74962 28.3497...</td></tr>\n",
       "\t<tr><th scope=row>5</th><td>NA</td><td>2361</td><td>2020</td><td>560</td><td> 718</td><td>2361</td><td>  75</td><td>114</td><td>2020</td><td> 59</td><td> 83</td><td>POLYGON ((-80.70782 28.3323...</td></tr>\n",
       "\t<tr><th scope=row>6</th><td>NA</td><td> 307</td><td> 220</td><td> 84</td><td>  17</td><td> 307</td><td> 230</td><td> 28</td><td> 220</td><td>166</td><td> 12</td><td>POLYGON ((-80.74112 28.3591...</td></tr>\n",
       "</tbody>\n",
       "</table>\n"
      ],
      "text/latex": [
       "A sf: 6 × 12\n",
       "\\begin{tabular}{r|llllllllllll}\n",
       "  & geoid10 & pop & vap & obama & mccain & TotPop & BlackPop & HispPop & VAP\\_1 & BlackVAP & HispVAP & geometry\\\\\n",
       "  & <dbl> & <int> & <int> & <dbl> & <dbl> & <int> & <int> & <int> & <int> & <int> & <int> & <POLYGON>\\\\\n",
       "\\hline\n",
       "\t1 & NA & 2106 & 1555 & 645 &  161 & 2106 & 1358 & 109 & 1555 & 954 &  63 & POLYGON ((-80.73282 28.356,...\\\\\n",
       "\t2 & NA &  859 &  656 & 365 &   33 &  859 &  646 &  48 &  656 & 492 &  34 & POLYGON ((-80.73442 28.3494...\\\\\n",
       "\t3 & NA & 4364 & 3635 & 936 & 1317 & 4364 &   90 & 256 & 3635 &  76 & 184 & POLYGON ((-80.67952 28.3573...\\\\\n",
       "\t4 & NA &  714 &  559 & 101 &   18 &  714 &  371 & 175 &  559 & 289 & 131 & POLYGON ((-80.74962 28.3497...\\\\\n",
       "\t5 & NA & 2361 & 2020 & 560 &  718 & 2361 &   75 & 114 & 2020 &  59 &  83 & POLYGON ((-80.70782 28.3323...\\\\\n",
       "\t6 & NA &  307 &  220 &  84 &   17 &  307 &  230 &  28 &  220 & 166 &  12 & POLYGON ((-80.74112 28.3591...\\\\\n",
       "\\end{tabular}\n"
      ],
      "text/markdown": [
       "\n",
       "A sf: 6 × 12\n",
       "\n",
       "| <!--/--> | geoid10 &lt;dbl&gt; | pop &lt;int&gt; | vap &lt;int&gt; | obama &lt;dbl&gt; | mccain &lt;dbl&gt; | TotPop &lt;int&gt; | BlackPop &lt;int&gt; | HispPop &lt;int&gt; | VAP_1 &lt;int&gt; | BlackVAP &lt;int&gt; | HispVAP &lt;int&gt; | geometry &lt;POLYGON&gt; |\n",
       "|---|---|---|---|---|---|---|---|---|---|---|---|---|\n",
       "| 1 | NA | 2106 | 1555 | 645 |  161 | 2106 | 1358 | 109 | 1555 | 954 |  63 | POLYGON ((-80.73282 28.356,... |\n",
       "| 2 | NA |  859 |  656 | 365 |   33 |  859 |  646 |  48 |  656 | 492 |  34 | POLYGON ((-80.73442 28.3494... |\n",
       "| 3 | NA | 4364 | 3635 | 936 | 1317 | 4364 |   90 | 256 | 3635 |  76 | 184 | POLYGON ((-80.67952 28.3573... |\n",
       "| 4 | NA |  714 |  559 | 101 |   18 |  714 |  371 | 175 |  559 | 289 | 131 | POLYGON ((-80.74962 28.3497... |\n",
       "| 5 | NA | 2361 | 2020 | 560 |  718 | 2361 |   75 | 114 | 2020 |  59 |  83 | POLYGON ((-80.70782 28.3323... |\n",
       "| 6 | NA |  307 |  220 |  84 |   17 |  307 |  230 |  28 |  220 | 166 |  12 | POLYGON ((-80.74112 28.3591... |\n",
       "\n"
      ],
      "text/plain": [
       "  geoid10 pop  vap  obama mccain TotPop BlackPop HispPop VAP_1 BlackVAP HispVAP\n",
       "1 NA      2106 1555 645    161   2106   1358     109     1555  954       63    \n",
       "2 NA       859  656 365     33    859    646      48      656  492       34    \n",
       "3 NA      4364 3635 936   1317   4364     90     256     3635   76      184    \n",
       "4 NA       714  559 101     18    714    371     175      559  289      131    \n",
       "5 NA      2361 2020 560    718   2361     75     114     2020   59       83    \n",
       "6 NA       307  220  84     17    307    230      28      220  166       12    \n",
       "  geometry                      \n",
       "1 POLYGON ((-80.73282 28.356,...\n",
       "2 POLYGON ((-80.73442 28.3494...\n",
       "3 POLYGON ((-80.67952 28.3573...\n",
       "4 POLYGON ((-80.74962 28.3497...\n",
       "5 POLYGON ((-80.70782 28.3323...\n",
       "6 POLYGON ((-80.74112 28.3591..."
      ]
     },
     "metadata": {},
     "output_type": "display_data"
    }
   ],
   "source": [
    "head(fl250)"
   ]
  },
  {
   "cell_type": "markdown",
   "metadata": {},
   "source": [
    "Agency-Based Redistricting"
   ]
  },
  {
   "cell_type": "code",
   "execution_count": 40,
   "metadata": {},
   "outputs": [
    {
     "data": {
      "image/png": "[encoded data removed]",
      "text/plain": [
       "plot without title"
      ]
     },
     "metadata": {
      "image/png": {
       "height": 420,
       "width": 420
      }
     },
     "output_type": "display_data"
    }
   ],
   "source": [
    "fl250 %>% ggplot(aes(fill = pop)) + \n",
    "    geom_sf()"
   ]
  },
  {
   "cell_type": "code",
   "execution_count": 17,
   "metadata": {},
   "outputs": [
    {
     "data": {
      "image/png": "[encoded data removed]",
      "text/plain": [
       "plot without title"
      ]
     },
     "metadata": {
      "image/png": {
       "height": 420,
       "width": 420
      }
     },
     "output_type": "display_data"
    }
   ],
   "source": [
    "fl25$id <- 1:25\n",
    "fl25[c(12,13,1,14,15),] %>% ggplot() +\n",
    "    geom_sf() + \n",
    "geom_sf_label(aes(label = id))"
   ]
  },
  {
   "cell_type": "code",
   "execution_count": 19,
   "metadata": {},
   "outputs": [
    {
     "data": {
      "text/html": [
       "<style>\n",
       ".list-inline {list-style: none; margin:0; padding: 0}\n",
       ".list-inline>li {display: inline-block}\n",
       ".list-inline>li:not(:last-child)::after {content: \"\\00b7\"; padding: 0 .5ex}\n",
       "</style>\n",
       "<ol class=list-inline><li>5</li><li>22</li><li>24</li></ol>\n"
      ],
      "text/latex": [
       "\\begin{enumerate*}\n",
       "\\item 5\n",
       "\\item 22\n",
       "\\item 24\n",
       "\\end{enumerate*}\n"
      ],
      "text/markdown": [
       "1. 5\n",
       "2. 22\n",
       "3. 24\n",
       "\n",
       "\n"
      ],
      "text/plain": [
       "[1]  5 22 24"
      ]
     },
     "metadata": {},
     "output_type": "display_data"
    }
   ],
   "source": [
    "# List of all precients each precinct is adjacent to\n",
    "# (corner touching doesn't qualify)\n",
    "adjlist <- poly2nb(pl = fl25, queen = FALSE)\n",
    "adjlist[[25]]"
   ]
  },
  {
   "cell_type": "code",
   "execution_count": 21,
   "metadata": {},
   "outputs": [
    {
     "data": {
      "image/png": "[encoded data removed]",
      "text/plain": [
       "Plot with title \"\""
      ]
     },
     "metadata": {
      "image/png": {
       "height": 420,
       "width": 420
      }
     },
     "output_type": "display_data"
    }
   ],
   "source": [
    "plot(graph_from_adj_list(adjlist, mode = 'total'))"
   ]
  },
  {
   "cell_type": "code",
   "execution_count": 22,
   "metadata": {},
   "outputs": [
    {
     "data": {
      "text/html": [
       "<style>\n",
       ".list-inline {list-style: none; margin:0; padding: 0}\n",
       ".list-inline>li {display: inline-block}\n",
       ".list-inline>li:not(:last-child)::after {content: \"\\00b7\"; padding: 0 .5ex}\n",
       "</style>\n",
       "<ol class=list-inline><li>4</li><li>21</li><li>23</li></ol>\n"
      ],
      "text/latex": [
       "\\begin{enumerate*}\n",
       "\\item 4\n",
       "\\item 21\n",
       "\\item 23\n",
       "\\end{enumerate*}\n"
      ],
      "text/markdown": [
       "1. 4\n",
       "2. 21\n",
       "3. 23\n",
       "\n",
       "\n"
      ],
      "text/plain": [
       "[1]  4 21 23"
      ]
     },
     "metadata": {},
     "output_type": "display_data"
    }
   ],
   "source": [
    "# Zero-index the labels so that the C++ back end is happy\n",
    "for(i in 1:25) {\n",
    "    adjlist[[i]] <- adjlist[[i]]-1\n",
    "}\n",
    "adjlist[[25]]"
   ]
  },
  {
   "cell_type": "markdown",
   "metadata": {},
   "source": [
    "Redistricting with MCMC"
   ]
  },
  {
   "cell_type": "code",
   "execution_count": 23,
   "metadata": {},
   "outputs": [
    {
     "name": "stdout",
     "output_type": "stream",
     "text": [
      "\n",
      "==================== \n",
      "redist.mcmc(): Automated Redistricting Simulation Using\n",
      "         Markov Chain Monte Carlo\n",
      "\n",
      "Preprocessing data.\n",
      "\n",
      "\n",
      "==================== \n",
      "Using redist.rsg() to generate starting values.\n",
      "\n",
      "10 percent done.\n",
      "Metropolis acceptance ratio: 0.966967\n",
      "\n",
      "20 percent done.\n",
      "Metropolis acceptance ratio: 0.963982\n",
      "\n",
      "30 percent done.\n",
      "Metropolis acceptance ratio: 0.96132\n",
      "\n",
      "40 percent done.\n",
      "Metropolis acceptance ratio: 0.96199\n",
      "\n",
      "50 percent done.\n",
      "Metropolis acceptance ratio: 0.963193\n",
      "\n",
      "60 percent done.\n",
      "Metropolis acceptance ratio: 0.961827\n",
      "\n",
      "70 percent done.\n",
      "Metropolis acceptance ratio: 0.962852\n",
      "\n",
      "80 percent done.\n",
      "Metropolis acceptance ratio: 0.96137\n",
      "\n",
      "90 percent done.\n",
      "Metropolis acceptance ratio: 0.96144\n",
      "\n",
      "100 percent done.\n",
      "Metropolis acceptance ratio: 0.961596\n",
      "\n"
     ]
    }
   ],
   "source": [
    "alg_mcmc <- redist.mcmc(adjobj = algdat.pfull$adjlist, # adjacency list\n",
    "                        popvec = algdat.pfull$precinct.data$pop, \n",
    "                        ndists = 3,\n",
    "                        nsims = 10000,\n",
    "                        savename = \"redist.mcmc\")"
   ]
  },
  {
   "cell_type": "code",
   "execution_count": 25,
   "metadata": {},
   "outputs": [
    {
     "name": "stdout",
     "output_type": "stream",
     "text": [
      "\n",
      "==================== \n",
      "redist.mcmc(): Automated Redistricting Simulation Using\n",
      "         Markov Chain Monte Carlo\n",
      "\n",
      "Preprocessing data.\n",
      "\n",
      "10 percent done.\n",
      "Metropolis acceptance ratio: 0.970971\n",
      "\n",
      "20 percent done.\n",
      "Metropolis acceptance ratio: 0.968984\n",
      "\n",
      "30 percent done.\n",
      "Metropolis acceptance ratio: 0.967989\n",
      "\n",
      "40 percent done.\n",
      "Metropolis acceptance ratio: 0.964741\n",
      "\n",
      "50 percent done.\n",
      "Metropolis acceptance ratio: 0.966793\n",
      "\n",
      "60 percent done.\n",
      "Metropolis acceptance ratio: 0.967161\n",
      "\n",
      "70 percent done.\n",
      "Metropolis acceptance ratio: 0.966138\n",
      "\n",
      "80 percent done.\n",
      "Metropolis acceptance ratio: 0.964496\n",
      "\n",
      "90 percent done.\n",
      "Metropolis acceptance ratio: 0.964107\n",
      "\n",
      "100 percent done.\n",
      "Metropolis acceptance ratio: 0.963196\n",
      "\n"
     ]
    }
   ],
   "source": [
    "initcds <- algdat.pfull$cdmat[,1]\n",
    "alg_mcmc <- redist.mcmc(adjobj = algdat.pfull$adjlist,\n",
    "                        popvec = algdat.pfull$precinct.data$pop,\n",
    "                        initcds = initcds,\n",
    "                        nsims = 10000,\n",
    "                        savename = \"redist.mcmc\")"
   ]
  },
  {
   "cell_type": "code",
   "execution_count": 28,
   "metadata": {},
   "outputs": [
    {
     "data": {
      "text/html": [
       "'redist'"
      ],
      "text/latex": [
       "'redist'"
      ],
      "text/markdown": [
       "'redist'"
      ],
      "text/plain": [
       "[1] \"redist\""
      ]
     },
     "metadata": {},
     "output_type": "display_data"
    },
    {
     "data": {
      "text/html": [
       "<style>\n",
       ".list-inline {list-style: none; margin:0; padding: 0}\n",
       ".list-inline>li {display: inline-block}\n",
       ".list-inline>li:not(:last-child)::after {content: \"\\00b7\"; padding: 0 .5ex}\n",
       "</style>\n",
       "<ol class=list-inline><li>'partitions'</li><li>'distance_parity'</li><li>'distance_original'</li><li>'mhdecisions'</li><li>'mhprob'</li><li>'pparam'</li><li>'beta_sequence'</li><li>'energy_psi'</li><li>'constraint_pop'</li><li>'constraint_compact'</li><li>'constraint_segregation'</li><li>'constraint_similar'</li><li>'constraint_countysplit'</li><li>'boundary_partitions'</li><li>'boundaryratio'</li></ol>\n"
      ],
      "text/latex": [
       "\\begin{enumerate*}\n",
       "\\item 'partitions'\n",
       "\\item 'distance\\_parity'\n",
       "\\item 'distance\\_original'\n",
       "\\item 'mhdecisions'\n",
       "\\item 'mhprob'\n",
       "\\item 'pparam'\n",
       "\\item 'beta\\_sequence'\n",
       "\\item 'energy\\_psi'\n",
       "\\item 'constraint\\_pop'\n",
       "\\item 'constraint\\_compact'\n",
       "\\item 'constraint\\_segregation'\n",
       "\\item 'constraint\\_similar'\n",
       "\\item 'constraint\\_countysplit'\n",
       "\\item 'boundary\\_partitions'\n",
       "\\item 'boundaryratio'\n",
       "\\end{enumerate*}\n"
      ],
      "text/markdown": [
       "1. 'partitions'\n",
       "2. 'distance_parity'\n",
       "3. 'distance_original'\n",
       "4. 'mhdecisions'\n",
       "5. 'mhprob'\n",
       "6. 'pparam'\n",
       "7. 'beta_sequence'\n",
       "8. 'energy_psi'\n",
       "9. 'constraint_pop'\n",
       "10. 'constraint_compact'\n",
       "11. 'constraint_segregation'\n",
       "12. 'constraint_similar'\n",
       "13. 'constraint_countysplit'\n",
       "14. 'boundary_partitions'\n",
       "15. 'boundaryratio'\n",
       "\n",
       "\n"
      ],
      "text/plain": [
       " [1] \"partitions\"             \"distance_parity\"        \"distance_original\"     \n",
       " [4] \"mhdecisions\"            \"mhprob\"                 \"pparam\"                \n",
       " [7] \"beta_sequence\"          \"energy_psi\"             \"constraint_pop\"        \n",
       "[10] \"constraint_compact\"     \"constraint_segregation\" \"constraint_similar\"    \n",
       "[13] \"constraint_countysplit\" \"boundary_partitions\"    \"boundaryratio\"         "
      ]
     },
     "metadata": {},
     "output_type": "display_data"
    }
   ],
   "source": [
    "class(alg_mcmc)\n",
    "names(alg_mcmc)"
   ]
  },
  {
   "cell_type": "markdown",
   "metadata": {},
   "source": [
    "Using Multiple Chains"
   ]
  },
  {
   "cell_type": "code",
   "execution_count": 30,
   "metadata": {
    "scrolled": false
   },
   "outputs": [
    {
     "name": "stdout",
     "output_type": "stream",
     "text": [
      "\n",
      "==================== \n",
      "redist.mcmc(): Automated Redistricting Simulation Using\n",
      "         Markov Chain Monte Carlo\n",
      "\n",
      "Preprocessing data.\n",
      "\n",
      "\n",
      "==================== \n",
      "Using redist.rsg() to generate starting values.\n",
      "\n",
      "10 percent done.\n",
      "Metropolis acceptance ratio: 0.964965\n",
      "\n",
      "20 percent done.\n",
      "Metropolis acceptance ratio: 0.961981\n",
      "\n",
      "30 percent done.\n",
      "Metropolis acceptance ratio: 0.963988\n",
      "\n",
      "40 percent done.\n",
      "Metropolis acceptance ratio: 0.95974\n",
      "\n",
      "50 percent done.\n",
      "Metropolis acceptance ratio: 0.961392\n",
      "\n",
      "60 percent done.\n",
      "Metropolis acceptance ratio: 0.96066\n",
      "\n",
      "70 percent done.\n",
      "Metropolis acceptance ratio: 0.961566\n",
      "\n",
      "80 percent done.\n",
      "Metropolis acceptance ratio: 0.96087\n",
      "\n",
      "90 percent done.\n",
      "Metropolis acceptance ratio: 0.960662\n",
      "\n",
      "100 percent done.\n",
      "Metropolis acceptance ratio: 0.960596\n",
      "\n",
      "\n",
      "==================== \n",
      "redist.mcmc(): Automated Redistricting Simulation Using\n",
      "         Markov Chain Monte Carlo\n",
      "\n",
      "Preprocessing data.\n",
      "\n",
      "\n",
      "==================== \n",
      "Using redist.rsg() to generate starting values.\n",
      "\n",
      "10 percent done.\n",
      "Metropolis acceptance ratio: 0.955956\n",
      "\n",
      "20 percent done.\n",
      "Metropolis acceptance ratio: 0.96048\n",
      "\n",
      "30 percent done.\n",
      "Metropolis acceptance ratio: 0.962654\n",
      "\n",
      "40 percent done.\n",
      "Metropolis acceptance ratio: 0.96049\n",
      "\n",
      "50 percent done.\n",
      "Metropolis acceptance ratio: 0.962593\n",
      "\n",
      "60 percent done.\n",
      "Metropolis acceptance ratio: 0.962827\n",
      "\n",
      "70 percent done.\n",
      "Metropolis acceptance ratio: 0.963566\n",
      "\n",
      "80 percent done.\n",
      "Metropolis acceptance ratio: 0.964371\n",
      "\n",
      "90 percent done.\n",
      "Metropolis acceptance ratio: 0.963663\n",
      "\n",
      "100 percent done.\n",
      "Metropolis acceptance ratio: 0.963696\n",
      "\n",
      "\n",
      "==================== \n",
      "redist.mcmc(): Automated Redistricting Simulation Using\n",
      "         Markov Chain Monte Carlo\n",
      "\n",
      "Preprocessing data.\n",
      "\n",
      "\n",
      "==================== \n",
      "Using redist.rsg() to generate starting values.\n",
      "\n",
      "10 percent done.\n",
      "Metropolis acceptance ratio: 0.958959\n",
      "\n",
      "20 percent done.\n",
      "Metropolis acceptance ratio: 0.961481\n",
      "\n",
      "30 percent done.\n",
      "Metropolis acceptance ratio: 0.964321\n",
      "\n",
      "40 percent done.\n",
      "Metropolis acceptance ratio: 0.966992\n",
      "\n",
      "50 percent done.\n",
      "Metropolis acceptance ratio: 0.967193\n",
      "\n",
      "60 percent done.\n",
      "Metropolis acceptance ratio: 0.966994\n",
      "\n",
      "70 percent done.\n",
      "Metropolis acceptance ratio: 0.966995\n",
      "\n",
      "80 percent done.\n",
      "Metropolis acceptance ratio: 0.966371\n",
      "\n",
      "90 percent done.\n",
      "Metropolis acceptance ratio: 0.965996\n",
      "\n",
      "100 percent done.\n",
      "Metropolis acceptance ratio: 0.965597\n",
      "\n",
      "\n",
      "==================== \n",
      "redist.mcmc(): Automated Redistricting Simulation Using\n",
      "         Markov Chain Monte Carlo\n",
      "\n",
      "Preprocessing data.\n",
      "\n",
      "\n",
      "==================== \n",
      "Using redist.rsg() to generate starting values.\n",
      "\n",
      "10 percent done.\n",
      "Metropolis acceptance ratio: 0.968969\n",
      "\n",
      "20 percent done.\n",
      "Metropolis acceptance ratio: 0.965483\n",
      "\n",
      "30 percent done.\n",
      "Metropolis acceptance ratio: 0.964655\n",
      "\n",
      "40 percent done.\n",
      "Metropolis acceptance ratio: 0.963491\n",
      "\n",
      "50 percent done.\n",
      "Metropolis acceptance ratio: 0.963993\n",
      "\n",
      "60 percent done.\n",
      "Metropolis acceptance ratio: 0.962494\n",
      "\n",
      "70 percent done.\n",
      "Metropolis acceptance ratio: 0.96328\n",
      "\n",
      "80 percent done.\n",
      "Metropolis acceptance ratio: 0.96387\n",
      "\n",
      "90 percent done.\n",
      "Metropolis acceptance ratio: 0.964218\n",
      "\n",
      "100 percent done.\n",
      "Metropolis acceptance ratio: 0.964896\n",
      "\n"
     ]
    }
   ],
   "source": [
    "RNGkind(kind = \"L'Ecuyer-CMRG\")\n",
    "set.seed(1)\n",
    "nchains <- 4\n",
    "nsims <- 10000\n",
    "mcmc_chains <- lapply(1:nchains, function(x){\n",
    "          redist.mcmc(adjobj = algdat.pfull$adjlist, \n",
    "                      popvec = algdat.pfull$precinct.data$pop, \n",
    "                      nsims = nsims,\n",
    "                      ndists = 3)\n",
    "})"
   ]
  },
  {
   "cell_type": "code",
   "execution_count": 33,
   "metadata": {},
   "outputs": [],
   "source": [
    "seg <- redist.segcalc(algout = alg_mcmc, \n",
    "                      grouppop = algdat.pfull$precinct.data$blackpop,\n",
    "                      fullpop = algdat.pfull$precinct.data$pop)\n"
   ]
  },
  {
   "cell_type": "markdown",
   "metadata": {},
   "source": [
    "Diagnostic Plots"
   ]
  },
  {
   "cell_type": "code",
   "execution_count": 34,
   "metadata": {},
   "outputs": [
    {
     "data": {
      "image/png": "[encoded data removed]",
      "text/plain": [
       "plot without title"
      ]
     },
     "metadata": {
      "image/png": {
       "height": 420,
       "width": 420
      }
     },
     "output_type": "display_data"
    }
   ],
   "source": [
    "# Trace Plot\n",
    "redist.diagplot(seg, plot = \"trace\")"
   ]
  },
  {
   "cell_type": "code",
   "execution_count": 35,
   "metadata": {},
   "outputs": [
    {
     "data": {
      "image/png": "[encoded data removed]",
      "text/plain": [
       "Plot with title \"\""
      ]
     },
     "metadata": {
      "image/png": {
       "height": 420,
       "width": 420
      }
     },
     "output_type": "display_data"
    }
   ],
   "source": [
    "# Autocorrelation Plot\n",
    "redist.diagplot(seg, plot = \"autocorr\")"
   ]
  },
  {
   "cell_type": "code",
   "execution_count": 36,
   "metadata": {},
   "outputs": [
    {
     "data": {
      "image/png": "[encoded data removed]",
      "text/plain": [
       "Plot with title \"\""
      ]
     },
     "metadata": {
      "image/png": {
       "height": 420,
       "width": 420
      }
     },
     "output_type": "display_data"
    }
   ],
   "source": [
    "# Density Plot\n",
    "redist.diagplot(seg, plot = \"densplot\")"
   ]
  },
  {
   "cell_type": "code",
   "execution_count": 37,
   "metadata": {},
   "outputs": [
    {
     "data": {
      "image/png": "[encoded data removed]",
      "text/plain": [
       "Plot with title \"\""
      ]
     },
     "metadata": {
      "image/png": {
       "height": 420,
       "width": 420
      }
     },
     "output_type": "display_data"
    }
   ],
   "source": [
    "# Mean plot\n",
    "redist.diagplot(seg, plot = \"mean\")"
   ]
  }
 ],
 "metadata": {
  "kernelspec": {
   "display_name": "R",
   "language": "R",
   "name": "ir"
  },
  "language_info": {
   "codemirror_mode": "r",
   "file_extension": ".r",
   "mimetype": "text/x-r-source",
   "name": "R",
   "pygments_lexer": "r",
   "version": "4.0.3"
  }
 },
 "nbformat": 4,
 "nbformat_minor": 4
}
