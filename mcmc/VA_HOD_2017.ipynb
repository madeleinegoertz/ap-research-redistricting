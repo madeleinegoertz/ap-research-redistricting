version https://git-lfs.github.com/spec/v1
oid sha256:b5617e35fd2b7675d66e029ee8077adcb1a76d2f5687e853faa2ee9ee0a6a371
size 346880
