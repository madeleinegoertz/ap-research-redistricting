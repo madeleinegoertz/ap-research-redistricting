version https://git-lfs.github.com/spec/v1
oid sha256:70fc422c8f6de408c81d7bad61bef2001fc5d06a852f0517b56b5964e52b0a18
size 105998
