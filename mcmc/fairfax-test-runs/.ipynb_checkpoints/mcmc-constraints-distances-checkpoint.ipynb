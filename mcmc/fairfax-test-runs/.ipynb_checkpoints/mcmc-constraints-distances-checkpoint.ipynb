{
 "cells": [
  {
   "cell_type": "code",
   "execution_count": 1,
   "metadata": {},
   "outputs": [
    {
     "name": "stderr",
     "output_type": "stream",
     "text": [
      "Linking to GEOS 3.8.0, GDAL 3.0.4, PROJ 6.3.1\n",
      "\n",
      "-- \u001b[1mAttaching packages\u001b[22m ------------------------------------------------------------------------------- tidyverse 1.3.0 --\n",
      "\n",
      "\u001b[32mv\u001b[39m \u001b[34mtibble \u001b[39m 3.0.4     \u001b[32mv\u001b[39m \u001b[34mdplyr  \u001b[39m 1.0.2\n",
      "\u001b[32mv\u001b[39m \u001b[34mtidyr  \u001b[39m 1.1.2     \u001b[32mv\u001b[39m \u001b[34mstringr\u001b[39m 1.4.0\n",
      "\u001b[32mv\u001b[39m \u001b[34mreadr  \u001b[39m 1.4.0     \u001b[32mv\u001b[39m \u001b[34mforcats\u001b[39m 0.5.0\n",
      "\u001b[32mv\u001b[39m \u001b[34mpurrr  \u001b[39m 0.3.4     \n",
      "\n",
      "-- \u001b[1mConflicts\u001b[22m ---------------------------------------------------------------------------------- tidyverse_conflicts() --\n",
      "\u001b[31mx\u001b[39m \u001b[34mdplyr\u001b[39m::\u001b[32mfilter()\u001b[39m masks \u001b[34mstats\u001b[39m::filter()\n",
      "\u001b[31mx\u001b[39m \u001b[34mdplyr\u001b[39m::\u001b[32mlag()\u001b[39m    masks \u001b[34mstats\u001b[39m::lag()\n",
      "\n",
      "\n",
      "Attaching package: 'magrittr'\n",
      "\n",
      "\n",
      "The following object is masked from 'package:purrr':\n",
      "\n",
      "    set_names\n",
      "\n",
      "\n",
      "The following object is masked from 'package:tidyr':\n",
      "\n",
      "    extract\n",
      "\n",
      "\n",
      "\n",
      "Attaching package: 'igraph'\n",
      "\n",
      "\n",
      "The following objects are masked from 'package:dplyr':\n",
      "\n",
      "    as_data_frame, groups, union\n",
      "\n",
      "\n",
      "The following objects are masked from 'package:purrr':\n",
      "\n",
      "    compose, simplify\n",
      "\n",
      "\n",
      "The following object is masked from 'package:tidyr':\n",
      "\n",
      "    crossing\n",
      "\n",
      "\n",
      "The following object is masked from 'package:tibble':\n",
      "\n",
      "    as_data_frame\n",
      "\n",
      "\n",
      "The following objects are masked from 'package:stats':\n",
      "\n",
      "    decompose, spectrum\n",
      "\n",
      "\n",
      "The following object is masked from 'package:base':\n",
      "\n",
      "    union\n",
      "\n",
      "\n"
     ]
    },
    {
     "name": "stdout",
     "output_type": "stream",
     "text": [
      "Reading layer `VA_precinct_2015_fairfax' from data source `C:\\Users\\madie\\OneDrive\\data\\pre-redist\\VA_precinct_2015_fairfax\\VA_precinct_2015_fairfax.shp' using driver `ESRI Shapefile'\n",
      "Simple feature collection with 253 features and 14 fields\n",
      "geometry type:  POLYGON\n",
      "dimension:      XYZ\n",
      "bbox:           xmin: 11757190 ymin: 6905741 xmax: 11899000 ymax: 7070364\n",
      "z_range:        zmin: 0 zmax: 0\n",
      "projected CRS:  NAD83 / Virginia North (ftUS)\n"
     ]
    }
   ],
   "source": [
    "library(sf)\n",
    "library(ggplot2)\n",
    "library(tidyverse)\n",
    "library(tibble)\n",
    "library(magrittr)\n",
    "library(redist)\n",
    "library(sp)\n",
    "library(spData)\n",
    "library(spdep)\n",
    "library(igraph)\n",
    "\n",
    "ff_2015_file <- \"C:/Users/madie/OneDrive/data/pre-redist/VA_precinct_2015_fairfax/VA_precinct_2015_fairfax.shp\"\n",
    "df <- st_read(ff_2015_file)"
   ]
  },
  {
   "cell_type": "code",
   "execution_count": 2,
   "metadata": {},
   "outputs": [],
   "source": [
    "# generate adjacency list\n",
    "adjlist <- redist.adjacency(df)"
   ]
  },
  {
   "cell_type": "code",
   "execution_count": 3,
   "metadata": {},
   "outputs": [],
   "source": [
    "# generate 10 random colors that are distinct so that the different districts are distinguishable. \n",
    "library(randomcoloR)\n",
    "colors <- distinctColorPalette(k=10)"
   ]
  },
  {
   "cell_type": "code",
   "execution_count": 4,
   "metadata": {},
   "outputs": [],
   "source": [
    "# trying to figure out how to calculate that dang distancemat\n",
    "centroid <- st_centroid(df$geometry)\n",
    "distancemat <- st_distance(centroid, centroid)"
   ]
  },
  {
   "cell_type": "code",
   "execution_count": 5,
   "metadata": {},
   "outputs": [
    {
     "name": "stdout",
     "output_type": "stream",
     "text": [
      "\n",
      "==================== \n",
      "redist.mcmc(): Automated Redistricting Simulation Using\n",
      "         Markov Chain Monte Carlo\n",
      "\n",
      "Preprocessing data.\n",
      "\n",
      "\n",
      "==================== \n",
      "Using redist.rsg() to generate starting values.\n",
      "\n",
      "10 percent done.\n",
      "Metropolis acceptance ratio: 0.961962\n",
      "\n",
      "20 percent done.\n",
      "Metropolis acceptance ratio: 0.962981\n",
      "\n",
      "30 percent done.\n",
      "Metropolis acceptance ratio: 0.96132\n",
      "\n",
      "40 percent done.\n",
      "Metropolis acceptance ratio: 0.95999\n",
      "\n",
      "50 percent done.\n",
      "Metropolis acceptance ratio: 0.960992\n",
      "\n",
      "60 percent done.\n",
      "Metropolis acceptance ratio: 0.96066\n",
      "\n",
      "70 percent done.\n",
      "Metropolis acceptance ratio: 0.96028\n",
      "\n",
      "80 percent done.\n",
      "Metropolis acceptance ratio: 0.959745\n",
      "\n",
      "90 percent done.\n",
      "Metropolis acceptance ratio: 0.960996\n",
      "\n",
      "100 percent done.\n",
      "Metropolis acceptance ratio: 0.959296\n",
      "\n"
     ]
    }
   ],
   "source": [
    "## ----------------------------------------------------------\n",
    "## Constrain on population and compactness with tempering,\n",
    "## weight on population = 5.4 while weight on compactness = 3\n",
    "## Also specifying argument for ssdmat, the distance matrix\n",
    "## ----------------------------------------------------------\n",
    "betaweights <- rep(NA, 10); for(i in 1:10){betaweights[i] <- 2^i}\n",
    "mcmc.out.st.multiple <- redist.mcmc(adjobj = adjlist,\n",
    "                                    popvec = df$pop,\n",
    "                                    ndists = 10,\n",
    "                                    nsims = 10000,\n",
    "                                    constraint = c(\"population\", \"compact\"),\n",
    "                                    constraintweights = c(1, 2),\n",
    "                                    ssdmat = distancemat,\n",
    "                                    temper = TRUE)\n"
   ]
  },
  {
   "cell_type": "code",
   "execution_count": 8,
   "metadata": {},
   "outputs": [
    {
     "ename": "ERROR",
     "evalue": "Error in sample.int(length(x), size, replace, prob): too few positive probabilities\n",
     "output_type": "error",
     "traceback": [
      "Error in sample.int(length(x), size, replace, prob): too few positive probabilities\nTraceback:\n",
      "1. redist.ipw(mcmc.out.st.multiple)",
      "2. sample(inds, length(inds), replace = TRUE, prob = weights)",
      "3. sample.int(length(x), size, replace, prob)"
     ]
    }
   ],
   "source": [
    "mcmc.out.st <- redist.ipw(mcmc.out.st.multiple)"
   ]
  },
  {
   "cell_type": "code",
   "execution_count": 13,
   "metadata": {},
   "outputs": [
    {
     "data": {
      "image/png": "[encoded data removed]",
      "text/plain": [
       "plot without title"
      ]
     },
     "metadata": {
      "image/png": {
       "height": 420,
       "width": 420
      }
     },
     "output_type": "display_data"
    }
   ],
   "source": [
    "cds <- mcmc.out.st.multiple$partitions[,253]\n",
    "plot_4 <- redist.map(shp=df, \n",
    "        district_membership=cds, \n",
    "        centroids=FALSE, \n",
    "        edges=FALSE,\n",
    "        title=\"10 Districts in Fairfax County: 2015 20% pop and compactness\") +\n",
    "        theme(legend.position=\"right\") +\n",
    "        scale_fill_manual(values = colors)\n",
    "        # geom_sf_label(aes(label = cds))\n",
    "#ggsave(\"fairfax_10.png\")\n",
    "plot_4"
   ]
  },
  {
   "cell_type": "code",
   "execution_count": 11,
   "metadata": {},
   "outputs": [
    {
     "data": {
      "text/html": [
       "253"
      ],
      "text/latex": [
       "253"
      ],
      "text/markdown": [
       "253"
      ],
      "text/plain": [
       "[1] 253"
      ]
     },
     "metadata": {},
     "output_type": "display_data"
    }
   ],
   "source": [
    "length(mcmc.out.st.multiple$partitions[,1])"
   ]
  },
  {
   "cell_type": "code",
   "execution_count": 14,
   "metadata": {},
   "outputs": [],
   "source": [
    "RNGkind(kind = \"L'Ecuyer-CMRG\")\n",
    "set.seed(1)\n",
    "nchains <- 4\n",
    "nsims <- 10000\n"
   ]
  },
  {
   "cell_type": "code",
   "execution_count": 15,
   "metadata": {},
   "outputs": [
    {
     "name": "stdout",
     "output_type": "stream",
     "text": [
      "\n",
      "==================== \n",
      "redist.mcmc(): Automated Redistricting Simulation Using\n",
      "         Markov Chain Monte Carlo\n",
      "\n",
      "Preprocessing data.\n",
      "\n",
      "\n",
      "==================== \n",
      "Using redist.rsg() to generate starting values.\n",
      "\n",
      "10 percent done.\n",
      "Metropolis acceptance ratio: 0.943944\n",
      "\n",
      "20 percent done.\n",
      "Metropolis acceptance ratio: 0.953477\n",
      "\n",
      "30 percent done.\n",
      "Metropolis acceptance ratio: 0.956986\n",
      "\n",
      "40 percent done.\n",
      "Metropolis acceptance ratio: 0.95849\n",
      "\n",
      "50 percent done.\n",
      "Metropolis acceptance ratio: 0.956191\n",
      "\n",
      "60 percent done.\n",
      "Metropolis acceptance ratio: 0.956159\n",
      "\n",
      "70 percent done.\n",
      "Metropolis acceptance ratio: 0.957137\n",
      "\n",
      "80 percent done.\n",
      "Metropolis acceptance ratio: 0.958245\n",
      "\n",
      "90 percent done.\n",
      "Metropolis acceptance ratio: 0.957217\n",
      "\n",
      "100 percent done.\n",
      "Metropolis acceptance ratio: 0.957396\n",
      "\n",
      "\n",
      "==================== \n",
      "redist.mcmc(): Automated Redistricting Simulation Using\n",
      "         Markov Chain Monte Carlo\n",
      "\n",
      "Preprocessing data.\n",
      "\n",
      "\n",
      "==================== \n",
      "Using redist.rsg() to generate starting values.\n",
      "\n",
      "10 percent done.\n",
      "Metropolis acceptance ratio: 0.973974\n",
      "\n",
      "20 percent done.\n",
      "Metropolis acceptance ratio: 0.95998\n",
      "\n",
      "30 percent done.\n",
      "Metropolis acceptance ratio: 0.958319\n",
      "\n",
      "40 percent done.\n",
      "Metropolis acceptance ratio: 0.957489\n",
      "\n",
      "50 percent done.\n",
      "Metropolis acceptance ratio: 0.958992\n",
      "\n",
      "60 percent done.\n",
      "Metropolis acceptance ratio: 0.958826\n",
      "\n",
      "70 percent done.\n",
      "Metropolis acceptance ratio: 0.957422\n",
      "\n",
      "80 percent done.\n",
      "Metropolis acceptance ratio: 0.95712\n",
      "\n",
      "90 percent done.\n",
      "Metropolis acceptance ratio: 0.957773\n",
      "\n",
      "100 percent done.\n",
      "Metropolis acceptance ratio: 0.957896\n",
      "\n",
      "\n",
      "==================== \n",
      "redist.mcmc(): Automated Redistricting Simulation Using\n",
      "         Markov Chain Monte Carlo\n",
      "\n",
      "Preprocessing data.\n",
      "\n",
      "\n",
      "==================== \n",
      "Using redist.rsg() to generate starting values.\n",
      "\n",
      "10 percent done.\n",
      "Metropolis acceptance ratio: 0.957958\n",
      "\n",
      "20 percent done.\n",
      "Metropolis acceptance ratio: 0.962481\n",
      "\n",
      "30 percent done.\n",
      "Metropolis acceptance ratio: 0.958653\n",
      "\n",
      "40 percent done.\n",
      "Metropolis acceptance ratio: 0.957989\n",
      "\n",
      "50 percent done.\n",
      "Metropolis acceptance ratio: 0.957592\n",
      "\n",
      "60 percent done.\n",
      "Metropolis acceptance ratio: 0.957826\n",
      "\n",
      "70 percent done.\n",
      "Metropolis acceptance ratio: 0.956851\n",
      "\n",
      "80 percent done.\n",
      "Metropolis acceptance ratio: 0.957745\n",
      "\n",
      "90 percent done.\n",
      "Metropolis acceptance ratio: 0.95644\n",
      "\n",
      "100 percent done.\n",
      "Metropolis acceptance ratio: 0.956596\n",
      "\n",
      "\n",
      "==================== \n",
      "redist.mcmc(): Automated Redistricting Simulation Using\n",
      "         Markov Chain Monte Carlo\n",
      "\n",
      "Preprocessing data.\n",
      "\n",
      "\n",
      "==================== \n",
      "Using redist.rsg() to generate starting values.\n",
      "\n",
      "10 percent done.\n",
      "Metropolis acceptance ratio: 0.95996\n",
      "\n",
      "20 percent done.\n",
      "Metropolis acceptance ratio: 0.954977\n",
      "\n",
      "30 percent done.\n",
      "Metropolis acceptance ratio: 0.954985\n",
      "\n",
      "40 percent done.\n",
      "Metropolis acceptance ratio: 0.956489\n",
      "\n",
      "50 percent done.\n",
      "Metropolis acceptance ratio: 0.955791\n",
      "\n",
      "60 percent done.\n",
      "Metropolis acceptance ratio: 0.955826\n",
      "\n",
      "70 percent done.\n",
      "Metropolis acceptance ratio: 0.955136\n",
      "\n",
      "80 percent done.\n",
      "Metropolis acceptance ratio: 0.954744\n",
      "\n",
      "90 percent done.\n",
      "Metropolis acceptance ratio: 0.955328\n",
      "\n",
      "100 percent done.\n",
      "Metropolis acceptance ratio: 0.955596\n",
      "\n"
     ]
    }
   ],
   "source": [
    "mcmc_chains <- lapply(1:nchains, function(x){\n",
    "          redist.mcmc(adjobj = adjlist, \n",
    "                      popvec = df$pop, \n",
    "                      nsims = nsims,\n",
    "                      ndists = 10)\n",
    "})"
   ]
  },
  {
   "cell_type": "code",
   "execution_count": 17,
   "metadata": {},
   "outputs": [
    {
     "name": "stderr",
     "output_type": "stream",
     "text": [
      "Warning message in max(x$cdvec[, 1]):\n",
      "\"no non-missing arguments to max; returning -Inf\"\n",
      "ERROR while rich displaying an object: Error in if (x$pct_dist_parity < 1) cat(\" and a \", 100 * x$pct_dist_parity, : argument is of length zero\n",
      "\n",
      "Traceback:\n",
      "1. FUN(X[[i]], ...)\n",
      "2. tryCatch(withCallingHandlers({\n",
      " .     if (!mime %in% names(repr::mime2repr)) \n",
      " .         stop(\"No repr_* for mimetype \", mime, \" in repr::mime2repr\")\n",
      " .     rpr <- repr::mime2repr[[mime]](obj)\n",
      " .     if (is.null(rpr)) \n",
      " .         return(NULL)\n",
      " .     prepare_content(is.raw(rpr), rpr)\n",
      " . }, error = error_handler), error = outer_handler)\n",
      "3. tryCatchList(expr, classes, parentenv, handlers)\n",
      "4. tryCatchOne(expr, names, parentenv, handlers[[1L]])\n",
      "5. doTryCatch(return(expr), name, parentenv, handler)\n",
      "6. withCallingHandlers({\n",
      " .     if (!mime %in% names(repr::mime2repr)) \n",
      " .         stop(\"No repr_* for mimetype \", mime, \" in repr::mime2repr\")\n",
      " .     rpr <- repr::mime2repr[[mime]](obj)\n",
      " .     if (is.null(rpr)) \n",
      " .         return(NULL)\n",
      " .     prepare_content(is.raw(rpr), rpr)\n",
      " . }, error = error_handler)\n",
      "7. repr::mime2repr[[mime]](obj)\n",
      "8. repr_text.default(obj)\n",
      "9. paste(capture.output(print(obj)), collapse = \"\\n\")\n",
      "10. capture.output(print(obj))\n",
      "11. evalVis(expr)\n",
      "12. withVisible(eval(expr, pf))\n",
      "13. eval(expr, pf)\n",
      "14. eval(expr, pf)\n",
      "15. print(obj)\n",
      "16. print.default(obj)\n",
      "17. (function (x, ...) \n",
      "  . UseMethod(\"print\"))(x)\n",
      "18. print.redist(x)\n"
     ]
    }
   ],
   "source": [
    "mcmc_chains"
   ]
  },
  {
   "cell_type": "code",
   "execution_count": null,
   "metadata": {},
   "outputs": [],
   "source": []
  }
 ],
 "metadata": {
  "kernelspec": {
   "display_name": "R",
   "language": "R",
   "name": "ir"
  },
  "language_info": {
   "codemirror_mode": "r",
   "file_extension": ".r",
   "mimetype": "text/x-r-source",
   "name": "R",
   "pygments_lexer": "r",
   "version": "4.0.3"
  }
 },
 "nbformat": 4,
 "nbformat_minor": 4
}
