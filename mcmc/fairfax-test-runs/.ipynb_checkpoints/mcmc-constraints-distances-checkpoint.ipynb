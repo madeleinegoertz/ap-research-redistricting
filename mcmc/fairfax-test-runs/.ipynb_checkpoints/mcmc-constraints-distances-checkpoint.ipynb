{
 "cells": [
  {
   "cell_type": "code",
   "execution_count": 1,
   "metadata": {},
   "outputs": [
    {
     "name": "stderr",
     "output_type": "stream",
     "text": [
      "Linking to GEOS 3.8.0, GDAL 3.0.4, PROJ 6.3.1\n",
      "\n",
      "-- \u001b[1mAttaching packages\u001b[22m ------------------------------------------------------------------------------- tidyverse 1.3.0 --\n",
      "\n",
      "\u001b[32mv\u001b[39m \u001b[34mtibble \u001b[39m 3.1.0     \u001b[32mv\u001b[39m \u001b[34mdplyr  \u001b[39m 1.0.4\n",
      "\u001b[32mv\u001b[39m \u001b[34mtidyr  \u001b[39m 1.1.2     \u001b[32mv\u001b[39m \u001b[34mstringr\u001b[39m 1.4.0\n",
      "\u001b[32mv\u001b[39m \u001b[34mreadr  \u001b[39m 1.4.0     \u001b[32mv\u001b[39m \u001b[34mforcats\u001b[39m 0.5.1\n",
      "\u001b[32mv\u001b[39m \u001b[34mpurrr  \u001b[39m 0.3.4     \n",
      "\n",
      "-- \u001b[1mConflicts\u001b[22m ---------------------------------------------------------------------------------- tidyverse_conflicts() --\n",
      "\u001b[31mx\u001b[39m \u001b[34mdplyr\u001b[39m::\u001b[32mfilter()\u001b[39m masks \u001b[34mstats\u001b[39m::filter()\n",
      "\u001b[31mx\u001b[39m \u001b[34mdplyr\u001b[39m::\u001b[32mlag()\u001b[39m    masks \u001b[34mstats\u001b[39m::lag()\n",
      "\n",
      "\n",
      "Attaching package: 'magrittr'\n",
      "\n",
      "\n",
      "The following object is masked from 'package:purrr':\n",
      "\n",
      "    set_names\n",
      "\n",
      "\n",
      "The following object is masked from 'package:tidyr':\n",
      "\n",
      "    extract\n",
      "\n",
      "\n",
      "To access larger datasets in this package, install the spDataLarge\n",
      "package with: `install.packages('spDataLarge',\n",
      "repos='https://nowosad.github.io/drat/', type='source')`\n",
      "\n",
      "\n",
      "Attaching package: 'igraph'\n",
      "\n",
      "\n",
      "The following objects are masked from 'package:dplyr':\n",
      "\n",
      "    as_data_frame, groups, union\n",
      "\n",
      "\n",
      "The following objects are masked from 'package:purrr':\n",
      "\n",
      "    compose, simplify\n",
      "\n",
      "\n",
      "The following object is masked from 'package:tidyr':\n",
      "\n",
      "    crossing\n",
      "\n",
      "\n",
      "The following object is masked from 'package:tibble':\n",
      "\n",
      "    as_data_frame\n",
      "\n",
      "\n",
      "The following objects are masked from 'package:stats':\n",
      "\n",
      "    decompose, spectrum\n",
      "\n",
      "\n",
      "The following object is masked from 'package:base':\n",
      "\n",
      "    union\n",
      "\n",
      "\n"
     ]
    },
    {
     "name": "stdout",
     "output_type": "stream",
     "text": [
      "Reading layer `VA_precinct_2015' from data source `C:\\Users\\madie\\OneDrive\\data\\pre-redist\\VA_precinct_2015\\VA_precinct_2015.shp' using driver `ESRI Shapefile'\n",
      "Simple feature collection with 2577 features and 14 fields\n",
      "geometry type:  MULTIPOLYGON\n",
      "dimension:      XYZ\n",
      "bbox:           xmin: 9963623 ymin: 6151696 xmax: 12442960 ymax: 7217011\n",
      "z_range:        zmin: 0 zmax: 0\n",
      "projected CRS:  NAD83 / Virginia North (ftUS)\n"
     ]
    }
   ],
   "source": [
    "library(sf)\n",
    "library(ggplot2)\n",
    "library(tidyverse)\n",
    "library(tibble)\n",
    "library(magrittr)\n",
    "library(redist)\n",
    "library(sp)\n",
    "library(spData)\n",
    "library(spdep)\n",
    "library(igraph)\n",
    "\n",
    "va_2015_file <- \"C:/Users/madie/OneDrive/data/pre-redist/VA_precinct_2015/VA_precinct_2015.shp\"\n",
    "df <- st_read(va_2015_file)"
   ]
  },
  {
   "cell_type": "code",
   "execution_count": 2,
   "metadata": {},
   "outputs": [],
   "source": [
    "# generate adjacency list\n",
    "adjlist <- redist.adjacency(df)"
   ]
  },
  {
   "cell_type": "code",
   "execution_count": 3,
   "metadata": {},
   "outputs": [],
   "source": [
    "# generate 1\\10 random colors that are distinct so that the different districts are distinguishable. \n",
    "library(randomcoloR)\n",
    "colors <- distinctColorPalette(k=11)"
   ]
  },
  {
   "cell_type": "code",
   "execution_count": 4,
   "metadata": {},
   "outputs": [],
   "source": [
    "# trying to figure out how to calculate that dang distancemat\n",
    "centroid <- st_centroid(df$geometry)\n",
    "distancemat <- st_distance(centroid, centroid)"
   ]
  },
  {
   "cell_type": "code",
   "execution_count": 19,
   "metadata": {
    "scrolled": true
   },
   "outputs": [
    {
     "name": "stdout",
     "output_type": "stream",
     "text": [
      "\n",
      "==================== \n",
      "redist.mcmc(): Automated Redistricting Simulation Using\n",
      "         Markov Chain Monte Carlo\n",
      "\n",
      "Preprocessing data.\n",
      "\n",
      "\n",
      "==================== \n",
      "Using redist.rsg() to generate starting values.\n",
      "\n",
      "10 percent done.\n",
      "Metropolis acceptance ratio: 0.96997\n",
      "\n",
      "20 percent done.\n",
      "Metropolis acceptance ratio: 0.96048\n",
      "\n",
      "30 percent done.\n",
      "Metropolis acceptance ratio: 0.955985\n",
      "\n",
      "40 percent done.\n",
      "Metropolis acceptance ratio: 0.957239\n",
      "\n",
      "50 percent done.\n",
      "Metropolis acceptance ratio: 0.956591\n",
      "\n",
      "60 percent done.\n",
      "Metropolis acceptance ratio: 0.956326\n",
      "\n",
      "70 percent done.\n",
      "Metropolis acceptance ratio: 0.955136\n",
      "\n",
      "80 percent done.\n",
      "Metropolis acceptance ratio: 0.955869\n",
      "\n",
      "90 percent done.\n",
      "Metropolis acceptance ratio: 0.955551\n",
      "\n",
      "100 percent done.\n",
      "Metropolis acceptance ratio: 0.955096\n",
      "\n",
      "Time difference of 27.33694 mins\n"
     ]
    }
   ],
   "source": [
    "# running to generate congressional districts\n",
    "#betaweights <- rep(NA, 10); for(i in 1:10){betaweights[i] <- 2^i}\n",
    "start.time <- Sys.time()\n",
    "mcmc.out.st <- redist.mcmc(adjobj = adjlist,\n",
    "                           popvec = df$pop,\n",
    "                           ndists = 11,\n",
    "                           nsims = 10000,\n",
    "                           maxiterrsg = 1e8,\n",
    "                           savename = \"mcmc_out_st\")\n",
    "#mcmc.out.st <- redist.ipw(mcmc.out.st targetpop = .2)\n",
    "end.time <- Sys.time()\n",
    "print(end.time - start.time)"
   ]
  },
  {
   "cell_type": "code",
   "execution_count": 21,
   "metadata": {},
   "outputs": [],
   "source": [
    "save(mcmc.out.st, file = \"mcmc_va.RData\")"
   ]
  },
  {
   "cell_type": "code",
   "execution_count": 12,
   "metadata": {},
   "outputs": [
    {
     "data": {
      "image/png": "[encoded data removed]",
      "text/plain": [
       "plot without title"
      ]
     },
     "metadata": {
      "image/png": {
       "height": 420,
       "width": 420
      }
     },
     "output_type": "display_data"
    }
   ],
   "source": [
    "cds <- mcmc.out.st$partitions[,250]\n",
    "plot <- redist.map(shp=df, \n",
    "        district_membership=cds, \n",
    "        centroids=FALSE, \n",
    "        edges=FALSE,\n",
    "        title=\"VA 11 Congressional Districts: 20% pop and compact, MCMC\") +\n",
    "        theme(legend.position=\"right\") +\n",
    "        scale_fill_manual(values = colors)\n",
    "        # geom_sf_label(aes(label = cds))\n",
    "#ggsave(\"fairfax_10.png\")\n",
    "plot"
   ]
  },
  {
   "cell_type": "code",
   "execution_count": 18,
   "metadata": {},
   "outputs": [
    {
     "name": "stderr",
     "output_type": "stream",
     "text": [
      "Warning message in max(x$cdvec[, 1]):\n",
      "\"no non-missing arguments to max; returning -Inf\"\n"
     ]
    },
    {
     "name": "stdout",
     "output_type": "stream",
     "text": [
      " sampled plans with -Inf districts from a 0-unit map, drawn\n",
      " using "
     ]
    },
    {
     "ename": "ERROR",
     "evalue": "Error in if (x$pct_dist_parity < 1) cat(\" and a \", 100 * x$pct_dist_parity, : argument is of length zero\n",
     "output_type": "error",
     "traceback": [
      "Error in if (x$pct_dist_parity < 1) cat(\" and a \", 100 * x$pct_dist_parity, : argument is of length zero\nTraceback:\n",
      "1. print(mcmc.out.st)",
      "2. print.redist(mcmc.out.st)"
     ]
    }
   ],
   "source": [
    "print(mcmc.out.st)"
   ]
  },
  {
   "cell_type": "code",
   "execution_count": null,
   "metadata": {},
   "outputs": [],
   "source": [
    "getwd()"
   ]
  },
  {
   "cell_type": "code",
   "execution_count": null,
   "metadata": {},
   "outputs": [],
   "source": [
    "library(pscl)\n",
    "# compute the percent of votes won by democrats in each district under DVS\n",
    "plot_sv <- redist.metrics(cds, measure = c(\"DSeats\", \"DVS\"), df$repvote, dvote = df$demvote) %>% \n",
    "           # extract DVS into vector\n",
    "           pull(DVS) %>%\n",
    "           # calculate seats-votes curve using uniform partisan swing\n",
    "           seatsVotes(desc=\"Democratic Vote Shares, VA Congress 2015 11 districts MCMC\") %>%\n",
    "           # plot the seats-votes curve\n",
    "           plot(type=\"seatsVotes\")"
   ]
  },
  {
   "cell_type": "code",
   "execution_count": 7,
   "metadata": {},
   "outputs": [
    {
     "ename": "ERROR",
     "evalue": "Error in sample.int(length(x), size, replace, prob): NA in probability vector\n",
     "output_type": "error",
     "traceback": [
      "Error in sample.int(length(x), size, replace, prob): NA in probability vector\nTraceback:\n",
      "1. redist.ipw(mcmc.out.st, targetpop = 0.2)",
      "2. sample(inds, length(inds), replace = TRUE, prob = weights)",
      "3. sample.int(length(x), size, replace, prob)"
     ]
    }
   ],
   "source": [
    "mcmc.out.st <- redist.ipw(mcmc.out.st, targetpop = 0.2)"
   ]
  },
  {
   "cell_type": "code",
   "execution_count": null,
   "metadata": {},
   "outputs": [],
   "source": []
  },
  {
   "cell_type": "code",
   "execution_count": null,
   "metadata": {},
   "outputs": [],
   "source": []
  }
 ],
 "metadata": {
  "kernelspec": {
   "display_name": "R",
   "language": "R",
   "name": "ir"
  },
  "language_info": {
   "codemirror_mode": "r",
   "file_extension": ".r",
   "mimetype": "text/x-r-source",
   "name": "R",
   "pygments_lexer": "r",
   "version": "4.0.4"
  }
 },
 "nbformat": 4,
 "nbformat_minor": 4
}
