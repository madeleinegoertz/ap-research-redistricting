{
 "cells": [
  {
   "cell_type": "markdown",
   "metadata": {},
   "source": [
    "# 2011 VA House of Delegates Election\n",
    "\n",
    "## Election Results\n",
    "\n",
    "These precinct-level election results come directly from the Virginia Department of Elections, and they require significant cleaning. "
   ]
  },
  {
   "cell_type": "code",
   "execution_count": 44,
   "metadata": {},
   "outputs": [
    {
     "data": {
      "text/html": [
       "<table>\n",
       "<caption>A data.frame: 1 × 22</caption>\n",
       "<thead>\n",
       "\t<tr><th></th><th scope=col>CandidateUid</th><th scope=col>FirstName</th><th scope=col>MiddleName</th><th scope=col>LastName</th><th scope=col>Suffix</th><th scope=col>TOTAL_VOTES</th><th scope=col>Party</th><th scope=col>WriteInVote</th><th scope=col>LocalityUid</th><th scope=col>LocalityCode</th><th scope=col>...</th><th scope=col>PrecinctName</th><th scope=col>DistrictUid</th><th scope=col>DistrictType</th><th scope=col>DistrictName</th><th scope=col>OfficeUid</th><th scope=col>OfficeTitle</th><th scope=col>ElectionUid</th><th scope=col>ElectionType</th><th scope=col>ElectionDate</th><th scope=col>ElectionName</th></tr>\n",
       "\t<tr><th></th><th scope=col>&lt;chr&gt;</th><th scope=col>&lt;chr&gt;</th><th scope=col>&lt;chr&gt;</th><th scope=col>&lt;chr&gt;</th><th scope=col>&lt;chr&gt;</th><th scope=col>&lt;int&gt;</th><th scope=col>&lt;chr&gt;</th><th scope=col>&lt;int&gt;</th><th scope=col>&lt;chr&gt;</th><th scope=col>&lt;int&gt;</th><th scope=col>...</th><th scope=col>&lt;chr&gt;</th><th scope=col>&lt;chr&gt;</th><th scope=col>&lt;chr&gt;</th><th scope=col>&lt;chr&gt;</th><th scope=col>&lt;chr&gt;</th><th scope=col>&lt;chr&gt;</th><th scope=col>&lt;chr&gt;</th><th scope=col>&lt;chr&gt;</th><th scope=col>&lt;chr&gt;</th><th scope=col>&lt;chr&gt;</th></tr>\n",
       "</thead>\n",
       "<tbody>\n",
       "\t<tr><th scope=row>1</th><td></td><td></td><td></td><td>WRITE IN VOTES</td><td></td><td>1</td><td></td><td>1</td><td>{15B7E141-2D1D-44C2-A50A-AAE021BC9B7D}</td><td>1</td><td>...</td><td># AB - Central Absentee Precinct</td><td></td><td></td><td></td><td>{60E9BA28-D184-4DAD-9A44-1F405822F9F4}</td><td>Commissioner of Revenue</td><td>{EB178FD6-875D-4B0D-A295-900A0482F523}</td><td>General</td><td>2011-11-08 00:00:00</td><td>2011 November General</td></tr>\n",
       "</tbody>\n",
       "</table>\n"
      ],
      "text/latex": [
       "A data.frame: 1 × 22\n",
       "\\begin{tabular}{r|lllllllllllllllllllll}\n",
       "  & CandidateUid & FirstName & MiddleName & LastName & Suffix & TOTAL\\_VOTES & Party & WriteInVote & LocalityUid & LocalityCode & ... & PrecinctName & DistrictUid & DistrictType & DistrictName & OfficeUid & OfficeTitle & ElectionUid & ElectionType & ElectionDate & ElectionName\\\\\n",
       "  & <chr> & <chr> & <chr> & <chr> & <chr> & <int> & <chr> & <int> & <chr> & <int> & ... & <chr> & <chr> & <chr> & <chr> & <chr> & <chr> & <chr> & <chr> & <chr> & <chr>\\\\\n",
       "\\hline\n",
       "\t1 &  &  &  & WRITE IN VOTES &  & 1 &  & 1 & \\{15B7E141-2D1D-44C2-A50A-AAE021BC9B7D\\} & 1 & ... & \\# AB - Central Absentee Precinct &  &  &  & \\{60E9BA28-D184-4DAD-9A44-1F405822F9F4\\} & Commissioner of Revenue & \\{EB178FD6-875D-4B0D-A295-900A0482F523\\} & General & 2011-11-08 00:00:00 & 2011 November General\\\\\n",
       "\\end{tabular}\n"
      ],
      "text/markdown": [
       "\n",
       "A data.frame: 1 × 22\n",
       "\n",
       "| <!--/--> | CandidateUid &lt;chr&gt; | FirstName &lt;chr&gt; | MiddleName &lt;chr&gt; | LastName &lt;chr&gt; | Suffix &lt;chr&gt; | TOTAL_VOTES &lt;int&gt; | Party &lt;chr&gt; | WriteInVote &lt;int&gt; | LocalityUid &lt;chr&gt; | LocalityCode &lt;int&gt; | ... ... | PrecinctName &lt;chr&gt; | DistrictUid &lt;chr&gt; | DistrictType &lt;chr&gt; | DistrictName &lt;chr&gt; | OfficeUid &lt;chr&gt; | OfficeTitle &lt;chr&gt; | ElectionUid &lt;chr&gt; | ElectionType &lt;chr&gt; | ElectionDate &lt;chr&gt; | ElectionName &lt;chr&gt; |\n",
       "|---|---|---|---|---|---|---|---|---|---|---|---|---|---|---|---|---|---|---|---|---|---|\n",
       "| 1 | <!----> | <!----> | <!----> | WRITE IN VOTES | <!----> | 1 | <!----> | 1 | {15B7E141-2D1D-44C2-A50A-AAE021BC9B7D} | 1 | ... | # AB - Central Absentee Precinct | <!----> | <!----> | <!----> | {60E9BA28-D184-4DAD-9A44-1F405822F9F4} | Commissioner of Revenue | {EB178FD6-875D-4B0D-A295-900A0482F523} | General | 2011-11-08 00:00:00 | 2011 November General |\n",
       "\n"
      ],
      "text/plain": [
       "  CandidateUid FirstName MiddleName LastName       Suffix TOTAL_VOTES Party\n",
       "1                                   WRITE IN VOTES        1                \n",
       "  WriteInVote LocalityUid                            LocalityCode ...\n",
       "1 1           {15B7E141-2D1D-44C2-A50A-AAE021BC9B7D} 1            ...\n",
       "  PrecinctName                     DistrictUid DistrictType DistrictName\n",
       "1 # AB - Central Absentee Precinct                                      \n",
       "  OfficeUid                              OfficeTitle            \n",
       "1 {60E9BA28-D184-4DAD-9A44-1F405822F9F4} Commissioner of Revenue\n",
       "  ElectionUid                            ElectionType ElectionDate       \n",
       "1 {EB178FD6-875D-4B0D-A295-900A0482F523} General      2011-11-08 00:00:00\n",
       "  ElectionName         \n",
       "1 2011 November General"
      ]
     },
     "metadata": {},
     "output_type": "display_data"
    },
    {
     "name": "stdout",
     "output_type": "stream",
     "text": [
      "[1] 57228\n"
     ]
    }
   ],
   "source": [
    "library(sf)\n",
    "library(ggplot2)\n",
    "library(dplyr)\n",
    "library(tibble)\n",
    "library(magrittr)\n",
    "\n",
    "df <- read.csv(file = \"../data/official-VA-2005-2019/2011-general.csv\")\n",
    "head(df, 1)\n",
    "print(nrow(df))"
   ]
  },
  {
   "cell_type": "markdown",
   "metadata": {},
   "source": [
    "Now, this csv file includes the results by precinct for every single election that took place in Virginia in 2011 at 11, so I have some serious filtering to do. Currently, there are around 57,000 records. \n",
    "\n",
    "Filters:\n",
    "- `DistrictType` = \"House of Delegates\" -> 7002 records\n",
    "- `Party` = Democratic or Republican (sorry third parties) -> 3868 records\n",
    "- `PrecinctName` != \"# AB - Central Absentee Precinct\" or \"## Provisional\" -> 3376 records\n",
    "    - Provisional ballots and absentee ballots aren't assigned a precinct, so I can't use them to measure precinct-level election results"
   ]
  },
  {
   "cell_type": "code",
   "execution_count": 45,
   "metadata": {},
   "outputs": [
    {
     "name": "stdout",
     "output_type": "stream",
     "text": [
      "[1] 3376\n"
     ]
    }
   ],
   "source": [
    "#df <- df[df$DistrictType == \"House of Delegates\",]\n",
    "df <- df %>% \n",
    "    filter(DistrictType == \"House of Delegates\") %>%\n",
    "    filter(Party %in% c(\"Democratic\", \"Republican\")) %>%\n",
    "    filter(!(PrecinctName %in% c(\"# AB - Central Absentee Precinct\", \"## Provisional\")))\n",
    "print(nrow(df))"
   ]
  },
  {
   "cell_type": "markdown",
   "metadata": {},
   "source": [
    "Now I have 3376 records, where each record is one candidate running in one precinct. What I would like to do is produce a pivot table, where:\n",
    "- index = `PrecinctName`\n",
    "- columns\n",
    "    - `G11DHOD` = all votes for Democratic candidates in that precinct\n",
    "    - `G11RHOD` = all votes for Republican candidates in that precinct"
   ]
  },
  {
   "cell_type": "code",
   "execution_count": 46,
   "metadata": {},
   "outputs": [
    {
     "name": "stderr",
     "output_type": "stream",
     "text": [
      "`summarise()` ungrouping output (override with `.groups` argument)\n",
      "\n"
     ]
    },
    {
     "name": "stdout",
     "output_type": "stream",
     "text": [
      "NULL\n"
     ]
    }
   ],
   "source": [
    "df_precinct <- df %>%\n",
    "    group_by(PrecinctName) %>%\n",
    "    summarise(G11DHOD = sum(TOTAL_VOTES[Party == \"Democratic\"]),\n",
    "              G11RHOD = sum(TOTAL_VOTES[Party == \"Republican\"])) %>%\n",
    "    distinct() %>%\n",
    "    write.csv(\"../mcmc/va-official-2011/2011-precinct-results.csv\")\n",
    "print(df_precinct)"
   ]
  },
  {
   "cell_type": "markdown",
   "metadata": {},
   "source": [
    "Ok, so now I've calculated the votes for the respective candidates by precinct. The next step will be to add the population and voting-age population by precinct, using the IPUMS. "
   ]
  },
  {
   "cell_type": "markdown",
   "metadata": {},
   "source": []
  }
 ],
 "metadata": {
  "kernelspec": {
   "display_name": "R",
   "language": "R",
   "name": "ir"
  },
  "language_info": {
   "codemirror_mode": "r",
   "file_extension": ".r",
   "mimetype": "text/x-r-source",
   "name": "R",
   "pygments_lexer": "r",
   "version": "4.0.3"
  }
 },
 "nbformat": 4,
 "nbformat_minor": 4
}
