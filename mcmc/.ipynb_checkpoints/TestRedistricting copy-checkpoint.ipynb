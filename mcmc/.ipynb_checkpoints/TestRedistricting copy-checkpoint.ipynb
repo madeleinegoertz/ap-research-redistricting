{
 "cells": [
  {
   "cell_type": "code",
   "execution_count": 6,
   "metadata": {},
   "outputs": [
    {
     "ename": "ERROR",
     "evalue": "Error in redist.map(shp = fl25, district_membership = cds, centroids = False): object 'False' not found\n",
     "output_type": "error",
     "traceback": [
      "Error in redist.map(shp = fl25, district_membership = cds, centroids = False): object 'False' not found\nTraceback:\n",
      "1. redist.map(shp = fl25, district_membership = cds, centroids = False)"
     ]
    }
   ],
   "source": [
    "## Load data\n",
    "library(redist)\n",
    "data(\"fl25\")\n",
    "data(\"algdat.p10\")\n",
    "cds <- algdat.p10$cdmat[,100]\n",
    "redist.map(shp=fl25, district_membership=cds, centroids=False)"
   ]
  },
  {
   "cell_type": "code",
   "execution_count": 3,
   "metadata": {},
   "outputs": [],
   "source": []
  },
  {
   "cell_type": "code",
   "execution_count": null,
   "metadata": {},
   "outputs": [],
   "source": []
  }
 ],
 "metadata": {
  "kernelspec": {
   "display_name": "R",
   "language": "R",
   "name": "ir"
  },
  "language_info": {
   "codemirror_mode": "r",
   "file_extension": ".r",
   "mimetype": "text/x-r-source",
   "name": "R",
   "pygments_lexer": "r",
   "version": "4.0.3"
  }
 },
 "nbformat": 4,
 "nbformat_minor": 4
}
