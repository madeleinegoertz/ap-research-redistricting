version https://git-lfs.github.com/spec/v1
oid sha256:8b744e35f4284eaf0b8903b6b0b0876b06b5a3cafe4a7bbeb9a76175a2644bd9
size 1310
