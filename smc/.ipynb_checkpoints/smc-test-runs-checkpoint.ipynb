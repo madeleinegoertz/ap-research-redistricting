{
 "cells": [
  {
   "cell_type": "code",
   "execution_count": 12,
   "metadata": {},
   "outputs": [],
   "source": [
    "library(sf)\n",
    "library(ggplot2)\n",
    "library(tidyverse)\n",
    "library(tibble)\n",
    "library(magrittr)\n",
    "library(redist)\n",
    "library(sp)\n",
    "library(spData)\n",
    "library(spdep)\n",
    "library(igraph)"
   ]
  },
  {
   "cell_type": "code",
   "execution_count": 13,
   "metadata": {
    "scrolled": false
   },
   "outputs": [],
   "source": [
    "run_smc <- function(fname, year) {\n",
    "    df <- st_read(fname)\n",
    "    adjlist <- redist.adjacency(df)\n",
    "    start.time <- Sys.time()\n",
    "    smc_out <- redist.smc(\n",
    "        adjobj = adjlist,\n",
    "        popvec = df$pop,\n",
    "        nsims = 1e5,\n",
    "        popcons = 0.1,\n",
    "        ndists = 11)\n",
    "    end.time <- Sys.time()\n",
    "    print(end.time - start.time)\n",
    "    save(smc_out, file = paste0(\"smc_vac_\", toString(year), \"_0.1.RData\"))\n",
    "}"
   ]
  },
  {
   "cell_type": "code",
   "execution_count": 14,
   "metadata": {},
   "outputs": [
    {
     "name": "stdout",
     "output_type": "stream",
     "text": [
      "Reading layer `VA_precinct_2017' from data source `C:\\Users\\madie\\OneDrive\\data\\pre-redist\\VA_precinct_2017\\VA_precinct_2017.shp' using driver `ESRI Shapefile'\n",
      "Simple feature collection with 2585 features and 14 fields\n",
      "geometry type:  MULTIPOLYGON\n",
      "dimension:      XYZ\n",
      "bbox:           xmin: 9963623 ymin: 6151696 xmax: 12442960 ymax: 7217011\n",
      "z_range:        zmin: 0 zmax: 0\n",
      "projected CRS:  NAD83 / Virginia North (ftUS)\n",
      "Sampling 100000 2585-unit maps with 11 districts and population tolerance 10%.\n",
      "Making split 1 of 10\n",
      "Using k = 33\n"
     ]
    },
    {
     "name": "stderr",
     "output_type": "stream",
     "text": [
      "Warning message in smc_plans(nsims, adjlist, counties, popvec, ndists, popcons, :\n",
      "\"printing of extremely long output is truncated\"\n",
      "Warning message in smc_plans(nsims, adjlist, counties, popvec, ndists, popcons, :\n",
      "\"printing of extremely long output is truncated\"\n",
      "Warning message in smc_plans(nsims, adjlist, counties, popvec, ndists, popcons, :\n",
      "\"printing of extremely long output is truncated\"\n",
      "Warning message in smc_plans(nsims, adjlist, counties, popvec, ndists, popcons, :\n",
      "\"printing of extremely long output is truncated\"\n",
      "Warning message in smc_plans(nsims, adjlist, counties, popvec, ndists, popcons, :\n",
      "\"printing of extremely long output is truncated\"\n",
      "Warning message in smc_plans(nsims, adjlist, counties, popvec, ndists, popcons, :\n",
      "\"printing of extremely long output is truncated\"\n",
      "Warning message in smc_plans(nsims, adjlist, counties, popvec, ndists, popcons, :\n",
      "\"printing of extremely long output is truncated\"\n",
      "Warning message in smc_plans(nsims, adjlist, counties, popvec, ndists, popcons, :\n",
      "\"printing of extremely long output is truncated\"\n",
      "Warning message in smc_plans(nsims, adjlist, counties, popvec, ndists, popcons, :\n",
      "\"printing of extremely long output is truncated\"\n",
      "Warning message in smc_plans(nsims, adjlist, counties, popvec, ndists, popcons, :\n",
      "\"printing of extremely long output is truncated\"\n"
     ]
    },
    {
     "name": "stdout",
     "output_type": "stream",
     "text": [
      "63.1% acceptance rate.\n",
      "Making split 2 of 10\n",
      "Using k = 24\n"
     ]
    },
    {
     "name": "stderr",
     "output_type": "stream",
     "text": [
      "Warning message in smc_plans(nsims, adjlist, counties, popvec, ndists, popcons, :\n",
      "\"printing of extremely long output is truncated\"\n",
      "Warning message in smc_plans(nsims, adjlist, counties, popvec, ndists, popcons, :\n",
      "\"printing of extremely long output is truncated\"\n",
      "Warning message in smc_plans(nsims, adjlist, counties, popvec, ndists, popcons, :\n",
      "\"printing of extremely long output is truncated\"\n",
      "Warning message in smc_plans(nsims, adjlist, counties, popvec, ndists, popcons, :\n",
      "\"printing of extremely long output is truncated\"\n",
      "Warning message in smc_plans(nsims, adjlist, counties, popvec, ndists, popcons, :\n",
      "\"printing of extremely long output is truncated\"\n",
      "Warning message in smc_plans(nsims, adjlist, counties, popvec, ndists, popcons, :\n",
      "\"printing of extremely long output is truncated\"\n",
      "Warning message in smc_plans(nsims, adjlist, counties, popvec, ndists, popcons, :\n",
      "\"printing of extremely long output is truncated\"\n",
      "Warning message in smc_plans(nsims, adjlist, counties, popvec, ndists, popcons, :\n",
      "\"printing of extremely long output is truncated\"\n",
      "Warning message in smc_plans(nsims, adjlist, counties, popvec, ndists, popcons, :\n",
      "\"printing of extremely long output is truncated\"\n",
      "Warning message in smc_plans(nsims, adjlist, counties, popvec, ndists, popcons, :\n",
      "\"printing of extremely long output is truncated\"\n"
     ]
    },
    {
     "name": "stdout",
     "output_type": "stream",
     "text": [
      "69.2% acceptance rate.\n",
      "Making split 3 of 10\n",
      "Using k = 26\n"
     ]
    },
    {
     "name": "stderr",
     "output_type": "stream",
     "text": [
      "Warning message in smc_plans(nsims, adjlist, counties, popvec, ndists, popcons, :\n",
      "\"printing of extremely long output is truncated\"\n",
      "Warning message in smc_plans(nsims, adjlist, counties, popvec, ndists, popcons, :\n",
      "\"printing of extremely long output is truncated\"\n",
      "Warning message in smc_plans(nsims, adjlist, counties, popvec, ndists, popcons, :\n",
      "\"printing of extremely long output is truncated\"\n",
      "Warning message in smc_plans(nsims, adjlist, counties, popvec, ndists, popcons, :\n",
      "\"printing of extremely long output is truncated\"\n",
      "Warning message in smc_plans(nsims, adjlist, counties, popvec, ndists, popcons, :\n",
      "\"printing of extremely long output is truncated\"\n",
      "Warning message in smc_plans(nsims, adjlist, counties, popvec, ndists, popcons, :\n",
      "\"printing of extremely long output is truncated\"\n",
      "Warning message in smc_plans(nsims, adjlist, counties, popvec, ndists, popcons, :\n",
      "\"printing of extremely long output is truncated\"\n",
      "Warning message in smc_plans(nsims, adjlist, counties, popvec, ndists, popcons, :\n",
      "\"printing of extremely long output is truncated\"\n",
      "Warning message in smc_plans(nsims, adjlist, counties, popvec, ndists, popcons, :\n",
      "\"printing of extremely long output is truncated\"\n",
      "Warning message in smc_plans(nsims, adjlist, counties, popvec, ndists, popcons, :\n",
      "\"printing of extremely long output is truncated\"\n"
     ]
    },
    {
     "name": "stdout",
     "output_type": "stream",
     "text": [
      "59.5% acceptance rate.\n",
      "Making split 4 of 10\n",
      "Using k = 21\n"
     ]
    },
    {
     "name": "stderr",
     "output_type": "stream",
     "text": [
      "Warning message in smc_plans(nsims, adjlist, counties, popvec, ndists, popcons, :\n",
      "\"printing of extremely long output is truncated\"\n",
      "Warning message in smc_plans(nsims, adjlist, counties, popvec, ndists, popcons, :\n",
      "\"printing of extremely long output is truncated\"\n",
      "Warning message in smc_plans(nsims, adjlist, counties, popvec, ndists, popcons, :\n",
      "\"printing of extremely long output is truncated\"\n",
      "Warning message in smc_plans(nsims, adjlist, counties, popvec, ndists, popcons, :\n",
      "\"printing of extremely long output is truncated\"\n",
      "Warning message in smc_plans(nsims, adjlist, counties, popvec, ndists, popcons, :\n",
      "\"printing of extremely long output is truncated\"\n",
      "Warning message in smc_plans(nsims, adjlist, counties, popvec, ndists, popcons, :\n",
      "\"printing of extremely long output is truncated\"\n",
      "Warning message in smc_plans(nsims, adjlist, counties, popvec, ndists, popcons, :\n",
      "\"printing of extremely long output is truncated\"\n",
      "Warning message in smc_plans(nsims, adjlist, counties, popvec, ndists, popcons, :\n",
      "\"printing of extremely long output is truncated\"\n",
      "Warning message in smc_plans(nsims, adjlist, counties, popvec, ndists, popcons, :\n",
      "\"printing of extremely long output is truncated\"\n",
      "Warning message in smc_plans(nsims, adjlist, counties, popvec, ndists, popcons, :\n",
      "\"printing of extremely long output is truncated\"\n"
     ]
    },
    {
     "name": "stdout",
     "output_type": "stream",
     "text": [
      "61.5% acceptance rate.\n",
      "Making split 5 of 10\n",
      "Using k = 19\n"
     ]
    },
    {
     "name": "stderr",
     "output_type": "stream",
     "text": [
      "Warning message in smc_plans(nsims, adjlist, counties, popvec, ndists, popcons, :\n",
      "\"printing of extremely long output is truncated\"\n",
      "Warning message in smc_plans(nsims, adjlist, counties, popvec, ndists, popcons, :\n",
      "\"printing of extremely long output is truncated\"\n",
      "Warning message in smc_plans(nsims, adjlist, counties, popvec, ndists, popcons, :\n",
      "\"printing of extremely long output is truncated\"\n",
      "Warning message in smc_plans(nsims, adjlist, counties, popvec, ndists, popcons, :\n",
      "\"printing of extremely long output is truncated\"\n",
      "Warning message in smc_plans(nsims, adjlist, counties, popvec, ndists, popcons, :\n",
      "\"printing of extremely long output is truncated\"\n",
      "Warning message in smc_plans(nsims, adjlist, counties, popvec, ndists, popcons, :\n",
      "\"printing of extremely long output is truncated\"\n",
      "Warning message in smc_plans(nsims, adjlist, counties, popvec, ndists, popcons, :\n",
      "\"printing of extremely long output is truncated\"\n",
      "Warning message in smc_plans(nsims, adjlist, counties, popvec, ndists, popcons, :\n",
      "\"printing of extremely long output is truncated\"\n",
      "Warning message in smc_plans(nsims, adjlist, counties, popvec, ndists, popcons, :\n",
      "\"printing of extremely long output is truncated\"\n",
      "Warning message in smc_plans(nsims, adjlist, counties, popvec, ndists, popcons, :\n",
      "\"printing of extremely long output is truncated\"\n"
     ]
    },
    {
     "name": "stdout",
     "output_type": "stream",
     "text": [
      "59.3% acceptance rate.\n",
      "Making split 6 of 10\n",
      "Using k = 16\n"
     ]
    },
    {
     "name": "stderr",
     "output_type": "stream",
     "text": [
      "Warning message in smc_plans(nsims, adjlist, counties, popvec, ndists, popcons, :\n",
      "\"printing of extremely long output is truncated\"\n",
      "Warning message in smc_plans(nsims, adjlist, counties, popvec, ndists, popcons, :\n",
      "\"printing of extremely long output is truncated\"\n",
      "Warning message in smc_plans(nsims, adjlist, counties, popvec, ndists, popcons, :\n",
      "\"printing of extremely long output is truncated\"\n",
      "Warning message in smc_plans(nsims, adjlist, counties, popvec, ndists, popcons, :\n",
      "\"printing of extremely long output is truncated\"\n",
      "Warning message in smc_plans(nsims, adjlist, counties, popvec, ndists, popcons, :\n",
      "\"printing of extremely long output is truncated\"\n",
      "Warning message in smc_plans(nsims, adjlist, counties, popvec, ndists, popcons, :\n",
      "\"printing of extremely long output is truncated\"\n",
      "Warning message in smc_plans(nsims, adjlist, counties, popvec, ndists, popcons, :\n",
      "\"printing of extremely long output is truncated\"\n",
      "Warning message in smc_plans(nsims, adjlist, counties, popvec, ndists, popcons, :\n",
      "\"printing of extremely long output is truncated\"\n",
      "Warning message in smc_plans(nsims, adjlist, counties, popvec, ndists, popcons, :\n",
      "\"printing of extremely long output is truncated\"\n",
      "Warning message in smc_plans(nsims, adjlist, counties, popvec, ndists, popcons, :\n",
      "\"printing of extremely long output is truncated\"\n"
     ]
    },
    {
     "name": "stdout",
     "output_type": "stream",
     "text": [
      "59.4% acceptance rate.\n",
      "Making split 7 of 10\n",
      "Using k = 16\n"
     ]
    },
    {
     "name": "stderr",
     "output_type": "stream",
     "text": [
      "Warning message in smc_plans(nsims, adjlist, counties, popvec, ndists, popcons, :\n",
      "\"printing of extremely long output is truncated\"\n",
      "Warning message in smc_plans(nsims, adjlist, counties, popvec, ndists, popcons, :\n",
      "\"printing of extremely long output is truncated\"\n",
      "Warning message in smc_plans(nsims, adjlist, counties, popvec, ndists, popcons, :\n",
      "\"printing of extremely long output is truncated\"\n",
      "Warning message in smc_plans(nsims, adjlist, counties, popvec, ndists, popcons, :\n",
      "\"printing of extremely long output is truncated\"\n",
      "Warning message in smc_plans(nsims, adjlist, counties, popvec, ndists, popcons, :\n",
      "\"printing of extremely long output is truncated\"\n",
      "Warning message in smc_plans(nsims, adjlist, counties, popvec, ndists, popcons, :\n",
      "\"printing of extremely long output is truncated\"\n",
      "Warning message in smc_plans(nsims, adjlist, counties, popvec, ndists, popcons, :\n",
      "\"printing of extremely long output is truncated\"\n",
      "Warning message in smc_plans(nsims, adjlist, counties, popvec, ndists, popcons, :\n",
      "\"printing of extremely long output is truncated\"\n",
      "Warning message in smc_plans(nsims, adjlist, counties, popvec, ndists, popcons, :\n",
      "\"printing of extremely long output is truncated\"\n",
      "Warning message in smc_plans(nsims, adjlist, counties, popvec, ndists, popcons, :\n",
      "\"printing of extremely long output is truncated\"\n"
     ]
    },
    {
     "name": "stdout",
     "output_type": "stream",
     "text": [
      "53.1% acceptance rate.\n",
      "Making split 8 of 10\n",
      "Using k = 13\n"
     ]
    },
    {
     "name": "stderr",
     "output_type": "stream",
     "text": [
      "Warning message in smc_plans(nsims, adjlist, counties, popvec, ndists, popcons, :\n",
      "\"printing of extremely long output is truncated\"\n",
      "Warning message in smc_plans(nsims, adjlist, counties, popvec, ndists, popcons, :\n",
      "\"printing of extremely long output is truncated\"\n",
      "Warning message in smc_plans(nsims, adjlist, counties, popvec, ndists, popcons, :\n",
      "\"printing of extremely long output is truncated\"\n",
      "Warning message in smc_plans(nsims, adjlist, counties, popvec, ndists, popcons, :\n",
      "\"printing of extremely long output is truncated\"\n",
      "Warning message in smc_plans(nsims, adjlist, counties, popvec, ndists, popcons, :\n",
      "\"printing of extremely long output is truncated\"\n",
      "Warning message in smc_plans(nsims, adjlist, counties, popvec, ndists, popcons, :\n",
      "\"printing of extremely long output is truncated\"\n",
      "Warning message in smc_plans(nsims, adjlist, counties, popvec, ndists, popcons, :\n",
      "\"printing of extremely long output is truncated\"\n",
      "Warning message in smc_plans(nsims, adjlist, counties, popvec, ndists, popcons, :\n",
      "\"printing of extremely long output is truncated\"\n",
      "Warning message in smc_plans(nsims, adjlist, counties, popvec, ndists, popcons, :\n",
      "\"printing of extremely long output is truncated\"\n",
      "Warning message in smc_plans(nsims, adjlist, counties, popvec, ndists, popcons, :\n",
      "\"printing of extremely long output is truncated\"\n"
     ]
    },
    {
     "name": "stdout",
     "output_type": "stream",
     "text": [
      "52.1% acceptance rate.\n",
      "Making split 9 of 10\n",
      "Using k = 11\n"
     ]
    },
    {
     "name": "stderr",
     "output_type": "stream",
     "text": [
      "Warning message in smc_plans(nsims, adjlist, counties, popvec, ndists, popcons, :\n",
      "\"printing of extremely long output is truncated\"\n",
      "Warning message in smc_plans(nsims, adjlist, counties, popvec, ndists, popcons, :\n",
      "\"printing of extremely long output is truncated\"\n",
      "Warning message in smc_plans(nsims, adjlist, counties, popvec, ndists, popcons, :\n",
      "\"printing of extremely long output is truncated\"\n",
      "Warning message in smc_plans(nsims, adjlist, counties, popvec, ndists, popcons, :\n",
      "\"printing of extremely long output is truncated\"\n",
      "Warning message in smc_plans(nsims, adjlist, counties, popvec, ndists, popcons, :\n",
      "\"printing of extremely long output is truncated\"\n",
      "Warning message in smc_plans(nsims, adjlist, counties, popvec, ndists, popcons, :\n",
      "\"printing of extremely long output is truncated\"\n",
      "Warning message in smc_plans(nsims, adjlist, counties, popvec, ndists, popcons, :\n",
      "\"printing of extremely long output is truncated\"\n",
      "Warning message in smc_plans(nsims, adjlist, counties, popvec, ndists, popcons, :\n",
      "\"printing of extremely long output is truncated\"\n",
      "Warning message in smc_plans(nsims, adjlist, counties, popvec, ndists, popcons, :\n",
      "\"printing of extremely long output is truncated\"\n",
      "Warning message in smc_plans(nsims, adjlist, counties, popvec, ndists, popcons, :\n",
      "\"printing of extremely long output is truncated\"\n"
     ]
    },
    {
     "name": "stdout",
     "output_type": "stream",
     "text": [
      "45.6% acceptance rate.\n",
      "Making split 10 of 10\n",
      "Using k = 10\n"
     ]
    },
    {
     "name": "stderr",
     "output_type": "stream",
     "text": [
      "Warning message in smc_plans(nsims, adjlist, counties, popvec, ndists, popcons, :\n",
      "\"printing of extremely long output is truncated\"\n",
      "Warning message in smc_plans(nsims, adjlist, counties, popvec, ndists, popcons, :\n",
      "\"printing of extremely long output is truncated\"\n",
      "Warning message in smc_plans(nsims, adjlist, counties, popvec, ndists, popcons, :\n",
      "\"printing of extremely long output is truncated\"\n",
      "Warning message in smc_plans(nsims, adjlist, counties, popvec, ndists, popcons, :\n",
      "\"printing of extremely long output is truncated\"\n",
      "Warning message in smc_plans(nsims, adjlist, counties, popvec, ndists, popcons, :\n",
      "\"printing of extremely long output is truncated\"\n",
      "Warning message in smc_plans(nsims, adjlist, counties, popvec, ndists, popcons, :\n",
      "\"printing of extremely long output is truncated\"\n",
      "Warning message in smc_plans(nsims, adjlist, counties, popvec, ndists, popcons, :\n",
      "\"printing of extremely long output is truncated\"\n",
      "Warning message in smc_plans(nsims, adjlist, counties, popvec, ndists, popcons, :\n",
      "\"printing of extremely long output is truncated\"\n",
      "Warning message in smc_plans(nsims, adjlist, counties, popvec, ndists, popcons, :\n",
      "\"printing of extremely long output is truncated\"\n",
      "Warning message in smc_plans(nsims, adjlist, counties, popvec, ndists, popcons, :\n",
      "\"printing of extremely long output is truncated\"\n"
     ]
    },
    {
     "name": "stdout",
     "output_type": "stream",
     "text": [
      "18.3% acceptance rate.\n",
      "Time difference of 1.178674 hours\n"
     ]
    }
   ],
   "source": [
    "run_smc(\"C:/Users/madie/OneDrive/data/pre-redist/VA_precinct_2017/VA_precinct_2017.shp\", 2017)"
   ]
  },
  {
   "cell_type": "code",
   "execution_count": 15,
   "metadata": {},
   "outputs": [
    {
     "name": "stdout",
     "output_type": "stream",
     "text": [
      "Reading layer `VA_precinct_2019' from data source `C:\\Users\\madie\\OneDrive\\data\\pre-redist\\VA_precinct_2019\\VA_precinct_2019.shp' using driver `ESRI Shapefile'\n",
      "Simple feature collection with 3675 features and 14 fields\n",
      "geometry type:  MULTIPOLYGON\n",
      "dimension:      XY\n",
      "bbox:           xmin: 9963623 ymin: 6151696 xmax: 12442960 ymax: 7217011\n",
      "projected CRS:  NAD83 / Virginia North (ftUS)\n",
      "Sampling 100000 3675-unit maps with 11 districts and population tolerance 10%.\n",
      "Making split 1 of 10\n",
      "Using k = 33\n"
     ]
    },
    {
     "name": "stderr",
     "output_type": "stream",
     "text": [
      "Warning message in smc_plans(nsims, adjlist, counties, popvec, ndists, popcons, :\n",
      "\"printing of extremely long output is truncated\"\n",
      "Warning message in smc_plans(nsims, adjlist, counties, popvec, ndists, popcons, :\n",
      "\"printing of extremely long output is truncated\"\n",
      "Warning message in smc_plans(nsims, adjlist, counties, popvec, ndists, popcons, :\n",
      "\"printing of extremely long output is truncated\"\n",
      "Warning message in smc_plans(nsims, adjlist, counties, popvec, ndists, popcons, :\n",
      "\"printing of extremely long output is truncated\"\n",
      "Warning message in smc_plans(nsims, adjlist, counties, popvec, ndists, popcons, :\n",
      "\"printing of extremely long output is truncated\"\n",
      "Warning message in smc_plans(nsims, adjlist, counties, popvec, ndists, popcons, :\n",
      "\"printing of extremely long output is truncated\"\n",
      "Warning message in smc_plans(nsims, adjlist, counties, popvec, ndists, popcons, :\n",
      "\"printing of extremely long output is truncated\"\n",
      "Warning message in smc_plans(nsims, adjlist, counties, popvec, ndists, popcons, :\n",
      "\"printing of extremely long output is truncated\"\n",
      "Warning message in smc_plans(nsims, adjlist, counties, popvec, ndists, popcons, :\n",
      "\"printing of extremely long output is truncated\"\n",
      "Warning message in smc_plans(nsims, adjlist, counties, popvec, ndists, popcons, :\n",
      "\"printing of extremely long output is truncated\"\n"
     ]
    },
    {
     "name": "stdout",
     "output_type": "stream",
     "text": [
      "68.7% acceptance rate.\n",
      "Making split 2 of 10\n",
      "Using k = 32\n"
     ]
    },
    {
     "name": "stderr",
     "output_type": "stream",
     "text": [
      "Warning message in smc_plans(nsims, adjlist, counties, popvec, ndists, popcons, :\n",
      "\"printing of extremely long output is truncated\"\n",
      "Warning message in smc_plans(nsims, adjlist, counties, popvec, ndists, popcons, :\n",
      "\"printing of extremely long output is truncated\"\n",
      "Warning message in smc_plans(nsims, adjlist, counties, popvec, ndists, popcons, :\n",
      "\"printing of extremely long output is truncated\"\n",
      "Warning message in smc_plans(nsims, adjlist, counties, popvec, ndists, popcons, :\n",
      "\"printing of extremely long output is truncated\"\n",
      "Warning message in smc_plans(nsims, adjlist, counties, popvec, ndists, popcons, :\n",
      "\"printing of extremely long output is truncated\"\n",
      "Warning message in smc_plans(nsims, adjlist, counties, popvec, ndists, popcons, :\n",
      "\"printing of extremely long output is truncated\"\n",
      "Warning message in smc_plans(nsims, adjlist, counties, popvec, ndists, popcons, :\n",
      "\"printing of extremely long output is truncated\"\n",
      "Warning message in smc_plans(nsims, adjlist, counties, popvec, ndists, popcons, :\n",
      "\"printing of extremely long output is truncated\"\n",
      "Warning message in smc_plans(nsims, adjlist, counties, popvec, ndists, popcons, :\n",
      "\"printing of extremely long output is truncated\"\n",
      "Warning message in smc_plans(nsims, adjlist, counties, popvec, ndists, popcons, :\n",
      "\"printing of extremely long output is truncated\"\n"
     ]
    },
    {
     "name": "stdout",
     "output_type": "stream",
     "text": [
      "65.9% acceptance rate.\n",
      "Making split 3 of 10\n",
      "Using k = 28\n"
     ]
    },
    {
     "name": "stderr",
     "output_type": "stream",
     "text": [
      "Warning message in smc_plans(nsims, adjlist, counties, popvec, ndists, popcons, :\n",
      "\"printing of extremely long output is truncated\"\n",
      "Warning message in smc_plans(nsims, adjlist, counties, popvec, ndists, popcons, :\n",
      "\"printing of extremely long output is truncated\"\n",
      "Warning message in smc_plans(nsims, adjlist, counties, popvec, ndists, popcons, :\n",
      "\"printing of extremely long output is truncated\"\n",
      "Warning message in smc_plans(nsims, adjlist, counties, popvec, ndists, popcons, :\n",
      "\"printing of extremely long output is truncated\"\n",
      "Warning message in smc_plans(nsims, adjlist, counties, popvec, ndists, popcons, :\n",
      "\"printing of extremely long output is truncated\"\n",
      "Warning message in smc_plans(nsims, adjlist, counties, popvec, ndists, popcons, :\n",
      "\"printing of extremely long output is truncated\"\n",
      "Warning message in smc_plans(nsims, adjlist, counties, popvec, ndists, popcons, :\n",
      "\"printing of extremely long output is truncated\"\n",
      "Warning message in smc_plans(nsims, adjlist, counties, popvec, ndists, popcons, :\n",
      "\"printing of extremely long output is truncated\"\n",
      "Warning message in smc_plans(nsims, adjlist, counties, popvec, ndists, popcons, :\n",
      "\"printing of extremely long output is truncated\"\n",
      "Warning message in smc_plans(nsims, adjlist, counties, popvec, ndists, popcons, :\n",
      "\"printing of extremely long output is truncated\"\n"
     ]
    },
    {
     "name": "stdout",
     "output_type": "stream",
     "text": [
      "67.9% acceptance rate.\n",
      "Making split 4 of 10\n",
      "Using k = 25\n"
     ]
    },
    {
     "name": "stderr",
     "output_type": "stream",
     "text": [
      "Warning message in smc_plans(nsims, adjlist, counties, popvec, ndists, popcons, :\n",
      "\"printing of extremely long output is truncated\"\n",
      "Warning message in smc_plans(nsims, adjlist, counties, popvec, ndists, popcons, :\n",
      "\"printing of extremely long output is truncated\"\n",
      "Warning message in smc_plans(nsims, adjlist, counties, popvec, ndists, popcons, :\n",
      "\"printing of extremely long output is truncated\"\n",
      "Warning message in smc_plans(nsims, adjlist, counties, popvec, ndists, popcons, :\n",
      "\"printing of extremely long output is truncated\"\n",
      "Warning message in smc_plans(nsims, adjlist, counties, popvec, ndists, popcons, :\n",
      "\"printing of extremely long output is truncated\"\n",
      "Warning message in smc_plans(nsims, adjlist, counties, popvec, ndists, popcons, :\n",
      "\"printing of extremely long output is truncated\"\n",
      "Warning message in smc_plans(nsims, adjlist, counties, popvec, ndists, popcons, :\n",
      "\"printing of extremely long output is truncated\"\n",
      "Warning message in smc_plans(nsims, adjlist, counties, popvec, ndists, popcons, :\n",
      "\"printing of extremely long output is truncated\"\n",
      "Warning message in smc_plans(nsims, adjlist, counties, popvec, ndists, popcons, :\n",
      "\"printing of extremely long output is truncated\"\n",
      "Warning message in smc_plans(nsims, adjlist, counties, popvec, ndists, popcons, :\n",
      "\"printing of extremely long output is truncated\"\n"
     ]
    },
    {
     "name": "stdout",
     "output_type": "stream",
     "text": [
      "68.5% acceptance rate.\n",
      "Making split 5 of 10\n",
      "Using k = 29\n"
     ]
    },
    {
     "name": "stderr",
     "output_type": "stream",
     "text": [
      "Warning message in smc_plans(nsims, adjlist, counties, popvec, ndists, popcons, :\n",
      "\"printing of extremely long output is truncated\"\n",
      "Warning message in smc_plans(nsims, adjlist, counties, popvec, ndists, popcons, :\n",
      "\"printing of extremely long output is truncated\"\n",
      "Warning message in smc_plans(nsims, adjlist, counties, popvec, ndists, popcons, :\n",
      "\"printing of extremely long output is truncated\"\n",
      "Warning message in smc_plans(nsims, adjlist, counties, popvec, ndists, popcons, :\n",
      "\"printing of extremely long output is truncated\"\n",
      "Warning message in smc_plans(nsims, adjlist, counties, popvec, ndists, popcons, :\n",
      "\"printing of extremely long output is truncated\"\n",
      "Warning message in smc_plans(nsims, adjlist, counties, popvec, ndists, popcons, :\n",
      "\"printing of extremely long output is truncated\"\n",
      "Warning message in smc_plans(nsims, adjlist, counties, popvec, ndists, popcons, :\n",
      "\"printing of extremely long output is truncated\"\n",
      "Warning message in smc_plans(nsims, adjlist, counties, popvec, ndists, popcons, :\n",
      "\"printing of extremely long output is truncated\"\n",
      "Warning message in smc_plans(nsims, adjlist, counties, popvec, ndists, popcons, :\n",
      "\"printing of extremely long output is truncated\"\n",
      "Warning message in smc_plans(nsims, adjlist, counties, popvec, ndists, popcons, :\n",
      "\"printing of extremely long output is truncated\"\n"
     ]
    },
    {
     "name": "stdout",
     "output_type": "stream",
     "text": [
      "58.3% acceptance rate.\n",
      "Making split 6 of 10\n",
      "Using k = 26\n"
     ]
    },
    {
     "name": "stderr",
     "output_type": "stream",
     "text": [
      "Warning message in smc_plans(nsims, adjlist, counties, popvec, ndists, popcons, :\n",
      "\"printing of extremely long output is truncated\"\n",
      "Warning message in smc_plans(nsims, adjlist, counties, popvec, ndists, popcons, :\n",
      "\"printing of extremely long output is truncated\"\n",
      "Warning message in smc_plans(nsims, adjlist, counties, popvec, ndists, popcons, :\n",
      "\"printing of extremely long output is truncated\"\n",
      "Warning message in smc_plans(nsims, adjlist, counties, popvec, ndists, popcons, :\n",
      "\"printing of extremely long output is truncated\"\n",
      "Warning message in smc_plans(nsims, adjlist, counties, popvec, ndists, popcons, :\n",
      "\"printing of extremely long output is truncated\"\n",
      "Warning message in smc_plans(nsims, adjlist, counties, popvec, ndists, popcons, :\n",
      "\"printing of extremely long output is truncated\"\n",
      "Warning message in smc_plans(nsims, adjlist, counties, popvec, ndists, popcons, :\n",
      "\"printing of extremely long output is truncated\"\n",
      "Warning message in smc_plans(nsims, adjlist, counties, popvec, ndists, popcons, :\n",
      "\"printing of extremely long output is truncated\"\n",
      "Warning message in smc_plans(nsims, adjlist, counties, popvec, ndists, popcons, :\n",
      "\"printing of extremely long output is truncated\"\n",
      "Warning message in smc_plans(nsims, adjlist, counties, popvec, ndists, popcons, :\n",
      "\"printing of extremely long output is truncated\"\n"
     ]
    },
    {
     "name": "stdout",
     "output_type": "stream",
     "text": [
      "57.9% acceptance rate.\n",
      "Making split 7 of 10\n",
      "Using k = 27\n"
     ]
    },
    {
     "name": "stderr",
     "output_type": "stream",
     "text": [
      "Warning message in smc_plans(nsims, adjlist, counties, popvec, ndists, popcons, :\n",
      "\"printing of extremely long output is truncated\"\n",
      "Warning message in smc_plans(nsims, adjlist, counties, popvec, ndists, popcons, :\n",
      "\"printing of extremely long output is truncated\"\n",
      "Warning message in smc_plans(nsims, adjlist, counties, popvec, ndists, popcons, :\n",
      "\"printing of extremely long output is truncated\"\n",
      "Warning message in smc_plans(nsims, adjlist, counties, popvec, ndists, popcons, :\n",
      "\"printing of extremely long output is truncated\"\n",
      "Warning message in smc_plans(nsims, adjlist, counties, popvec, ndists, popcons, :\n",
      "\"printing of extremely long output is truncated\"\n",
      "Warning message in smc_plans(nsims, adjlist, counties, popvec, ndists, popcons, :\n",
      "\"printing of extremely long output is truncated\"\n",
      "Warning message in smc_plans(nsims, adjlist, counties, popvec, ndists, popcons, :\n",
      "\"printing of extremely long output is truncated\"\n",
      "Warning message in smc_plans(nsims, adjlist, counties, popvec, ndists, popcons, :\n",
      "\"printing of extremely long output is truncated\"\n",
      "Warning message in smc_plans(nsims, adjlist, counties, popvec, ndists, popcons, :\n",
      "\"printing of extremely long output is truncated\"\n",
      "Warning message in smc_plans(nsims, adjlist, counties, popvec, ndists, popcons, :\n",
      "\"printing of extremely long output is truncated\"\n"
     ]
    },
    {
     "name": "stdout",
     "output_type": "stream",
     "text": [
      "51.1% acceptance rate.\n",
      "Making split 8 of 10\n",
      "Using k = 21\n"
     ]
    },
    {
     "name": "stderr",
     "output_type": "stream",
     "text": [
      "Warning message in smc_plans(nsims, adjlist, counties, popvec, ndists, popcons, :\n",
      "\"printing of extremely long output is truncated\"\n",
      "Warning message in smc_plans(nsims, adjlist, counties, popvec, ndists, popcons, :\n",
      "\"printing of extremely long output is truncated\"\n",
      "Warning message in smc_plans(nsims, adjlist, counties, popvec, ndists, popcons, :\n",
      "\"printing of extremely long output is truncated\"\n",
      "Warning message in smc_plans(nsims, adjlist, counties, popvec, ndists, popcons, :\n",
      "\"printing of extremely long output is truncated\"\n",
      "Warning message in smc_plans(nsims, adjlist, counties, popvec, ndists, popcons, :\n",
      "\"printing of extremely long output is truncated\"\n",
      "Warning message in smc_plans(nsims, adjlist, counties, popvec, ndists, popcons, :\n",
      "\"printing of extremely long output is truncated\"\n",
      "Warning message in smc_plans(nsims, adjlist, counties, popvec, ndists, popcons, :\n",
      "\"printing of extremely long output is truncated\"\n",
      "Warning message in smc_plans(nsims, adjlist, counties, popvec, ndists, popcons, :\n",
      "\"printing of extremely long output is truncated\"\n",
      "Warning message in smc_plans(nsims, adjlist, counties, popvec, ndists, popcons, :\n",
      "\"printing of extremely long output is truncated\"\n",
      "Warning message in smc_plans(nsims, adjlist, counties, popvec, ndists, popcons, :\n",
      "\"printing of extremely long output is truncated\"\n"
     ]
    },
    {
     "name": "stdout",
     "output_type": "stream",
     "text": [
      "53.7% acceptance rate.\n",
      "Making split 9 of 10\n",
      "Using k = 18\n"
     ]
    },
    {
     "name": "stderr",
     "output_type": "stream",
     "text": [
      "Warning message in smc_plans(nsims, adjlist, counties, popvec, ndists, popcons, :\n",
      "\"printing of extremely long output is truncated\"\n",
      "Warning message in smc_plans(nsims, adjlist, counties, popvec, ndists, popcons, :\n",
      "\"printing of extremely long output is truncated\"\n",
      "Warning message in smc_plans(nsims, adjlist, counties, popvec, ndists, popcons, :\n",
      "\"printing of extremely long output is truncated\"\n",
      "Warning message in smc_plans(nsims, adjlist, counties, popvec, ndists, popcons, :\n",
      "\"printing of extremely long output is truncated\"\n",
      "Warning message in smc_plans(nsims, adjlist, counties, popvec, ndists, popcons, :\n",
      "\"printing of extremely long output is truncated\"\n",
      "Warning message in smc_plans(nsims, adjlist, counties, popvec, ndists, popcons, :\n",
      "\"printing of extremely long output is truncated\"\n",
      "Warning message in smc_plans(nsims, adjlist, counties, popvec, ndists, popcons, :\n",
      "\"printing of extremely long output is truncated\"\n",
      "Warning message in smc_plans(nsims, adjlist, counties, popvec, ndists, popcons, :\n",
      "\"printing of extremely long output is truncated\"\n",
      "Warning message in smc_plans(nsims, adjlist, counties, popvec, ndists, popcons, :\n",
      "\"printing of extremely long output is truncated\"\n",
      "Warning message in smc_plans(nsims, adjlist, counties, popvec, ndists, popcons, :\n",
      "\"printing of extremely long output is truncated\"\n"
     ]
    },
    {
     "name": "stdout",
     "output_type": "stream",
     "text": [
      "48.2% acceptance rate.\n",
      "Making split 10 of 10\n",
      "Using k = 13\n"
     ]
    },
    {
     "name": "stderr",
     "output_type": "stream",
     "text": [
      "Warning message in smc_plans(nsims, adjlist, counties, popvec, ndists, popcons, :\n",
      "\"printing of extremely long output is truncated\"\n",
      "Warning message in smc_plans(nsims, adjlist, counties, popvec, ndists, popcons, :\n",
      "\"printing of extremely long output is truncated\"\n",
      "Warning message in smc_plans(nsims, adjlist, counties, popvec, ndists, popcons, :\n",
      "\"printing of extremely long output is truncated\"\n",
      "Warning message in smc_plans(nsims, adjlist, counties, popvec, ndists, popcons, :\n",
      "\"printing of extremely long output is truncated\"\n",
      "Warning message in smc_plans(nsims, adjlist, counties, popvec, ndists, popcons, :\n",
      "\"printing of extremely long output is truncated\"\n",
      "Warning message in smc_plans(nsims, adjlist, counties, popvec, ndists, popcons, :\n",
      "\"printing of extremely long output is truncated\"\n",
      "Warning message in smc_plans(nsims, adjlist, counties, popvec, ndists, popcons, :\n",
      "\"printing of extremely long output is truncated\"\n",
      "Warning message in smc_plans(nsims, adjlist, counties, popvec, ndists, popcons, :\n",
      "\"printing of extremely long output is truncated\"\n",
      "Warning message in smc_plans(nsims, adjlist, counties, popvec, ndists, popcons, :\n",
      "\"printing of extremely long output is truncated\"\n",
      "Warning message in smc_plans(nsims, adjlist, counties, popvec, ndists, popcons, :\n",
      "\"printing of extremely long output is truncated\"\n"
     ]
    },
    {
     "name": "stdout",
     "output_type": "stream",
     "text": [
      "22.3% acceptance rate.\n",
      "Time difference of 2.42698 hours\n"
     ]
    }
   ],
   "source": [
    "run_smc(\"C:/Users/madie/OneDrive/data/pre-redist/VA_precinct_2019/VA_precinct_2019.shp\", 2019)"
   ]
  },
  {
   "cell_type": "code",
   "execution_count": 16,
   "metadata": {
    "scrolled": true
   },
   "outputs": [],
   "source": [
    "if (FALSE) {\n",
    "    library(randomcoloR)\n",
    "    colors <- distinctColorPalette(k=11)\n",
    "    cds <- smc_out$cdvec[,100000]\n",
    "    plot <- redist.map(shp=df, \n",
    "            district_membership=cds, \n",
    "            centroids=FALSE, \n",
    "            edges=FALSE,\n",
    "            title=\"10 Districts in Fairfax County: 2015 CRSG\") +\n",
    "            theme(legend.position=\"right\") +\n",
    "            scale_fill_manual(values = colors)\n",
    "            # geom_sf_label(aes(label = cds))\n",
    "    #ggsave(\"fairfax_10.png\")\n",
    "plot\n",
    "}"
   ]
  }
 ],
 "metadata": {
  "kernelspec": {
   "display_name": "R",
   "language": "R",
   "name": "ir"
  },
  "language_info": {
   "codemirror_mode": "r",
   "file_extension": ".r",
   "mimetype": "text/x-r-source",
   "name": "R",
   "pygments_lexer": "r",
   "version": "4.0.4"
  }
 },
 "nbformat": 4,
 "nbformat_minor": 4
}
