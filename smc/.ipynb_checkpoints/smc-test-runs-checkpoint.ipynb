{
 "cells": [
  {
   "cell_type": "code",
   "execution_count": 12,
   "metadata": {},
   "outputs": [],
   "source": [
    "library(sf)\n",
    "library(ggplot2)\n",
    "library(tidyverse)\n",
    "library(tibble)\n",
    "library(magrittr)\n",
    "library(redist)\n",
    "library(sp)\n",
    "library(spData)\n",
    "library(spdep)\n",
    "library(igraph)"
   ]
  },
  {
   "cell_type": "code",
   "execution_count": 13,
   "metadata": {
    "scrolled": false
   },
   "outputs": [],
   "source": [
    "run_smc <- function(fname, year) {\n",
    "    df <- st_read(fname)\n",
    "    adjlist <- redist.adjacency(df)\n",
    "    start.time <- Sys.time()\n",
    "    smc_out <- redist.smc(\n",
    "        adjobj = adjlist,\n",
    "        popvec = df$pop,\n",
    "        nsims = 1e5,\n",
    "        popcons = 0.1,\n",
    "        ndists = 11)\n",
    "    end.time <- Sys.time()\n",
    "    print(end.time - start.time)\n",
    "    save(smc_out, file = paste0(\"smc_vac_\", toString(year), \"_0.1.RData\"))\n",
    "}"
   ]
  },
  {
   "cell_type": "code",
   "execution_count": null,
   "metadata": {},
   "outputs": [],
   "source": [
    "run_smc(\"C:/Users/madie/OneDrive/data/pre-redist/VA_precinct_2017/VA_precinct_2017.shp\", 2017)"
   ]
  },
  {
   "cell_type": "code",
   "execution_count": null,
   "metadata": {},
   "outputs": [],
   "source": [
    "run_smc(\"C:/Users/madie/OneDrive/data/pre-redist/VA_precinct_2019/VA_precinct_2019.shp\", 2019)"
   ]
  },
  {
   "cell_type": "code",
   "execution_count": null,
   "metadata": {
    "scrolled": true
   },
   "outputs": [],
   "source": [
    "if (FALSE) {\n",
    "    library(randomcoloR)\n",
    "    colors <- distinctColorPalette(k=11)\n",
    "    cds <- smc_out$cdvec[,100000]\n",
    "    plot <- redist.map(shp=df, \n",
    "            district_membership=cds, \n",
    "            centroids=FALSE, \n",
    "            edges=FALSE,\n",
    "            title=\"10 Districts in Fairfax County: 2015 CRSG\") +\n",
    "            theme(legend.position=\"right\") +\n",
    "            scale_fill_manual(values = colors)\n",
    "            # geom_sf_label(aes(label = cds))\n",
    "    #ggsave(\"fairfax_10.png\")\n",
    "plot\n",
    "}"
   ]
  }
 ],
 "metadata": {
  "kernelspec": {
   "display_name": "R",
   "language": "R",
   "name": "ir"
  },
  "language_info": {
   "codemirror_mode": "r",
   "file_extension": ".r",
   "mimetype": "text/x-r-source",
   "name": "R",
   "pygments_lexer": "r",
   "version": "4.0.4"
  }
 },
 "nbformat": 4,
 "nbformat_minor": 4
}
