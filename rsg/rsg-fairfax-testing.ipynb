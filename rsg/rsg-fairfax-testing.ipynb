{
 "cells": [
  {
   "cell_type": "code",
   "execution_count": 1,
   "metadata": {},
   "outputs": [
    {
     "name": "stderr",
     "output_type": "stream",
     "text": [
      "Linking to GEOS 3.8.0, GDAL 3.0.4, PROJ 6.3.1\n",
      "\n",
      "-- \u001b[1mAttaching packages\u001b[22m ------------------------------------------------------------------------------- tidyverse 1.3.0 --\n",
      "\n",
      "\u001b[32mv\u001b[39m \u001b[34mtibble \u001b[39m 3.0.4     \u001b[32mv\u001b[39m \u001b[34mdplyr  \u001b[39m 1.0.2\n",
      "\u001b[32mv\u001b[39m \u001b[34mtidyr  \u001b[39m 1.1.2     \u001b[32mv\u001b[39m \u001b[34mstringr\u001b[39m 1.4.0\n",
      "\u001b[32mv\u001b[39m \u001b[34mreadr  \u001b[39m 1.4.0     \u001b[32mv\u001b[39m \u001b[34mforcats\u001b[39m 0.5.0\n",
      "\u001b[32mv\u001b[39m \u001b[34mpurrr  \u001b[39m 0.3.4     \n",
      "\n",
      "-- \u001b[1mConflicts\u001b[22m ---------------------------------------------------------------------------------- tidyverse_conflicts() --\n",
      "\u001b[31mx\u001b[39m \u001b[34mdplyr\u001b[39m::\u001b[32mfilter()\u001b[39m masks \u001b[34mstats\u001b[39m::filter()\n",
      "\u001b[31mx\u001b[39m \u001b[34mdplyr\u001b[39m::\u001b[32mlag()\u001b[39m    masks \u001b[34mstats\u001b[39m::lag()\n",
      "\n",
      "\n",
      "Attaching package: 'magrittr'\n",
      "\n",
      "\n",
      "The following object is masked from 'package:purrr':\n",
      "\n",
      "    set_names\n",
      "\n",
      "\n",
      "The following object is masked from 'package:tidyr':\n",
      "\n",
      "    extract\n",
      "\n",
      "\n",
      "\n",
      "Attaching package: 'igraph'\n",
      "\n",
      "\n",
      "The following objects are masked from 'package:dplyr':\n",
      "\n",
      "    as_data_frame, groups, union\n",
      "\n",
      "\n",
      "The following objects are masked from 'package:purrr':\n",
      "\n",
      "    compose, simplify\n",
      "\n",
      "\n",
      "The following object is masked from 'package:tidyr':\n",
      "\n",
      "    crossing\n",
      "\n",
      "\n",
      "The following object is masked from 'package:tibble':\n",
      "\n",
      "    as_data_frame\n",
      "\n",
      "\n",
      "The following objects are masked from 'package:stats':\n",
      "\n",
      "    decompose, spectrum\n",
      "\n",
      "\n",
      "The following object is masked from 'package:base':\n",
      "\n",
      "    union\n",
      "\n",
      "\n"
     ]
    },
    {
     "name": "stdout",
     "output_type": "stream",
     "text": [
      "Reading layer `VA_precinct_2015_fairfax' from data source `C:\\Users\\madie\\OneDrive\\data\\pre-redist\\VA_precinct_2015_fairfax\\VA_precinct_2015_fairfax.shp' using driver `ESRI Shapefile'\n",
      "Simple feature collection with 253 features and 14 fields\n",
      "geometry type:  POLYGON\n",
      "dimension:      XYZ\n",
      "bbox:           xmin: 11757190 ymin: 6905741 xmax: 11899000 ymax: 7070364\n",
      "z_range:        zmin: 0 zmax: 0\n",
      "projected CRS:  NAD83 / Virginia North (ftUS)\n"
     ]
    }
   ],
   "source": [
    "library(sf)\n",
    "library(ggplot2)\n",
    "library(tidyverse)\n",
    "library(tibble)\n",
    "library(magrittr)\n",
    "library(redist)\n",
    "library(sp)\n",
    "library(spData)\n",
    "library(spdep)\n",
    "library(igraph)\n",
    "\n",
    "ff_2015_file <- \"C:/Users/madie/OneDrive/data/pre-redist/VA_precinct_2015_fairfax/VA_precinct_2015_fairfax.shp\"\n",
    "df <- st_read(ff_2015_file)"
   ]
  },
  {
   "cell_type": "code",
   "execution_count": 2,
   "metadata": {},
   "outputs": [],
   "source": [
    "# list of lists of precincts adjacent to each precincts\n",
    "adj <- redist.adjacency(df)"
   ]
  },
  {
   "cell_type": "code",
   "execution_count": 3,
   "metadata": {},
   "outputs": [],
   "source": [
    "# area of each precincts\n",
    "area <- sf::st_area(df)"
   ]
  },
  {
   "cell_type": "code",
   "execution_count": 4,
   "metadata": {},
   "outputs": [
    {
     "name": "stderr",
     "output_type": "stream",
     "text": [
      "Warning message in st_centroid.sf(df):\n",
      "\"st_centroid assumes attributes are constant over geometries of x\"\n"
     ]
    }
   ],
   "source": [
    "# coordinate of centroid of each precinct\n",
    "centers <- sf::st_coordinates(sf::st_centroid(df))"
   ]
  },
  {
   "cell_type": "code",
   "execution_count": 16,
   "metadata": {},
   "outputs": [
    {
     "name": "stdout",
     "output_type": "stream",
     "text": [
      "\n",
      "==================== \n",
      "redist.crsg(): Automated Redistricting Starts\n",
      "\n",
      "\n",
      "\t10 districts built using 253 precincts in 0.22 seconds...\n",
      "\n"
     ]
    }
   ],
   "source": [
    "# returns list with district_membership vector (which district each precinct is in), \n",
    "# district_list vector (contains vector of each precinct in each district), and\n",
    "# district_pop vector (population totals for each district)\n",
    "crsg_out <- redist.crsg(adj.list = adj, \n",
    "                        population = df$pop, \n",
    "                        area = area,\n",
    "                        x_center = centers[,1], \n",
    "                        y_center = centers[,2], \n",
    "                        ndists = 10, \n",
    "                        thresh = .1, #population threshold\n",
    "                        maxiter = 1e6)"
   ]
  },
  {
   "cell_type": "code",
   "execution_count": 18,
   "metadata": {},
   "outputs": [],
   "source": [
    "# generate 10 random colors that are distinct so that the different districts are distinguishable. \n",
    "library(randomcoloR)\n",
    "colors <- distinctColorPalette(k=10)"
   ]
  },
  {
   "cell_type": "code",
   "execution_count": 19,
   "metadata": {},
   "outputs": [
    {
     "data": {
      "image/png": "[encoded data removed]",
      "text/plain": [
       "plot without title"
      ]
     },
     "metadata": {
      "image/png": {
       "height": 420,
       "width": 420
      }
     },
     "output_type": "display_data"
    }
   ],
   "source": [
    "cds <- crsg_out$district_membership\n",
    "plot <- redist.map(shp=df, \n",
    "        district_membership=cds, \n",
    "        centroids=FALSE, \n",
    "        edges=FALSE,\n",
    "        title=\"10 Districts in Fairfax County: 2015 CRSG\") +\n",
    "        theme(legend.position=\"right\") +\n",
    "        scale_fill_manual(values = colors)\n",
    "        # geom_sf_label(aes(label = cds))\n",
    "#ggsave(\"fairfax_10.png\")\n",
    "plot"
   ]
  },
  {
   "cell_type": "code",
   "execution_count": 21,
   "metadata": {},
   "outputs": [
    {
     "name": "stderr",
     "output_type": "stream",
     "text": [
      "Classes and Methods for R developed in the\n",
      "Political Science Computational Laboratory\n",
      "Department of Political Science\n",
      "Stanford University\n",
      "Simon Jackman\n",
      "hurdle and zeroinfl functions by Achim Zeileis\n",
      "\n",
      "Warning message in if (measure == \"all\") {:\n",
      "\"the condition has length > 1 and only the first element will be used\"\n",
      "Warning message in par(oldpar):\n",
      "\"graphical parameter \"cin\" cannot be set\"\n",
      "Warning message in par(oldpar):\n",
      "\"graphical parameter \"cra\" cannot be set\"\n",
      "Warning message in par(oldpar):\n",
      "\"graphical parameter \"csi\" cannot be set\"\n",
      "Warning message in par(oldpar):\n",
      "\"graphical parameter \"cxy\" cannot be set\"\n",
      "Warning message in par(oldpar):\n",
      "\"graphical parameter \"din\" cannot be set\"\n",
      "Warning message in par(oldpar):\n",
      "\"graphical parameter \"page\" cannot be set\"\n"
     ]
    },
    {
     "data": {
      "image/png": "[encoded data removed]",
      "text/plain": [
       "Plot with title \"Simulated Seats-Votes Curve Using Uniform Swing\n",
       "Democratic Vote Shares, Fairfax 2015 10 districts CRSG\""
      ]
     },
     "metadata": {
      "image/png": {
       "height": 420,
       "width": 420
      }
     },
     "output_type": "display_data"
    }
   ],
   "source": [
    "library(pscl)\n",
    "# compute the percent of votes won by democrats in each district under DVS\n",
    "plot_sv <- redist.metrics(cds, measure = c(\"DSeats\", \"DVS\"), df$repvote, dvote = df$demvote) %>% \n",
    "           # extract DVS into vector\n",
    "           pull(DVS) %>%\n",
    "           # calculate seats-votes curve using uniform partisan swing\n",
    "           seatsVotes(desc=\"Democratic Vote Shares, Fairfax 2015 10 districts CRSG\") %>%\n",
    "           # plot the seats-votes curve\n",
    "           plot(type=\"seatsVotes\")"
   ]
  },
  {
   "cell_type": "code",
   "execution_count": null,
   "metadata": {},
   "outputs": [],
   "source": []
  }
 ],
 "metadata": {
  "kernelspec": {
   "display_name": "R",
   "language": "R",
   "name": "ir"
  },
  "language_info": {
   "codemirror_mode": "r",
   "file_extension": ".r",
   "mimetype": "text/x-r-source",
   "name": "R",
   "pygments_lexer": "r",
   "version": "4.0.3"
  }
 },
 "nbformat": 4,
 "nbformat_minor": 4
}
