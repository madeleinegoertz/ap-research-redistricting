{
 "cells": [
  {
   "cell_type": "code",
   "execution_count": 2,
   "metadata": {},
   "outputs": [
    {
     "name": "stdout",
     "output_type": "stream",
     "text": [
      "Reading layer `VA_precinct_2015' from data source `C:\\Users\\madie\\OneDrive\\data\\pre-redist\\VA_precinct_2015\\VA_precinct_2015.shp' using driver `ESRI Shapefile'\n",
      "Simple feature collection with 2577 features and 14 fields\n",
      "geometry type:  MULTIPOLYGON\n",
      "dimension:      XYZ\n",
      "bbox:           xmin: 9963623 ymin: 6151696 xmax: 12442960 ymax: 7217011\n",
      "z_range:        zmin: 0 zmax: 0\n",
      "projected CRS:  NAD83 / Virginia North (ftUS)\n"
     ]
    }
   ],
   "source": [
    "library(sf)\n",
    "library(ggplot2)\n",
    "library(tidyverse)\n",
    "library(tibble)\n",
    "library(magrittr)\n",
    "library(redist)\n",
    "library(sp)\n",
    "library(spData)\n",
    "library(spdep)\n",
    "library(igraph)\n",
    "\n",
    "va_2015_file <- \"C:/Users/madie/OneDrive/data/pre-redist/VA_precinct_2015/VA_precinct_2015.shp\"\n",
    "df <- st_read(va_2015_file)"
   ]
  },
  {
   "cell_type": "code",
   "execution_count": 3,
   "metadata": {},
   "outputs": [],
   "source": [
    "# list of lists of precincts adjacent to each precincts\n",
    "adj <- redist.adjacency(df)"
   ]
  },
  {
   "cell_type": "code",
   "execution_count": 4,
   "metadata": {},
   "outputs": [],
   "source": [
    "# area of each precincts\n",
    "area <- sf::st_area(df)"
   ]
  },
  {
   "cell_type": "code",
   "execution_count": 5,
   "metadata": {},
   "outputs": [
    {
     "name": "stderr",
     "output_type": "stream",
     "text": [
      "Warning message in st_centroid.sf(df):\n",
      "\"st_centroid assumes attributes are constant over geometries of x\"\n"
     ]
    }
   ],
   "source": [
    "# coordinate of centroid of each precinct\n",
    "centers <- sf::st_coordinates(sf::st_centroid(df))"
   ]
  },
  {
   "cell_type": "code",
   "execution_count": null,
   "metadata": {},
   "outputs": [],
   "source": [
    "# returns list with district_membership vector (which district each precinct is in), \n",
    "# district_list vector (contains vector of each precinct in each district), and\n",
    "# district_pop vector (population totals for each district)\n",
    "crsg_out <- redist.crsg(adj.list = adj, \n",
    "                        population = df$pop, \n",
    "                        area = area,\n",
    "                        x_center = centers[,1], \n",
    "                        y_center = centers[,2], \n",
    "                        ndists = 100, \n",
    "                        thresh = .1, #population threshold\n",
    "                        maxiter = 1e9)"
   ]
  },
  {
   "cell_type": "code",
   "execution_count": null,
   "metadata": {},
   "outputs": [],
   "source": [
    "# generate 100 random colors that are distinct so that the different districts are distinguishable. \n",
    "library(randomcoloR)\n",
    "colors <- distinctColorPalette(k=100)"
   ]
  },
  {
   "cell_type": "code",
   "execution_count": null,
   "metadata": {},
   "outputs": [],
   "source": [
    "cds <- crsg_out$district_membership\n",
    "plot <- redist.map(shp=df, \n",
    "        district_membership=cds, \n",
    "        centroids=FALSE, \n",
    "        edges=FALSE,\n",
    "        title=\"100 Districts in VA HOD: 2015 CRSG\") +\n",
    "        theme(legend.position=\"right\") +\n",
    "        scale_fill_manual(values = colors)\n",
    "        # geom_sf_label(aes(label = cds))\n",
    "#ggsave(\"fairfax_10.png\")\n",
    "plot"
   ]
  },
  {
   "cell_type": "code",
   "execution_count": null,
   "metadata": {},
   "outputs": [],
   "source": [
    "library(pscl)\n",
    "# compute the percent of votes won by democrats in each district under DVS\n",
    "plot_sv <- redist.metrics(cds, measure = c(\"DSeats\", \"DVS\"), df$repvote, dvote = df$demvote) %>% \n",
    "           # extract DVS into vector\n",
    "           pull(DVS) %>%\n",
    "           # calculate seats-votes curve using uniform partisan swing\n",
    "           seatsVotes(desc=\"Democratic Vote Shares, VA HOD 2015 CRSG\") %>%\n",
    "           # plot the seats-votes curve\n",
    "           plot(type=\"seatsVotes\")"
   ]
  },
  {
   "cell_type": "code",
   "execution_count": null,
   "metadata": {},
   "outputs": [],
   "source": []
  }
 ],
 "metadata": {
  "kernelspec": {
   "display_name": "R",
   "language": "R",
   "name": "ir"
  },
  "language_info": {
   "codemirror_mode": "r",
   "file_extension": ".r",
   "mimetype": "text/x-r-source",
   "name": "R",
   "pygments_lexer": "r",
   "version": "4.0.3"
  }
 },
 "nbformat": 4,
 "nbformat_minor": 4
}
