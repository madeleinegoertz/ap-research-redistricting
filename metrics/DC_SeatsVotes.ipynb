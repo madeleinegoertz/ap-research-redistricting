{
 "cells": [
  {
   "cell_type": "markdown",
   "metadata": {},
   "source": [
    "## Calculating a seats-votes curve using uniform partisan swing\n",
    "\n",
    "The goal of this little experiment is to see if I can generate a seats-votes curve for test map of just Fairfax County."
   ]
  },
  {
   "cell_type": "code",
   "execution_count": 1,
   "metadata": {},
   "outputs": [
    {
     "name": "stderr",
     "output_type": "stream",
     "text": [
      "Linking to GEOS 3.8.0, GDAL 3.0.4, PROJ 6.3.1\n",
      "\n",
      "-- \u001b[1mAttaching packages\u001b[22m ------------------------------------------------------------------------------- tidyverse 1.3.0 --\n",
      "\n",
      "\u001b[32mv\u001b[39m \u001b[34mtibble \u001b[39m 3.0.4     \u001b[32mv\u001b[39m \u001b[34mdplyr  \u001b[39m 1.0.2\n",
      "\u001b[32mv\u001b[39m \u001b[34mtidyr  \u001b[39m 1.1.2     \u001b[32mv\u001b[39m \u001b[34mstringr\u001b[39m 1.4.0\n",
      "\u001b[32mv\u001b[39m \u001b[34mreadr  \u001b[39m 1.4.0     \u001b[32mv\u001b[39m \u001b[34mforcats\u001b[39m 0.5.0\n",
      "\u001b[32mv\u001b[39m \u001b[34mpurrr  \u001b[39m 0.3.4     \n",
      "\n",
      "-- \u001b[1mConflicts\u001b[22m ---------------------------------------------------------------------------------- tidyverse_conflicts() --\n",
      "\u001b[31mx\u001b[39m \u001b[34mdplyr\u001b[39m::\u001b[32mfilter()\u001b[39m masks \u001b[34mstats\u001b[39m::filter()\n",
      "\u001b[31mx\u001b[39m \u001b[34mdplyr\u001b[39m::\u001b[32mlag()\u001b[39m    masks \u001b[34mstats\u001b[39m::lag()\n",
      "\n",
      "\n",
      "Attaching package: 'magrittr'\n",
      "\n",
      "\n",
      "The following object is masked from 'package:purrr':\n",
      "\n",
      "    set_names\n",
      "\n",
      "\n",
      "The following object is masked from 'package:tidyr':\n",
      "\n",
      "    extract\n",
      "\n",
      "\n",
      "Classes and Methods for R developed in the\n",
      "Political Science Computational Laboratory\n",
      "Department of Political Science\n",
      "Stanford University\n",
      "Simon Jackman\n",
      "hurdle and zeroinfl functions by Achim Zeileis\n",
      "\n",
      "\n",
      "Attaching package: 'igraph'\n",
      "\n",
      "\n",
      "The following objects are masked from 'package:dplyr':\n",
      "\n",
      "    as_data_frame, groups, union\n",
      "\n",
      "\n",
      "The following objects are masked from 'package:purrr':\n",
      "\n",
      "    compose, simplify\n",
      "\n",
      "\n",
      "The following object is masked from 'package:tidyr':\n",
      "\n",
      "    crossing\n",
      "\n",
      "\n",
      "The following object is masked from 'package:tibble':\n",
      "\n",
      "    as_data_frame\n",
      "\n",
      "\n",
      "The following objects are masked from 'package:stats':\n",
      "\n",
      "    decompose, spectrum\n",
      "\n",
      "\n",
      "The following object is masked from 'package:base':\n",
      "\n",
      "    union\n",
      "\n",
      "\n"
     ]
    }
   ],
   "source": [
    "library(sf)\n",
    "library(ggplot2)\n",
    "library(tidyverse)\n",
    "library(tibble)\n",
    "library(magrittr)\n",
    "library(redist)\n",
    "library(pscl)\n",
    "library(sp)\n",
    "library(spData)\n",
    "library(spdep)\n",
    "library(igraph)"
   ]
  },
  {
   "cell_type": "code",
   "execution_count": 2,
   "metadata": {},
   "outputs": [
    {
     "name": "stdout",
     "output_type": "stream",
     "text": [
      "Reading layer `Fairfax_precincts' from data source `C:\\Users\\madie\\OneDrive\\data\\VA-2017\\Fairfax_precincts\\Fairfax_precincts.shp' using driver `ESRI Shapefile'\n",
      "Simple feature collection with 249 features and 57 fields\n",
      "geometry type:  MULTIPOLYGON\n",
      "dimension:      XY\n",
      "bbox:           xmin: 170404.1 ymin: 291609.7 xmax: 213724.5 ymax: 341555.9\n",
      "projected CRS:  Lambert_Conformal_Conic\n"
     ]
    }
   ],
   "source": [
    "# read in DC data\n",
    "df <- st_read(\"C:/Users/madie/OneDrive/data/VA-2017/Fairfax_precincts/Fairfax_precincts.shp\")"
   ]
  },
  {
   "cell_type": "code",
   "execution_count": 3,
   "metadata": {},
   "outputs": [
    {
     "name": "stderr",
     "output_type": "stream",
     "text": [
      "Warning message:\n",
      "\"`funs()` is deprecated as of dplyr 0.8.0.\n",
      "Please use a list of either functions or lambdas: \n",
      "\n",
      "  # Simple named list: \n",
      "  list(mean = mean, median = median)\n",
      "\n",
      "  # Auto named with `tibble::lst()`: \n",
      "  tibble::lst(mean, median)\n",
      "\n",
      "  # Using lambdas\n",
      "  list(~ mean(., trim = .2), ~ median(., na.rm = TRUE))\n",
      "\u001b[90mThis warning is displayed once every 8 hours.\u001b[39m\n",
      "\u001b[90mCall `lifecycle::last_warnings()` to see where this warning was generated.\u001b[39m\"\n",
      "Warning message:\n",
      "\"`mutate_each_()` is deprecated as of dplyr 0.7.0.\n",
      "Please use `across()` instead.\n",
      "\u001b[90mThis warning is displayed once every 8 hours.\u001b[39m\n",
      "\u001b[90mCall `lifecycle::last_warnings()` to see where this warning was generated.\u001b[39m\"\n"
     ]
    },
    {
     "name": "stdout",
     "output_type": "stream",
     "text": [
      "Simple feature collection with 249 features and 11 fields\n",
      "geometry type:  MULTIPOLYGON\n",
      "dimension:      XY\n",
      "bbox:           xmin: 170404.1 ymin: 291609.7 xmax: 213724.5 ymax: 341555.9\n",
      "projected CRS:  Lambert_Conformal_Conic\n",
      "First 10 features:\n",
      "   geoid10  pop  vap obama mccain TotPop BlackPop HispPop VAP_1 BlackVAP\n",
      "1     1580 1236  950   344    220   1236       35      57   950       24\n",
      "2     1581 7218 6003  1451      0   7218      467     742  6003      367\n",
      "3     1582 3016 2345   702    199   3016       63    1332  2345       42\n",
      "4     1583 3395 2673   881    334   3395      201     930  2673      141\n",
      "5     1584 3774 3050   761    372   3774      291     797  3050      218\n",
      "6     1585 4239 3254   978    424   4239      481     769  3254      340\n",
      "7     1586 5521 4113   198     44   5521       68    4655  4113       49\n",
      "8     1587 6215 4816  1319    380   6215     1325    1667  4816      961\n",
      "9     1588 7072 5340  1368    375   7072     1476    2544  5340     1038\n",
      "10    1589 3680 2943  1023    452   3680      312     613  2943      233\n",
      "   HispVAP                       geometry\n",
      "1       41 MULTIPOLYGON (((201746.7 32...\n",
      "2      573 MULTIPOLYGON (((199327.1 32...\n",
      "3      988 MULTIPOLYGON (((201091.9 31...\n",
      "4      704 MULTIPOLYGON (((204934.1 31...\n",
      "5      582 MULTIPOLYGON (((199054.4 31...\n",
      "6      574 MULTIPOLYGON (((201483.1 31...\n",
      "7     3478 MULTIPOLYGON (((204722.7 31...\n",
      "8     1190 MULTIPOLYGON (((204033.5 31...\n",
      "9     1841 MULTIPOLYGON (((205448 3170...\n",
      "10     447 MULTIPOLYGON (((201455.7 31...\n"
     ]
    }
   ],
   "source": [
    "# reformat for MCMC\n",
    "# copy over useful cols and rename them\n",
    "df <- df %>%\n",
    "    select(geoid10 = geoid10,\n",
    "           pop = TOTPOP,\n",
    "           vap = VAP,\n",
    "           obama = G17DHOD,\n",
    "           mccain = G17RHOD,\n",
    "           TotPop = TOTPOP,\n",
    "           BlackPop = NH_BLACK,\n",
    "           HispPop = HISP,\n",
    "           VAP_1 = VAP,\n",
    "           BlackVAP = BVAP,\n",
    "           HispVAP = HVAP,\n",
    "           geometry = geometry)\n",
    "# change all cols to numeric type\n",
    "df %<>% \n",
    "      mutate_each(funs(if(is.character(.)) as.numeric(.) else .))\n",
    "print(df)"
   ]
  },
  {
   "cell_type": "code",
   "execution_count": 4,
   "metadata": {},
   "outputs": [],
   "source": [
    "# compute adjaceny list\n",
    "adjlist <- redist.adjacency(df)"
   ]
  },
  {
   "cell_type": "markdown",
   "metadata": {},
   "source": [
    "## Test with MCMC"
   ]
  },
  {
   "cell_type": "code",
   "execution_count": null,
   "metadata": {},
   "outputs": [],
   "source": [
    "# Run a chain\n",
    "alg_mcmc <- redist.mcmc(adjobj = adjlist,\n",
    "                        popvec = df$pop,\n",
    "                        ndists = 10,\n",
    "                        nsims = 10000,\n",
    "                        maxiterrsg = 5000)"
   ]
  },
  {
   "cell_type": "code",
   "execution_count": 16,
   "metadata": {},
   "outputs": [],
   "source": [
    "# generate 10 random colors that are distinct so that the different districts are distinguishable. \n",
    "library(randomcoloR)\n",
    "colors <- distinctColorPalette(k=10)"
   ]
  },
  {
   "cell_type": "code",
   "execution_count": 17,
   "metadata": {},
   "outputs": [
    {
     "data": {
      "image/png": "[encoded data removed]",
      "text/plain": [
       "plot without title"
      ]
     },
     "metadata": {
      "image/png": {
       "height": 420,
       "width": 420
      }
     },
     "output_type": "display_data"
    }
   ],
   "source": [
    "# Let's plot this!\n",
    "cds <- alg_mcmc$partitions[,1]\n",
    "plot <- redist.map(shp=df, \n",
    "        district_membership=cds, \n",
    "        centroids=FALSE, \n",
    "        edges=FALSE,\n",
    "        title=\"10 Districts in Fairfax County: 2017\") +\n",
    "        theme(legend.position=\"right\") +\n",
    "        scale_fill_manual(values = colors)\n",
    "plot"
   ]
  },
  {
   "cell_type": "code",
   "execution_count": 26,
   "metadata": {},
   "outputs": [
    {
     "name": "stderr",
     "output_type": "stream",
     "text": [
      "Warning message in if (measure == \"all\") {:\n",
      "\"the condition has length > 1 and only the first element will be used\"\n",
      "Warning message in par(oldpar):\n",
      "\"graphical parameter \"cin\" cannot be set\"\n",
      "Warning message in par(oldpar):\n",
      "\"graphical parameter \"cra\" cannot be set\"\n",
      "Warning message in par(oldpar):\n",
      "\"graphical parameter \"csi\" cannot be set\"\n",
      "Warning message in par(oldpar):\n",
      "\"graphical parameter \"cxy\" cannot be set\"\n",
      "Warning message in par(oldpar):\n",
      "\"graphical parameter \"din\" cannot be set\"\n",
      "Warning message in par(oldpar):\n",
      "\"graphical parameter \"page\" cannot be set\"\n"
     ]
    },
    {
     "data": {
      "image/png": "[encoded data removed]",
      "text/plain": [
       "Plot with title \"Simulated Seats-Votes Curve Using Uniform Swing\n",
       "Democratic Vote Shares, Fairfax 2017 10 districts\""
      ]
     },
     "metadata": {
      "image/png": {
       "height": 420,
       "width": 420
      }
     },
     "output_type": "display_data"
    }
   ],
   "source": [
    "# compute the percent of votes won by democrats in each district under DVS\n",
    "plot_sv <- redist.metrics(cds, measure = c(\"DSeats\", \"DVS\"), df$mccain, dvote = df$obama) %>% \n",
    "           # extract DVS into vector\n",
    "           pull(DVS) %>%\n",
    "           # calculate seats-votes curve using uniform partisan swing\n",
    "           seatsVotes(desc=\"Democratic Vote Shares, Fairfax 2017 10 districts\") %>%\n",
    "           # plot the seats-votes curve\n",
    "           plot(type=\"seatsVotes\")"
   ]
  },
  {
   "cell_type": "markdown",
   "metadata": {},
   "source": [
    "Fascinating! It appears that my entirely fake 10 districts for Fairfax city and county slightly favor the Democrats. This is so cool!"
   ]
  },
  {
   "cell_type": "markdown",
   "metadata": {},
   "source": [
    "## Test with SMC"
   ]
  },
  {
   "cell_type": "code",
   "execution_count": 5,
   "metadata": {
    "scrolled": true
   },
   "outputs": [
    {
     "name": "stdout",
     "output_type": "stream",
     "text": [
      "Sampling 10000 249-unit maps with 10 districts and population tolerance 1%.\n",
      "Making split 1 of 9\n",
      "Using k=2 for estimated success probability of 26.68%\n"
     ]
    },
    {
     "name": "stderr",
     "output_type": "stream",
     "text": [
      "Warning message in smc_plans(nsims, adjlist, counties, popvec, ndists, popcons, :\n",
      "\"printing of extremely long output is truncated\"\n",
      "Warning message in smc_plans(nsims, adjlist, counties, popvec, ndists, popcons, :\n",
      "\"printing of extremely long output is truncated\"\n",
      "Warning message in smc_plans(nsims, adjlist, counties, popvec, ndists, popcons, :\n",
      "\"printing of extremely long output is truncated\"\n",
      "Warning message in smc_plans(nsims, adjlist, counties, popvec, ndists, popcons, :\n",
      "\"printing of extremely long output is truncated\"\n",
      "Warning message in smc_plans(nsims, adjlist, counties, popvec, ndists, popcons, :\n",
      "\"printing of extremely long output is truncated\"\n",
      "Warning message in smc_plans(nsims, adjlist, counties, popvec, ndists, popcons, :\n",
      "\"printing of extremely long output is truncated\"\n",
      "Warning message in smc_plans(nsims, adjlist, counties, popvec, ndists, popcons, :\n",
      "\"printing of extremely long output is truncated\"\n",
      "Warning message in smc_plans(nsims, adjlist, counties, popvec, ndists, popcons, :\n",
      "\"printing of extremely long output is truncated\"\n",
      "Warning message in smc_plans(nsims, adjlist, counties, popvec, ndists, popcons, :\n",
      "\"printing of extremely long output is truncated\"\n",
      "Warning message in smc_plans(nsims, adjlist, counties, popvec, ndists, popcons, :\n",
      "\"printing of extremely long output is truncated\"\n"
     ]
    },
    {
     "name": "stdout",
     "output_type": "stream",
     "text": [
      "9693 valid samples (25.9% of total)\n",
      "Making split 2 of 9\n",
      "Using k=2 for estimated success probability of 20.75%\n"
     ]
    },
    {
     "name": "stderr",
     "output_type": "stream",
     "text": [
      "Warning message in smc_plans(nsims, adjlist, counties, popvec, ndists, popcons, :\n",
      "\"printing of extremely long output is truncated\"\n",
      "Warning message in smc_plans(nsims, adjlist, counties, popvec, ndists, popcons, :\n",
      "\"printing of extremely long output is truncated\"\n",
      "Warning message in smc_plans(nsims, adjlist, counties, popvec, ndists, popcons, :\n",
      "\"printing of extremely long output is truncated\"\n",
      "Warning message in smc_plans(nsims, adjlist, counties, popvec, ndists, popcons, :\n",
      "\"printing of extremely long output is truncated\"\n",
      "Warning message in smc_plans(nsims, adjlist, counties, popvec, ndists, popcons, :\n",
      "\"printing of extremely long output is truncated\"\n",
      "Warning message in smc_plans(nsims, adjlist, counties, popvec, ndists, popcons, :\n",
      "\"printing of extremely long output is truncated\"\n",
      "Warning message in smc_plans(nsims, adjlist, counties, popvec, ndists, popcons, :\n",
      "\"printing of extremely long output is truncated\"\n",
      "Warning message in smc_plans(nsims, adjlist, counties, popvec, ndists, popcons, :\n",
      "\"printing of extremely long output is truncated\"\n",
      "Warning message in smc_plans(nsims, adjlist, counties, popvec, ndists, popcons, :\n",
      "\"printing of extremely long output is truncated\"\n",
      "Warning message in smc_plans(nsims, adjlist, counties, popvec, ndists, popcons, :\n",
      "\"printing of extremely long output is truncated\"\n"
     ]
    },
    {
     "name": "stdout",
     "output_type": "stream",
     "text": [
      "11561 valid samples (24.0% of total)\n",
      "Making split 3 of 9\n",
      "Using k=2 for estimated success probability of 22.13%\n"
     ]
    },
    {
     "name": "stderr",
     "output_type": "stream",
     "text": [
      "Warning message in smc_plans(nsims, adjlist, counties, popvec, ndists, popcons, :\n",
      "\"printing of extremely long output is truncated\"\n",
      "Warning message in smc_plans(nsims, adjlist, counties, popvec, ndists, popcons, :\n",
      "\"printing of extremely long output is truncated\"\n",
      "Warning message in smc_plans(nsims, adjlist, counties, popvec, ndists, popcons, :\n",
      "\"printing of extremely long output is truncated\"\n",
      "Warning message in smc_plans(nsims, adjlist, counties, popvec, ndists, popcons, :\n",
      "\"printing of extremely long output is truncated\"\n",
      "Warning message in smc_plans(nsims, adjlist, counties, popvec, ndists, popcons, :\n",
      "\"printing of extremely long output is truncated\"\n",
      "Warning message in smc_plans(nsims, adjlist, counties, popvec, ndists, popcons, :\n",
      "\"printing of extremely long output is truncated\"\n",
      "Warning message in smc_plans(nsims, adjlist, counties, popvec, ndists, popcons, :\n",
      "\"printing of extremely long output is truncated\"\n",
      "Warning message in smc_plans(nsims, adjlist, counties, popvec, ndists, popcons, :\n",
      "\"printing of extremely long output is truncated\"\n",
      "Warning message in smc_plans(nsims, adjlist, counties, popvec, ndists, popcons, :\n",
      "\"printing of extremely long output is truncated\"\n",
      "Warning message in smc_plans(nsims, adjlist, counties, popvec, ndists, popcons, :\n",
      "\"printing of extremely long output is truncated\"\n"
     ]
    },
    {
     "name": "stdout",
     "output_type": "stream",
     "text": [
      "9720 valid samples (21.5% of total)\n",
      "Making split 4 of 9\n",
      "Using k=2 for estimated success probability of 20.95%\n"
     ]
    },
    {
     "name": "stderr",
     "output_type": "stream",
     "text": [
      "Warning message in smc_plans(nsims, adjlist, counties, popvec, ndists, popcons, :\n",
      "\"printing of extremely long output is truncated\"\n",
      "Warning message in smc_plans(nsims, adjlist, counties, popvec, ndists, popcons, :\n",
      "\"printing of extremely long output is truncated\"\n",
      "Warning message in smc_plans(nsims, adjlist, counties, popvec, ndists, popcons, :\n",
      "\"printing of extremely long output is truncated\"\n",
      "Warning message in smc_plans(nsims, adjlist, counties, popvec, ndists, popcons, :\n",
      "\"printing of extremely long output is truncated\"\n",
      "Warning message in smc_plans(nsims, adjlist, counties, popvec, ndists, popcons, :\n",
      "\"printing of extremely long output is truncated\"\n",
      "Warning message in smc_plans(nsims, adjlist, counties, popvec, ndists, popcons, :\n",
      "\"printing of extremely long output is truncated\"\n",
      "Warning message in smc_plans(nsims, adjlist, counties, popvec, ndists, popcons, :\n",
      "\"printing of extremely long output is truncated\"\n",
      "Warning message in smc_plans(nsims, adjlist, counties, popvec, ndists, popcons, :\n",
      "\"printing of extremely long output is truncated\"\n",
      "Warning message in smc_plans(nsims, adjlist, counties, popvec, ndists, popcons, :\n",
      "\"printing of extremely long output is truncated\"\n",
      "Warning message in smc_plans(nsims, adjlist, counties, popvec, ndists, popcons, :\n",
      "\"printing of extremely long output is truncated\"\n"
     ]
    },
    {
     "name": "stdout",
     "output_type": "stream",
     "text": [
      "9293 valid samples (19.5% of total)\n",
      "Making split 5 of 9\n",
      "Using k=2 for estimated success probability of 16.60%\n"
     ]
    },
    {
     "name": "stderr",
     "output_type": "stream",
     "text": [
      "Warning message in smc_plans(nsims, adjlist, counties, popvec, ndists, popcons, :\n",
      "\"printing of extremely long output is truncated\"\n",
      "Warning message in smc_plans(nsims, adjlist, counties, popvec, ndists, popcons, :\n",
      "\"printing of extremely long output is truncated\"\n",
      "Warning message in smc_plans(nsims, adjlist, counties, popvec, ndists, popcons, :\n",
      "\"printing of extremely long output is truncated\"\n",
      "Warning message in smc_plans(nsims, adjlist, counties, popvec, ndists, popcons, :\n",
      "\"printing of extremely long output is truncated\"\n",
      "Warning message in smc_plans(nsims, adjlist, counties, popvec, ndists, popcons, :\n",
      "\"printing of extremely long output is truncated\"\n",
      "Warning message in smc_plans(nsims, adjlist, counties, popvec, ndists, popcons, :\n",
      "\"printing of extremely long output is truncated\"\n",
      "Warning message in smc_plans(nsims, adjlist, counties, popvec, ndists, popcons, :\n",
      "\"printing of extremely long output is truncated\"\n",
      "Warning message in smc_plans(nsims, adjlist, counties, popvec, ndists, popcons, :\n",
      "\"printing of extremely long output is truncated\"\n",
      "Warning message in smc_plans(nsims, adjlist, counties, popvec, ndists, popcons, :\n",
      "\"printing of extremely long output is truncated\"\n",
      "Warning message in smc_plans(nsims, adjlist, counties, popvec, ndists, popcons, :\n",
      "\"printing of extremely long output is truncated\"\n"
     ]
    },
    {
     "name": "stdout",
     "output_type": "stream",
     "text": [
      "10832 valid samples (18.0% of total)\n",
      "Making split 6 of 9\n",
      "Using k=2 for estimated success probability of 15.81%\n"
     ]
    },
    {
     "name": "stderr",
     "output_type": "stream",
     "text": [
      "Warning message in smc_plans(nsims, adjlist, counties, popvec, ndists, popcons, :\n",
      "\"printing of extremely long output is truncated\"\n",
      "Warning message in smc_plans(nsims, adjlist, counties, popvec, ndists, popcons, :\n",
      "\"printing of extremely long output is truncated\"\n",
      "Warning message in smc_plans(nsims, adjlist, counties, popvec, ndists, popcons, :\n",
      "\"printing of extremely long output is truncated\"\n",
      "Warning message in smc_plans(nsims, adjlist, counties, popvec, ndists, popcons, :\n",
      "\"printing of extremely long output is truncated\"\n",
      "Warning message in smc_plans(nsims, adjlist, counties, popvec, ndists, popcons, :\n",
      "\"printing of extremely long output is truncated\"\n",
      "Warning message in smc_plans(nsims, adjlist, counties, popvec, ndists, popcons, :\n",
      "\"printing of extremely long output is truncated\"\n",
      "Warning message in smc_plans(nsims, adjlist, counties, popvec, ndists, popcons, :\n",
      "\"printing of extremely long output is truncated\"\n",
      "Warning message in smc_plans(nsims, adjlist, counties, popvec, ndists, popcons, :\n",
      "\"printing of extremely long output is truncated\"\n",
      "Warning message in smc_plans(nsims, adjlist, counties, popvec, ndists, popcons, :\n",
      "\"printing of extremely long output is truncated\"\n",
      "Warning message in smc_plans(nsims, adjlist, counties, popvec, ndists, popcons, :\n",
      "\"printing of extremely long output is truncated\"\n"
     ]
    },
    {
     "name": "stdout",
     "output_type": "stream",
     "text": [
      "10299 valid samples (16.3% of total)\n",
      "Making split 7 of 9\n",
      "Using k=2 for estimated success probability of 16.40%\n"
     ]
    },
    {
     "name": "stderr",
     "output_type": "stream",
     "text": [
      "Warning message in smc_plans(nsims, adjlist, counties, popvec, ndists, popcons, :\n",
      "\"printing of extremely long output is truncated\"\n",
      "Warning message in smc_plans(nsims, adjlist, counties, popvec, ndists, popcons, :\n",
      "\"printing of extremely long output is truncated\"\n",
      "Warning message in smc_plans(nsims, adjlist, counties, popvec, ndists, popcons, :\n",
      "\"printing of extremely long output is truncated\"\n",
      "Warning message in smc_plans(nsims, adjlist, counties, popvec, ndists, popcons, :\n",
      "\"printing of extremely long output is truncated\"\n",
      "Warning message in smc_plans(nsims, adjlist, counties, popvec, ndists, popcons, :\n",
      "\"printing of extremely long output is truncated\"\n",
      "Warning message in smc_plans(nsims, adjlist, counties, popvec, ndists, popcons, :\n",
      "\"printing of extremely long output is truncated\"\n",
      "Warning message in smc_plans(nsims, adjlist, counties, popvec, ndists, popcons, :\n",
      "\"printing of extremely long output is truncated\"\n",
      "Warning message in smc_plans(nsims, adjlist, counties, popvec, ndists, popcons, :\n",
      "\"printing of extremely long output is truncated\"\n",
      "Warning message in smc_plans(nsims, adjlist, counties, popvec, ndists, popcons, :\n",
      "\"printing of extremely long output is truncated\"\n",
      "Warning message in smc_plans(nsims, adjlist, counties, popvec, ndists, popcons, :\n",
      "\"printing of extremely long output is truncated\"\n"
     ]
    },
    {
     "name": "stdout",
     "output_type": "stream",
     "text": [
      "8812 valid samples (14.5% of total)\n",
      "Making split 8 of 9\n",
      "Using k=2 for estimated success probability of 10.28%\n"
     ]
    },
    {
     "name": "stderr",
     "output_type": "stream",
     "text": [
      "Warning message in smc_plans(nsims, adjlist, counties, popvec, ndists, popcons, :\n",
      "\"printing of extremely long output is truncated\"\n",
      "Warning message in smc_plans(nsims, adjlist, counties, popvec, ndists, popcons, :\n",
      "\"printing of extremely long output is truncated\"\n",
      "Warning message in smc_plans(nsims, adjlist, counties, popvec, ndists, popcons, :\n",
      "\"printing of extremely long output is truncated\"\n",
      "Warning message in smc_plans(nsims, adjlist, counties, popvec, ndists, popcons, :\n",
      "\"printing of extremely long output is truncated\"\n",
      "Warning message in smc_plans(nsims, adjlist, counties, popvec, ndists, popcons, :\n",
      "\"printing of extremely long output is truncated\"\n",
      "Warning message in smc_plans(nsims, adjlist, counties, popvec, ndists, popcons, :\n",
      "\"printing of extremely long output is truncated\"\n",
      "Warning message in smc_plans(nsims, adjlist, counties, popvec, ndists, popcons, :\n",
      "\"printing of extremely long output is truncated\"\n",
      "Warning message in smc_plans(nsims, adjlist, counties, popvec, ndists, popcons, :\n",
      "\"printing of extremely long output is truncated\"\n",
      "Warning message in smc_plans(nsims, adjlist, counties, popvec, ndists, popcons, :\n",
      "\"printing of extremely long output is truncated\"\n",
      "Warning message in smc_plans(nsims, adjlist, counties, popvec, ndists, popcons, :\n",
      "\"printing of extremely long output is truncated\"\n"
     ]
    },
    {
     "name": "stdout",
     "output_type": "stream",
     "text": [
      "10962 valid samples (11.3% of total)\n",
      "Making split 9 of 9\n",
      "Using k=2 for estimated success probability of 9.88%\n"
     ]
    },
    {
     "name": "stderr",
     "output_type": "stream",
     "text": [
      "Warning message in smc_plans(nsims, adjlist, counties, popvec, ndists, popcons, :\n",
      "\"printing of extremely long output is truncated\"\n",
      "Warning message in smc_plans(nsims, adjlist, counties, popvec, ndists, popcons, :\n",
      "\"printing of extremely long output is truncated\"\n",
      "Warning message in smc_plans(nsims, adjlist, counties, popvec, ndists, popcons, :\n",
      "\"printing of extremely long output is truncated\"\n",
      "Warning message in smc_plans(nsims, adjlist, counties, popvec, ndists, popcons, :\n",
      "\"printing of extremely long output is truncated\"\n",
      "Warning message in smc_plans(nsims, adjlist, counties, popvec, ndists, popcons, :\n",
      "\"printing of extremely long output is truncated\"\n",
      "Warning message in smc_plans(nsims, adjlist, counties, popvec, ndists, popcons, :\n",
      "\"printing of extremely long output is truncated\"\n",
      "Warning message in smc_plans(nsims, adjlist, counties, popvec, ndists, popcons, :\n",
      "\"printing of extremely long output is truncated\"\n",
      "Warning message in smc_plans(nsims, adjlist, counties, popvec, ndists, popcons, :\n",
      "\"printing of extremely long output is truncated\"\n",
      "Warning message in smc_plans(nsims, adjlist, counties, popvec, ndists, popcons, :\n",
      "\"printing of extremely long output is truncated\"\n",
      "Warning message in smc_plans(nsims, adjlist, counties, popvec, ndists, popcons, :\n",
      "\"printing of extremely long output is truncated\"\n"
     ]
    },
    {
     "name": "stdout",
     "output_type": "stream",
     "text": [
      "7708 valid samples (3.9% of total)\n"
     ]
    },
    {
     "name": "stderr",
     "output_type": "stream",
     "text": [
      "Warning message in redist.smc(adjobj = adjlist, popvec = df$pop, ndists = 10, nsims = 10000):\n",
      "\"Fewer maps sampled than requested; try increasing `max_oversample`.\"\n"
     ]
    }
   ],
   "source": [
    "alg_smc <- redist.smc(adjobj = adjlist,\n",
    "                        popvec = df$pop,\n",
    "                        ndists = 10,\n",
    "                        nsims = 10000)"
   ]
  },
  {
   "cell_type": "code",
   "execution_count": 6,
   "metadata": {},
   "outputs": [
    {
     "name": "stderr",
     "output_type": "stream",
     "text": [
      "ERROR while rich displaying an object: Error: Insufficient values in manual scale. 10 needed but only 1 provided.\n",
      "\n",
      "Traceback:\n",
      "1. FUN(X[[i]], ...)\n",
      "2. tryCatch(withCallingHandlers({\n",
      " .     if (!mime %in% names(repr::mime2repr)) \n",
      " .         stop(\"No repr_* for mimetype \", mime, \" in repr::mime2repr\")\n",
      " .     rpr <- repr::mime2repr[[mime]](obj)\n",
      " .     if (is.null(rpr)) \n",
      " .         return(NULL)\n",
      " .     prepare_content(is.raw(rpr), rpr)\n",
      " . }, error = error_handler), error = outer_handler)\n",
      "3. tryCatchList(expr, classes, parentenv, handlers)\n",
      "4. tryCatchOne(expr, names, parentenv, handlers[[1L]])\n",
      "5. doTryCatch(return(expr), name, parentenv, handler)\n",
      "6. withCallingHandlers({\n",
      " .     if (!mime %in% names(repr::mime2repr)) \n",
      " .         stop(\"No repr_* for mimetype \", mime, \" in repr::mime2repr\")\n",
      " .     rpr <- repr::mime2repr[[mime]](obj)\n",
      " .     if (is.null(rpr)) \n",
      " .         return(NULL)\n",
      " .     prepare_content(is.raw(rpr), rpr)\n",
      " . }, error = error_handler)\n",
      "7. repr::mime2repr[[mime]](obj)\n",
      "8. repr_text.default(obj)\n",
      "9. paste(capture.output(print(obj)), collapse = \"\\n\")\n",
      "10. capture.output(print(obj))\n",
      "11. evalVis(expr)\n",
      "12. withVisible(eval(expr, pf))\n",
      "13. eval(expr, pf)\n",
      "14. eval(expr, pf)\n",
      "15. print(obj)\n",
      "16. print.ggplot(obj)\n",
      "17. ggplot_build(x)\n",
      "18. ggplot_build.ggplot(x)\n",
      "19. lapply(data, scales_map_df, scales = npscales)\n",
      "20. FUN(X[[i]], ...)\n",
      "21. unlist(lapply(scales$scales, function(scale) scale$map_df(df = df)), \n",
      "  .     recursive = FALSE)\n",
      "22. lapply(scales$scales, function(scale) scale$map_df(df = df))\n",
      "23. FUN(X[[i]], ...)\n",
      "24. scale$map_df(df = df)\n",
      "25. f(..., self = self)\n",
      "26. lapply(aesthetics, function(j) self$map(df[[j]]))\n",
      "27. FUN(X[[i]], ...)\n",
      "28. self$map(df[[j]])\n",
      "29. f(..., self = self)\n",
      "30. self$palette(n)\n",
      "31. f(...)\n",
      "32. abort(glue(\"Insufficient values in manual scale. {n} needed but only {length(values)} provided.\"))\n",
      "33. signal_abort(cnd)\n"
     ]
    },
    {
     "data": {
      "image/png": "[encoded data removed]",
      "text/plain": [
       "plot without title"
      ]
     },
     "metadata": {
      "image/png": {
       "height": 420,
       "width": 420
      }
     },
     "output_type": "display_data"
    }
   ],
   "source": [
    "# Let's plot this!\n",
    "cds_smc <- alg_smc$cdvec[,1]\n",
    "plot <- redist.map(shp=df, \n",
    "        district_membership=cds_smc, \n",
    "        centroids=FALSE, \n",
    "        edges=FALSE,\n",
    "        title=\"10 Districts in Fairfax County: SMC 2017\") +\n",
    "        theme(legend.position=\"right\") +\n",
    "        scale_fill_manual(values = colors)\n",
    "plot"
   ]
  },
  {
   "cell_type": "code",
   "execution_count": 30,
   "metadata": {},
   "outputs": [
    {
     "name": "stderr",
     "output_type": "stream",
     "text": [
      "Warning message in if (measure == \"all\") {:\n",
      "\"the condition has length > 1 and only the first element will be used\"\n",
      "Warning message in par(oldpar):\n",
      "\"graphical parameter \"cin\" cannot be set\"\n",
      "Warning message in par(oldpar):\n",
      "\"graphical parameter \"cra\" cannot be set\"\n",
      "Warning message in par(oldpar):\n",
      "\"graphical parameter \"csi\" cannot be set\"\n",
      "Warning message in par(oldpar):\n",
      "\"graphical parameter \"cxy\" cannot be set\"\n",
      "Warning message in par(oldpar):\n",
      "\"graphical parameter \"din\" cannot be set\"\n",
      "Warning message in par(oldpar):\n",
      "\"graphical parameter \"page\" cannot be set\"\n"
     ]
    },
    {
     "data": {
      "image/png": "[encoded data removed]",
      "text/plain": [
       "Plot with title \"Simulated Seats-Votes Curve Using Uniform Swing\n",
       "Democratic Vote Shares, Fairfax 2017 10 districts\""
      ]
     },
     "metadata": {
      "image/png": {
       "height": 420,
       "width": 420
      }
     },
     "output_type": "display_data"
    }
   ],
   "source": [
    "# compute the percent of votes won by democrats in each district under DVS\n",
    "plot_smc_sv <- redist.metrics(cds_smc, measure = c(\"DSeats\", \"DVS\"), df$mccain, dvote = df$obama) %>% \n",
    "           # extract DVS into vector\n",
    "           pull(DVS) %>%\n",
    "           # calculate seats-votes curve using uniform partisan swing\n",
    "           seatsVotes(desc=\"Sample Seats-Votes Curve generated using Uniform Partisan Swing\") %>%\n",
    "           # plot the seats-votes curve\n",
    "           plot(type=\"seatsVotes\")"
   ]
  },
  {
   "cell_type": "markdown",
   "metadata": {},
   "source": [
    "Interesting! In this instance, SMC seems to have produced a set of districts that have 0 partisan bias (the seats votes curve goes through the point (0.5, 0.5)). "
   ]
  }
 ],
 "metadata": {
  "kernelspec": {
   "display_name": "R",
   "language": "R",
   "name": "ir"
  },
  "language_info": {
   "codemirror_mode": "r",
   "file_extension": ".r",
   "mimetype": "text/x-r-source",
   "name": "R",
   "pygments_lexer": "r",
   "version": "4.0.3"
  }
 },
 "nbformat": 4,
 "nbformat_minor": 4
}
